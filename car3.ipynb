{
 "cells": [
  {
   "cell_type": "code",
   "execution_count": 117,
   "id": "18b60ebe",
   "metadata": {},
   "outputs": [],
   "source": [
    "import pandas as pd\n",
    "from bs4 import BeautifulSoup as bs\n",
    "import requests \n",
    "import time\n",
    "import re\n",
    "import seaborn as sns\n",
    "from locale import atof\n",
    "import plotly.express as px\n",
    "import matplotlib.pyplot as plt\n",
    "import seaborn as sns"
   ]
  },
  {
   "cell_type": "markdown",
   "id": "0b1a0643",
   "metadata": {},
   "source": [
    "# WEB Scraping"
   ]
  },
  {
   "cell_type": "code",
   "execution_count": 2,
   "id": "26672685",
   "metadata": {},
   "outputs": [],
   "source": [
    "url = \"https://www.cars.com/shopping/results/?list_price_max=&makes[]=porsche&maximum_distance=all&models[]=porsche-911&sort=year&stock_type=cpo&zip=\"\n",
    "requests.get(url)\n",
    "html = requests.get(url).content\n",
    "soup = bs(html)"
   ]
  },
  {
   "cell_type": "code",
   "execution_count": 3,
   "id": "73f87898",
   "metadata": {},
   "outputs": [],
   "source": [
    "# model test scraping from web\n",
    "\n",
    "model = soup.find_all(\"div\", {\"class\" :\"vehicle-card\"})\n",
    "#model[0].find(\"h2\").get_text()\n",
    "#model[0].find(\"div\", {\"class\":\"mileage\"}).get_text()\n",
    "#model[0].find(\"div\",{\"class\":\"price-section price-section-vehicle-card\"}).get_text()\n",
    "#model[0].find(\"span\",{\"class\":\"sds-rating__count\"}).get_text()\n",
    "#model[0].find(\"span\",{\"class\":\"sds-rating__link sds-button-link\"}).get_text()"
   ]
  },
  {
   "cell_type": "code",
   "execution_count": 4,
   "id": "b34e72da",
   "metadata": {},
   "outputs": [],
   "source": [
    "name = []\n",
    "mileage = []\n",
    "price = []\n",
    "rating = []\n",
    "review = []\n",
    "\n",
    "for info_tech in model:\n",
    "    #name\n",
    "    name.append(info_tech.find(\"h2\").get_text())\n",
    "#print(name)\n",
    "    \n",
    "    #mileage\n",
    "    mileage.append(info_tech.find(\"div\", {\"class\":\"mileage\"}).get_text())\n",
    "#print(mileage)    \n",
    "    \n",
    "    #price\n",
    "    price.append(info_tech.find(\"span\",{\"class\":\"primary-price\"}).get_text())\n",
    "#print(price)\n",
    "    \n",
    "    #rating\n",
    "    rating.append(info_tech.find(\"span\",{\"class\":\"sds-rating__count\"}).get_text())\n",
    "#print(rating)\n",
    "    \n",
    "    #review\n",
    "    review.append(info_tech.find(\"span\",{\"class\":\"sds-rating__link sds-button-link\"}).get_text())\n",
    "#print(review)"
   ]
  },
  {
   "cell_type": "code",
   "execution_count": 5,
   "id": "6dab8455",
   "metadata": {
    "collapsed": true
   },
   "outputs": [
    {
     "data": {
      "text/html": [
       "<div>\n",
       "<style scoped>\n",
       "    .dataframe tbody tr th:only-of-type {\n",
       "        vertical-align: middle;\n",
       "    }\n",
       "\n",
       "    .dataframe tbody tr th {\n",
       "        vertical-align: top;\n",
       "    }\n",
       "\n",
       "    .dataframe thead th {\n",
       "        text-align: right;\n",
       "    }\n",
       "</style>\n",
       "<table border=\"1\" class=\"dataframe\">\n",
       "  <thead>\n",
       "    <tr style=\"text-align: right;\">\n",
       "      <th></th>\n",
       "      <th>Name</th>\n",
       "      <th>Mileage</th>\n",
       "      <th>Price</th>\n",
       "      <th>Rating</th>\n",
       "      <th>Review</th>\n",
       "    </tr>\n",
       "  </thead>\n",
       "  <tbody>\n",
       "    <tr>\n",
       "      <th>0</th>\n",
       "      <td>2017 Porsche 911 Turbo S</td>\n",
       "      <td>26,709 mi.</td>\n",
       "      <td>$168,882</td>\n",
       "      <td>3.7</td>\n",
       "      <td>(31 reviews)</td>\n",
       "    </tr>\n",
       "    <tr>\n",
       "      <th>1</th>\n",
       "      <td>2011 Porsche 911 Turbo S</td>\n",
       "      <td>8,603 mi.</td>\n",
       "      <td>$135,995</td>\n",
       "      <td>4.8</td>\n",
       "      <td>(347 reviews)</td>\n",
       "    </tr>\n",
       "    <tr>\n",
       "      <th>2</th>\n",
       "      <td>2011 Porsche 911 Carrera GTS</td>\n",
       "      <td>22,711 mi.</td>\n",
       "      <td>$91,991</td>\n",
       "      <td>4.9</td>\n",
       "      <td>(743 reviews)</td>\n",
       "    </tr>\n",
       "    <tr>\n",
       "      <th>3</th>\n",
       "      <td>2011 Porsche 911 GT3 RS 4.0</td>\n",
       "      <td>12,762 mi.</td>\n",
       "      <td>$979,000</td>\n",
       "      <td>4.8</td>\n",
       "      <td>(48 reviews)</td>\n",
       "    </tr>\n",
       "    <tr>\n",
       "      <th>4</th>\n",
       "      <td>2011 Porsche 911 Carrera 4S</td>\n",
       "      <td>49,624 mi.</td>\n",
       "      <td>$79,881</td>\n",
       "      <td>5.0</td>\n",
       "      <td>(303 reviews)</td>\n",
       "    </tr>\n",
       "    <tr>\n",
       "      <th>5</th>\n",
       "      <td>2011 Porsche 911 Turbo S</td>\n",
       "      <td>2,930 mi.</td>\n",
       "      <td>$179,000</td>\n",
       "      <td>4.8</td>\n",
       "      <td>(48 reviews)</td>\n",
       "    </tr>\n",
       "    <tr>\n",
       "      <th>6</th>\n",
       "      <td>2011 Porsche 911 Turbo</td>\n",
       "      <td>3,576 mi.</td>\n",
       "      <td>$137,900</td>\n",
       "      <td>4.7</td>\n",
       "      <td>(313 reviews)</td>\n",
       "    </tr>\n",
       "    <tr>\n",
       "      <th>7</th>\n",
       "      <td>2011 Porsche 911 Carrera GTS</td>\n",
       "      <td>23,726 mi.</td>\n",
       "      <td>$102,500</td>\n",
       "      <td>4.4</td>\n",
       "      <td>(72 reviews)</td>\n",
       "    </tr>\n",
       "    <tr>\n",
       "      <th>8</th>\n",
       "      <td>2012 Porsche 911 Carrera Black Edition</td>\n",
       "      <td>18,834 mi.</td>\n",
       "      <td>$76,898</td>\n",
       "      <td>4.2</td>\n",
       "      <td>(68 reviews)</td>\n",
       "    </tr>\n",
       "    <tr>\n",
       "      <th>9</th>\n",
       "      <td>2012 Porsche 911 Turbo</td>\n",
       "      <td>24,971 mi.</td>\n",
       "      <td>$119,991</td>\n",
       "      <td>4.8</td>\n",
       "      <td>(504 reviews)</td>\n",
       "    </tr>\n",
       "    <tr>\n",
       "      <th>10</th>\n",
       "      <td>2012 Porsche 911 Carrera S</td>\n",
       "      <td>6,703 mi.</td>\n",
       "      <td>$83,900</td>\n",
       "      <td>4.1</td>\n",
       "      <td>(37 reviews)</td>\n",
       "    </tr>\n",
       "    <tr>\n",
       "      <th>11</th>\n",
       "      <td>2012 Porsche 911 Carrera 4 GTS</td>\n",
       "      <td>19,502 mi.</td>\n",
       "      <td>$108,980</td>\n",
       "      <td>4.7</td>\n",
       "      <td>(97 reviews)</td>\n",
       "    </tr>\n",
       "    <tr>\n",
       "      <th>12</th>\n",
       "      <td>2012 Porsche 911 Carrera GTS</td>\n",
       "      <td>19,878 mi.</td>\n",
       "      <td>$89,978</td>\n",
       "      <td>4.6</td>\n",
       "      <td>(131 reviews)</td>\n",
       "    </tr>\n",
       "    <tr>\n",
       "      <th>13</th>\n",
       "      <td>2012 Porsche 911 Carrera 4</td>\n",
       "      <td>33,390 mi.</td>\n",
       "      <td>$79,999</td>\n",
       "      <td>4.8</td>\n",
       "      <td>(1,041 reviews)</td>\n",
       "    </tr>\n",
       "    <tr>\n",
       "      <th>14</th>\n",
       "      <td>2012 Porsche 911 Carrera S</td>\n",
       "      <td>15,705 mi.</td>\n",
       "      <td>$79,991</td>\n",
       "      <td>4.4</td>\n",
       "      <td>(116 reviews)</td>\n",
       "    </tr>\n",
       "    <tr>\n",
       "      <th>15</th>\n",
       "      <td>2012 Porsche 911 Carrera 4 GTS</td>\n",
       "      <td>19,012 mi.</td>\n",
       "      <td>$104,991</td>\n",
       "      <td>4.4</td>\n",
       "      <td>(116 reviews)</td>\n",
       "    </tr>\n",
       "    <tr>\n",
       "      <th>16</th>\n",
       "      <td>2012 Porsche 911 Turbo S</td>\n",
       "      <td>24,137 mi.</td>\n",
       "      <td>$122,997</td>\n",
       "      <td>4.9</td>\n",
       "      <td>(743 reviews)</td>\n",
       "    </tr>\n",
       "    <tr>\n",
       "      <th>17</th>\n",
       "      <td>2013 Porsche 911 Turbo S</td>\n",
       "      <td>24,321 mi.</td>\n",
       "      <td>$139,480</td>\n",
       "      <td>4.6</td>\n",
       "      <td>(131 reviews)</td>\n",
       "    </tr>\n",
       "    <tr>\n",
       "      <th>18</th>\n",
       "      <td>2013 Porsche 911 Carrera S</td>\n",
       "      <td>41,883 mi.</td>\n",
       "      <td>$80,995</td>\n",
       "      <td>4.7</td>\n",
       "      <td>(160 reviews)</td>\n",
       "    </tr>\n",
       "    <tr>\n",
       "      <th>19</th>\n",
       "      <td>2013 Porsche 911 Carrera S</td>\n",
       "      <td>23,963 mi.</td>\n",
       "      <td>$89,000</td>\n",
       "      <td>4.8</td>\n",
       "      <td>(428 reviews)</td>\n",
       "    </tr>\n",
       "    <tr>\n",
       "      <th>20</th>\n",
       "      <td>2013 Porsche 911 Carrera</td>\n",
       "      <td>35,796 mi.</td>\n",
       "      <td>$74,995</td>\n",
       "      <td>4.8</td>\n",
       "      <td>(3,723 reviews)</td>\n",
       "    </tr>\n",
       "  </tbody>\n",
       "</table>\n",
       "</div>"
      ],
      "text/plain": [
       "                                      Name     Mileage     Price Rating  \\\n",
       "0                 2017 Porsche 911 Turbo S  26,709 mi.  $168,882    3.7   \n",
       "1                 2011 Porsche 911 Turbo S   8,603 mi.  $135,995    4.8   \n",
       "2             2011 Porsche 911 Carrera GTS  22,711 mi.   $91,991    4.9   \n",
       "3              2011 Porsche 911 GT3 RS 4.0  12,762 mi.  $979,000    4.8   \n",
       "4              2011 Porsche 911 Carrera 4S  49,624 mi.   $79,881    5.0   \n",
       "5                 2011 Porsche 911 Turbo S   2,930 mi.  $179,000    4.8   \n",
       "6                   2011 Porsche 911 Turbo   3,576 mi.  $137,900    4.7   \n",
       "7             2011 Porsche 911 Carrera GTS  23,726 mi.  $102,500    4.4   \n",
       "8   2012 Porsche 911 Carrera Black Edition  18,834 mi.   $76,898    4.2   \n",
       "9                   2012 Porsche 911 Turbo  24,971 mi.  $119,991    4.8   \n",
       "10              2012 Porsche 911 Carrera S   6,703 mi.   $83,900    4.1   \n",
       "11          2012 Porsche 911 Carrera 4 GTS  19,502 mi.  $108,980    4.7   \n",
       "12            2012 Porsche 911 Carrera GTS  19,878 mi.   $89,978    4.6   \n",
       "13              2012 Porsche 911 Carrera 4  33,390 mi.   $79,999    4.8   \n",
       "14              2012 Porsche 911 Carrera S  15,705 mi.   $79,991    4.4   \n",
       "15          2012 Porsche 911 Carrera 4 GTS  19,012 mi.  $104,991    4.4   \n",
       "16                2012 Porsche 911 Turbo S  24,137 mi.  $122,997    4.9   \n",
       "17                2013 Porsche 911 Turbo S  24,321 mi.  $139,480    4.6   \n",
       "18              2013 Porsche 911 Carrera S  41,883 mi.   $80,995    4.7   \n",
       "19              2013 Porsche 911 Carrera S  23,963 mi.   $89,000    4.8   \n",
       "20                2013 Porsche 911 Carrera  35,796 mi.   $74,995    4.8   \n",
       "\n",
       "             Review  \n",
       "0      (31 reviews)  \n",
       "1     (347 reviews)  \n",
       "2     (743 reviews)  \n",
       "3      (48 reviews)  \n",
       "4     (303 reviews)  \n",
       "5      (48 reviews)  \n",
       "6     (313 reviews)  \n",
       "7      (72 reviews)  \n",
       "8      (68 reviews)  \n",
       "9     (504 reviews)  \n",
       "10     (37 reviews)  \n",
       "11     (97 reviews)  \n",
       "12    (131 reviews)  \n",
       "13  (1,041 reviews)  \n",
       "14    (116 reviews)  \n",
       "15    (116 reviews)  \n",
       "16    (743 reviews)  \n",
       "17    (131 reviews)  \n",
       "18    (160 reviews)  \n",
       "19    (428 reviews)  \n",
       "20  (3,723 reviews)  "
      ]
     },
     "execution_count": 5,
     "metadata": {},
     "output_type": "execute_result"
    }
   ],
   "source": [
    "# test data\n",
    "\n",
    "df = pd.DataFrame({\"Name\":name,\"Mileage\": mileage ,\"Price\":price,\"Rating\":rating, \"Review\": review})\n",
    "df"
   ]
  },
  {
   "cell_type": "code",
   "execution_count": 6,
   "id": "afceb6dd",
   "metadata": {},
   "outputs": [],
   "source": [
    "# Full data scraping from web\n",
    "\n",
    "name = []\n",
    "mileage = []\n",
    "price = []\n",
    "rating = []\n",
    "review = []\n",
    "\n",
    "\n",
    "for x in range(1,35):\n",
    "    web = f\"https://www.cars.com/shopping/results/?page={x}&page_size=20&list_price_max=&makes[]=porsche&maximum_distance=all&models[]=porsche-911&sort=year&stock_type=cpo&zip=\"\n",
    "    requests.get(web)\n",
    "    html = requests.get(web).content\n",
    "    soup = bs(html)\n",
    "    time.sleep(0.5)\n",
    "    \n",
    "    model = soup.find_all(\"div\", {\"class\" :\"vehicle-card\"})\n",
    "    \n",
    "    for info_tech in model:\n",
    "        #name\n",
    "        name.append(info_tech.find(\"h2\").get_text())\n",
    "        #print(name)\n",
    "    \n",
    "        #mileage\n",
    "        mileage.append(info_tech.find(\"div\", {\"class\":\"mileage\"}).get_text())\n",
    "        #print(mileage)    \n",
    "    \n",
    "        #price\n",
    "        price.append(info_tech.find(\"span\",{\"class\":\"primary-price\"}).get_text())\n",
    "        #print(price)"
   ]
  },
  {
   "cell_type": "code",
   "execution_count": 8,
   "id": "f29fe35b",
   "metadata": {},
   "outputs": [],
   "source": [
    "df = pd.DataFrame({\"Name\":name,\"Mileage\": mileage ,\"Price\":price})"
   ]
  },
  {
   "cell_type": "markdown",
   "id": "a21dc7d9",
   "metadata": {},
   "source": [
    "# Data Cleaning"
   ]
  },
  {
   "cell_type": "code",
   "execution_count": 9,
   "id": "7ea48dab",
   "metadata": {
    "scrolled": true
   },
   "outputs": [],
   "source": [
    "df[\"Year\"] = df[\"Name\"].str[0:4]\n",
    "df[\"Year\"] = df[\"Year\"].astype(int)"
   ]
  },
  {
   "cell_type": "code",
   "execution_count": 119,
   "id": "d2e34195",
   "metadata": {},
   "outputs": [],
   "source": [
    "df.drop_duplicates(inplace=True)"
   ]
  },
  {
   "cell_type": "code",
   "execution_count": 11,
   "id": "1189e8b0",
   "metadata": {},
   "outputs": [
    {
     "data": {
      "text/html": [
       "<div>\n",
       "<style scoped>\n",
       "    .dataframe tbody tr th:only-of-type {\n",
       "        vertical-align: middle;\n",
       "    }\n",
       "\n",
       "    .dataframe tbody tr th {\n",
       "        vertical-align: top;\n",
       "    }\n",
       "\n",
       "    .dataframe thead th {\n",
       "        text-align: right;\n",
       "    }\n",
       "</style>\n",
       "<table border=\"1\" class=\"dataframe\">\n",
       "  <thead>\n",
       "    <tr style=\"text-align: right;\">\n",
       "      <th></th>\n",
       "      <th>Name</th>\n",
       "      <th>Mileage</th>\n",
       "      <th>Price</th>\n",
       "      <th>Year</th>\n",
       "    </tr>\n",
       "  </thead>\n",
       "  <tbody>\n",
       "    <tr>\n",
       "      <th>0</th>\n",
       "      <td>911 Turbo S</td>\n",
       "      <td>26,709 mi.</td>\n",
       "      <td>$168,882</td>\n",
       "      <td>2017</td>\n",
       "    </tr>\n",
       "    <tr>\n",
       "      <th>1</th>\n",
       "      <td>911 Turbo S</td>\n",
       "      <td>8,603 mi.</td>\n",
       "      <td>$135,995</td>\n",
       "      <td>2011</td>\n",
       "    </tr>\n",
       "    <tr>\n",
       "      <th>2</th>\n",
       "      <td>911  GTS</td>\n",
       "      <td>22,711 mi.</td>\n",
       "      <td>$91,991</td>\n",
       "      <td>2011</td>\n",
       "    </tr>\n",
       "    <tr>\n",
       "      <th>3</th>\n",
       "      <td>911 GT3 RS 4.0</td>\n",
       "      <td>12,762 mi.</td>\n",
       "      <td>$979,000</td>\n",
       "      <td>2011</td>\n",
       "    </tr>\n",
       "    <tr>\n",
       "      <th>4</th>\n",
       "      <td>911  4S</td>\n",
       "      <td>49,624 mi.</td>\n",
       "      <td>$79,881</td>\n",
       "      <td>2011</td>\n",
       "    </tr>\n",
       "  </tbody>\n",
       "</table>\n",
       "</div>"
      ],
      "text/plain": [
       "               Name     Mileage     Price  Year\n",
       "0       911 Turbo S  26,709 mi.  $168,882  2017\n",
       "1       911 Turbo S   8,603 mi.  $135,995  2011\n",
       "2          911  GTS  22,711 mi.   $91,991  2011\n",
       "3    911 GT3 RS 4.0  12,762 mi.  $979,000  2011\n",
       "4           911  4S  49,624 mi.   $79,881  2011"
      ]
     },
     "execution_count": 11,
     "metadata": {},
     "output_type": "execute_result"
    }
   ],
   "source": [
    "df[\"Name\"] = df[\"Name\"].str.replace(\"\\d{4}|\\w{7}\",\"\", regex= True)\n",
    "df.head()"
   ]
  },
  {
   "cell_type": "code",
   "execution_count": 30,
   "id": "58edc9a9",
   "metadata": {},
   "outputs": [
    {
     "data": {
      "text/plain": [
       "Int64Index([583, 618, 639], dtype='int64')"
      ]
     },
     "execution_count": 30,
     "metadata": {},
     "output_type": "execute_result"
    }
   ],
   "source": [
    "# Filtering missing values\n",
    "df.loc[df.Price == 'Not Priced'].index"
   ]
  },
  {
   "cell_type": "code",
   "execution_count": 31,
   "id": "f965995e",
   "metadata": {},
   "outputs": [],
   "source": [
    "df.drop(index=[583, 618, 639], inplace = True)"
   ]
  },
  {
   "cell_type": "code",
   "execution_count": 17,
   "id": "88fbffe2",
   "metadata": {
    "scrolled": true
   },
   "outputs": [],
   "source": [
    "# converting Mileage from object in int \n",
    "df[\"Mileage\"] = df[\"Mileage\"].str.replace(\" mi.\",\"\", regex= True)\n",
    "df[\"Mileage\"] = df[\"Mileage\"].str.replace(\",\",\".\")\n",
    "df[\"Mileage\"] = df.Mileage.astype(float)"
   ]
  },
  {
   "cell_type": "code",
   "execution_count": 39,
   "id": "b70c0125",
   "metadata": {},
   "outputs": [],
   "source": [
    "# converting Price from object in int\n",
    "\n",
    "df[\"Price\"]=df[\"Price\"].str.replace(\"$\",\"\", regex= True)\n",
    "df[\"Price\"]=df[\"Price\"].str.replace(\",\",\".\", regex= True).astype(int)\n",
    "df.Price = df.Price.astype(int)"
   ]
  },
  {
   "cell_type": "code",
   "execution_count": 40,
   "id": "adbdb34e",
   "metadata": {},
   "outputs": [
    {
     "data": {
      "text/plain": [
       "3      979000\n",
       "77     499900\n",
       "280    429991\n",
       "298    425000\n",
       "295    419950\n",
       "Name: Price, dtype: int64"
      ]
     },
     "execution_count": 40,
     "metadata": {},
     "output_type": "execute_result"
    }
   ],
   "source": [
    "df.Price.nlargest()"
   ]
  },
  {
   "cell_type": "code",
   "execution_count": 37,
   "id": "805a7b5e",
   "metadata": {},
   "outputs": [],
   "source": [
    "df.Price = df.Price*1000"
   ]
  },
  {
   "cell_type": "code",
   "execution_count": 41,
   "id": "0235a5c5",
   "metadata": {},
   "outputs": [
    {
     "data": {
      "text/html": [
       "<div>\n",
       "<style scoped>\n",
       "    .dataframe tbody tr th:only-of-type {\n",
       "        vertical-align: middle;\n",
       "    }\n",
       "\n",
       "    .dataframe tbody tr th {\n",
       "        vertical-align: top;\n",
       "    }\n",
       "\n",
       "    .dataframe thead th {\n",
       "        text-align: right;\n",
       "    }\n",
       "</style>\n",
       "<table border=\"1\" class=\"dataframe\">\n",
       "  <thead>\n",
       "    <tr style=\"text-align: right;\">\n",
       "      <th></th>\n",
       "      <th>Name</th>\n",
       "      <th>Mileage</th>\n",
       "      <th>Price</th>\n",
       "      <th>Year</th>\n",
       "    </tr>\n",
       "  </thead>\n",
       "  <tbody>\n",
       "    <tr>\n",
       "      <th>0</th>\n",
       "      <td>911 Turbo S</td>\n",
       "      <td>26.709</td>\n",
       "      <td>168882</td>\n",
       "      <td>2017</td>\n",
       "    </tr>\n",
       "    <tr>\n",
       "      <th>1</th>\n",
       "      <td>911 Turbo S</td>\n",
       "      <td>8.603</td>\n",
       "      <td>135995</td>\n",
       "      <td>2011</td>\n",
       "    </tr>\n",
       "    <tr>\n",
       "      <th>2</th>\n",
       "      <td>911  GTS</td>\n",
       "      <td>22.711</td>\n",
       "      <td>91991</td>\n",
       "      <td>2011</td>\n",
       "    </tr>\n",
       "    <tr>\n",
       "      <th>3</th>\n",
       "      <td>911 GT3 RS 4.0</td>\n",
       "      <td>12.762</td>\n",
       "      <td>979000</td>\n",
       "      <td>2011</td>\n",
       "    </tr>\n",
       "    <tr>\n",
       "      <th>4</th>\n",
       "      <td>911  4S</td>\n",
       "      <td>49.624</td>\n",
       "      <td>79881</td>\n",
       "      <td>2011</td>\n",
       "    </tr>\n",
       "  </tbody>\n",
       "</table>\n",
       "</div>"
      ],
      "text/plain": [
       "               Name Mileage   Price  Year\n",
       "0       911 Turbo S  26.709  168882  2017\n",
       "1       911 Turbo S   8.603  135995  2011\n",
       "2          911  GTS  22.711   91991  2011\n",
       "3    911 GT3 RS 4.0  12.762  979000  2011\n",
       "4           911  4S  49.624   79881  2011"
      ]
     },
     "execution_count": 41,
     "metadata": {},
     "output_type": "execute_result"
    }
   ],
   "source": [
    "df.head()"
   ]
  },
  {
   "cell_type": "code",
   "execution_count": 47,
   "id": "6117bad5",
   "metadata": {},
   "outputs": [
    {
     "name": "stdout",
     "output_type": "stream",
     "text": [
      "<class 'pandas.core.frame.DataFrame'>\n",
      "Int64Index: 674 entries, 0 to 676\n",
      "Data columns (total 4 columns):\n",
      " #   Column   Non-Null Count  Dtype  \n",
      "---  ------   --------------  -----  \n",
      " 0   Name     674 non-null    object \n",
      " 1   Mileage  674 non-null    float64\n",
      " 2   Price    674 non-null    int64  \n",
      " 3   Year     674 non-null    int64  \n",
      "dtypes: float64(1), int64(2), object(1)\n",
      "memory usage: 42.5+ KB\n"
     ]
    }
   ],
   "source": [
    "df.info()"
   ]
  },
  {
   "cell_type": "code",
   "execution_count": 120,
   "id": "aeb6bd8e",
   "metadata": {},
   "outputs": [],
   "source": [
    "# Breaking year models by generation\n",
    "\n",
    "model_label = [] \n",
    "for i in df[\"Year\"]:\n",
    "    if i in [2010,2011]:\n",
    "        model_label.append(\"997.2\")\n",
    "    elif i in [2012,2013,2014,2015]:\n",
    "        model_label.append(\"991\")\n",
    "    elif i in [2016,2017,2018]:\n",
    "        model_label.append(\"991.2\")\n",
    "    elif i in [2019,2020,2021,2022]:\n",
    "        model_label.append(\"992\")\n",
    "    else:\n",
    "        model_label.append(\"problem\")"
   ]
  },
  {
   "cell_type": "code",
   "execution_count": 69,
   "id": "180c74ce",
   "metadata": {},
   "outputs": [],
   "source": [
    "# Append new column\n",
    "\n",
    "df[\"Model_type\"] = model_label"
   ]
  },
  {
   "cell_type": "code",
   "execution_count": 50,
   "id": "71f2cb99",
   "metadata": {},
   "outputs": [],
   "source": [
    "# Cleaning Name \n",
    "\n",
    "df.Name = df.Name.str.strip()"
   ]
  },
  {
   "cell_type": "code",
   "execution_count": null,
   "id": "ffa7cba5",
   "metadata": {},
   "outputs": [],
   "source": [
    "df.loc[df.Name == \"911 er\"]"
   ]
  },
  {
   "cell_type": "code",
   "execution_count": 53,
   "id": "a0ad7cf5",
   "metadata": {
    "collapsed": true
   },
   "outputs": [
    {
     "name": "stderr",
     "output_type": "stream",
     "text": [
      "/var/folders/xf/_9db89vs2kz_xgykl0vhztn80000gn/T/ipykernel_3250/1253498023.py:1: SettingWithCopyWarning: \n",
      "A value is trying to be set on a copy of a slice from a DataFrame\n",
      "\n",
      "See the caveats in the documentation: https://pandas.pydata.org/pandas-docs/stable/user_guide/indexing.html#returning-a-view-versus-a-copy\n",
      "  df.Name[df.Name.str.startswith('911  50 Years  Design')] = [i.replace(i,\"911\") for i in df.Name[df.Name.str.startswith('911  50 Years  Design')]]\n",
      "/var/folders/xf/_9db89vs2kz_xgykl0vhztn80000gn/T/ipykernel_3250/1253498023.py:2: SettingWithCopyWarning: \n",
      "A value is trying to be set on a copy of a slice from a DataFrame\n",
      "\n",
      "See the caveats in the documentation: https://pandas.pydata.org/pandas-docs/stable/user_guide/indexing.html#returning-a-view-versus-a-copy\n",
      "  df.Name[df.Name.str.startswith('911 er')] = [i.replace(i,\"911\") for i in df.Name[df.Name.str.startswith('911 er')]]\n",
      "/var/folders/xf/_9db89vs2kz_xgykl0vhztn80000gn/T/ipykernel_3250/1253498023.py:3: SettingWithCopyWarning: \n",
      "A value is trying to be set on a copy of a slice from a DataFrame\n",
      "\n",
      "See the caveats in the documentation: https://pandas.pydata.org/pandas-docs/stable/user_guide/indexing.html#returning-a-view-versus-a-copy\n",
      "  df.Name[df.Name.str.startswith('911  T')] = [i.replace(i,\"911\") for i in df.Name[df.Name.str.startswith('911  T')]]\n",
      "/var/folders/xf/_9db89vs2kz_xgykl0vhztn80000gn/T/ipykernel_3250/1253498023.py:4: SettingWithCopyWarning: \n",
      "A value is trying to be set on a copy of a slice from a DataFrame\n",
      "\n",
      "See the caveats in the documentation: https://pandas.pydata.org/pandas-docs/stable/user_guide/indexing.html#returning-a-view-versus-a-copy\n",
      "  df.Name[df.Name.str.startswith('911 GT3 RS 4.0')] = [i.replace(i,\"911 GT3 RS\") for i in df.Name[df.Name.str.startswith('911 GT3 RS 4.0')]]\n",
      "/var/folders/xf/_9db89vs2kz_xgykl0vhztn80000gn/T/ipykernel_3250/1253498023.py:5: SettingWithCopyWarning: \n",
      "A value is trying to be set on a copy of a slice from a DataFrame\n",
      "\n",
      "See the caveats in the documentation: https://pandas.pydata.org/pandas-docs/stable/user_guide/indexing.html#returning-a-view-versus-a-copy\n",
      "  df.Name[df.Name.str.startswith('911  Black')] = [i.replace(i,\"911\") for i in df.Name[df.Name.str.startswith('911  Black')]]\n",
      "/var/folders/xf/_9db89vs2kz_xgykl0vhztn80000gn/T/ipykernel_3250/1253498023.py:6: SettingWithCopyWarning: \n",
      "A value is trying to be set on a copy of a slice from a DataFrame\n",
      "\n",
      "See the caveats in the documentation: https://pandas.pydata.org/pandas-docs/stable/user_guide/indexing.html#returning-a-view-versus-a-copy\n",
      "  df.Name[df.Name.str.startswith('911  4')] = [i.replace(i,\"911\") for i in df.Name[df.Name.str.startswith('911  4')]]\n",
      "/var/folders/xf/_9db89vs2kz_xgykl0vhztn80000gn/T/ipykernel_3250/1253498023.py:7: SettingWithCopyWarning: \n",
      "A value is trying to be set on a copy of a slice from a DataFrame\n",
      "\n",
      "See the caveats in the documentation: https://pandas.pydata.org/pandas-docs/stable/user_guide/indexing.html#returning-a-view-versus-a-copy\n",
      "  df.Name[df.Name.str.startswith('911 50th sary')] = [i.replace(i,\"911\") for i in df.Name[df.Name.str.startswith('911 50th sary')]]\n",
      "/var/folders/xf/_9db89vs2kz_xgykl0vhztn80000gn/T/ipykernel_3250/1253498023.py:8: SettingWithCopyWarning: \n",
      "A value is trying to be set on a copy of a slice from a DataFrame\n",
      "\n",
      "See the caveats in the documentation: https://pandas.pydata.org/pandas-docs/stable/user_guide/indexing.html#returning-a-view-versus-a-copy\n",
      "  df.Name[df.Name.str.startswith('911 Targa 4')] = [i.replace(i,\"911 Targa 4S\") for i in df.Name[df.Name.str.startswith('911 Targa 4')]]\n",
      "/var/folders/xf/_9db89vs2kz_xgykl0vhztn80000gn/T/ipykernel_3250/1253498023.py:9: SettingWithCopyWarning: \n",
      "A value is trying to be set on a copy of a slice from a DataFrame\n",
      "\n",
      "See the caveats in the documentation: https://pandas.pydata.org/pandas-docs/stable/user_guide/indexing.html#returning-a-view-versus-a-copy\n",
      "  df.Name[df.Name.str.startswith('911 R')] = [i.replace(i,\"911\") for i in df.Name[df.Name.str.startswith('911 R')]]\n"
     ]
    }
   ],
   "source": [
    "df.Name[df.Name.str.startswith('911  50 Years  Design')] = [i.replace(i,\"911\") for i in df.Name[df.Name.str.startswith('911  50 Years  Design')]]\n",
    "df.Name[df.Name.str.startswith('911 er')] = [i.replace(i,\"911\") for i in df.Name[df.Name.str.startswith('911 er')]]\n",
    "df.Name[df.Name.str.startswith('911  T')] = [i.replace(i,\"911\") for i in df.Name[df.Name.str.startswith('911  T')]]\n",
    "df.Name[df.Name.str.startswith('911 GT3 RS 4.0')] = [i.replace(i,\"911 GT3 RS\") for i in df.Name[df.Name.str.startswith('911 GT3 RS 4.0')]]\n",
    "df.Name[df.Name.str.startswith('911  Black')] = [i.replace(i,\"911\") for i in df.Name[df.Name.str.startswith('911  Black')]]\n",
    "df.Name[df.Name.str.startswith('911  4')] = [i.replace(i,\"911\") for i in df.Name[df.Name.str.startswith('911  4')]]\n",
    "df.Name[df.Name.str.startswith('911 50th sary')] = [i.replace(i,\"911\") for i in df.Name[df.Name.str.startswith('911 50th sary')]]\n",
    "df.Name[df.Name.str.startswith('911 Targa 4')] = [i.replace(i,\"911 Targa 4S\") for i in df.Name[df.Name.str.startswith('911 Targa 4')]]\n",
    "df.Name[df.Name.str.startswith('911 R')] = [i.replace(i,\"911\") for i in df.Name[df.Name.str.startswith('911 R')]]"
   ]
  },
  {
   "cell_type": "code",
   "execution_count": 54,
   "id": "d65582a5",
   "metadata": {},
   "outputs": [
    {
     "data": {
      "text/plain": [
       "array(['911 Turbo S', '911  GTS', '911 GT3 RS', '911', '911 Turbo',\n",
       "       '911  S', '911 Targa 4S', '911 GT3', '911 4 GTS', '911 GT2 RS'],\n",
       "      dtype=object)"
      ]
     },
     "execution_count": 54,
     "metadata": {},
     "output_type": "execute_result"
    }
   ],
   "source": [
    "df.Name.unique()"
   ]
  },
  {
   "cell_type": "code",
   "execution_count": 55,
   "id": "2dfe3b68",
   "metadata": {},
   "outputs": [],
   "source": [
    "# Breaking down models for groups \n",
    "\n",
    "sport= []\n",
    "for i in df.Name:\n",
    "    if i in [\"911\",\"911  S\",\"911 Targa 4S\",\"911 4S\"]:\n",
    "        sport.append(\"Classic\")\n",
    "    elif i in [\"911 Turbo S\",\"911 Turbo\"]:\n",
    "        sport.append(\"Sport\")\n",
    "    elif i in ['911 GT3 RS', '911  GTS', '911 GT3','911 4 GTS','911 GT2 RS']:\n",
    "        sport.append(\"Super Sport\")\n",
    "    else:\n",
    "        sport.append(\"Problem\")\n",
    "#print(sport)"
   ]
  },
  {
   "cell_type": "code",
   "execution_count": 56,
   "id": "66ff8575",
   "metadata": {},
   "outputs": [],
   "source": [
    "# Append new column\n",
    "\n",
    "df[\"Sport\"] = sport"
   ]
  },
  {
   "cell_type": "markdown",
   "id": "6db2a65d",
   "metadata": {},
   "source": [
    "# Vizualisation "
   ]
  },
  {
   "cell_type": "code",
   "execution_count": 80,
   "id": "c6900b32",
   "metadata": {
    "scrolled": true
   },
   "outputs": [
    {
     "data": {
      "image/png": "[encoded data removed]",
      "text/plain": [
       "<Figure size 1296x864 with 1 Axes>"
      ]
     },
     "metadata": {
      "needs_background": "light"
     },
     "output_type": "display_data"
    },
    {
     "data": {
      "image/png": "[encoded data removed]",
      "text/plain": [
       "<Figure size 1296x864 with 1 Axes>"
      ]
     },
     "metadata": {
      "needs_background": "light"
     },
     "output_type": "display_data"
    },
    {
     "data": {
      "image/png": "[encoded data removed]",
      "text/plain": [
       "<Figure size 1296x864 with 1 Axes>"
      ]
     },
     "metadata": {
      "needs_background": "light"
     },
     "output_type": "display_data"
    },
    {
     "data": {
      "image/png": "[encoded data removed]",
      "text/plain": [
       "<Figure size 1296x864 with 1 Axes>"
      ]
     },
     "metadata": {
      "needs_background": "light"
     },
     "output_type": "display_data"
    },
    {
     "data": {
      "image/png": "[encoded data removed]",
      "text/plain": [
       "<Figure size 1296x864 with 1 Axes>"
      ]
     },
     "metadata": {
      "needs_background": "light"
     },
     "output_type": "display_data"
    },
    {
     "data": {
      "image/png": "[encoded data removed]",
      "text/plain": [
       "<Figure size 1296x864 with 1 Axes>"
      ]
     },
     "metadata": {
      "needs_background": "light"
     },
     "output_type": "display_data"
    },
    {
     "data": {
      "image/png": "[encoded data removed]",
      "text/plain": [
       "<Figure size 1296x864 with 1 Axes>"
      ]
     },
     "metadata": {
      "needs_background": "light"
     },
     "output_type": "display_data"
    }
   ],
   "source": [
    "for i in df:\n",
    "    plt.figure(figsize= (18,12))\n",
    "    sns.barplot(data = df, x = i, y= \"Price\", ci= None)\n",
    "    plt.show()"
   ]
  },
  {
   "cell_type": "code",
   "execution_count": 62,
   "id": "ae8d7313",
   "metadata": {
    "scrolled": true
   },
   "outputs": [
    {
     "data": {
      "application/vnd.plotly.v1+json": {
       "config": {
        "plotlyServerURL": "https://plot.ly"
       },
       "data": [
        {
         "alignmentgroup": "True",
         "hovertemplate": "Name=%{x}<br>Price=%{y}<extra></extra>",
         "legendgroup": "",
         "marker": {
          "color": "#636efa"
         },
         "name": "",
         "notched": false,
         "offsetgroup": "",
         "orientation": "v",
         "showlegend": false,
         "type": "box",
         "x": [
          "911 Turbo S",
          "911 Turbo S",
          "911  GTS",
          "911 GT3 RS",
          "911",
          "911 Turbo S",
          "911 Turbo",
          "911  GTS",
          "911",
          "911 Turbo",
          "911  S",
          "911",
          "911  GTS",
          "911",
          "911  S",
          "911",
          "911 Turbo S",
          "911 Turbo S",
          "911  S",
          "911  S",
          "911",
          "911",
          "911  S",
          "911 Turbo S",
          "911 Turbo S",
          "911 Turbo S",
          "911",
          "911  S",
          "911",
          "911  S",
          "911  S",
          "911",
          "911",
          "911  S",
          "911 Turbo S",
          "911 Targa 4S",
          "911 GT3",
          "911",
          "911 Turbo S",
          "911 Turbo S",
          "911",
          "911 Turbo",
          "911",
          "911 GT3",
          "911 Turbo S",
          "911 Turbo S",
          "911  GTS",
          "911 Turbo",
          "911",
          "911  GTS",
          "911 Turbo S",
          "911 Turbo S",
          "911  GTS",
          "911 Turbo",
          "911 GT3",
          "911",
          "911 Turbo S",
          "911 GT3",
          "911",
          "911  GTS",
          "911 Targa 4S",
          "911 Targa 4S",
          "911",
          "911 GT3 RS",
          "911 Targa 4S",
          "911 Targa 4S",
          "911  S",
          "911  GTS",
          "911 Targa 4S",
          "911 Turbo S",
          "911 Turbo",
          "911 Targa 4S",
          "911 Targa 4S",
          "911  S",
          "911 Targa 4S",
          "911",
          "911",
          "911",
          "911 Turbo",
          "911 Turbo",
          "911 Targa 4S",
          "911  GTS",
          "911  GTS",
          "911 Turbo",
          "911 Targa 4S",
          "911 Turbo",
          "911",
          "911",
          "911 Turbo",
          "911 Turbo S",
          "911",
          "911 Turbo",
          "911 Turbo S",
          "911 Turbo S",
          "911",
          "911  S",
          "911",
          "911  S",
          "911",
          "911  S",
          "911",
          "911",
          "911 Turbo S",
          "911",
          "911  S",
          "911 Turbo",
          "911",
          "911",
          "911  S",
          "911 Turbo S",
          "911 Turbo S",
          "911  S",
          "911  S",
          "911  S",
          "911",
          "911  S",
          "911  S",
          "911",
          "911  S",
          "911  S",
          "911",
          "911 Turbo S",
          "911 Turbo S",
          "911",
          "911  S",
          "911  S",
          "911  S",
          "911  GTS",
          "911",
          "911 Targa 4S",
          "911",
          "911  S",
          "911  S",
          "911",
          "911  S",
          "911",
          "911",
          "911  S",
          "911  S",
          "911",
          "911",
          "911",
          "911 Targa 4S",
          "911",
          "911",
          "911 Turbo",
          "911  GTS",
          "911  S",
          "911",
          "911",
          "911  S",
          "911 GT3",
          "911 GT3",
          "911 GT3",
          "911 GT3",
          "911  GTS",
          "911 GT3",
          "911 GT3",
          "911 GT3",
          "911 GT3",
          "911 GT3",
          "911 GT3",
          "911",
          "911  S",
          "911 GT3",
          "911 Turbo S",
          "911  S",
          "911  S",
          "911",
          "911",
          "911 Turbo S",
          "911  S",
          "911 Targa 4S",
          "911 Targa 4S",
          "911 Turbo",
          "911 Turbo S",
          "911",
          "911 GT3",
          "911 GT3",
          "911  S",
          "911 Turbo S",
          "911 Targa 4S",
          "911  GTS",
          "911 Turbo S",
          "911 GT3",
          "911",
          "911",
          "911",
          "911 GT3",
          "911  GTS",
          "911",
          "911",
          "911",
          "911 GT3",
          "911 GT3",
          "911 GT3",
          "911 Turbo S",
          "911",
          "911 GT3",
          "911 4 GTS",
          "911 Targa 4S",
          "911",
          "911 Targa 4S",
          "911",
          "911",
          "911  S",
          "911  S",
          "911",
          "911 Turbo S",
          "911  GTS",
          "911",
          "911  S",
          "911 GT3",
          "911",
          "911  S",
          "911 GT3",
          "911",
          "911 Turbo",
          "911 Turbo S",
          "911",
          "911",
          "911 Turbo S",
          "911",
          "911",
          "911",
          "911 GT3 RS",
          "911",
          "911 Turbo",
          "911 GT3 RS",
          "911 Turbo",
          "911",
          "911",
          "911",
          "911 GT3 RS",
          "911 Targa 4S",
          "911",
          "911",
          "911",
          "911  GTS",
          "911 4 GTS",
          "911 Targa 4S",
          "911 Turbo",
          "911  GTS",
          "911 Turbo S",
          "911 Targa 4S",
          "911  S",
          "911 Turbo",
          "911 Turbo S",
          "911  GTS",
          "911",
          "911",
          "911  S",
          "911",
          "911 Turbo S",
          "911 Turbo",
          "911",
          "911 Turbo S",
          "911",
          "911 GT3",
          "911 GT3",
          "911 Targa 4S",
          "911",
          "911 GT3 RS",
          "911 Targa 4S",
          "911  GTS",
          "911  S",
          "911 GT3",
          "911",
          "911  S",
          "911",
          "911 Targa 4S",
          "911  GTS",
          "911 Turbo S",
          "911 Targa 4S",
          "911 Targa 4S",
          "911  GTS",
          "911 GT3",
          "911  S",
          "911  S",
          "911 Targa 4S",
          "911 GT2 RS",
          "911",
          "911",
          "911",
          "911",
          "911  GTS",
          "911  S",
          "911 GT3 RS",
          "911  GTS",
          "911 GT3",
          "911 Turbo S",
          "911",
          "911  S",
          "911 Turbo",
          "911 Targa 4S",
          "911",
          "911 GT3 RS",
          "911 Turbo S",
          "911",
          "911  GTS",
          "911",
          "911 Turbo",
          "911",
          "911",
          "911",
          "911  S",
          "911  S",
          "911",
          "911  GTS",
          "911 Turbo S",
          "911 GT3 RS",
          "911",
          "911",
          "911",
          "911",
          "911",
          "911",
          "911  S",
          "911",
          "911",
          "911",
          "911",
          "911",
          "911",
          "911  S",
          "911",
          "911",
          "911  S",
          "911",
          "911",
          "911",
          "911  S",
          "911",
          "911  S",
          "911",
          "911",
          "911",
          "911",
          "911",
          "911",
          "911  S",
          "911",
          "911",
          "911  S",
          "911",
          "911",
          "911",
          "911  S",
          "911",
          "911",
          "911  S",
          "911  S",
          "911  S",
          "911",
          "911",
          "911  S",
          "911  S",
          "911  S",
          "911",
          "911",
          "911  S",
          "911  S",
          "911  S",
          "911  S",
          "911  S",
          "911  S",
          "911  S",
          "911  S",
          "911",
          "911",
          "911",
          "911",
          "911",
          "911  S",
          "911 Turbo S",
          "911 Turbo S",
          "911 Turbo S",
          "911 Turbo S",
          "911 Turbo S",
          "911 Turbo S",
          "911 Turbo S",
          "911 Turbo S",
          "911 Turbo S",
          "911 Turbo S",
          "911 Turbo S",
          "911",
          "911",
          "911 Turbo S",
          "911 Turbo S",
          "911  S",
          "911 Turbo",
          "911",
          "911",
          "911  S",
          "911",
          "911 Targa 4S",
          "911  S",
          "911",
          "911",
          "911 Targa 4S",
          "911",
          "911 Turbo S",
          "911 Turbo",
          "911 Turbo S",
          "911  S",
          "911",
          "911",
          "911  S",
          "911 Turbo",
          "911 Turbo",
          "911 Turbo",
          "911",
          "911",
          "911  S",
          "911",
          "911",
          "911 Targa 4S",
          "911 Turbo S",
          "911  S",
          "911 Targa 4S",
          "911",
          "911 Targa 4S",
          "911",
          "911 Turbo S",
          "911  S",
          "911 Turbo S",
          "911  S",
          "911",
          "911  S",
          "911",
          "911  S",
          "911",
          "911",
          "911  S",
          "911",
          "911  S",
          "911",
          "911",
          "911 Turbo S",
          "911 Turbo S",
          "911 Turbo S",
          "911 Targa 4S",
          "911 Turbo S",
          "911 Turbo S",
          "911",
          "911 Turbo S",
          "911 Targa 4S",
          "911 Turbo S",
          "911  GTS",
          "911 Targa 4S",
          "911 Turbo S",
          "911 Turbo S",
          "911",
          "911",
          "911",
          "911 Turbo S",
          "911 GT3",
          "911 GT3",
          "911",
          "911 GT3",
          "911 Targa 4S",
          "911 Turbo S",
          "911 Turbo S",
          "911  GTS",
          "911 Turbo S",
          "911 GT3",
          "911 GT3",
          "911  GTS",
          "911  GTS",
          "911 Targa 4S",
          "911 GT3",
          "911  GTS",
          "911 Turbo S",
          "911  S",
          "911 Targa 4S",
          "911  S",
          "911  GTS",
          "911",
          "911 Turbo",
          "911",
          "911 Turbo S",
          "911 Turbo S",
          "911  GTS",
          "911 Turbo",
          "911",
          "911 GT3",
          "911",
          "911",
          "911  GTS",
          "911  S",
          "911 GT3",
          "911  S",
          "911 GT3",
          "911  S",
          "911 Turbo S",
          "911",
          "911 GT3",
          "911",
          "911",
          "911 Turbo",
          "911",
          "911 Turbo",
          "911  S",
          "911  GTS",
          "911  S",
          "911 Turbo S",
          "911 GT3",
          "911",
          "911 Targa 4S",
          "911",
          "911  S",
          "911 GT3",
          "911  GTS",
          "911",
          "911",
          "911",
          "911 GT3",
          "911",
          "911",
          "911 GT3",
          "911",
          "911",
          "911",
          "911",
          "911",
          "911",
          "911",
          "911",
          "911",
          "911",
          "911",
          "911",
          "911",
          "911",
          "911",
          "911",
          "911",
          "911",
          "911",
          "911",
          "911",
          "911",
          "911",
          "911",
          "911 Turbo",
          "911",
          "911",
          "911",
          "911",
          "911",
          "911  GTS",
          "911 Turbo S",
          "911",
          "911",
          "911",
          "911",
          "911",
          "911 Targa 4S",
          "911",
          "911",
          "911",
          "911",
          "911",
          "911",
          "911",
          "911",
          "911",
          "911",
          "911",
          "911",
          "911 Turbo",
          "911",
          "911",
          "911",
          "911",
          "911",
          "911",
          "911",
          "911",
          "911",
          "911",
          "911",
          "911",
          "911",
          "911",
          "911 GT3 RS",
          "911",
          "911",
          "911",
          "911",
          "911",
          "911",
          "911",
          "911",
          "911",
          "911",
          "911",
          "911",
          "911",
          "911",
          "911",
          "911  S",
          "911",
          "911",
          "911",
          "911",
          "911",
          "911",
          "911",
          "911",
          "911",
          "911",
          "911",
          "911",
          "911",
          "911",
          "911",
          "911",
          "911",
          "911",
          "911",
          "911  S",
          "911",
          "911",
          "911",
          "911",
          "911",
          "911",
          "911",
          "911",
          "911 Targa 4S",
          "911",
          "911",
          "911 Targa 4S",
          "911",
          "911",
          "911",
          "911",
          "911",
          "911",
          "911",
          "911",
          "911",
          "911",
          "911",
          "911",
          "911",
          "911",
          "911",
          "911",
          "911",
          "911",
          "911",
          "911",
          "911",
          "911",
          "911",
          "911",
          "911",
          "911",
          "911",
          "911",
          "911",
          "911",
          "911",
          "911",
          "911",
          "911",
          "911",
          "911",
          "911",
          "911",
          "911",
          "911"
         ],
         "x0": " ",
         "xaxis": "x",
         "y": [
          168882,
          135995,
          91991,
          979000,
          79881,
          179000,
          137900,
          102500,
          76898,
          119991,
          83900,
          108980,
          89978,
          79999,
          79991,
          104991,
          122997,
          139480,
          80995,
          89000,
          74995,
          128990,
          79900,
          144900,
          159000,
          149898,
          96998,
          87991,
          82900,
          89900,
          91900,
          76900,
          159000,
          88922,
          149900,
          108800,
          148536,
          127991,
          145000,
          148668,
          93992,
          139900,
          76900,
          148998,
          128000,
          119995,
          124900,
          134900,
          99995,
          125991,
          179898,
          138898,
          109900,
          151900,
          159000,
          95991,
          145900,
          157995,
          84888,
          123000,
          118994,
          117898,
          125998,
          225991,
          128798,
          134998,
          97495,
          106991,
          129994,
          159680,
          147000,
          139950,
          156994,
          105900,
          122898,
          134000,
          118000,
          499900,
          127995,
          143900,
          112991,
          115995,
          124490,
          141991,
          155995,
          138992,
          92900,
          136260,
          139991,
          176888,
          139991,
          158900,
          168882,
          169881,
          105995,
          116780,
          109898,
          112995,
          98995,
          114998,
          120900,
          113993,
          169458,
          92995,
          120900,
          145991,
          104998,
          94981,
          109900,
          168992,
          207900,
          114985,
          109984,
          102900,
          97500,
          112606,
          99800,
          116900,
          105035,
          119990,
          112991,
          171999,
          179888,
          101498,
          116089,
          118799,
          119000,
          117991,
          126723,
          144752,
          96000,
          92888,
          120993,
          109795,
          104998,
          95900,
          113000,
          119984,
          129997,
          89988,
          129465,
          100998,
          119898,
          116415,
          98990,
          149990,
          119985,
          104998,
          87898,
          176998,
          109900,
          197888,
          247275,
          199900,
          193482,
          143998,
          239881,
          212991,
          194888,
          209900,
          229898,
          199990,
          134998,
          124950,
          179990,
          174890,
          116997,
          113994,
          128143,
          129693,
          174900,
          131998,
          144991,
          135960,
          164991,
          169899,
          146994,
          219399,
          214900,
          119900,
          187900,
          149998,
          133500,
          201888,
          234999,
          128500,
          223995,
          123380,
          199947,
          139900,
          152900,
          118980,
          99790,
          188900,
          194445,
          206309,
          214900,
          138798,
          249000,
          164900,
          155898,
          98994,
          154700,
          98981,
          134994,
          130995,
          128776,
          98995,
          168900,
          122821,
          107995,
          114900,
          218897,
          165995,
          129900,
          234898,
          133327,
          199998,
          219000,
          107299,
          99898,
          215000,
          124993,
          107988,
          109881,
          241991,
          109881,
          189766,
          269900,
          189980,
          385000,
          107812,
          139900,
          264991,
          176879,
          103900,
          124995,
          147900,
          149900,
          155995,
          170991,
          189900,
          153274,
          195759,
          167728,
          129981,
          173998,
          203900,
          142994,
          138283,
          117900,
          107991,
          151900,
          194899,
          199399,
          359995,
          199850,
          139880,
          239900,
          225911,
          154881,
          143981,
          269900,
          139392,
          155995,
          134991,
          245991,
          132991,
          119985,
          144898,
          157981,
          137992,
          202665,
          172790,
          163990,
          158100,
          229995,
          138892,
          139995,
          168900,
          429991,
          148115,
          385888,
          102500,
          145000,
          139898,
          128900,
          245820,
          136998,
          209989,
          194998,
          146977,
          139999,
          189995,
          181900,
          419950,
          289888,
          179985,
          425000,
          155000,
          119998,
          191994,
          128792,
          389898,
          99900,
          132898,
          134881,
          94990,
          134999,
          204898,
          256550,
          142995,
          152881,
          149000,
          133992,
          137900,
          130991,
          137994,
          149000,
          169992,
          131898,
          148992,
          164900,
          164900,
          134981,
          154881,
          134998,
          137995,
          146991,
          121898,
          121998,
          147298,
          154990,
          129995,
          160034,
          119990,
          157775,
          157998,
          122981,
          153985,
          140656,
          164900,
          177000,
          149900,
          161995,
          165105,
          146650,
          136994,
          112867,
          158989,
          149985,
          145899,
          149998,
          159909,
          152999,
          156500,
          147995,
          143981,
          128990,
          149900,
          158477,
          145900,
          157220,
          146900,
          162226,
          139992,
          162900,
          133991,
          155990,
          129911,
          159995,
          156500,
          158995,
          139000,
          279000,
          282500,
          268269,
          263980,
          268998,
          271947,
          260992,
          289905,
          287900,
          274995,
          284496,
          219500,
          149992,
          279900,
          269990,
          158370,
          238597,
          159992,
          135000,
          146990,
          130400,
          212148,
          169992,
          144761,
          169988,
          235550,
          137790,
          279990,
          264900,
          289995,
          169995,
          141992,
          164999,
          152340,
          303798,
          222996,
          257500,
          139912,
          168991,
          163995,
          146988,
          167990,
          163992,
          291972,
          168992,
          208888,
          128881,
          239992,
          125999,
          274992,
          151900,
          259990,
          169995,
          161898,
          156900,
          143950,
          162912,
          142998,
          139950,
          153888,
          134911,
          154999,
          139995,
          147995,
          279888,
          279900,
          279900,
          205900,
          260000,
          288149,
          226887,
          266308,
          184898,
          279900,
          189995,
          184898,
          289888,
          277198,
          139995,
          158999,
          138995,
          329988,
          294900,
          329992,
          139988,
          307717,
          249995,
          299981,
          269901,
          193999,
          299992,
          289992,
          299999,
          215932,
          188990,
          219898,
          269900,
          209900,
          288500,
          179991,
          182995,
          169998,
          194998,
          159919,
          283721,
          204995,
          296498,
          299992,
          188800,
          264990,
          134990,
          279496,
          146887,
          229988,
          199990,
          171998,
          294888,
          199900,
          290000,
          161900,
          288715,
          143400,
          309999,
          199976,
          143500,
          279900,
          142305,
          278500,
          173981,
          195997,
          173591,
          286494,
          286671,
          225900,
          219897,
          169999,
          180992,
          339998,
          174881,
          170495,
          219897,
          154992,
          350000,
          219898,
          199595,
          329898,
          69991,
          94900,
          69900,
          88900,
          120000,
          86981,
          169777,
          80990,
          153788,
          85995,
          124849,
          124226,
          149357,
          117999,
          165620,
          152900,
          89900,
          136900,
          159788,
          119900,
          89900,
          87888,
          127791,
          137000,
          155000,
          179911,
          103995,
          95900,
          118995,
          89900,
          127898,
          189000,
          99998,
          98998,
          181122,
          106900,
          117499,
          135144,
          94988,
          180999,
          199991,
          249900,
          89998,
          109995,
          139788,
          186990,
          188790,
          132900,
          151732,
          137695,
          174900,
          165990,
          148788,
          189460,
          191900,
          214900,
          98899,
          156955,
          139996,
          184998,
          116888,
          194999,
          120424,
          203995,
          252900,
          265000,
          150782,
          164900,
          132981,
          173900,
          102222,
          389900,
          169900,
          132991,
          136211,
          148888,
          182955,
          102900,
          140744,
          163312,
          155900,
          149900,
          179998,
          151900,
          144900,
          156900,
          130991,
          155783,
          127990,
          127900,
          118990,
          160900,
          264911,
          136911,
          279900,
          249991,
          146788,
          151429,
          157788,
          292998,
          259899,
          149900,
          140499,
          158489,
          129600,
          264900,
          257999,
          279000,
          250000,
          249988,
          229880,
          139788,
          159888,
          269000,
          285911,
          134999,
          151000,
          299900,
          242991,
          279981,
          284900,
          255990,
          139900,
          295568,
          202500,
          289900,
          279900,
          74900,
          89900,
          138791,
          127900,
          95991,
          126981,
          143887,
          164781,
          94911,
          105980,
          124900,
          105719,
          124981,
          114994,
          119198,
          103900,
          141685,
          187900,
          116900,
          141865,
          205911,
          195987,
          149900,
          207952,
          143620,
          132896,
          239911
         ],
         "y0": " ",
         "yaxis": "y"
        }
       ],
       "layout": {
        "boxmode": "group",
        "legend": {
         "tracegroupgap": 0
        },
        "margin": {
         "t": 60
        },
        "template": {
         "data": {
          "bar": [
           {
            "error_x": {
             "color": "#2a3f5f"
            },
            "error_y": {
             "color": "#2a3f5f"
            },
            "marker": {
             "line": {
              "color": "#E5ECF6",
              "width": 0.5
             },
             "pattern": {
              "fillmode": "overlay",
              "size": 10,
              "solidity": 0.2
             }
            },
            "type": "bar"
           }
          ],
          "barpolar": [
           {
            "marker": {
             "line": {
              "color": "#E5ECF6",
              "width": 0.5
             },
             "pattern": {
              "fillmode": "overlay",
              "size": 10,
              "solidity": 0.2
             }
            },
            "type": "barpolar"
           }
          ],
          "carpet": [
           {
            "aaxis": {
             "endlinecolor": "#2a3f5f",
             "gridcolor": "white",
             "linecolor": "white",
             "minorgridcolor": "white",
             "startlinecolor": "#2a3f5f"
            },
            "baxis": {
             "endlinecolor": "#2a3f5f",
             "gridcolor": "white",
             "linecolor": "white",
             "minorgridcolor": "white",
             "startlinecolor": "#2a3f5f"
            },
            "type": "carpet"
           }
          ],
          "choropleth": [
           {
            "colorbar": {
             "outlinewidth": 0,
             "ticks": ""
            },
            "type": "choropleth"
           }
          ],
          "contour": [
           {
            "colorbar": {
             "outlinewidth": 0,
             "ticks": ""
            },
            "colorscale": [
             [
              0,
              "#0d0887"
             ],
             [
              0.1111111111111111,
              "#46039f"
             ],
             [
              0.2222222222222222,
              "#7201a8"
             ],
             [
              0.3333333333333333,
              "#9c179e"
             ],
             [
              0.4444444444444444,
              "#bd3786"
             ],
             [
              0.5555555555555556,
              "#d8576b"
             ],
             [
              0.6666666666666666,
              "#ed7953"
             ],
             [
              0.7777777777777778,
              "#fb9f3a"
             ],
             [
              0.8888888888888888,
              "#fdca26"
             ],
             [
              1,
              "#f0f921"
             ]
            ],
            "type": "contour"
           }
          ],
          "contourcarpet": [
           {
            "colorbar": {
             "outlinewidth": 0,
             "ticks": ""
            },
            "type": "contourcarpet"
           }
          ],
          "heatmap": [
           {
            "colorbar": {
             "outlinewidth": 0,
             "ticks": ""
            },
            "colorscale": [
             [
              0,
              "#0d0887"
             ],
             [
              0.1111111111111111,
              "#46039f"
             ],
             [
              0.2222222222222222,
              "#7201a8"
             ],
             [
              0.3333333333333333,
              "#9c179e"
             ],
             [
              0.4444444444444444,
              "#bd3786"
             ],
             [
              0.5555555555555556,
              "#d8576b"
             ],
             [
              0.6666666666666666,
              "#ed7953"
             ],
             [
              0.7777777777777778,
              "#fb9f3a"
             ],
             [
              0.8888888888888888,
              "#fdca26"
             ],
             [
              1,
              "#f0f921"
             ]
            ],
            "type": "heatmap"
           }
          ],
          "heatmapgl": [
           {
            "colorbar": {
             "outlinewidth": 0,
             "ticks": ""
            },
            "colorscale": [
             [
              0,
              "#0d0887"
             ],
             [
              0.1111111111111111,
              "#46039f"
             ],
             [
              0.2222222222222222,
              "#7201a8"
             ],
             [
              0.3333333333333333,
              "#9c179e"
             ],
             [
              0.4444444444444444,
              "#bd3786"
             ],
             [
              0.5555555555555556,
              "#d8576b"
             ],
             [
              0.6666666666666666,
              "#ed7953"
             ],
             [
              0.7777777777777778,
              "#fb9f3a"
             ],
             [
              0.8888888888888888,
              "#fdca26"
             ],
             [
              1,
              "#f0f921"
             ]
            ],
            "type": "heatmapgl"
           }
          ],
          "histogram": [
           {
            "marker": {
             "pattern": {
              "fillmode": "overlay",
              "size": 10,
              "solidity": 0.2
             }
            },
            "type": "histogram"
           }
          ],
          "histogram2d": [
           {
            "colorbar": {
             "outlinewidth": 0,
             "ticks": ""
            },
            "colorscale": [
             [
              0,
              "#0d0887"
             ],
             [
              0.1111111111111111,
              "#46039f"
             ],
             [
              0.2222222222222222,
              "#7201a8"
             ],
             [
              0.3333333333333333,
              "#9c179e"
             ],
             [
              0.4444444444444444,
              "#bd3786"
             ],
             [
              0.5555555555555556,
              "#d8576b"
             ],
             [
              0.6666666666666666,
              "#ed7953"
             ],
             [
              0.7777777777777778,
              "#fb9f3a"
             ],
             [
              0.8888888888888888,
              "#fdca26"
             ],
             [
              1,
              "#f0f921"
             ]
            ],
            "type": "histogram2d"
           }
          ],
          "histogram2dcontour": [
           {
            "colorbar": {
             "outlinewidth": 0,
             "ticks": ""
            },
            "colorscale": [
             [
              0,
              "#0d0887"
             ],
             [
              0.1111111111111111,
              "#46039f"
             ],
             [
              0.2222222222222222,
              "#7201a8"
             ],
             [
              0.3333333333333333,
              "#9c179e"
             ],
             [
              0.4444444444444444,
              "#bd3786"
             ],
             [
              0.5555555555555556,
              "#d8576b"
             ],
             [
              0.6666666666666666,
              "#ed7953"
             ],
             [
              0.7777777777777778,
              "#fb9f3a"
             ],
             [
              0.8888888888888888,
              "#fdca26"
             ],
             [
              1,
              "#f0f921"
             ]
            ],
            "type": "histogram2dcontour"
           }
          ],
          "mesh3d": [
           {
            "colorbar": {
             "outlinewidth": 0,
             "ticks": ""
            },
            "type": "mesh3d"
           }
          ],
          "parcoords": [
           {
            "line": {
             "colorbar": {
              "outlinewidth": 0,
              "ticks": ""
             }
            },
            "type": "parcoords"
           }
          ],
          "pie": [
           {
            "automargin": true,
            "type": "pie"
           }
          ],
          "scatter": [
           {
            "marker": {
             "colorbar": {
              "outlinewidth": 0,
              "ticks": ""
             }
            },
            "type": "scatter"
           }
          ],
          "scatter3d": [
           {
            "line": {
             "colorbar": {
              "outlinewidth": 0,
              "ticks": ""
             }
            },
            "marker": {
             "colorbar": {
              "outlinewidth": 0,
              "ticks": ""
             }
            },
            "type": "scatter3d"
           }
          ],
          "scattercarpet": [
           {
            "marker": {
             "colorbar": {
              "outlinewidth": 0,
              "ticks": ""
             }
            },
            "type": "scattercarpet"
           }
          ],
          "scattergeo": [
           {
            "marker": {
             "colorbar": {
              "outlinewidth": 0,
              "ticks": ""
             }
            },
            "type": "scattergeo"
           }
          ],
          "scattergl": [
           {
            "marker": {
             "colorbar": {
              "outlinewidth": 0,
              "ticks": ""
             }
            },
            "type": "scattergl"
           }
          ],
          "scattermapbox": [
           {
            "marker": {
             "colorbar": {
              "outlinewidth": 0,
              "ticks": ""
             }
            },
            "type": "scattermapbox"
           }
          ],
          "scatterpolar": [
           {
            "marker": {
             "colorbar": {
              "outlinewidth": 0,
              "ticks": ""
             }
            },
            "type": "scatterpolar"
           }
          ],
          "scatterpolargl": [
           {
            "marker": {
             "colorbar": {
              "outlinewidth": 0,
              "ticks": ""
             }
            },
            "type": "scatterpolargl"
           }
          ],
          "scatterternary": [
           {
            "marker": {
             "colorbar": {
              "outlinewidth": 0,
              "ticks": ""
             }
            },
            "type": "scatterternary"
           }
          ],
          "surface": [
           {
            "colorbar": {
             "outlinewidth": 0,
             "ticks": ""
            },
            "colorscale": [
             [
              0,
              "#0d0887"
             ],
             [
              0.1111111111111111,
              "#46039f"
             ],
             [
              0.2222222222222222,
              "#7201a8"
             ],
             [
              0.3333333333333333,
              "#9c179e"
             ],
             [
              0.4444444444444444,
              "#bd3786"
             ],
             [
              0.5555555555555556,
              "#d8576b"
             ],
             [
              0.6666666666666666,
              "#ed7953"
             ],
             [
              0.7777777777777778,
              "#fb9f3a"
             ],
             [
              0.8888888888888888,
              "#fdca26"
             ],
             [
              1,
              "#f0f921"
             ]
            ],
            "type": "surface"
           }
          ],
          "table": [
           {
            "cells": {
             "fill": {
              "color": "#EBF0F8"
             },
             "line": {
              "color": "white"
             }
            },
            "header": {
             "fill": {
              "color": "#C8D4E3"
             },
             "line": {
              "color": "white"
             }
            },
            "type": "table"
           }
          ]
         },
         "layout": {
          "annotationdefaults": {
           "arrowcolor": "#2a3f5f",
           "arrowhead": 0,
           "arrowwidth": 1
          },
          "autotypenumbers": "strict",
          "coloraxis": {
           "colorbar": {
            "outlinewidth": 0,
            "ticks": ""
           }
          },
          "colorscale": {
           "diverging": [
            [
             0,
             "#8e0152"
            ],
            [
             0.1,
             "#c51b7d"
            ],
            [
             0.2,
             "#de77ae"
            ],
            [
             0.3,
             "#f1b6da"
            ],
            [
             0.4,
             "#fde0ef"
            ],
            [
             0.5,
             "#f7f7f7"
            ],
            [
             0.6,
             "#e6f5d0"
            ],
            [
             0.7,
             "#b8e186"
            ],
            [
             0.8,
             "#7fbc41"
            ],
            [
             0.9,
             "#4d9221"
            ],
            [
             1,
             "#276419"
            ]
           ],
           "sequential": [
            [
             0,
             "#0d0887"
            ],
            [
             0.1111111111111111,
             "#46039f"
            ],
            [
             0.2222222222222222,
             "#7201a8"
            ],
            [
             0.3333333333333333,
             "#9c179e"
            ],
            [
             0.4444444444444444,
             "#bd3786"
            ],
            [
             0.5555555555555556,
             "#d8576b"
            ],
            [
             0.6666666666666666,
             "#ed7953"
            ],
            [
             0.7777777777777778,
             "#fb9f3a"
            ],
            [
             0.8888888888888888,
             "#fdca26"
            ],
            [
             1,
             "#f0f921"
            ]
           ],
           "sequentialminus": [
            [
             0,
             "#0d0887"
            ],
            [
             0.1111111111111111,
             "#46039f"
            ],
            [
             0.2222222222222222,
             "#7201a8"
            ],
            [
             0.3333333333333333,
             "#9c179e"
            ],
            [
             0.4444444444444444,
             "#bd3786"
            ],
            [
             0.5555555555555556,
             "#d8576b"
            ],
            [
             0.6666666666666666,
             "#ed7953"
            ],
            [
             0.7777777777777778,
             "#fb9f3a"
            ],
            [
             0.8888888888888888,
             "#fdca26"
            ],
            [
             1,
             "#f0f921"
            ]
           ]
          },
          "colorway": [
           "#636efa",
           "#EF553B",
           "#00cc96",
           "#ab63fa",
           "#FFA15A",
           "#19d3f3",
           "#FF6692",
           "#B6E880",
           "#FF97FF",
           "#FECB52"
          ],
          "font": {
           "color": "#2a3f5f"
          },
          "geo": {
           "bgcolor": "white",
           "lakecolor": "white",
           "landcolor": "#E5ECF6",
           "showlakes": true,
           "showland": true,
           "subunitcolor": "white"
          },
          "hoverlabel": {
           "align": "left"
          },
          "hovermode": "closest",
          "mapbox": {
           "style": "light"
          },
          "paper_bgcolor": "white",
          "plot_bgcolor": "#E5ECF6",
          "polar": {
           "angularaxis": {
            "gridcolor": "white",
            "linecolor": "white",
            "ticks": ""
           },
           "bgcolor": "#E5ECF6",
           "radialaxis": {
            "gridcolor": "white",
            "linecolor": "white",
            "ticks": ""
           }
          },
          "scene": {
           "xaxis": {
            "backgroundcolor": "#E5ECF6",
            "gridcolor": "white",
            "gridwidth": 2,
            "linecolor": "white",
            "showbackground": true,
            "ticks": "",
            "zerolinecolor": "white"
           },
           "yaxis": {
            "backgroundcolor": "#E5ECF6",
            "gridcolor": "white",
            "gridwidth": 2,
            "linecolor": "white",
            "showbackground": true,
            "ticks": "",
            "zerolinecolor": "white"
           },
           "zaxis": {
            "backgroundcolor": "#E5ECF6",
            "gridcolor": "white",
            "gridwidth": 2,
            "linecolor": "white",
            "showbackground": true,
            "ticks": "",
            "zerolinecolor": "white"
           }
          },
          "shapedefaults": {
           "line": {
            "color": "#2a3f5f"
           }
          },
          "ternary": {
           "aaxis": {
            "gridcolor": "white",
            "linecolor": "white",
            "ticks": ""
           },
           "baxis": {
            "gridcolor": "white",
            "linecolor": "white",
            "ticks": ""
           },
           "bgcolor": "#E5ECF6",
           "caxis": {
            "gridcolor": "white",
            "linecolor": "white",
            "ticks": ""
           }
          },
          "title": {
           "x": 0.05
          },
          "xaxis": {
           "automargin": true,
           "gridcolor": "white",
           "linecolor": "white",
           "ticks": "",
           "title": {
            "standoff": 15
           },
           "zerolinecolor": "white",
           "zerolinewidth": 2
          },
          "yaxis": {
           "automargin": true,
           "gridcolor": "white",
           "linecolor": "white",
           "ticks": "",
           "title": {
            "standoff": 15
           },
           "zerolinecolor": "white",
           "zerolinewidth": 2
          }
         }
        },
        "xaxis": {
         "anchor": "y",
         "domain": [
          0,
          1
         ],
         "title": {
          "text": "Name"
         }
        },
        "yaxis": {
         "anchor": "x",
         "domain": [
          0,
          1
         ],
         "title": {
          "text": "Price"
         }
        }
       }
      },
      "text/html": [
       "<div>                            <div id=\"bb691bbe-228a-430d-b26b-aa5d602e4c3f\" class=\"plotly-graph-div\" style=\"height:525px; width:100%;\"></div>            <script type=\"text/javascript\">                require([\"plotly\"], function(Plotly) {                    window.PLOTLYENV=window.PLOTLYENV || {};                                    if (document.getElementById(\"bb691bbe-228a-430d-b26b-aa5d602e4c3f\")) {                    Plotly.newPlot(                        \"bb691bbe-228a-430d-b26b-aa5d602e4c3f\",                        [{\"alignmentgroup\":\"True\",\"hovertemplate\":\"Name=%{x}<br>Price=%{y}<extra></extra>\",\"legendgroup\":\"\",\"marker\":{\"color\":\"#636efa\"},\"name\":\"\",\"notched\":false,\"offsetgroup\":\"\",\"orientation\":\"v\",\"showlegend\":false,\"x\":[\"911 Turbo S\",\"911 Turbo S\",\"911  GTS\",\"911 GT3 RS\",\"911\",\"911 Turbo S\",\"911 Turbo\",\"911  GTS\",\"911\",\"911 Turbo\",\"911  S\",\"911\",\"911  GTS\",\"911\",\"911  S\",\"911\",\"911 Turbo S\",\"911 Turbo S\",\"911  S\",\"911  S\",\"911\",\"911\",\"911  S\",\"911 Turbo S\",\"911 Turbo S\",\"911 Turbo S\",\"911\",\"911  S\",\"911\",\"911  S\",\"911  S\",\"911\",\"911\",\"911  S\",\"911 Turbo S\",\"911 Targa 4S\",\"911 GT3\",\"911\",\"911 Turbo S\",\"911 Turbo S\",\"911\",\"911 Turbo\",\"911\",\"911 GT3\",\"911 Turbo S\",\"911 Turbo S\",\"911  GTS\",\"911 Turbo\",\"911\",\"911  GTS\",\"911 Turbo S\",\"911 Turbo S\",\"911  GTS\",\"911 Turbo\",\"911 GT3\",\"911\",\"911 Turbo S\",\"911 GT3\",\"911\",\"911  GTS\",\"911 Targa 4S\",\"911 Targa 4S\",\"911\",\"911 GT3 RS\",\"911 Targa 4S\",\"911 Targa 4S\",\"911  S\",\"911  GTS\",\"911 Targa 4S\",\"911 Turbo S\",\"911 Turbo\",\"911 Targa 4S\",\"911 Targa 4S\",\"911  S\",\"911 Targa 4S\",\"911\",\"911\",\"911\",\"911 Turbo\",\"911 Turbo\",\"911 Targa 4S\",\"911  GTS\",\"911  GTS\",\"911 Turbo\",\"911 Targa 4S\",\"911 Turbo\",\"911\",\"911\",\"911 Turbo\",\"911 Turbo S\",\"911\",\"911 Turbo\",\"911 Turbo S\",\"911 Turbo S\",\"911\",\"911  S\",\"911\",\"911  S\",\"911\",\"911  S\",\"911\",\"911\",\"911 Turbo S\",\"911\",\"911  S\",\"911 Turbo\",\"911\",\"911\",\"911  S\",\"911 Turbo S\",\"911 Turbo S\",\"911  S\",\"911  S\",\"911  S\",\"911\",\"911  S\",\"911  S\",\"911\",\"911  S\",\"911  S\",\"911\",\"911 Turbo S\",\"911 Turbo S\",\"911\",\"911  S\",\"911  S\",\"911  S\",\"911  GTS\",\"911\",\"911 Targa 4S\",\"911\",\"911  S\",\"911  S\",\"911\",\"911  S\",\"911\",\"911\",\"911  S\",\"911  S\",\"911\",\"911\",\"911\",\"911 Targa 4S\",\"911\",\"911\",\"911 Turbo\",\"911  GTS\",\"911  S\",\"911\",\"911\",\"911  S\",\"911 GT3\",\"911 GT3\",\"911 GT3\",\"911 GT3\",\"911  GTS\",\"911 GT3\",\"911 GT3\",\"911 GT3\",\"911 GT3\",\"911 GT3\",\"911 GT3\",\"911\",\"911  S\",\"911 GT3\",\"911 Turbo S\",\"911  S\",\"911  S\",\"911\",\"911\",\"911 Turbo S\",\"911  S\",\"911 Targa 4S\",\"911 Targa 4S\",\"911 Turbo\",\"911 Turbo S\",\"911\",\"911 GT3\",\"911 GT3\",\"911  S\",\"911 Turbo S\",\"911 Targa 4S\",\"911  GTS\",\"911 Turbo S\",\"911 GT3\",\"911\",\"911\",\"911\",\"911 GT3\",\"911  GTS\",\"911\",\"911\",\"911\",\"911 GT3\",\"911 GT3\",\"911 GT3\",\"911 Turbo S\",\"911\",\"911 GT3\",\"911 4 GTS\",\"911 Targa 4S\",\"911\",\"911 Targa 4S\",\"911\",\"911\",\"911  S\",\"911  S\",\"911\",\"911 Turbo S\",\"911  GTS\",\"911\",\"911  S\",\"911 GT3\",\"911\",\"911  S\",\"911 GT3\",\"911\",\"911 Turbo\",\"911 Turbo S\",\"911\",\"911\",\"911 Turbo S\",\"911\",\"911\",\"911\",\"911 GT3 RS\",\"911\",\"911 Turbo\",\"911 GT3 RS\",\"911 Turbo\",\"911\",\"911\",\"911\",\"911 GT3 RS\",\"911 Targa 4S\",\"911\",\"911\",\"911\",\"911  GTS\",\"911 4 GTS\",\"911 Targa 4S\",\"911 Turbo\",\"911  GTS\",\"911 Turbo S\",\"911 Targa 4S\",\"911  S\",\"911 Turbo\",\"911 Turbo S\",\"911  GTS\",\"911\",\"911\",\"911  S\",\"911\",\"911 Turbo S\",\"911 Turbo\",\"911\",\"911 Turbo S\",\"911\",\"911 GT3\",\"911 GT3\",\"911 Targa 4S\",\"911\",\"911 GT3 RS\",\"911 Targa 4S\",\"911  GTS\",\"911  S\",\"911 GT3\",\"911\",\"911  S\",\"911\",\"911 Targa 4S\",\"911  GTS\",\"911 Turbo S\",\"911 Targa 4S\",\"911 Targa 4S\",\"911  GTS\",\"911 GT3\",\"911  S\",\"911  S\",\"911 Targa 4S\",\"911 GT2 RS\",\"911\",\"911\",\"911\",\"911\",\"911  GTS\",\"911  S\",\"911 GT3 RS\",\"911  GTS\",\"911 GT3\",\"911 Turbo S\",\"911\",\"911  S\",\"911 Turbo\",\"911 Targa 4S\",\"911\",\"911 GT3 RS\",\"911 Turbo S\",\"911\",\"911  GTS\",\"911\",\"911 Turbo\",\"911\",\"911\",\"911\",\"911  S\",\"911  S\",\"911\",\"911  GTS\",\"911 Turbo S\",\"911 GT3 RS\",\"911\",\"911\",\"911\",\"911\",\"911\",\"911\",\"911  S\",\"911\",\"911\",\"911\",\"911\",\"911\",\"911\",\"911  S\",\"911\",\"911\",\"911  S\",\"911\",\"911\",\"911\",\"911  S\",\"911\",\"911  S\",\"911\",\"911\",\"911\",\"911\",\"911\",\"911\",\"911  S\",\"911\",\"911\",\"911  S\",\"911\",\"911\",\"911\",\"911  S\",\"911\",\"911\",\"911  S\",\"911  S\",\"911  S\",\"911\",\"911\",\"911  S\",\"911  S\",\"911  S\",\"911\",\"911\",\"911  S\",\"911  S\",\"911  S\",\"911  S\",\"911  S\",\"911  S\",\"911  S\",\"911  S\",\"911\",\"911\",\"911\",\"911\",\"911\",\"911  S\",\"911 Turbo S\",\"911 Turbo S\",\"911 Turbo S\",\"911 Turbo S\",\"911 Turbo S\",\"911 Turbo S\",\"911 Turbo S\",\"911 Turbo S\",\"911 Turbo S\",\"911 Turbo S\",\"911 Turbo S\",\"911\",\"911\",\"911 Turbo S\",\"911 Turbo S\",\"911  S\",\"911 Turbo\",\"911\",\"911\",\"911  S\",\"911\",\"911 Targa 4S\",\"911  S\",\"911\",\"911\",\"911 Targa 4S\",\"911\",\"911 Turbo S\",\"911 Turbo\",\"911 Turbo S\",\"911  S\",\"911\",\"911\",\"911  S\",\"911 Turbo\",\"911 Turbo\",\"911 Turbo\",\"911\",\"911\",\"911  S\",\"911\",\"911\",\"911 Targa 4S\",\"911 Turbo S\",\"911  S\",\"911 Targa 4S\",\"911\",\"911 Targa 4S\",\"911\",\"911 Turbo S\",\"911  S\",\"911 Turbo S\",\"911  S\",\"911\",\"911  S\",\"911\",\"911  S\",\"911\",\"911\",\"911  S\",\"911\",\"911  S\",\"911\",\"911\",\"911 Turbo S\",\"911 Turbo S\",\"911 Turbo S\",\"911 Targa 4S\",\"911 Turbo S\",\"911 Turbo S\",\"911\",\"911 Turbo S\",\"911 Targa 4S\",\"911 Turbo S\",\"911  GTS\",\"911 Targa 4S\",\"911 Turbo S\",\"911 Turbo S\",\"911\",\"911\",\"911\",\"911 Turbo S\",\"911 GT3\",\"911 GT3\",\"911\",\"911 GT3\",\"911 Targa 4S\",\"911 Turbo S\",\"911 Turbo S\",\"911  GTS\",\"911 Turbo S\",\"911 GT3\",\"911 GT3\",\"911  GTS\",\"911  GTS\",\"911 Targa 4S\",\"911 GT3\",\"911  GTS\",\"911 Turbo S\",\"911  S\",\"911 Targa 4S\",\"911  S\",\"911  GTS\",\"911\",\"911 Turbo\",\"911\",\"911 Turbo S\",\"911 Turbo S\",\"911  GTS\",\"911 Turbo\",\"911\",\"911 GT3\",\"911\",\"911\",\"911  GTS\",\"911  S\",\"911 GT3\",\"911  S\",\"911 GT3\",\"911  S\",\"911 Turbo S\",\"911\",\"911 GT3\",\"911\",\"911\",\"911 Turbo\",\"911\",\"911 Turbo\",\"911  S\",\"911  GTS\",\"911  S\",\"911 Turbo S\",\"911 GT3\",\"911\",\"911 Targa 4S\",\"911\",\"911  S\",\"911 GT3\",\"911  GTS\",\"911\",\"911\",\"911\",\"911 GT3\",\"911\",\"911\",\"911 GT3\",\"911\",\"911\",\"911\",\"911\",\"911\",\"911\",\"911\",\"911\",\"911\",\"911\",\"911\",\"911\",\"911\",\"911\",\"911\",\"911\",\"911\",\"911\",\"911\",\"911\",\"911\",\"911\",\"911\",\"911\",\"911 Turbo\",\"911\",\"911\",\"911\",\"911\",\"911\",\"911  GTS\",\"911 Turbo S\",\"911\",\"911\",\"911\",\"911\",\"911\",\"911 Targa 4S\",\"911\",\"911\",\"911\",\"911\",\"911\",\"911\",\"911\",\"911\",\"911\",\"911\",\"911\",\"911\",\"911 Turbo\",\"911\",\"911\",\"911\",\"911\",\"911\",\"911\",\"911\",\"911\",\"911\",\"911\",\"911\",\"911\",\"911\",\"911\",\"911 GT3 RS\",\"911\",\"911\",\"911\",\"911\",\"911\",\"911\",\"911\",\"911\",\"911\",\"911\",\"911\",\"911\",\"911\",\"911\",\"911\",\"911  S\",\"911\",\"911\",\"911\",\"911\",\"911\",\"911\",\"911\",\"911\",\"911\",\"911\",\"911\",\"911\",\"911\",\"911\",\"911\",\"911\",\"911\",\"911\",\"911\",\"911  S\",\"911\",\"911\",\"911\",\"911\",\"911\",\"911\",\"911\",\"911\",\"911 Targa 4S\",\"911\",\"911\",\"911 Targa 4S\",\"911\",\"911\",\"911\",\"911\",\"911\",\"911\",\"911\",\"911\",\"911\",\"911\",\"911\",\"911\",\"911\",\"911\",\"911\",\"911\",\"911\",\"911\",\"911\",\"911\",\"911\",\"911\",\"911\",\"911\",\"911\",\"911\",\"911\",\"911\",\"911\",\"911\",\"911\",\"911\",\"911\",\"911\",\"911\",\"911\",\"911\",\"911\",\"911\",\"911\"],\"x0\":\" \",\"xaxis\":\"x\",\"y\":[168882,135995,91991,979000,79881,179000,137900,102500,76898,119991,83900,108980,89978,79999,79991,104991,122997,139480,80995,89000,74995,128990,79900,144900,159000,149898,96998,87991,82900,89900,91900,76900,159000,88922,149900,108800,148536,127991,145000,148668,93992,139900,76900,148998,128000,119995,124900,134900,99995,125991,179898,138898,109900,151900,159000,95991,145900,157995,84888,123000,118994,117898,125998,225991,128798,134998,97495,106991,129994,159680,147000,139950,156994,105900,122898,134000,118000,499900,127995,143900,112991,115995,124490,141991,155995,138992,92900,136260,139991,176888,139991,158900,168882,169881,105995,116780,109898,112995,98995,114998,120900,113993,169458,92995,120900,145991,104998,94981,109900,168992,207900,114985,109984,102900,97500,112606,99800,116900,105035,119990,112991,171999,179888,101498,116089,118799,119000,117991,126723,144752,96000,92888,120993,109795,104998,95900,113000,119984,129997,89988,129465,100998,119898,116415,98990,149990,119985,104998,87898,176998,109900,197888,247275,199900,193482,143998,239881,212991,194888,209900,229898,199990,134998,124950,179990,174890,116997,113994,128143,129693,174900,131998,144991,135960,164991,169899,146994,219399,214900,119900,187900,149998,133500,201888,234999,128500,223995,123380,199947,139900,152900,118980,99790,188900,194445,206309,214900,138798,249000,164900,155898,98994,154700,98981,134994,130995,128776,98995,168900,122821,107995,114900,218897,165995,129900,234898,133327,199998,219000,107299,99898,215000,124993,107988,109881,241991,109881,189766,269900,189980,385000,107812,139900,264991,176879,103900,124995,147900,149900,155995,170991,189900,153274,195759,167728,129981,173998,203900,142994,138283,117900,107991,151900,194899,199399,359995,199850,139880,239900,225911,154881,143981,269900,139392,155995,134991,245991,132991,119985,144898,157981,137992,202665,172790,163990,158100,229995,138892,139995,168900,429991,148115,385888,102500,145000,139898,128900,245820,136998,209989,194998,146977,139999,189995,181900,419950,289888,179985,425000,155000,119998,191994,128792,389898,99900,132898,134881,94990,134999,204898,256550,142995,152881,149000,133992,137900,130991,137994,149000,169992,131898,148992,164900,164900,134981,154881,134998,137995,146991,121898,121998,147298,154990,129995,160034,119990,157775,157998,122981,153985,140656,164900,177000,149900,161995,165105,146650,136994,112867,158989,149985,145899,149998,159909,152999,156500,147995,143981,128990,149900,158477,145900,157220,146900,162226,139992,162900,133991,155990,129911,159995,156500,158995,139000,279000,282500,268269,263980,268998,271947,260992,289905,287900,274995,284496,219500,149992,279900,269990,158370,238597,159992,135000,146990,130400,212148,169992,144761,169988,235550,137790,279990,264900,289995,169995,141992,164999,152340,303798,222996,257500,139912,168991,163995,146988,167990,163992,291972,168992,208888,128881,239992,125999,274992,151900,259990,169995,161898,156900,143950,162912,142998,139950,153888,134911,154999,139995,147995,279888,279900,279900,205900,260000,288149,226887,266308,184898,279900,189995,184898,289888,277198,139995,158999,138995,329988,294900,329992,139988,307717,249995,299981,269901,193999,299992,289992,299999,215932,188990,219898,269900,209900,288500,179991,182995,169998,194998,159919,283721,204995,296498,299992,188800,264990,134990,279496,146887,229988,199990,171998,294888,199900,290000,161900,288715,143400,309999,199976,143500,279900,142305,278500,173981,195997,173591,286494,286671,225900,219897,169999,180992,339998,174881,170495,219897,154992,350000,219898,199595,329898,69991,94900,69900,88900,120000,86981,169777,80990,153788,85995,124849,124226,149357,117999,165620,152900,89900,136900,159788,119900,89900,87888,127791,137000,155000,179911,103995,95900,118995,89900,127898,189000,99998,98998,181122,106900,117499,135144,94988,180999,199991,249900,89998,109995,139788,186990,188790,132900,151732,137695,174900,165990,148788,189460,191900,214900,98899,156955,139996,184998,116888,194999,120424,203995,252900,265000,150782,164900,132981,173900,102222,389900,169900,132991,136211,148888,182955,102900,140744,163312,155900,149900,179998,151900,144900,156900,130991,155783,127990,127900,118990,160900,264911,136911,279900,249991,146788,151429,157788,292998,259899,149900,140499,158489,129600,264900,257999,279000,250000,249988,229880,139788,159888,269000,285911,134999,151000,299900,242991,279981,284900,255990,139900,295568,202500,289900,279900,74900,89900,138791,127900,95991,126981,143887,164781,94911,105980,124900,105719,124981,114994,119198,103900,141685,187900,116900,141865,205911,195987,149900,207952,143620,132896,239911],\"y0\":\" \",\"yaxis\":\"y\",\"type\":\"box\"}],                        {\"template\":{\"data\":{\"bar\":[{\"error_x\":{\"color\":\"#2a3f5f\"},\"error_y\":{\"color\":\"#2a3f5f\"},\"marker\":{\"line\":{\"color\":\"#E5ECF6\",\"width\":0.5},\"pattern\":{\"fillmode\":\"overlay\",\"size\":10,\"solidity\":0.2}},\"type\":\"bar\"}],\"barpolar\":[{\"marker\":{\"line\":{\"color\":\"#E5ECF6\",\"width\":0.5},\"pattern\":{\"fillmode\":\"overlay\",\"size\":10,\"solidity\":0.2}},\"type\":\"barpolar\"}],\"carpet\":[{\"aaxis\":{\"endlinecolor\":\"#2a3f5f\",\"gridcolor\":\"white\",\"linecolor\":\"white\",\"minorgridcolor\":\"white\",\"startlinecolor\":\"#2a3f5f\"},\"baxis\":{\"endlinecolor\":\"#2a3f5f\",\"gridcolor\":\"white\",\"linecolor\":\"white\",\"minorgridcolor\":\"white\",\"startlinecolor\":\"#2a3f5f\"},\"type\":\"carpet\"}],\"choropleth\":[{\"colorbar\":{\"outlinewidth\":0,\"ticks\":\"\"},\"type\":\"choropleth\"}],\"contour\":[{\"colorbar\":{\"outlinewidth\":0,\"ticks\":\"\"},\"colorscale\":[[0.0,\"#0d0887\"],[0.1111111111111111,\"#46039f\"],[0.2222222222222222,\"#7201a8\"],[0.3333333333333333,\"#9c179e\"],[0.4444444444444444,\"#bd3786\"],[0.5555555555555556,\"#d8576b\"],[0.6666666666666666,\"#ed7953\"],[0.7777777777777778,\"#fb9f3a\"],[0.8888888888888888,\"#fdca26\"],[1.0,\"#f0f921\"]],\"type\":\"contour\"}],\"contourcarpet\":[{\"colorbar\":{\"outlinewidth\":0,\"ticks\":\"\"},\"type\":\"contourcarpet\"}],\"heatmap\":[{\"colorbar\":{\"outlinewidth\":0,\"ticks\":\"\"},\"colorscale\":[[0.0,\"#0d0887\"],[0.1111111111111111,\"#46039f\"],[0.2222222222222222,\"#7201a8\"],[0.3333333333333333,\"#9c179e\"],[0.4444444444444444,\"#bd3786\"],[0.5555555555555556,\"#d8576b\"],[0.6666666666666666,\"#ed7953\"],[0.7777777777777778,\"#fb9f3a\"],[0.8888888888888888,\"#fdca26\"],[1.0,\"#f0f921\"]],\"type\":\"heatmap\"}],\"heatmapgl\":[{\"colorbar\":{\"outlinewidth\":0,\"ticks\":\"\"},\"colorscale\":[[0.0,\"#0d0887\"],[0.1111111111111111,\"#46039f\"],[0.2222222222222222,\"#7201a8\"],[0.3333333333333333,\"#9c179e\"],[0.4444444444444444,\"#bd3786\"],[0.5555555555555556,\"#d8576b\"],[0.6666666666666666,\"#ed7953\"],[0.7777777777777778,\"#fb9f3a\"],[0.8888888888888888,\"#fdca26\"],[1.0,\"#f0f921\"]],\"type\":\"heatmapgl\"}],\"histogram\":[{\"marker\":{\"pattern\":{\"fillmode\":\"overlay\",\"size\":10,\"solidity\":0.2}},\"type\":\"histogram\"}],\"histogram2d\":[{\"colorbar\":{\"outlinewidth\":0,\"ticks\":\"\"},\"colorscale\":[[0.0,\"#0d0887\"],[0.1111111111111111,\"#46039f\"],[0.2222222222222222,\"#7201a8\"],[0.3333333333333333,\"#9c179e\"],[0.4444444444444444,\"#bd3786\"],[0.5555555555555556,\"#d8576b\"],[0.6666666666666666,\"#ed7953\"],[0.7777777777777778,\"#fb9f3a\"],[0.8888888888888888,\"#fdca26\"],[1.0,\"#f0f921\"]],\"type\":\"histogram2d\"}],\"histogram2dcontour\":[{\"colorbar\":{\"outlinewidth\":0,\"ticks\":\"\"},\"colorscale\":[[0.0,\"#0d0887\"],[0.1111111111111111,\"#46039f\"],[0.2222222222222222,\"#7201a8\"],[0.3333333333333333,\"#9c179e\"],[0.4444444444444444,\"#bd3786\"],[0.5555555555555556,\"#d8576b\"],[0.6666666666666666,\"#ed7953\"],[0.7777777777777778,\"#fb9f3a\"],[0.8888888888888888,\"#fdca26\"],[1.0,\"#f0f921\"]],\"type\":\"histogram2dcontour\"}],\"mesh3d\":[{\"colorbar\":{\"outlinewidth\":0,\"ticks\":\"\"},\"type\":\"mesh3d\"}],\"parcoords\":[{\"line\":{\"colorbar\":{\"outlinewidth\":0,\"ticks\":\"\"}},\"type\":\"parcoords\"}],\"pie\":[{\"automargin\":true,\"type\":\"pie\"}],\"scatter\":[{\"marker\":{\"colorbar\":{\"outlinewidth\":0,\"ticks\":\"\"}},\"type\":\"scatter\"}],\"scatter3d\":[{\"line\":{\"colorbar\":{\"outlinewidth\":0,\"ticks\":\"\"}},\"marker\":{\"colorbar\":{\"outlinewidth\":0,\"ticks\":\"\"}},\"type\":\"scatter3d\"}],\"scattercarpet\":[{\"marker\":{\"colorbar\":{\"outlinewidth\":0,\"ticks\":\"\"}},\"type\":\"scattercarpet\"}],\"scattergeo\":[{\"marker\":{\"colorbar\":{\"outlinewidth\":0,\"ticks\":\"\"}},\"type\":\"scattergeo\"}],\"scattergl\":[{\"marker\":{\"colorbar\":{\"outlinewidth\":0,\"ticks\":\"\"}},\"type\":\"scattergl\"}],\"scattermapbox\":[{\"marker\":{\"colorbar\":{\"outlinewidth\":0,\"ticks\":\"\"}},\"type\":\"scattermapbox\"}],\"scatterpolar\":[{\"marker\":{\"colorbar\":{\"outlinewidth\":0,\"ticks\":\"\"}},\"type\":\"scatterpolar\"}],\"scatterpolargl\":[{\"marker\":{\"colorbar\":{\"outlinewidth\":0,\"ticks\":\"\"}},\"type\":\"scatterpolargl\"}],\"scatterternary\":[{\"marker\":{\"colorbar\":{\"outlinewidth\":0,\"ticks\":\"\"}},\"type\":\"scatterternary\"}],\"surface\":[{\"colorbar\":{\"outlinewidth\":0,\"ticks\":\"\"},\"colorscale\":[[0.0,\"#0d0887\"],[0.1111111111111111,\"#46039f\"],[0.2222222222222222,\"#7201a8\"],[0.3333333333333333,\"#9c179e\"],[0.4444444444444444,\"#bd3786\"],[0.5555555555555556,\"#d8576b\"],[0.6666666666666666,\"#ed7953\"],[0.7777777777777778,\"#fb9f3a\"],[0.8888888888888888,\"#fdca26\"],[1.0,\"#f0f921\"]],\"type\":\"surface\"}],\"table\":[{\"cells\":{\"fill\":{\"color\":\"#EBF0F8\"},\"line\":{\"color\":\"white\"}},\"header\":{\"fill\":{\"color\":\"#C8D4E3\"},\"line\":{\"color\":\"white\"}},\"type\":\"table\"}]},\"layout\":{\"annotationdefaults\":{\"arrowcolor\":\"#2a3f5f\",\"arrowhead\":0,\"arrowwidth\":1},\"autotypenumbers\":\"strict\",\"coloraxis\":{\"colorbar\":{\"outlinewidth\":0,\"ticks\":\"\"}},\"colorscale\":{\"diverging\":[[0,\"#8e0152\"],[0.1,\"#c51b7d\"],[0.2,\"#de77ae\"],[0.3,\"#f1b6da\"],[0.4,\"#fde0ef\"],[0.5,\"#f7f7f7\"],[0.6,\"#e6f5d0\"],[0.7,\"#b8e186\"],[0.8,\"#7fbc41\"],[0.9,\"#4d9221\"],[1,\"#276419\"]],\"sequential\":[[0.0,\"#0d0887\"],[0.1111111111111111,\"#46039f\"],[0.2222222222222222,\"#7201a8\"],[0.3333333333333333,\"#9c179e\"],[0.4444444444444444,\"#bd3786\"],[0.5555555555555556,\"#d8576b\"],[0.6666666666666666,\"#ed7953\"],[0.7777777777777778,\"#fb9f3a\"],[0.8888888888888888,\"#fdca26\"],[1.0,\"#f0f921\"]],\"sequentialminus\":[[0.0,\"#0d0887\"],[0.1111111111111111,\"#46039f\"],[0.2222222222222222,\"#7201a8\"],[0.3333333333333333,\"#9c179e\"],[0.4444444444444444,\"#bd3786\"],[0.5555555555555556,\"#d8576b\"],[0.6666666666666666,\"#ed7953\"],[0.7777777777777778,\"#fb9f3a\"],[0.8888888888888888,\"#fdca26\"],[1.0,\"#f0f921\"]]},\"colorway\":[\"#636efa\",\"#EF553B\",\"#00cc96\",\"#ab63fa\",\"#FFA15A\",\"#19d3f3\",\"#FF6692\",\"#B6E880\",\"#FF97FF\",\"#FECB52\"],\"font\":{\"color\":\"#2a3f5f\"},\"geo\":{\"bgcolor\":\"white\",\"lakecolor\":\"white\",\"landcolor\":\"#E5ECF6\",\"showlakes\":true,\"showland\":true,\"subunitcolor\":\"white\"},\"hoverlabel\":{\"align\":\"left\"},\"hovermode\":\"closest\",\"mapbox\":{\"style\":\"light\"},\"paper_bgcolor\":\"white\",\"plot_bgcolor\":\"#E5ECF6\",\"polar\":{\"angularaxis\":{\"gridcolor\":\"white\",\"linecolor\":\"white\",\"ticks\":\"\"},\"bgcolor\":\"#E5ECF6\",\"radialaxis\":{\"gridcolor\":\"white\",\"linecolor\":\"white\",\"ticks\":\"\"}},\"scene\":{\"xaxis\":{\"backgroundcolor\":\"#E5ECF6\",\"gridcolor\":\"white\",\"gridwidth\":2,\"linecolor\":\"white\",\"showbackground\":true,\"ticks\":\"\",\"zerolinecolor\":\"white\"},\"yaxis\":{\"backgroundcolor\":\"#E5ECF6\",\"gridcolor\":\"white\",\"gridwidth\":2,\"linecolor\":\"white\",\"showbackground\":true,\"ticks\":\"\",\"zerolinecolor\":\"white\"},\"zaxis\":{\"backgroundcolor\":\"#E5ECF6\",\"gridcolor\":\"white\",\"gridwidth\":2,\"linecolor\":\"white\",\"showbackground\":true,\"ticks\":\"\",\"zerolinecolor\":\"white\"}},\"shapedefaults\":{\"line\":{\"color\":\"#2a3f5f\"}},\"ternary\":{\"aaxis\":{\"gridcolor\":\"white\",\"linecolor\":\"white\",\"ticks\":\"\"},\"baxis\":{\"gridcolor\":\"white\",\"linecolor\":\"white\",\"ticks\":\"\"},\"bgcolor\":\"#E5ECF6\",\"caxis\":{\"gridcolor\":\"white\",\"linecolor\":\"white\",\"ticks\":\"\"}},\"title\":{\"x\":0.05},\"xaxis\":{\"automargin\":true,\"gridcolor\":\"white\",\"linecolor\":\"white\",\"ticks\":\"\",\"title\":{\"standoff\":15},\"zerolinecolor\":\"white\",\"zerolinewidth\":2},\"yaxis\":{\"automargin\":true,\"gridcolor\":\"white\",\"linecolor\":\"white\",\"ticks\":\"\",\"title\":{\"standoff\":15},\"zerolinecolor\":\"white\",\"zerolinewidth\":2}}},\"xaxis\":{\"anchor\":\"y\",\"domain\":[0.0,1.0],\"title\":{\"text\":\"Name\"}},\"yaxis\":{\"anchor\":\"x\",\"domain\":[0.0,1.0],\"title\":{\"text\":\"Price\"}},\"legend\":{\"tracegroupgap\":0},\"margin\":{\"t\":60},\"boxmode\":\"group\"},                        {\"responsive\": true}                    ).then(function(){\n",
       "                            \n",
       "var gd = document.getElementById('bb691bbe-228a-430d-b26b-aa5d602e4c3f');\n",
       "var x = new MutationObserver(function (mutations, observer) {{\n",
       "        var display = window.getComputedStyle(gd).display;\n",
       "        if (!display || display === 'none') {{\n",
       "            console.log([gd, 'removed!']);\n",
       "            Plotly.purge(gd);\n",
       "            observer.disconnect();\n",
       "        }}\n",
       "}});\n",
       "\n",
       "// Listen for the removal of the full notebook cells\n",
       "var notebookContainer = gd.closest('#notebook-container');\n",
       "if (notebookContainer) {{\n",
       "    x.observe(notebookContainer, {childList: true});\n",
       "}}\n",
       "\n",
       "// Listen for the clearing of the current output cell\n",
       "var outputEl = gd.closest('.output');\n",
       "if (outputEl) {{\n",
       "    x.observe(outputEl, {childList: true});\n",
       "}}\n",
       "\n",
       "                        })                };                });            </script>        </div>"
      ]
     },
     "metadata": {},
     "output_type": "display_data"
    },
    {
     "data": {
      "application/vnd.plotly.v1+json": {
       "config": {
        "plotlyServerURL": "https://plot.ly"
       },
       "data": [
        {
         "alignmentgroup": "True",
         "hovertemplate": "Mileage=%{x}<br>Price=%{y}<extra></extra>",
         "legendgroup": "",
         "marker": {
          "color": "#636efa"
         },
         "name": "",
         "notched": false,
         "offsetgroup": "",
         "orientation": "v",
         "showlegend": false,
         "type": "box",
         "x": [
          26.709,
          8.603,
          22.711,
          12.762,
          49.624,
          2.93,
          3.576,
          23.726,
          18.834,
          24.971,
          6.703,
          19.502,
          19.878,
          33.39,
          15.705,
          19.012,
          24.137,
          24.321,
          41.883,
          23.963,
          35.796,
          2.979,
          51.197,
          28.868,
          25.395,
          29.794,
          24.573,
          25.1,
          18.269,
          28.03,
          13.855,
          33.256,
          10.049,
          14.072,
          22.447,
          37.516,
          17.77,
          34.819,
          30.494,
          18.237,
          22.741,
          34.395,
          35.887,
          22.419,
          49.238,
          53.042,
          11.621,
          36.668,
          35.344,
          27.963,
          3.171,
          39.664,
          26.877,
          17.504,
          12.211,
          15.785,
          19.531,
          13.506,
          25.956,
          21.13,
          39.082,
          46.611,
          27.832,
          13.566,
          34.874,
          37.544,
          27.33,
          31.201,
          15.708,
          14.739,
          29.078,
          9.952,
          24.038,
          21.971,
          39.687,
          10.285,
          9.165,
          1.8,
          30.05,
          18.707,
          24.312,
          38.707,
          24.545,
          19.791,
          24.663,
          11.855,
          42.747,
          22.002,
          15.739,
          20.1,
          16.362,
          24.575,
          26.709,
          27.47,
          39.062,
          25.746,
          30.236,
          27.18,
          23.2,
          10.646,
          27.93,
          12.383,
          24.348,
          30.689,
          14.435,
          28.885,
          13.195,
          34.966,
          7.353,
          25.787,
          1.034,
          25.41,
          11.899,
          29.491,
          29.89,
          23.949,
          26.593,
          15.29,
          39.091,
          3.213,
          50.08,
          29.783,
          24.337,
          27.08,
          14.748,
          7.307,
          25.11,
          57.985,
          27.402,
          28.078,
          8.817,
          65.809,
          20.805,
          40.194,
          37.462,
          24.927,
          37.62,
          8.885,
          11.907,
          27.533,
          11.909,
          13.582,
          50.768,
          21.165,
          18.786,
          36.135,
          17.87,
          44.44,
          39.251,
          15.622,
          22.287,
          10.65,
          8.556,
          5.712,
          8.083,
          13.962,
          6.94,
          11.763,
          12.02,
          5.515,
          13.271,
          12.877,
          23.839,
          11.934,
          16.459,
          30.807,
          18.08,
          25.399,
          28.723,
          12.027,
          37.546,
          13.884,
          28.637,
          55.198,
          9.47,
          25.404,
          20.677,
          7.401,
          11.007,
          21.852,
          6.061,
          14.385,
          22.335,
          9.816,
          8.53,
          23.65,
          1.856,
          14.961,
          13.005,
          13.635,
          4.725,
          18.114,
          18.11,
          18.031,
          16.432,
          9.039,
          5.903,
          36.414,
          8.14,
          14.609,
          19.298,
          21.49,
          3.54,
          23.899,
          24.803,
          16.732,
          9.667,
          29.149,
          33.237,
          43.989,
          4.697,
          20.386,
          1.749,
          10.354,
          5.697,
          7.287,
          15.949,
          2.979,
          5.485,
          32.215,
          17.116,
          9.013,
          12.654,
          31.3,
          16.195,
          15.163,
          12.37,
          6.773,
          4.184,
          5.803,
          522,
          22.616,
          24.235,
          8.393,
          8.99,
          16.332,
          17.799,
          14.843,
          19.405,
          16.025,
          6.088,
          7.017,
          3.49,
          11.864,
          23.172,
          18.352,
          9.604,
          5.188,
          7.1,
          6.933,
          11.18,
          39.934,
          8.455,
          7.271,
          8.168,
          8.738,
          8.529,
          6.85,
          7.524,
          4.616,
          7.475,
          13.764,
          4.46,
          13.398,
          5.51,
          7.752,
          1.262,
          11.306,
          6.876,
          3.383,
          9.315,
          26.338,
          2.761,
          4.249,
          9.791,
          8.442,
          6.536,
          18.652,
          6.138,
          14.602,
          1.027,
          8.06,
          6.218,
          8.11,
          9.109,
          24.951,
          9.522,
          7.73,
          13.142,
          8.723,
          15.865,
          4.875,
          5.59,
          4.355,
          4.506,
          832,
          1.574,
          31.806,
          1.79,
          11.342,
          19.091,
          2.336,
          31.497,
          1.094,
          42.721,
          15.724,
          18.049,
          45.558,
          16.877,
          7.002,
          9.971,
          22.333,
          14.55,
          10.743,
          16.05,
          28.001,
          23.705,
          15.168,
          4.701,
          20.59,
          20.571,
          13.013,
          10.081,
          10.97,
          14.84,
          11.867,
          31.042,
          19.876,
          10.157,
          14.428,
          13.143,
          9.934,
          4.577,
          38.832,
          5.695,
          25.664,
          9.032,
          8.227,
          11.117,
          18.895,
          18.307,
          14.687,
          5.472,
          11.658,
          16.377,
          8.843,
          2.355,
          17.708,
          37.143,
          25.693,
          6.825,
          10.508,
          10.061,
          9.631,
          12.137,
          5.543,
          18.214,
          4.346,
          2.979,
          28.45,
          6.02,
          8.117,
          4.957,
          17.099,
          4.035,
          8.812,
          1.205,
          20.416,
          11.24,
          6.172,
          16.942,
          8.759,
          4.596,
          7.976,
          5.845,
          327,
          2.517,
          5.282,
          3.155,
          16.893,
          12.229,
          3.437,
          12.203,
          2.417,
          3.292,
          8.173,
          6.397,
          5.616,
          2.927,
          6.396,
          14.448,
          8.489,
          8.396,
          9.836,
          10.734,
          1.541,
          6.003,
          4.764,
          4.855,
          1.172,
          2.616,
          6.599,
          11.728,
          2.203,
          2.573,
          6.367,
          5.069,
          8.758,
          1.329,
          4.947,
          4.341,
          4.519,
          1.916,
          3.979,
          8.38,
          2.145,
          4.651,
          2.363,
          3.332,
          827,
          12.409,
          2.106,
          11.982,
          3.782,
          18.99,
          516,
          1.054,
          7.979,
          16.252,
          20.275,
          2.323,
          16.45,
          20.553,
          5,
          4.028,
          4.939,
          9.709,
          3.124,
          8.251,
          3.213,
          3.213,
          5.576,
          3.628,
          2.239,
          141,
          10.989,
          673,
          1.459,
          1.072,
          2.385,
          2.044,
          159,
          3.186,
          1.8,
          1.888,
          486,
          1.468,
          1.623,
          3.725,
          1.395,
          912,
          1.232,
          1.452,
          435,
          3,
          8.262,
          494,
          166,
          6.681,
          4.172,
          9.767,
          741,
          5.636,
          1.734,
          8.519,
          9.473,
          2.474,
          8.113,
          1.987,
          1.734,
          1.309,
          443,
          581,
          120,
          9.884,
          1.8,
          1.688,
          5.65,
          117,
          203,
          2.455,
          125,
          1.969,
          2.215,
          1.388,
          4.718,
          1.667,
          272,
          3.309,
          758,
          551,
          905,
          3.373,
          478,
          2.076,
          1.653,
          2.629,
          270,
          277,
          200,
          1.073,
          176,
          1.797,
          2.174,
          29,
          44,
          89,
          624,
          958,
          82,
          39.383,
          34.855,
          31.65,
          25.424,
          23.214,
          40.947,
          2.521,
          44.301,
          13.468,
          10.943,
          29.667,
          13.138,
          17.058,
          23.765,
          9.123,
          20.582,
          52.781,
          22.293,
          19.465,
          51.061,
          27.863,
          7.805,
          31,
          14.233,
          9.09,
          15.074,
          30.741,
          58.784,
          4.398,
          35.551,
          43.718,
          10.439,
          19.768,
          56.798,
          14.009,
          26.595,
          80.632,
          14.68,
          55.883,
          9.423,
          9.55,
          1.53,
          21.417,
          16.062,
          15.779,
          21.509,
          18.835,
          34.043,
          24.581,
          15.28,
          11.353,
          13.329,
          9.558,
          20.424,
          9.601,
          8.393,
          16.776,
          20.162,
          7.881,
          7.525,
          15.876,
          20.113,
          34.553,
          11.186,
          14.777,
          10.201,
          3.538,
          30.016,
          13.685,
          7.294,
          21.199,
          4.506,
          6.595,
          10.329,
          29.051,
          9.951,
          10.869,
          22.045,
          25.423,
          3.178,
          8.059,
          9.79,
          10.648,
          11.289,
          8.432,
          13.615,
          14.12,
          3.208,
          14.67,
          14.341,
          22.365,
          4.426,
          2.7,
          4.517,
          1.896,
          8.773,
          8.305,
          9.347,
          6.953,
          607,
          6.634,
          16.078,
          14.631,
          11.116,
          7.214,
          5.557,
          5.935,
          1.173,
          8.117,
          12.2,
          3.528,
          5.652,
          12.659,
          316,
          1.098,
          73,
          3.082,
          189,
          908,
          191,
          1.82,
          1.332,
          942,
          6.198,
          711,
          829,
          201,
          38.369,
          26.521,
          20.915,
          33.031,
          27.065,
          20.326,
          34.202,
          11.723,
          25.898,
          9.256,
          5.875,
          25.455,
          16.426,
          15.823,
          11.071,
          21.34,
          7.565,
          10.73,
          28.159,
          8.168,
          14.062,
          8.958,
          14.434,
          3.758,
          16.939,
          9.891,
          179
         ],
         "x0": " ",
         "xaxis": "x",
         "y": [
          168882,
          135995,
          91991,
          979000,
          79881,
          179000,
          137900,
          102500,
          76898,
          119991,
          83900,
          108980,
          89978,
          79999,
          79991,
          104991,
          122997,
          139480,
          80995,
          89000,
          74995,
          128990,
          79900,
          144900,
          159000,
          149898,
          96998,
          87991,
          82900,
          89900,
          91900,
          76900,
          159000,
          88922,
          149900,
          108800,
          148536,
          127991,
          145000,
          148668,
          93992,
          139900,
          76900,
          148998,
          128000,
          119995,
          124900,
          134900,
          99995,
          125991,
          179898,
          138898,
          109900,
          151900,
          159000,
          95991,
          145900,
          157995,
          84888,
          123000,
          118994,
          117898,
          125998,
          225991,
          128798,
          134998,
          97495,
          106991,
          129994,
          159680,
          147000,
          139950,
          156994,
          105900,
          122898,
          134000,
          118000,
          499900,
          127995,
          143900,
          112991,
          115995,
          124490,
          141991,
          155995,
          138992,
          92900,
          136260,
          139991,
          176888,
          139991,
          158900,
          168882,
          169881,
          105995,
          116780,
          109898,
          112995,
          98995,
          114998,
          120900,
          113993,
          169458,
          92995,
          120900,
          145991,
          104998,
          94981,
          109900,
          168992,
          207900,
          114985,
          109984,
          102900,
          97500,
          112606,
          99800,
          116900,
          105035,
          119990,
          112991,
          171999,
          179888,
          101498,
          116089,
          118799,
          119000,
          117991,
          126723,
          144752,
          96000,
          92888,
          120993,
          109795,
          104998,
          95900,
          113000,
          119984,
          129997,
          89988,
          129465,
          100998,
          119898,
          116415,
          98990,
          149990,
          119985,
          104998,
          87898,
          176998,
          109900,
          197888,
          247275,
          199900,
          193482,
          143998,
          239881,
          212991,
          194888,
          209900,
          229898,
          199990,
          134998,
          124950,
          179990,
          174890,
          116997,
          113994,
          128143,
          129693,
          174900,
          131998,
          144991,
          135960,
          164991,
          169899,
          146994,
          219399,
          214900,
          119900,
          187900,
          149998,
          133500,
          201888,
          234999,
          128500,
          223995,
          123380,
          199947,
          139900,
          152900,
          118980,
          99790,
          188900,
          194445,
          206309,
          214900,
          138798,
          249000,
          164900,
          155898,
          98994,
          154700,
          98981,
          134994,
          130995,
          128776,
          98995,
          168900,
          122821,
          107995,
          114900,
          218897,
          165995,
          129900,
          234898,
          133327,
          199998,
          219000,
          107299,
          99898,
          215000,
          124993,
          107988,
          109881,
          241991,
          109881,
          189766,
          269900,
          189980,
          385000,
          107812,
          139900,
          264991,
          176879,
          103900,
          124995,
          147900,
          149900,
          155995,
          170991,
          189900,
          153274,
          195759,
          167728,
          129981,
          173998,
          203900,
          142994,
          138283,
          117900,
          107991,
          151900,
          194899,
          199399,
          359995,
          199850,
          139880,
          239900,
          225911,
          154881,
          143981,
          269900,
          139392,
          155995,
          134991,
          245991,
          132991,
          119985,
          144898,
          157981,
          137992,
          202665,
          172790,
          163990,
          158100,
          229995,
          138892,
          139995,
          168900,
          429991,
          148115,
          385888,
          102500,
          145000,
          139898,
          128900,
          245820,
          136998,
          209989,
          194998,
          146977,
          139999,
          189995,
          181900,
          419950,
          289888,
          179985,
          425000,
          155000,
          119998,
          191994,
          128792,
          389898,
          99900,
          132898,
          134881,
          94990,
          134999,
          204898,
          256550,
          142995,
          152881,
          149000,
          133992,
          137900,
          130991,
          137994,
          149000,
          169992,
          131898,
          148992,
          164900,
          164900,
          134981,
          154881,
          134998,
          137995,
          146991,
          121898,
          121998,
          147298,
          154990,
          129995,
          160034,
          119990,
          157775,
          157998,
          122981,
          153985,
          140656,
          164900,
          177000,
          149900,
          161995,
          165105,
          146650,
          136994,
          112867,
          158989,
          149985,
          145899,
          149998,
          159909,
          152999,
          156500,
          147995,
          143981,
          128990,
          149900,
          158477,
          145900,
          157220,
          146900,
          162226,
          139992,
          162900,
          133991,
          155990,
          129911,
          159995,
          156500,
          158995,
          139000,
          279000,
          282500,
          268269,
          263980,
          268998,
          271947,
          260992,
          289905,
          287900,
          274995,
          284496,
          219500,
          149992,
          279900,
          269990,
          158370,
          238597,
          159992,
          135000,
          146990,
          130400,
          212148,
          169992,
          144761,
          169988,
          235550,
          137790,
          279990,
          264900,
          289995,
          169995,
          141992,
          164999,
          152340,
          303798,
          222996,
          257500,
          139912,
          168991,
          163995,
          146988,
          167990,
          163992,
          291972,
          168992,
          208888,
          128881,
          239992,
          125999,
          274992,
          151900,
          259990,
          169995,
          161898,
          156900,
          143950,
          162912,
          142998,
          139950,
          153888,
          134911,
          154999,
          139995,
          147995,
          279888,
          279900,
          279900,
          205900,
          260000,
          288149,
          226887,
          266308,
          184898,
          279900,
          189995,
          184898,
          289888,
          277198,
          139995,
          158999,
          138995,
          329988,
          294900,
          329992,
          139988,
          307717,
          249995,
          299981,
          269901,
          193999,
          299992,
          289992,
          299999,
          215932,
          188990,
          219898,
          269900,
          209900,
          288500,
          179991,
          182995,
          169998,
          194998,
          159919,
          283721,
          204995,
          296498,
          299992,
          188800,
          264990,
          134990,
          279496,
          146887,
          229988,
          199990,
          171998,
          294888,
          199900,
          290000,
          161900,
          288715,
          143400,
          309999,
          199976,
          143500,
          279900,
          142305,
          278500,
          173981,
          195997,
          173591,
          286494,
          286671,
          225900,
          219897,
          169999,
          180992,
          339998,
          174881,
          170495,
          219897,
          154992,
          350000,
          219898,
          199595,
          329898,
          69991,
          94900,
          69900,
          88900,
          120000,
          86981,
          169777,
          80990,
          153788,
          85995,
          124849,
          124226,
          149357,
          117999,
          165620,
          152900,
          89900,
          136900,
          159788,
          119900,
          89900,
          87888,
          127791,
          137000,
          155000,
          179911,
          103995,
          95900,
          118995,
          89900,
          127898,
          189000,
          99998,
          98998,
          181122,
          106900,
          117499,
          135144,
          94988,
          180999,
          199991,
          249900,
          89998,
          109995,
          139788,
          186990,
          188790,
          132900,
          151732,
          137695,
          174900,
          165990,
          148788,
          189460,
          191900,
          214900,
          98899,
          156955,
          139996,
          184998,
          116888,
          194999,
          120424,
          203995,
          252900,
          265000,
          150782,
          164900,
          132981,
          173900,
          102222,
          389900,
          169900,
          132991,
          136211,
          148888,
          182955,
          102900,
          140744,
          163312,
          155900,
          149900,
          179998,
          151900,
          144900,
          156900,
          130991,
          155783,
          127990,
          127900,
          118990,
          160900,
          264911,
          136911,
          279900,
          249991,
          146788,
          151429,
          157788,
          292998,
          259899,
          149900,
          140499,
          158489,
          129600,
          264900,
          257999,
          279000,
          250000,
          249988,
          229880,
          139788,
          159888,
          269000,
          285911,
          134999,
          151000,
          299900,
          242991,
          279981,
          284900,
          255990,
          139900,
          295568,
          202500,
          289900,
          279900,
          74900,
          89900,
          138791,
          127900,
          95991,
          126981,
          143887,
          164781,
          94911,
          105980,
          124900,
          105719,
          124981,
          114994,
          119198,
          103900,
          141685,
          187900,
          116900,
          141865,
          205911,
          195987,
          149900,
          207952,
          143620,
          132896,
          239911
         ],
         "y0": " ",
         "yaxis": "y"
        }
       ],
       "layout": {
        "boxmode": "group",
        "legend": {
         "tracegroupgap": 0
        },
        "margin": {
         "t": 60
        },
        "template": {
         "data": {
          "bar": [
           {
            "error_x": {
             "color": "#2a3f5f"
            },
            "error_y": {
             "color": "#2a3f5f"
            },
            "marker": {
             "line": {
              "color": "#E5ECF6",
              "width": 0.5
             },
             "pattern": {
              "fillmode": "overlay",
              "size": 10,
              "solidity": 0.2
             }
            },
            "type": "bar"
           }
          ],
          "barpolar": [
           {
            "marker": {
             "line": {
              "color": "#E5ECF6",
              "width": 0.5
             },
             "pattern": {
              "fillmode": "overlay",
              "size": 10,
              "solidity": 0.2
             }
            },
            "type": "barpolar"
           }
          ],
          "carpet": [
           {
            "aaxis": {
             "endlinecolor": "#2a3f5f",
             "gridcolor": "white",
             "linecolor": "white",
             "minorgridcolor": "white",
             "startlinecolor": "#2a3f5f"
            },
            "baxis": {
             "endlinecolor": "#2a3f5f",
             "gridcolor": "white",
             "linecolor": "white",
             "minorgridcolor": "white",
             "startlinecolor": "#2a3f5f"
            },
            "type": "carpet"
           }
          ],
          "choropleth": [
           {
            "colorbar": {
             "outlinewidth": 0,
             "ticks": ""
            },
            "type": "choropleth"
           }
          ],
          "contour": [
           {
            "colorbar": {
             "outlinewidth": 0,
             "ticks": ""
            },
            "colorscale": [
             [
              0,
              "#0d0887"
             ],
             [
              0.1111111111111111,
              "#46039f"
             ],
             [
              0.2222222222222222,
              "#7201a8"
             ],
             [
              0.3333333333333333,
              "#9c179e"
             ],
             [
              0.4444444444444444,
              "#bd3786"
             ],
             [
              0.5555555555555556,
              "#d8576b"
             ],
             [
              0.6666666666666666,
              "#ed7953"
             ],
             [
              0.7777777777777778,
              "#fb9f3a"
             ],
             [
              0.8888888888888888,
              "#fdca26"
             ],
             [
              1,
              "#f0f921"
             ]
            ],
            "type": "contour"
           }
          ],
          "contourcarpet": [
           {
            "colorbar": {
             "outlinewidth": 0,
             "ticks": ""
            },
            "type": "contourcarpet"
           }
          ],
          "heatmap": [
           {
            "colorbar": {
             "outlinewidth": 0,
             "ticks": ""
            },
            "colorscale": [
             [
              0,
              "#0d0887"
             ],
             [
              0.1111111111111111,
              "#46039f"
             ],
             [
              0.2222222222222222,
              "#7201a8"
             ],
             [
              0.3333333333333333,
              "#9c179e"
             ],
             [
              0.4444444444444444,
              "#bd3786"
             ],
             [
              0.5555555555555556,
              "#d8576b"
             ],
             [
              0.6666666666666666,
              "#ed7953"
             ],
             [
              0.7777777777777778,
              "#fb9f3a"
             ],
             [
              0.8888888888888888,
              "#fdca26"
             ],
             [
              1,
              "#f0f921"
             ]
            ],
            "type": "heatmap"
           }
          ],
          "heatmapgl": [
           {
            "colorbar": {
             "outlinewidth": 0,
             "ticks": ""
            },
            "colorscale": [
             [
              0,
              "#0d0887"
             ],
             [
              0.1111111111111111,
              "#46039f"
             ],
             [
              0.2222222222222222,
              "#7201a8"
             ],
             [
              0.3333333333333333,
              "#9c179e"
             ],
             [
              0.4444444444444444,
              "#bd3786"
             ],
             [
              0.5555555555555556,
              "#d8576b"
             ],
             [
              0.6666666666666666,
              "#ed7953"
             ],
             [
              0.7777777777777778,
              "#fb9f3a"
             ],
             [
              0.8888888888888888,
              "#fdca26"
             ],
             [
              1,
              "#f0f921"
             ]
            ],
            "type": "heatmapgl"
           }
          ],
          "histogram": [
           {
            "marker": {
             "pattern": {
              "fillmode": "overlay",
              "size": 10,
              "solidity": 0.2
             }
            },
            "type": "histogram"
           }
          ],
          "histogram2d": [
           {
            "colorbar": {
             "outlinewidth": 0,
             "ticks": ""
            },
            "colorscale": [
             [
              0,
              "#0d0887"
             ],
             [
              0.1111111111111111,
              "#46039f"
             ],
             [
              0.2222222222222222,
              "#7201a8"
             ],
             [
              0.3333333333333333,
              "#9c179e"
             ],
             [
              0.4444444444444444,
              "#bd3786"
             ],
             [
              0.5555555555555556,
              "#d8576b"
             ],
             [
              0.6666666666666666,
              "#ed7953"
             ],
             [
              0.7777777777777778,
              "#fb9f3a"
             ],
             [
              0.8888888888888888,
              "#fdca26"
             ],
             [
              1,
              "#f0f921"
             ]
            ],
            "type": "histogram2d"
           }
          ],
          "histogram2dcontour": [
           {
            "colorbar": {
             "outlinewidth": 0,
             "ticks": ""
            },
            "colorscale": [
             [
              0,
              "#0d0887"
             ],
             [
              0.1111111111111111,
              "#46039f"
             ],
             [
              0.2222222222222222,
              "#7201a8"
             ],
             [
              0.3333333333333333,
              "#9c179e"
             ],
             [
              0.4444444444444444,
              "#bd3786"
             ],
             [
              0.5555555555555556,
              "#d8576b"
             ],
             [
              0.6666666666666666,
              "#ed7953"
             ],
             [
              0.7777777777777778,
              "#fb9f3a"
             ],
             [
              0.8888888888888888,
              "#fdca26"
             ],
             [
              1,
              "#f0f921"
             ]
            ],
            "type": "histogram2dcontour"
           }
          ],
          "mesh3d": [
           {
            "colorbar": {
             "outlinewidth": 0,
             "ticks": ""
            },
            "type": "mesh3d"
           }
          ],
          "parcoords": [
           {
            "line": {
             "colorbar": {
              "outlinewidth": 0,
              "ticks": ""
             }
            },
            "type": "parcoords"
           }
          ],
          "pie": [
           {
            "automargin": true,
            "type": "pie"
           }
          ],
          "scatter": [
           {
            "marker": {
             "colorbar": {
              "outlinewidth": 0,
              "ticks": ""
             }
            },
            "type": "scatter"
           }
          ],
          "scatter3d": [
           {
            "line": {
             "colorbar": {
              "outlinewidth": 0,
              "ticks": ""
             }
            },
            "marker": {
             "colorbar": {
              "outlinewidth": 0,
              "ticks": ""
             }
            },
            "type": "scatter3d"
           }
          ],
          "scattercarpet": [
           {
            "marker": {
             "colorbar": {
              "outlinewidth": 0,
              "ticks": ""
             }
            },
            "type": "scattercarpet"
           }
          ],
          "scattergeo": [
           {
            "marker": {
             "colorbar": {
              "outlinewidth": 0,
              "ticks": ""
             }
            },
            "type": "scattergeo"
           }
          ],
          "scattergl": [
           {
            "marker": {
             "colorbar": {
              "outlinewidth": 0,
              "ticks": ""
             }
            },
            "type": "scattergl"
           }
          ],
          "scattermapbox": [
           {
            "marker": {
             "colorbar": {
              "outlinewidth": 0,
              "ticks": ""
             }
            },
            "type": "scattermapbox"
           }
          ],
          "scatterpolar": [
           {
            "marker": {
             "colorbar": {
              "outlinewidth": 0,
              "ticks": ""
             }
            },
            "type": "scatterpolar"
           }
          ],
          "scatterpolargl": [
           {
            "marker": {
             "colorbar": {
              "outlinewidth": 0,
              "ticks": ""
             }
            },
            "type": "scatterpolargl"
           }
          ],
          "scatterternary": [
           {
            "marker": {
             "colorbar": {
              "outlinewidth": 0,
              "ticks": ""
             }
            },
            "type": "scatterternary"
           }
          ],
          "surface": [
           {
            "colorbar": {
             "outlinewidth": 0,
             "ticks": ""
            },
            "colorscale": [
             [
              0,
              "#0d0887"
             ],
             [
              0.1111111111111111,
              "#46039f"
             ],
             [
              0.2222222222222222,
              "#7201a8"
             ],
             [
              0.3333333333333333,
              "#9c179e"
             ],
             [
              0.4444444444444444,
              "#bd3786"
             ],
             [
              0.5555555555555556,
              "#d8576b"
             ],
             [
              0.6666666666666666,
              "#ed7953"
             ],
             [
              0.7777777777777778,
              "#fb9f3a"
             ],
             [
              0.8888888888888888,
              "#fdca26"
             ],
             [
              1,
              "#f0f921"
             ]
            ],
            "type": "surface"
           }
          ],
          "table": [
           {
            "cells": {
             "fill": {
              "color": "#EBF0F8"
             },
             "line": {
              "color": "white"
             }
            },
            "header": {
             "fill": {
              "color": "#C8D4E3"
             },
             "line": {
              "color": "white"
             }
            },
            "type": "table"
           }
          ]
         },
         "layout": {
          "annotationdefaults": {
           "arrowcolor": "#2a3f5f",
           "arrowhead": 0,
           "arrowwidth": 1
          },
          "autotypenumbers": "strict",
          "coloraxis": {
           "colorbar": {
            "outlinewidth": 0,
            "ticks": ""
           }
          },
          "colorscale": {
           "diverging": [
            [
             0,
             "#8e0152"
            ],
            [
             0.1,
             "#c51b7d"
            ],
            [
             0.2,
             "#de77ae"
            ],
            [
             0.3,
             "#f1b6da"
            ],
            [
             0.4,
             "#fde0ef"
            ],
            [
             0.5,
             "#f7f7f7"
            ],
            [
             0.6,
             "#e6f5d0"
            ],
            [
             0.7,
             "#b8e186"
            ],
            [
             0.8,
             "#7fbc41"
            ],
            [
             0.9,
             "#4d9221"
            ],
            [
             1,
             "#276419"
            ]
           ],
           "sequential": [
            [
             0,
             "#0d0887"
            ],
            [
             0.1111111111111111,
             "#46039f"
            ],
            [
             0.2222222222222222,
             "#7201a8"
            ],
            [
             0.3333333333333333,
             "#9c179e"
            ],
            [
             0.4444444444444444,
             "#bd3786"
            ],
            [
             0.5555555555555556,
             "#d8576b"
            ],
            [
             0.6666666666666666,
             "#ed7953"
            ],
            [
             0.7777777777777778,
             "#fb9f3a"
            ],
            [
             0.8888888888888888,
             "#fdca26"
            ],
            [
             1,
             "#f0f921"
            ]
           ],
           "sequentialminus": [
            [
             0,
             "#0d0887"
            ],
            [
             0.1111111111111111,
             "#46039f"
            ],
            [
             0.2222222222222222,
             "#7201a8"
            ],
            [
             0.3333333333333333,
             "#9c179e"
            ],
            [
             0.4444444444444444,
             "#bd3786"
            ],
            [
             0.5555555555555556,
             "#d8576b"
            ],
            [
             0.6666666666666666,
             "#ed7953"
            ],
            [
             0.7777777777777778,
             "#fb9f3a"
            ],
            [
             0.8888888888888888,
             "#fdca26"
            ],
            [
             1,
             "#f0f921"
            ]
           ]
          },
          "colorway": [
           "#636efa",
           "#EF553B",
           "#00cc96",
           "#ab63fa",
           "#FFA15A",
           "#19d3f3",
           "#FF6692",
           "#B6E880",
           "#FF97FF",
           "#FECB52"
          ],
          "font": {
           "color": "#2a3f5f"
          },
          "geo": {
           "bgcolor": "white",
           "lakecolor": "white",
           "landcolor": "#E5ECF6",
           "showlakes": true,
           "showland": true,
           "subunitcolor": "white"
          },
          "hoverlabel": {
           "align": "left"
          },
          "hovermode": "closest",
          "mapbox": {
           "style": "light"
          },
          "paper_bgcolor": "white",
          "plot_bgcolor": "#E5ECF6",
          "polar": {
           "angularaxis": {
            "gridcolor": "white",
            "linecolor": "white",
            "ticks": ""
           },
           "bgcolor": "#E5ECF6",
           "radialaxis": {
            "gridcolor": "white",
            "linecolor": "white",
            "ticks": ""
           }
          },
          "scene": {
           "xaxis": {
            "backgroundcolor": "#E5ECF6",
            "gridcolor": "white",
            "gridwidth": 2,
            "linecolor": "white",
            "showbackground": true,
            "ticks": "",
            "zerolinecolor": "white"
           },
           "yaxis": {
            "backgroundcolor": "#E5ECF6",
            "gridcolor": "white",
            "gridwidth": 2,
            "linecolor": "white",
            "showbackground": true,
            "ticks": "",
            "zerolinecolor": "white"
           },
           "zaxis": {
            "backgroundcolor": "#E5ECF6",
            "gridcolor": "white",
            "gridwidth": 2,
            "linecolor": "white",
            "showbackground": true,
            "ticks": "",
            "zerolinecolor": "white"
           }
          },
          "shapedefaults": {
           "line": {
            "color": "#2a3f5f"
           }
          },
          "ternary": {
           "aaxis": {
            "gridcolor": "white",
            "linecolor": "white",
            "ticks": ""
           },
           "baxis": {
            "gridcolor": "white",
            "linecolor": "white",
            "ticks": ""
           },
           "bgcolor": "#E5ECF6",
           "caxis": {
            "gridcolor": "white",
            "linecolor": "white",
            "ticks": ""
           }
          },
          "title": {
           "x": 0.05
          },
          "xaxis": {
           "automargin": true,
           "gridcolor": "white",
           "linecolor": "white",
           "ticks": "",
           "title": {
            "standoff": 15
           },
           "zerolinecolor": "white",
           "zerolinewidth": 2
          },
          "yaxis": {
           "automargin": true,
           "gridcolor": "white",
           "linecolor": "white",
           "ticks": "",
           "title": {
            "standoff": 15
           },
           "zerolinecolor": "white",
           "zerolinewidth": 2
          }
         }
        },
        "xaxis": {
         "anchor": "y",
         "domain": [
          0,
          1
         ],
         "title": {
          "text": "Mileage"
         }
        },
        "yaxis": {
         "anchor": "x",
         "domain": [
          0,
          1
         ],
         "title": {
          "text": "Price"
         }
        }
       }
      },
      "text/html": [
       "<div>                            <div id=\"3ec6b93f-3d37-4ab8-83ea-8d29930ee330\" class=\"plotly-graph-div\" style=\"height:525px; width:100%;\"></div>            <script type=\"text/javascript\">                require([\"plotly\"], function(Plotly) {                    window.PLOTLYENV=window.PLOTLYENV || {};                                    if (document.getElementById(\"3ec6b93f-3d37-4ab8-83ea-8d29930ee330\")) {                    Plotly.newPlot(                        \"3ec6b93f-3d37-4ab8-83ea-8d29930ee330\",                        [{\"alignmentgroup\":\"True\",\"hovertemplate\":\"Mileage=%{x}<br>Price=%{y}<extra></extra>\",\"legendgroup\":\"\",\"marker\":{\"color\":\"#636efa\"},\"name\":\"\",\"notched\":false,\"offsetgroup\":\"\",\"orientation\":\"v\",\"showlegend\":false,\"x\":[26.709,8.603,22.711,12.762,49.624,2.93,3.576,23.726,18.834,24.971,6.703,19.502,19.878,33.39,15.705,19.012,24.137,24.321,41.883,23.963,35.796,2.979,51.197,28.868,25.395,29.794,24.573,25.1,18.269,28.03,13.855,33.256,10.049,14.072,22.447,37.516,17.77,34.819,30.494,18.237,22.741,34.395,35.887,22.419,49.238,53.042,11.621,36.668,35.344,27.963,3.171,39.664,26.877,17.504,12.211,15.785,19.531,13.506,25.956,21.13,39.082,46.611,27.832,13.566,34.874,37.544,27.33,31.201,15.708,14.739,29.078,9.952,24.038,21.971,39.687,10.285,9.165,1.8,30.05,18.707,24.312,38.707,24.545,19.791,24.663,11.855,42.747,22.002,15.739,20.1,16.362,24.575,26.709,27.47,39.062,25.746,30.236,27.18,23.2,10.646,27.93,12.383,24.348,30.689,14.435,28.885,13.195,34.966,7.353,25.787,1.034,25.41,11.899,29.491,29.89,23.949,26.593,15.29,39.091,3.213,50.08,29.783,24.337,27.08,14.748,7.307,25.11,57.985,27.402,28.078,8.817,65.809,20.805,40.194,37.462,24.927,37.62,8.885,11.907,27.533,11.909,13.582,50.768,21.165,18.786,36.135,17.87,44.44,39.251,15.622,22.287,10.65,8.556,5.712,8.083,13.962,6.94,11.763,12.02,5.515,13.271,12.877,23.839,11.934,16.459,30.807,18.08,25.399,28.723,12.027,37.546,13.884,28.637,55.198,9.47,25.404,20.677,7.401,11.007,21.852,6.061,14.385,22.335,9.816,8.53,23.65,1.856,14.961,13.005,13.635,4.725,18.114,18.11,18.031,16.432,9.039,5.903,36.414,8.14,14.609,19.298,21.49,3.54,23.899,24.803,16.732,9.667,29.149,33.237,43.989,4.697,20.386,1.749,10.354,5.697,7.287,15.949,2.979,5.485,32.215,17.116,9.013,12.654,31.3,16.195,15.163,12.37,6.773,4.184,5.803,522.0,22.616,24.235,8.393,8.99,16.332,17.799,14.843,19.405,16.025,6.088,7.017,3.49,11.864,23.172,18.352,9.604,5.188,7.1,6.933,11.18,39.934,8.455,7.271,8.168,8.738,8.529,6.85,7.524,4.616,7.475,13.764,4.46,13.398,5.51,7.752,1.262,11.306,6.876,3.383,9.315,26.338,2.761,4.249,9.791,8.442,6.536,18.652,6.138,14.602,1.027,8.06,6.218,8.11,9.109,24.951,9.522,7.73,13.142,8.723,15.865,4.875,5.59,4.355,4.506,832.0,1.574,31.806,1.79,11.342,19.091,2.336,31.497,1.094,42.721,15.724,18.049,45.558,16.877,7.002,9.971,22.333,14.55,10.743,16.05,28.001,23.705,15.168,4.701,20.59,20.571,13.013,10.081,10.97,14.84,11.867,31.042,19.876,10.157,14.428,13.143,9.934,4.577,38.832,5.695,25.664,9.032,8.227,11.117,18.895,18.307,14.687,5.472,11.658,16.377,8.843,2.355,17.708,37.143,25.693,6.825,10.508,10.061,9.631,12.137,5.543,18.214,4.346,2.979,28.45,6.02,8.117,4.957,17.099,4.035,8.812,1.205,20.416,11.24,6.172,16.942,8.759,4.596,7.976,5.845,327.0,2.517,5.282,3.155,16.893,12.229,3.437,12.203,2.417,3.292,8.173,6.397,5.616,2.927,6.396,14.448,8.489,8.396,9.836,10.734,1.541,6.003,4.764,4.855,1.172,2.616,6.599,11.728,2.203,2.573,6.367,5.069,8.758,1.329,4.947,4.341,4.519,1.916,3.979,8.38,2.145,4.651,2.363,3.332,827.0,12.409,2.106,11.982,3.782,18.99,516.0,1.054,7.979,16.252,20.275,2.323,16.45,20.553,5.0,4.028,4.939,9.709,3.124,8.251,3.213,3.213,5.576,3.628,2.239,141.0,10.989,673.0,1.459,1.072,2.385,2.044,159.0,3.186,1.8,1.888,486.0,1.468,1.623,3.725,1.395,912.0,1.232,1.452,435.0,3.0,8.262,494.0,166.0,6.681,4.172,9.767,741.0,5.636,1.734,8.519,9.473,2.474,8.113,1.987,1.734,1.309,443.0,581.0,120.0,9.884,1.8,1.688,5.65,117.0,203.0,2.455,125.0,1.969,2.215,1.388,4.718,1.667,272.0,3.309,758.0,551.0,905.0,3.373,478.0,2.076,1.653,2.629,270.0,277.0,200.0,1.073,176.0,1.797,2.174,29.0,44.0,89.0,624.0,958.0,82.0,39.383,34.855,31.65,25.424,23.214,40.947,2.521,44.301,13.468,10.943,29.667,13.138,17.058,23.765,9.123,20.582,52.781,22.293,19.465,51.061,27.863,7.805,31.0,14.233,9.09,15.074,30.741,58.784,4.398,35.551,43.718,10.439,19.768,56.798,14.009,26.595,80.632,14.68,55.883,9.423,9.55,1.53,21.417,16.062,15.779,21.509,18.835,34.043,24.581,15.28,11.353,13.329,9.558,20.424,9.601,8.393,16.776,20.162,7.881,7.525,15.876,20.113,34.553,11.186,14.777,10.201,3.538,30.016,13.685,7.294,21.199,4.506,6.595,10.329,29.051,9.951,10.869,22.045,25.423,3.178,8.059,9.79,10.648,11.289,8.432,13.615,14.12,3.208,14.67,14.341,22.365,4.426,2.7,4.517,1.896,8.773,8.305,9.347,6.953,607.0,6.634,16.078,14.631,11.116,7.214,5.557,5.935,1.173,8.117,12.2,3.528,5.652,12.659,316.0,1.098,73.0,3.082,189.0,908.0,191.0,1.82,1.332,942.0,6.198,711.0,829.0,201.0,38.369,26.521,20.915,33.031,27.065,20.326,34.202,11.723,25.898,9.256,5.875,25.455,16.426,15.823,11.071,21.34,7.565,10.73,28.159,8.168,14.062,8.958,14.434,3.758,16.939,9.891,179.0],\"x0\":\" \",\"xaxis\":\"x\",\"y\":[168882,135995,91991,979000,79881,179000,137900,102500,76898,119991,83900,108980,89978,79999,79991,104991,122997,139480,80995,89000,74995,128990,79900,144900,159000,149898,96998,87991,82900,89900,91900,76900,159000,88922,149900,108800,148536,127991,145000,148668,93992,139900,76900,148998,128000,119995,124900,134900,99995,125991,179898,138898,109900,151900,159000,95991,145900,157995,84888,123000,118994,117898,125998,225991,128798,134998,97495,106991,129994,159680,147000,139950,156994,105900,122898,134000,118000,499900,127995,143900,112991,115995,124490,141991,155995,138992,92900,136260,139991,176888,139991,158900,168882,169881,105995,116780,109898,112995,98995,114998,120900,113993,169458,92995,120900,145991,104998,94981,109900,168992,207900,114985,109984,102900,97500,112606,99800,116900,105035,119990,112991,171999,179888,101498,116089,118799,119000,117991,126723,144752,96000,92888,120993,109795,104998,95900,113000,119984,129997,89988,129465,100998,119898,116415,98990,149990,119985,104998,87898,176998,109900,197888,247275,199900,193482,143998,239881,212991,194888,209900,229898,199990,134998,124950,179990,174890,116997,113994,128143,129693,174900,131998,144991,135960,164991,169899,146994,219399,214900,119900,187900,149998,133500,201888,234999,128500,223995,123380,199947,139900,152900,118980,99790,188900,194445,206309,214900,138798,249000,164900,155898,98994,154700,98981,134994,130995,128776,98995,168900,122821,107995,114900,218897,165995,129900,234898,133327,199998,219000,107299,99898,215000,124993,107988,109881,241991,109881,189766,269900,189980,385000,107812,139900,264991,176879,103900,124995,147900,149900,155995,170991,189900,153274,195759,167728,129981,173998,203900,142994,138283,117900,107991,151900,194899,199399,359995,199850,139880,239900,225911,154881,143981,269900,139392,155995,134991,245991,132991,119985,144898,157981,137992,202665,172790,163990,158100,229995,138892,139995,168900,429991,148115,385888,102500,145000,139898,128900,245820,136998,209989,194998,146977,139999,189995,181900,419950,289888,179985,425000,155000,119998,191994,128792,389898,99900,132898,134881,94990,134999,204898,256550,142995,152881,149000,133992,137900,130991,137994,149000,169992,131898,148992,164900,164900,134981,154881,134998,137995,146991,121898,121998,147298,154990,129995,160034,119990,157775,157998,122981,153985,140656,164900,177000,149900,161995,165105,146650,136994,112867,158989,149985,145899,149998,159909,152999,156500,147995,143981,128990,149900,158477,145900,157220,146900,162226,139992,162900,133991,155990,129911,159995,156500,158995,139000,279000,282500,268269,263980,268998,271947,260992,289905,287900,274995,284496,219500,149992,279900,269990,158370,238597,159992,135000,146990,130400,212148,169992,144761,169988,235550,137790,279990,264900,289995,169995,141992,164999,152340,303798,222996,257500,139912,168991,163995,146988,167990,163992,291972,168992,208888,128881,239992,125999,274992,151900,259990,169995,161898,156900,143950,162912,142998,139950,153888,134911,154999,139995,147995,279888,279900,279900,205900,260000,288149,226887,266308,184898,279900,189995,184898,289888,277198,139995,158999,138995,329988,294900,329992,139988,307717,249995,299981,269901,193999,299992,289992,299999,215932,188990,219898,269900,209900,288500,179991,182995,169998,194998,159919,283721,204995,296498,299992,188800,264990,134990,279496,146887,229988,199990,171998,294888,199900,290000,161900,288715,143400,309999,199976,143500,279900,142305,278500,173981,195997,173591,286494,286671,225900,219897,169999,180992,339998,174881,170495,219897,154992,350000,219898,199595,329898,69991,94900,69900,88900,120000,86981,169777,80990,153788,85995,124849,124226,149357,117999,165620,152900,89900,136900,159788,119900,89900,87888,127791,137000,155000,179911,103995,95900,118995,89900,127898,189000,99998,98998,181122,106900,117499,135144,94988,180999,199991,249900,89998,109995,139788,186990,188790,132900,151732,137695,174900,165990,148788,189460,191900,214900,98899,156955,139996,184998,116888,194999,120424,203995,252900,265000,150782,164900,132981,173900,102222,389900,169900,132991,136211,148888,182955,102900,140744,163312,155900,149900,179998,151900,144900,156900,130991,155783,127990,127900,118990,160900,264911,136911,279900,249991,146788,151429,157788,292998,259899,149900,140499,158489,129600,264900,257999,279000,250000,249988,229880,139788,159888,269000,285911,134999,151000,299900,242991,279981,284900,255990,139900,295568,202500,289900,279900,74900,89900,138791,127900,95991,126981,143887,164781,94911,105980,124900,105719,124981,114994,119198,103900,141685,187900,116900,141865,205911,195987,149900,207952,143620,132896,239911],\"y0\":\" \",\"yaxis\":\"y\",\"type\":\"box\"}],                        {\"template\":{\"data\":{\"bar\":[{\"error_x\":{\"color\":\"#2a3f5f\"},\"error_y\":{\"color\":\"#2a3f5f\"},\"marker\":{\"line\":{\"color\":\"#E5ECF6\",\"width\":0.5},\"pattern\":{\"fillmode\":\"overlay\",\"size\":10,\"solidity\":0.2}},\"type\":\"bar\"}],\"barpolar\":[{\"marker\":{\"line\":{\"color\":\"#E5ECF6\",\"width\":0.5},\"pattern\":{\"fillmode\":\"overlay\",\"size\":10,\"solidity\":0.2}},\"type\":\"barpolar\"}],\"carpet\":[{\"aaxis\":{\"endlinecolor\":\"#2a3f5f\",\"gridcolor\":\"white\",\"linecolor\":\"white\",\"minorgridcolor\":\"white\",\"startlinecolor\":\"#2a3f5f\"},\"baxis\":{\"endlinecolor\":\"#2a3f5f\",\"gridcolor\":\"white\",\"linecolor\":\"white\",\"minorgridcolor\":\"white\",\"startlinecolor\":\"#2a3f5f\"},\"type\":\"carpet\"}],\"choropleth\":[{\"colorbar\":{\"outlinewidth\":0,\"ticks\":\"\"},\"type\":\"choropleth\"}],\"contour\":[{\"colorbar\":{\"outlinewidth\":0,\"ticks\":\"\"},\"colorscale\":[[0.0,\"#0d0887\"],[0.1111111111111111,\"#46039f\"],[0.2222222222222222,\"#7201a8\"],[0.3333333333333333,\"#9c179e\"],[0.4444444444444444,\"#bd3786\"],[0.5555555555555556,\"#d8576b\"],[0.6666666666666666,\"#ed7953\"],[0.7777777777777778,\"#fb9f3a\"],[0.8888888888888888,\"#fdca26\"],[1.0,\"#f0f921\"]],\"type\":\"contour\"}],\"contourcarpet\":[{\"colorbar\":{\"outlinewidth\":0,\"ticks\":\"\"},\"type\":\"contourcarpet\"}],\"heatmap\":[{\"colorbar\":{\"outlinewidth\":0,\"ticks\":\"\"},\"colorscale\":[[0.0,\"#0d0887\"],[0.1111111111111111,\"#46039f\"],[0.2222222222222222,\"#7201a8\"],[0.3333333333333333,\"#9c179e\"],[0.4444444444444444,\"#bd3786\"],[0.5555555555555556,\"#d8576b\"],[0.6666666666666666,\"#ed7953\"],[0.7777777777777778,\"#fb9f3a\"],[0.8888888888888888,\"#fdca26\"],[1.0,\"#f0f921\"]],\"type\":\"heatmap\"}],\"heatmapgl\":[{\"colorbar\":{\"outlinewidth\":0,\"ticks\":\"\"},\"colorscale\":[[0.0,\"#0d0887\"],[0.1111111111111111,\"#46039f\"],[0.2222222222222222,\"#7201a8\"],[0.3333333333333333,\"#9c179e\"],[0.4444444444444444,\"#bd3786\"],[0.5555555555555556,\"#d8576b\"],[0.6666666666666666,\"#ed7953\"],[0.7777777777777778,\"#fb9f3a\"],[0.8888888888888888,\"#fdca26\"],[1.0,\"#f0f921\"]],\"type\":\"heatmapgl\"}],\"histogram\":[{\"marker\":{\"pattern\":{\"fillmode\":\"overlay\",\"size\":10,\"solidity\":0.2}},\"type\":\"histogram\"}],\"histogram2d\":[{\"colorbar\":{\"outlinewidth\":0,\"ticks\":\"\"},\"colorscale\":[[0.0,\"#0d0887\"],[0.1111111111111111,\"#46039f\"],[0.2222222222222222,\"#7201a8\"],[0.3333333333333333,\"#9c179e\"],[0.4444444444444444,\"#bd3786\"],[0.5555555555555556,\"#d8576b\"],[0.6666666666666666,\"#ed7953\"],[0.7777777777777778,\"#fb9f3a\"],[0.8888888888888888,\"#fdca26\"],[1.0,\"#f0f921\"]],\"type\":\"histogram2d\"}],\"histogram2dcontour\":[{\"colorbar\":{\"outlinewidth\":0,\"ticks\":\"\"},\"colorscale\":[[0.0,\"#0d0887\"],[0.1111111111111111,\"#46039f\"],[0.2222222222222222,\"#7201a8\"],[0.3333333333333333,\"#9c179e\"],[0.4444444444444444,\"#bd3786\"],[0.5555555555555556,\"#d8576b\"],[0.6666666666666666,\"#ed7953\"],[0.7777777777777778,\"#fb9f3a\"],[0.8888888888888888,\"#fdca26\"],[1.0,\"#f0f921\"]],\"type\":\"histogram2dcontour\"}],\"mesh3d\":[{\"colorbar\":{\"outlinewidth\":0,\"ticks\":\"\"},\"type\":\"mesh3d\"}],\"parcoords\":[{\"line\":{\"colorbar\":{\"outlinewidth\":0,\"ticks\":\"\"}},\"type\":\"parcoords\"}],\"pie\":[{\"automargin\":true,\"type\":\"pie\"}],\"scatter\":[{\"marker\":{\"colorbar\":{\"outlinewidth\":0,\"ticks\":\"\"}},\"type\":\"scatter\"}],\"scatter3d\":[{\"line\":{\"colorbar\":{\"outlinewidth\":0,\"ticks\":\"\"}},\"marker\":{\"colorbar\":{\"outlinewidth\":0,\"ticks\":\"\"}},\"type\":\"scatter3d\"}],\"scattercarpet\":[{\"marker\":{\"colorbar\":{\"outlinewidth\":0,\"ticks\":\"\"}},\"type\":\"scattercarpet\"}],\"scattergeo\":[{\"marker\":{\"colorbar\":{\"outlinewidth\":0,\"ticks\":\"\"}},\"type\":\"scattergeo\"}],\"scattergl\":[{\"marker\":{\"colorbar\":{\"outlinewidth\":0,\"ticks\":\"\"}},\"type\":\"scattergl\"}],\"scattermapbox\":[{\"marker\":{\"colorbar\":{\"outlinewidth\":0,\"ticks\":\"\"}},\"type\":\"scattermapbox\"}],\"scatterpolar\":[{\"marker\":{\"colorbar\":{\"outlinewidth\":0,\"ticks\":\"\"}},\"type\":\"scatterpolar\"}],\"scatterpolargl\":[{\"marker\":{\"colorbar\":{\"outlinewidth\":0,\"ticks\":\"\"}},\"type\":\"scatterpolargl\"}],\"scatterternary\":[{\"marker\":{\"colorbar\":{\"outlinewidth\":0,\"ticks\":\"\"}},\"type\":\"scatterternary\"}],\"surface\":[{\"colorbar\":{\"outlinewidth\":0,\"ticks\":\"\"},\"colorscale\":[[0.0,\"#0d0887\"],[0.1111111111111111,\"#46039f\"],[0.2222222222222222,\"#7201a8\"],[0.3333333333333333,\"#9c179e\"],[0.4444444444444444,\"#bd3786\"],[0.5555555555555556,\"#d8576b\"],[0.6666666666666666,\"#ed7953\"],[0.7777777777777778,\"#fb9f3a\"],[0.8888888888888888,\"#fdca26\"],[1.0,\"#f0f921\"]],\"type\":\"surface\"}],\"table\":[{\"cells\":{\"fill\":{\"color\":\"#EBF0F8\"},\"line\":{\"color\":\"white\"}},\"header\":{\"fill\":{\"color\":\"#C8D4E3\"},\"line\":{\"color\":\"white\"}},\"type\":\"table\"}]},\"layout\":{\"annotationdefaults\":{\"arrowcolor\":\"#2a3f5f\",\"arrowhead\":0,\"arrowwidth\":1},\"autotypenumbers\":\"strict\",\"coloraxis\":{\"colorbar\":{\"outlinewidth\":0,\"ticks\":\"\"}},\"colorscale\":{\"diverging\":[[0,\"#8e0152\"],[0.1,\"#c51b7d\"],[0.2,\"#de77ae\"],[0.3,\"#f1b6da\"],[0.4,\"#fde0ef\"],[0.5,\"#f7f7f7\"],[0.6,\"#e6f5d0\"],[0.7,\"#b8e186\"],[0.8,\"#7fbc41\"],[0.9,\"#4d9221\"],[1,\"#276419\"]],\"sequential\":[[0.0,\"#0d0887\"],[0.1111111111111111,\"#46039f\"],[0.2222222222222222,\"#7201a8\"],[0.3333333333333333,\"#9c179e\"],[0.4444444444444444,\"#bd3786\"],[0.5555555555555556,\"#d8576b\"],[0.6666666666666666,\"#ed7953\"],[0.7777777777777778,\"#fb9f3a\"],[0.8888888888888888,\"#fdca26\"],[1.0,\"#f0f921\"]],\"sequentialminus\":[[0.0,\"#0d0887\"],[0.1111111111111111,\"#46039f\"],[0.2222222222222222,\"#7201a8\"],[0.3333333333333333,\"#9c179e\"],[0.4444444444444444,\"#bd3786\"],[0.5555555555555556,\"#d8576b\"],[0.6666666666666666,\"#ed7953\"],[0.7777777777777778,\"#fb9f3a\"],[0.8888888888888888,\"#fdca26\"],[1.0,\"#f0f921\"]]},\"colorway\":[\"#636efa\",\"#EF553B\",\"#00cc96\",\"#ab63fa\",\"#FFA15A\",\"#19d3f3\",\"#FF6692\",\"#B6E880\",\"#FF97FF\",\"#FECB52\"],\"font\":{\"color\":\"#2a3f5f\"},\"geo\":{\"bgcolor\":\"white\",\"lakecolor\":\"white\",\"landcolor\":\"#E5ECF6\",\"showlakes\":true,\"showland\":true,\"subunitcolor\":\"white\"},\"hoverlabel\":{\"align\":\"left\"},\"hovermode\":\"closest\",\"mapbox\":{\"style\":\"light\"},\"paper_bgcolor\":\"white\",\"plot_bgcolor\":\"#E5ECF6\",\"polar\":{\"angularaxis\":{\"gridcolor\":\"white\",\"linecolor\":\"white\",\"ticks\":\"\"},\"bgcolor\":\"#E5ECF6\",\"radialaxis\":{\"gridcolor\":\"white\",\"linecolor\":\"white\",\"ticks\":\"\"}},\"scene\":{\"xaxis\":{\"backgroundcolor\":\"#E5ECF6\",\"gridcolor\":\"white\",\"gridwidth\":2,\"linecolor\":\"white\",\"showbackground\":true,\"ticks\":\"\",\"zerolinecolor\":\"white\"},\"yaxis\":{\"backgroundcolor\":\"#E5ECF6\",\"gridcolor\":\"white\",\"gridwidth\":2,\"linecolor\":\"white\",\"showbackground\":true,\"ticks\":\"\",\"zerolinecolor\":\"white\"},\"zaxis\":{\"backgroundcolor\":\"#E5ECF6\",\"gridcolor\":\"white\",\"gridwidth\":2,\"linecolor\":\"white\",\"showbackground\":true,\"ticks\":\"\",\"zerolinecolor\":\"white\"}},\"shapedefaults\":{\"line\":{\"color\":\"#2a3f5f\"}},\"ternary\":{\"aaxis\":{\"gridcolor\":\"white\",\"linecolor\":\"white\",\"ticks\":\"\"},\"baxis\":{\"gridcolor\":\"white\",\"linecolor\":\"white\",\"ticks\":\"\"},\"bgcolor\":\"#E5ECF6\",\"caxis\":{\"gridcolor\":\"white\",\"linecolor\":\"white\",\"ticks\":\"\"}},\"title\":{\"x\":0.05},\"xaxis\":{\"automargin\":true,\"gridcolor\":\"white\",\"linecolor\":\"white\",\"ticks\":\"\",\"title\":{\"standoff\":15},\"zerolinecolor\":\"white\",\"zerolinewidth\":2},\"yaxis\":{\"automargin\":true,\"gridcolor\":\"white\",\"linecolor\":\"white\",\"ticks\":\"\",\"title\":{\"standoff\":15},\"zerolinecolor\":\"white\",\"zerolinewidth\":2}}},\"xaxis\":{\"anchor\":\"y\",\"domain\":[0.0,1.0],\"title\":{\"text\":\"Mileage\"}},\"yaxis\":{\"anchor\":\"x\",\"domain\":[0.0,1.0],\"title\":{\"text\":\"Price\"}},\"legend\":{\"tracegroupgap\":0},\"margin\":{\"t\":60},\"boxmode\":\"group\"},                        {\"responsive\": true}                    ).then(function(){\n",
       "                            \n",
       "var gd = document.getElementById('3ec6b93f-3d37-4ab8-83ea-8d29930ee330');\n",
       "var x = new MutationObserver(function (mutations, observer) {{\n",
       "        var display = window.getComputedStyle(gd).display;\n",
       "        if (!display || display === 'none') {{\n",
       "            console.log([gd, 'removed!']);\n",
       "            Plotly.purge(gd);\n",
       "            observer.disconnect();\n",
       "        }}\n",
       "}});\n",
       "\n",
       "// Listen for the removal of the full notebook cells\n",
       "var notebookContainer = gd.closest('#notebook-container');\n",
       "if (notebookContainer) {{\n",
       "    x.observe(notebookContainer, {childList: true});\n",
       "}}\n",
       "\n",
       "// Listen for the clearing of the current output cell\n",
       "var outputEl = gd.closest('.output');\n",
       "if (outputEl) {{\n",
       "    x.observe(outputEl, {childList: true});\n",
       "}}\n",
       "\n",
       "                        })                };                });            </script>        </div>"
      ]
     },
     "metadata": {},
     "output_type": "display_data"
    },
    {
     "data": {
      "application/vnd.plotly.v1+json": {
       "config": {
        "plotlyServerURL": "https://plot.ly"
       },
       "data": [
        {
         "alignmentgroup": "True",
         "hovertemplate": "Price=%{y}<extra></extra>",
         "legendgroup": "",
         "marker": {
          "color": "#636efa"
         },
         "name": "",
         "notched": false,
         "offsetgroup": "",
         "orientation": "v",
         "showlegend": false,
         "type": "box",
         "x": [
          168882,
          135995,
          91991,
          979000,
          79881,
          179000,
          137900,
          102500,
          76898,
          119991,
          83900,
          108980,
          89978,
          79999,
          79991,
          104991,
          122997,
          139480,
          80995,
          89000,
          74995,
          128990,
          79900,
          144900,
          159000,
          149898,
          96998,
          87991,
          82900,
          89900,
          91900,
          76900,
          159000,
          88922,
          149900,
          108800,
          148536,
          127991,
          145000,
          148668,
          93992,
          139900,
          76900,
          148998,
          128000,
          119995,
          124900,
          134900,
          99995,
          125991,
          179898,
          138898,
          109900,
          151900,
          159000,
          95991,
          145900,
          157995,
          84888,
          123000,
          118994,
          117898,
          125998,
          225991,
          128798,
          134998,
          97495,
          106991,
          129994,
          159680,
          147000,
          139950,
          156994,
          105900,
          122898,
          134000,
          118000,
          499900,
          127995,
          143900,
          112991,
          115995,
          124490,
          141991,
          155995,
          138992,
          92900,
          136260,
          139991,
          176888,
          139991,
          158900,
          168882,
          169881,
          105995,
          116780,
          109898,
          112995,
          98995,
          114998,
          120900,
          113993,
          169458,
          92995,
          120900,
          145991,
          104998,
          94981,
          109900,
          168992,
          207900,
          114985,
          109984,
          102900,
          97500,
          112606,
          99800,
          116900,
          105035,
          119990,
          112991,
          171999,
          179888,
          101498,
          116089,
          118799,
          119000,
          117991,
          126723,
          144752,
          96000,
          92888,
          120993,
          109795,
          104998,
          95900,
          113000,
          119984,
          129997,
          89988,
          129465,
          100998,
          119898,
          116415,
          98990,
          149990,
          119985,
          104998,
          87898,
          176998,
          109900,
          197888,
          247275,
          199900,
          193482,
          143998,
          239881,
          212991,
          194888,
          209900,
          229898,
          199990,
          134998,
          124950,
          179990,
          174890,
          116997,
          113994,
          128143,
          129693,
          174900,
          131998,
          144991,
          135960,
          164991,
          169899,
          146994,
          219399,
          214900,
          119900,
          187900,
          149998,
          133500,
          201888,
          234999,
          128500,
          223995,
          123380,
          199947,
          139900,
          152900,
          118980,
          99790,
          188900,
          194445,
          206309,
          214900,
          138798,
          249000,
          164900,
          155898,
          98994,
          154700,
          98981,
          134994,
          130995,
          128776,
          98995,
          168900,
          122821,
          107995,
          114900,
          218897,
          165995,
          129900,
          234898,
          133327,
          199998,
          219000,
          107299,
          99898,
          215000,
          124993,
          107988,
          109881,
          241991,
          109881,
          189766,
          269900,
          189980,
          385000,
          107812,
          139900,
          264991,
          176879,
          103900,
          124995,
          147900,
          149900,
          155995,
          170991,
          189900,
          153274,
          195759,
          167728,
          129981,
          173998,
          203900,
          142994,
          138283,
          117900,
          107991,
          151900,
          194899,
          199399,
          359995,
          199850,
          139880,
          239900,
          225911,
          154881,
          143981,
          269900,
          139392,
          155995,
          134991,
          245991,
          132991,
          119985,
          144898,
          157981,
          137992,
          202665,
          172790,
          163990,
          158100,
          229995,
          138892,
          139995,
          168900,
          429991,
          148115,
          385888,
          102500,
          145000,
          139898,
          128900,
          245820,
          136998,
          209989,
          194998,
          146977,
          139999,
          189995,
          181900,
          419950,
          289888,
          179985,
          425000,
          155000,
          119998,
          191994,
          128792,
          389898,
          99900,
          132898,
          134881,
          94990,
          134999,
          204898,
          256550,
          142995,
          152881,
          149000,
          133992,
          137900,
          130991,
          137994,
          149000,
          169992,
          131898,
          148992,
          164900,
          164900,
          134981,
          154881,
          134998,
          137995,
          146991,
          121898,
          121998,
          147298,
          154990,
          129995,
          160034,
          119990,
          157775,
          157998,
          122981,
          153985,
          140656,
          164900,
          177000,
          149900,
          161995,
          165105,
          146650,
          136994,
          112867,
          158989,
          149985,
          145899,
          149998,
          159909,
          152999,
          156500,
          147995,
          143981,
          128990,
          149900,
          158477,
          145900,
          157220,
          146900,
          162226,
          139992,
          162900,
          133991,
          155990,
          129911,
          159995,
          156500,
          158995,
          139000,
          279000,
          282500,
          268269,
          263980,
          268998,
          271947,
          260992,
          289905,
          287900,
          274995,
          284496,
          219500,
          149992,
          279900,
          269990,
          158370,
          238597,
          159992,
          135000,
          146990,
          130400,
          212148,
          169992,
          144761,
          169988,
          235550,
          137790,
          279990,
          264900,
          289995,
          169995,
          141992,
          164999,
          152340,
          303798,
          222996,
          257500,
          139912,
          168991,
          163995,
          146988,
          167990,
          163992,
          291972,
          168992,
          208888,
          128881,
          239992,
          125999,
          274992,
          151900,
          259990,
          169995,
          161898,
          156900,
          143950,
          162912,
          142998,
          139950,
          153888,
          134911,
          154999,
          139995,
          147995,
          279888,
          279900,
          279900,
          205900,
          260000,
          288149,
          226887,
          266308,
          184898,
          279900,
          189995,
          184898,
          289888,
          277198,
          139995,
          158999,
          138995,
          329988,
          294900,
          329992,
          139988,
          307717,
          249995,
          299981,
          269901,
          193999,
          299992,
          289992,
          299999,
          215932,
          188990,
          219898,
          269900,
          209900,
          288500,
          179991,
          182995,
          169998,
          194998,
          159919,
          283721,
          204995,
          296498,
          299992,
          188800,
          264990,
          134990,
          279496,
          146887,
          229988,
          199990,
          171998,
          294888,
          199900,
          290000,
          161900,
          288715,
          143400,
          309999,
          199976,
          143500,
          279900,
          142305,
          278500,
          173981,
          195997,
          173591,
          286494,
          286671,
          225900,
          219897,
          169999,
          180992,
          339998,
          174881,
          170495,
          219897,
          154992,
          350000,
          219898,
          199595,
          329898,
          69991,
          94900,
          69900,
          88900,
          120000,
          86981,
          169777,
          80990,
          153788,
          85995,
          124849,
          124226,
          149357,
          117999,
          165620,
          152900,
          89900,
          136900,
          159788,
          119900,
          89900,
          87888,
          127791,
          137000,
          155000,
          179911,
          103995,
          95900,
          118995,
          89900,
          127898,
          189000,
          99998,
          98998,
          181122,
          106900,
          117499,
          135144,
          94988,
          180999,
          199991,
          249900,
          89998,
          109995,
          139788,
          186990,
          188790,
          132900,
          151732,
          137695,
          174900,
          165990,
          148788,
          189460,
          191900,
          214900,
          98899,
          156955,
          139996,
          184998,
          116888,
          194999,
          120424,
          203995,
          252900,
          265000,
          150782,
          164900,
          132981,
          173900,
          102222,
          389900,
          169900,
          132991,
          136211,
          148888,
          182955,
          102900,
          140744,
          163312,
          155900,
          149900,
          179998,
          151900,
          144900,
          156900,
          130991,
          155783,
          127990,
          127900,
          118990,
          160900,
          264911,
          136911,
          279900,
          249991,
          146788,
          151429,
          157788,
          292998,
          259899,
          149900,
          140499,
          158489,
          129600,
          264900,
          257999,
          279000,
          250000,
          249988,
          229880,
          139788,
          159888,
          269000,
          285911,
          134999,
          151000,
          299900,
          242991,
          279981,
          284900,
          255990,
          139900,
          295568,
          202500,
          289900,
          279900,
          74900,
          89900,
          138791,
          127900,
          95991,
          126981,
          143887,
          164781,
          94911,
          105980,
          124900,
          105719,
          124981,
          114994,
          119198,
          103900,
          141685,
          187900,
          116900,
          141865,
          205911,
          195987,
          149900,
          207952,
          143620,
          132896,
          239911
         ],
         "x0": " ",
         "xaxis": "x",
         "y": [
          168882,
          135995,
          91991,
          979000,
          79881,
          179000,
          137900,
          102500,
          76898,
          119991,
          83900,
          108980,
          89978,
          79999,
          79991,
          104991,
          122997,
          139480,
          80995,
          89000,
          74995,
          128990,
          79900,
          144900,
          159000,
          149898,
          96998,
          87991,
          82900,
          89900,
          91900,
          76900,
          159000,
          88922,
          149900,
          108800,
          148536,
          127991,
          145000,
          148668,
          93992,
          139900,
          76900,
          148998,
          128000,
          119995,
          124900,
          134900,
          99995,
          125991,
          179898,
          138898,
          109900,
          151900,
          159000,
          95991,
          145900,
          157995,
          84888,
          123000,
          118994,
          117898,
          125998,
          225991,
          128798,
          134998,
          97495,
          106991,
          129994,
          159680,
          147000,
          139950,
          156994,
          105900,
          122898,
          134000,
          118000,
          499900,
          127995,
          143900,
          112991,
          115995,
          124490,
          141991,
          155995,
          138992,
          92900,
          136260,
          139991,
          176888,
          139991,
          158900,
          168882,
          169881,
          105995,
          116780,
          109898,
          112995,
          98995,
          114998,
          120900,
          113993,
          169458,
          92995,
          120900,
          145991,
          104998,
          94981,
          109900,
          168992,
          207900,
          114985,
          109984,
          102900,
          97500,
          112606,
          99800,
          116900,
          105035,
          119990,
          112991,
          171999,
          179888,
          101498,
          116089,
          118799,
          119000,
          117991,
          126723,
          144752,
          96000,
          92888,
          120993,
          109795,
          104998,
          95900,
          113000,
          119984,
          129997,
          89988,
          129465,
          100998,
          119898,
          116415,
          98990,
          149990,
          119985,
          104998,
          87898,
          176998,
          109900,
          197888,
          247275,
          199900,
          193482,
          143998,
          239881,
          212991,
          194888,
          209900,
          229898,
          199990,
          134998,
          124950,
          179990,
          174890,
          116997,
          113994,
          128143,
          129693,
          174900,
          131998,
          144991,
          135960,
          164991,
          169899,
          146994,
          219399,
          214900,
          119900,
          187900,
          149998,
          133500,
          201888,
          234999,
          128500,
          223995,
          123380,
          199947,
          139900,
          152900,
          118980,
          99790,
          188900,
          194445,
          206309,
          214900,
          138798,
          249000,
          164900,
          155898,
          98994,
          154700,
          98981,
          134994,
          130995,
          128776,
          98995,
          168900,
          122821,
          107995,
          114900,
          218897,
          165995,
          129900,
          234898,
          133327,
          199998,
          219000,
          107299,
          99898,
          215000,
          124993,
          107988,
          109881,
          241991,
          109881,
          189766,
          269900,
          189980,
          385000,
          107812,
          139900,
          264991,
          176879,
          103900,
          124995,
          147900,
          149900,
          155995,
          170991,
          189900,
          153274,
          195759,
          167728,
          129981,
          173998,
          203900,
          142994,
          138283,
          117900,
          107991,
          151900,
          194899,
          199399,
          359995,
          199850,
          139880,
          239900,
          225911,
          154881,
          143981,
          269900,
          139392,
          155995,
          134991,
          245991,
          132991,
          119985,
          144898,
          157981,
          137992,
          202665,
          172790,
          163990,
          158100,
          229995,
          138892,
          139995,
          168900,
          429991,
          148115,
          385888,
          102500,
          145000,
          139898,
          128900,
          245820,
          136998,
          209989,
          194998,
          146977,
          139999,
          189995,
          181900,
          419950,
          289888,
          179985,
          425000,
          155000,
          119998,
          191994,
          128792,
          389898,
          99900,
          132898,
          134881,
          94990,
          134999,
          204898,
          256550,
          142995,
          152881,
          149000,
          133992,
          137900,
          130991,
          137994,
          149000,
          169992,
          131898,
          148992,
          164900,
          164900,
          134981,
          154881,
          134998,
          137995,
          146991,
          121898,
          121998,
          147298,
          154990,
          129995,
          160034,
          119990,
          157775,
          157998,
          122981,
          153985,
          140656,
          164900,
          177000,
          149900,
          161995,
          165105,
          146650,
          136994,
          112867,
          158989,
          149985,
          145899,
          149998,
          159909,
          152999,
          156500,
          147995,
          143981,
          128990,
          149900,
          158477,
          145900,
          157220,
          146900,
          162226,
          139992,
          162900,
          133991,
          155990,
          129911,
          159995,
          156500,
          158995,
          139000,
          279000,
          282500,
          268269,
          263980,
          268998,
          271947,
          260992,
          289905,
          287900,
          274995,
          284496,
          219500,
          149992,
          279900,
          269990,
          158370,
          238597,
          159992,
          135000,
          146990,
          130400,
          212148,
          169992,
          144761,
          169988,
          235550,
          137790,
          279990,
          264900,
          289995,
          169995,
          141992,
          164999,
          152340,
          303798,
          222996,
          257500,
          139912,
          168991,
          163995,
          146988,
          167990,
          163992,
          291972,
          168992,
          208888,
          128881,
          239992,
          125999,
          274992,
          151900,
          259990,
          169995,
          161898,
          156900,
          143950,
          162912,
          142998,
          139950,
          153888,
          134911,
          154999,
          139995,
          147995,
          279888,
          279900,
          279900,
          205900,
          260000,
          288149,
          226887,
          266308,
          184898,
          279900,
          189995,
          184898,
          289888,
          277198,
          139995,
          158999,
          138995,
          329988,
          294900,
          329992,
          139988,
          307717,
          249995,
          299981,
          269901,
          193999,
          299992,
          289992,
          299999,
          215932,
          188990,
          219898,
          269900,
          209900,
          288500,
          179991,
          182995,
          169998,
          194998,
          159919,
          283721,
          204995,
          296498,
          299992,
          188800,
          264990,
          134990,
          279496,
          146887,
          229988,
          199990,
          171998,
          294888,
          199900,
          290000,
          161900,
          288715,
          143400,
          309999,
          199976,
          143500,
          279900,
          142305,
          278500,
          173981,
          195997,
          173591,
          286494,
          286671,
          225900,
          219897,
          169999,
          180992,
          339998,
          174881,
          170495,
          219897,
          154992,
          350000,
          219898,
          199595,
          329898,
          69991,
          94900,
          69900,
          88900,
          120000,
          86981,
          169777,
          80990,
          153788,
          85995,
          124849,
          124226,
          149357,
          117999,
          165620,
          152900,
          89900,
          136900,
          159788,
          119900,
          89900,
          87888,
          127791,
          137000,
          155000,
          179911,
          103995,
          95900,
          118995,
          89900,
          127898,
          189000,
          99998,
          98998,
          181122,
          106900,
          117499,
          135144,
          94988,
          180999,
          199991,
          249900,
          89998,
          109995,
          139788,
          186990,
          188790,
          132900,
          151732,
          137695,
          174900,
          165990,
          148788,
          189460,
          191900,
          214900,
          98899,
          156955,
          139996,
          184998,
          116888,
          194999,
          120424,
          203995,
          252900,
          265000,
          150782,
          164900,
          132981,
          173900,
          102222,
          389900,
          169900,
          132991,
          136211,
          148888,
          182955,
          102900,
          140744,
          163312,
          155900,
          149900,
          179998,
          151900,
          144900,
          156900,
          130991,
          155783,
          127990,
          127900,
          118990,
          160900,
          264911,
          136911,
          279900,
          249991,
          146788,
          151429,
          157788,
          292998,
          259899,
          149900,
          140499,
          158489,
          129600,
          264900,
          257999,
          279000,
          250000,
          249988,
          229880,
          139788,
          159888,
          269000,
          285911,
          134999,
          151000,
          299900,
          242991,
          279981,
          284900,
          255990,
          139900,
          295568,
          202500,
          289900,
          279900,
          74900,
          89900,
          138791,
          127900,
          95991,
          126981,
          143887,
          164781,
          94911,
          105980,
          124900,
          105719,
          124981,
          114994,
          119198,
          103900,
          141685,
          187900,
          116900,
          141865,
          205911,
          195987,
          149900,
          207952,
          143620,
          132896,
          239911
         ],
         "y0": " ",
         "yaxis": "y"
        }
       ],
       "layout": {
        "boxmode": "group",
        "legend": {
         "tracegroupgap": 0
        },
        "margin": {
         "t": 60
        },
        "template": {
         "data": {
          "bar": [
           {
            "error_x": {
             "color": "#2a3f5f"
            },
            "error_y": {
             "color": "#2a3f5f"
            },
            "marker": {
             "line": {
              "color": "#E5ECF6",
              "width": 0.5
             },
             "pattern": {
              "fillmode": "overlay",
              "size": 10,
              "solidity": 0.2
             }
            },
            "type": "bar"
           }
          ],
          "barpolar": [
           {
            "marker": {
             "line": {
              "color": "#E5ECF6",
              "width": 0.5
             },
             "pattern": {
              "fillmode": "overlay",
              "size": 10,
              "solidity": 0.2
             }
            },
            "type": "barpolar"
           }
          ],
          "carpet": [
           {
            "aaxis": {
             "endlinecolor": "#2a3f5f",
             "gridcolor": "white",
             "linecolor": "white",
             "minorgridcolor": "white",
             "startlinecolor": "#2a3f5f"
            },
            "baxis": {
             "endlinecolor": "#2a3f5f",
             "gridcolor": "white",
             "linecolor": "white",
             "minorgridcolor": "white",
             "startlinecolor": "#2a3f5f"
            },
            "type": "carpet"
           }
          ],
          "choropleth": [
           {
            "colorbar": {
             "outlinewidth": 0,
             "ticks": ""
            },
            "type": "choropleth"
           }
          ],
          "contour": [
           {
            "colorbar": {
             "outlinewidth": 0,
             "ticks": ""
            },
            "colorscale": [
             [
              0,
              "#0d0887"
             ],
             [
              0.1111111111111111,
              "#46039f"
             ],
             [
              0.2222222222222222,
              "#7201a8"
             ],
             [
              0.3333333333333333,
              "#9c179e"
             ],
             [
              0.4444444444444444,
              "#bd3786"
             ],
             [
              0.5555555555555556,
              "#d8576b"
             ],
             [
              0.6666666666666666,
              "#ed7953"
             ],
             [
              0.7777777777777778,
              "#fb9f3a"
             ],
             [
              0.8888888888888888,
              "#fdca26"
             ],
             [
              1,
              "#f0f921"
             ]
            ],
            "type": "contour"
           }
          ],
          "contourcarpet": [
           {
            "colorbar": {
             "outlinewidth": 0,
             "ticks": ""
            },
            "type": "contourcarpet"
           }
          ],
          "heatmap": [
           {
            "colorbar": {
             "outlinewidth": 0,
             "ticks": ""
            },
            "colorscale": [
             [
              0,
              "#0d0887"
             ],
             [
              0.1111111111111111,
              "#46039f"
             ],
             [
              0.2222222222222222,
              "#7201a8"
             ],
             [
              0.3333333333333333,
              "#9c179e"
             ],
             [
              0.4444444444444444,
              "#bd3786"
             ],
             [
              0.5555555555555556,
              "#d8576b"
             ],
             [
              0.6666666666666666,
              "#ed7953"
             ],
             [
              0.7777777777777778,
              "#fb9f3a"
             ],
             [
              0.8888888888888888,
              "#fdca26"
             ],
             [
              1,
              "#f0f921"
             ]
            ],
            "type": "heatmap"
           }
          ],
          "heatmapgl": [
           {
            "colorbar": {
             "outlinewidth": 0,
             "ticks": ""
            },
            "colorscale": [
             [
              0,
              "#0d0887"
             ],
             [
              0.1111111111111111,
              "#46039f"
             ],
             [
              0.2222222222222222,
              "#7201a8"
             ],
             [
              0.3333333333333333,
              "#9c179e"
             ],
             [
              0.4444444444444444,
              "#bd3786"
             ],
             [
              0.5555555555555556,
              "#d8576b"
             ],
             [
              0.6666666666666666,
              "#ed7953"
             ],
             [
              0.7777777777777778,
              "#fb9f3a"
             ],
             [
              0.8888888888888888,
              "#fdca26"
             ],
             [
              1,
              "#f0f921"
             ]
            ],
            "type": "heatmapgl"
           }
          ],
          "histogram": [
           {
            "marker": {
             "pattern": {
              "fillmode": "overlay",
              "size": 10,
              "solidity": 0.2
             }
            },
            "type": "histogram"
           }
          ],
          "histogram2d": [
           {
            "colorbar": {
             "outlinewidth": 0,
             "ticks": ""
            },
            "colorscale": [
             [
              0,
              "#0d0887"
             ],
             [
              0.1111111111111111,
              "#46039f"
             ],
             [
              0.2222222222222222,
              "#7201a8"
             ],
             [
              0.3333333333333333,
              "#9c179e"
             ],
             [
              0.4444444444444444,
              "#bd3786"
             ],
             [
              0.5555555555555556,
              "#d8576b"
             ],
             [
              0.6666666666666666,
              "#ed7953"
             ],
             [
              0.7777777777777778,
              "#fb9f3a"
             ],
             [
              0.8888888888888888,
              "#fdca26"
             ],
             [
              1,
              "#f0f921"
             ]
            ],
            "type": "histogram2d"
           }
          ],
          "histogram2dcontour": [
           {
            "colorbar": {
             "outlinewidth": 0,
             "ticks": ""
            },
            "colorscale": [
             [
              0,
              "#0d0887"
             ],
             [
              0.1111111111111111,
              "#46039f"
             ],
             [
              0.2222222222222222,
              "#7201a8"
             ],
             [
              0.3333333333333333,
              "#9c179e"
             ],
             [
              0.4444444444444444,
              "#bd3786"
             ],
             [
              0.5555555555555556,
              "#d8576b"
             ],
             [
              0.6666666666666666,
              "#ed7953"
             ],
             [
              0.7777777777777778,
              "#fb9f3a"
             ],
             [
              0.8888888888888888,
              "#fdca26"
             ],
             [
              1,
              "#f0f921"
             ]
            ],
            "type": "histogram2dcontour"
           }
          ],
          "mesh3d": [
           {
            "colorbar": {
             "outlinewidth": 0,
             "ticks": ""
            },
            "type": "mesh3d"
           }
          ],
          "parcoords": [
           {
            "line": {
             "colorbar": {
              "outlinewidth": 0,
              "ticks": ""
             }
            },
            "type": "parcoords"
           }
          ],
          "pie": [
           {
            "automargin": true,
            "type": "pie"
           }
          ],
          "scatter": [
           {
            "marker": {
             "colorbar": {
              "outlinewidth": 0,
              "ticks": ""
             }
            },
            "type": "scatter"
           }
          ],
          "scatter3d": [
           {
            "line": {
             "colorbar": {
              "outlinewidth": 0,
              "ticks": ""
             }
            },
            "marker": {
             "colorbar": {
              "outlinewidth": 0,
              "ticks": ""
             }
            },
            "type": "scatter3d"
           }
          ],
          "scattercarpet": [
           {
            "marker": {
             "colorbar": {
              "outlinewidth": 0,
              "ticks": ""
             }
            },
            "type": "scattercarpet"
           }
          ],
          "scattergeo": [
           {
            "marker": {
             "colorbar": {
              "outlinewidth": 0,
              "ticks": ""
             }
            },
            "type": "scattergeo"
           }
          ],
          "scattergl": [
           {
            "marker": {
             "colorbar": {
              "outlinewidth": 0,
              "ticks": ""
             }
            },
            "type": "scattergl"
           }
          ],
          "scattermapbox": [
           {
            "marker": {
             "colorbar": {
              "outlinewidth": 0,
              "ticks": ""
             }
            },
            "type": "scattermapbox"
           }
          ],
          "scatterpolar": [
           {
            "marker": {
             "colorbar": {
              "outlinewidth": 0,
              "ticks": ""
             }
            },
            "type": "scatterpolar"
           }
          ],
          "scatterpolargl": [
           {
            "marker": {
             "colorbar": {
              "outlinewidth": 0,
              "ticks": ""
             }
            },
            "type": "scatterpolargl"
           }
          ],
          "scatterternary": [
           {
            "marker": {
             "colorbar": {
              "outlinewidth": 0,
              "ticks": ""
             }
            },
            "type": "scatterternary"
           }
          ],
          "surface": [
           {
            "colorbar": {
             "outlinewidth": 0,
             "ticks": ""
            },
            "colorscale": [
             [
              0,
              "#0d0887"
             ],
             [
              0.1111111111111111,
              "#46039f"
             ],
             [
              0.2222222222222222,
              "#7201a8"
             ],
             [
              0.3333333333333333,
              "#9c179e"
             ],
             [
              0.4444444444444444,
              "#bd3786"
             ],
             [
              0.5555555555555556,
              "#d8576b"
             ],
             [
              0.6666666666666666,
              "#ed7953"
             ],
             [
              0.7777777777777778,
              "#fb9f3a"
             ],
             [
              0.8888888888888888,
              "#fdca26"
             ],
             [
              1,
              "#f0f921"
             ]
            ],
            "type": "surface"
           }
          ],
          "table": [
           {
            "cells": {
             "fill": {
              "color": "#EBF0F8"
             },
             "line": {
              "color": "white"
             }
            },
            "header": {
             "fill": {
              "color": "#C8D4E3"
             },
             "line": {
              "color": "white"
             }
            },
            "type": "table"
           }
          ]
         },
         "layout": {
          "annotationdefaults": {
           "arrowcolor": "#2a3f5f",
           "arrowhead": 0,
           "arrowwidth": 1
          },
          "autotypenumbers": "strict",
          "coloraxis": {
           "colorbar": {
            "outlinewidth": 0,
            "ticks": ""
           }
          },
          "colorscale": {
           "diverging": [
            [
             0,
             "#8e0152"
            ],
            [
             0.1,
             "#c51b7d"
            ],
            [
             0.2,
             "#de77ae"
            ],
            [
             0.3,
             "#f1b6da"
            ],
            [
             0.4,
             "#fde0ef"
            ],
            [
             0.5,
             "#f7f7f7"
            ],
            [
             0.6,
             "#e6f5d0"
            ],
            [
             0.7,
             "#b8e186"
            ],
            [
             0.8,
             "#7fbc41"
            ],
            [
             0.9,
             "#4d9221"
            ],
            [
             1,
             "#276419"
            ]
           ],
           "sequential": [
            [
             0,
             "#0d0887"
            ],
            [
             0.1111111111111111,
             "#46039f"
            ],
            [
             0.2222222222222222,
             "#7201a8"
            ],
            [
             0.3333333333333333,
             "#9c179e"
            ],
            [
             0.4444444444444444,
             "#bd3786"
            ],
            [
             0.5555555555555556,
             "#d8576b"
            ],
            [
             0.6666666666666666,
             "#ed7953"
            ],
            [
             0.7777777777777778,
             "#fb9f3a"
            ],
            [
             0.8888888888888888,
             "#fdca26"
            ],
            [
             1,
             "#f0f921"
            ]
           ],
           "sequentialminus": [
            [
             0,
             "#0d0887"
            ],
            [
             0.1111111111111111,
             "#46039f"
            ],
            [
             0.2222222222222222,
             "#7201a8"
            ],
            [
             0.3333333333333333,
             "#9c179e"
            ],
            [
             0.4444444444444444,
             "#bd3786"
            ],
            [
             0.5555555555555556,
             "#d8576b"
            ],
            [
             0.6666666666666666,
             "#ed7953"
            ],
            [
             0.7777777777777778,
             "#fb9f3a"
            ],
            [
             0.8888888888888888,
             "#fdca26"
            ],
            [
             1,
             "#f0f921"
            ]
           ]
          },
          "colorway": [
           "#636efa",
           "#EF553B",
           "#00cc96",
           "#ab63fa",
           "#FFA15A",
           "#19d3f3",
           "#FF6692",
           "#B6E880",
           "#FF97FF",
           "#FECB52"
          ],
          "font": {
           "color": "#2a3f5f"
          },
          "geo": {
           "bgcolor": "white",
           "lakecolor": "white",
           "landcolor": "#E5ECF6",
           "showlakes": true,
           "showland": true,
           "subunitcolor": "white"
          },
          "hoverlabel": {
           "align": "left"
          },
          "hovermode": "closest",
          "mapbox": {
           "style": "light"
          },
          "paper_bgcolor": "white",
          "plot_bgcolor": "#E5ECF6",
          "polar": {
           "angularaxis": {
            "gridcolor": "white",
            "linecolor": "white",
            "ticks": ""
           },
           "bgcolor": "#E5ECF6",
           "radialaxis": {
            "gridcolor": "white",
            "linecolor": "white",
            "ticks": ""
           }
          },
          "scene": {
           "xaxis": {
            "backgroundcolor": "#E5ECF6",
            "gridcolor": "white",
            "gridwidth": 2,
            "linecolor": "white",
            "showbackground": true,
            "ticks": "",
            "zerolinecolor": "white"
           },
           "yaxis": {
            "backgroundcolor": "#E5ECF6",
            "gridcolor": "white",
            "gridwidth": 2,
            "linecolor": "white",
            "showbackground": true,
            "ticks": "",
            "zerolinecolor": "white"
           },
           "zaxis": {
            "backgroundcolor": "#E5ECF6",
            "gridcolor": "white",
            "gridwidth": 2,
            "linecolor": "white",
            "showbackground": true,
            "ticks": "",
            "zerolinecolor": "white"
           }
          },
          "shapedefaults": {
           "line": {
            "color": "#2a3f5f"
           }
          },
          "ternary": {
           "aaxis": {
            "gridcolor": "white",
            "linecolor": "white",
            "ticks": ""
           },
           "baxis": {
            "gridcolor": "white",
            "linecolor": "white",
            "ticks": ""
           },
           "bgcolor": "#E5ECF6",
           "caxis": {
            "gridcolor": "white",
            "linecolor": "white",
            "ticks": ""
           }
          },
          "title": {
           "x": 0.05
          },
          "xaxis": {
           "automargin": true,
           "gridcolor": "white",
           "linecolor": "white",
           "ticks": "",
           "title": {
            "standoff": 15
           },
           "zerolinecolor": "white",
           "zerolinewidth": 2
          },
          "yaxis": {
           "automargin": true,
           "gridcolor": "white",
           "linecolor": "white",
           "ticks": "",
           "title": {
            "standoff": 15
           },
           "zerolinecolor": "white",
           "zerolinewidth": 2
          }
         }
        },
        "xaxis": {
         "anchor": "y",
         "domain": [
          0,
          1
         ],
         "title": {
          "text": "Price"
         }
        },
        "yaxis": {
         "anchor": "x",
         "domain": [
          0,
          1
         ],
         "title": {
          "text": "Price"
         }
        }
       }
      },
      "text/html": [
       "<div>                            <div id=\"000f84d7-4416-4531-82e5-13dbe9d3d381\" class=\"plotly-graph-div\" style=\"height:525px; width:100%;\"></div>            <script type=\"text/javascript\">                require([\"plotly\"], function(Plotly) {                    window.PLOTLYENV=window.PLOTLYENV || {};                                    if (document.getElementById(\"000f84d7-4416-4531-82e5-13dbe9d3d381\")) {                    Plotly.newPlot(                        \"000f84d7-4416-4531-82e5-13dbe9d3d381\",                        [{\"alignmentgroup\":\"True\",\"hovertemplate\":\"Price=%{y}<extra></extra>\",\"legendgroup\":\"\",\"marker\":{\"color\":\"#636efa\"},\"name\":\"\",\"notched\":false,\"offsetgroup\":\"\",\"orientation\":\"v\",\"showlegend\":false,\"x\":[168882,135995,91991,979000,79881,179000,137900,102500,76898,119991,83900,108980,89978,79999,79991,104991,122997,139480,80995,89000,74995,128990,79900,144900,159000,149898,96998,87991,82900,89900,91900,76900,159000,88922,149900,108800,148536,127991,145000,148668,93992,139900,76900,148998,128000,119995,124900,134900,99995,125991,179898,138898,109900,151900,159000,95991,145900,157995,84888,123000,118994,117898,125998,225991,128798,134998,97495,106991,129994,159680,147000,139950,156994,105900,122898,134000,118000,499900,127995,143900,112991,115995,124490,141991,155995,138992,92900,136260,139991,176888,139991,158900,168882,169881,105995,116780,109898,112995,98995,114998,120900,113993,169458,92995,120900,145991,104998,94981,109900,168992,207900,114985,109984,102900,97500,112606,99800,116900,105035,119990,112991,171999,179888,101498,116089,118799,119000,117991,126723,144752,96000,92888,120993,109795,104998,95900,113000,119984,129997,89988,129465,100998,119898,116415,98990,149990,119985,104998,87898,176998,109900,197888,247275,199900,193482,143998,239881,212991,194888,209900,229898,199990,134998,124950,179990,174890,116997,113994,128143,129693,174900,131998,144991,135960,164991,169899,146994,219399,214900,119900,187900,149998,133500,201888,234999,128500,223995,123380,199947,139900,152900,118980,99790,188900,194445,206309,214900,138798,249000,164900,155898,98994,154700,98981,134994,130995,128776,98995,168900,122821,107995,114900,218897,165995,129900,234898,133327,199998,219000,107299,99898,215000,124993,107988,109881,241991,109881,189766,269900,189980,385000,107812,139900,264991,176879,103900,124995,147900,149900,155995,170991,189900,153274,195759,167728,129981,173998,203900,142994,138283,117900,107991,151900,194899,199399,359995,199850,139880,239900,225911,154881,143981,269900,139392,155995,134991,245991,132991,119985,144898,157981,137992,202665,172790,163990,158100,229995,138892,139995,168900,429991,148115,385888,102500,145000,139898,128900,245820,136998,209989,194998,146977,139999,189995,181900,419950,289888,179985,425000,155000,119998,191994,128792,389898,99900,132898,134881,94990,134999,204898,256550,142995,152881,149000,133992,137900,130991,137994,149000,169992,131898,148992,164900,164900,134981,154881,134998,137995,146991,121898,121998,147298,154990,129995,160034,119990,157775,157998,122981,153985,140656,164900,177000,149900,161995,165105,146650,136994,112867,158989,149985,145899,149998,159909,152999,156500,147995,143981,128990,149900,158477,145900,157220,146900,162226,139992,162900,133991,155990,129911,159995,156500,158995,139000,279000,282500,268269,263980,268998,271947,260992,289905,287900,274995,284496,219500,149992,279900,269990,158370,238597,159992,135000,146990,130400,212148,169992,144761,169988,235550,137790,279990,264900,289995,169995,141992,164999,152340,303798,222996,257500,139912,168991,163995,146988,167990,163992,291972,168992,208888,128881,239992,125999,274992,151900,259990,169995,161898,156900,143950,162912,142998,139950,153888,134911,154999,139995,147995,279888,279900,279900,205900,260000,288149,226887,266308,184898,279900,189995,184898,289888,277198,139995,158999,138995,329988,294900,329992,139988,307717,249995,299981,269901,193999,299992,289992,299999,215932,188990,219898,269900,209900,288500,179991,182995,169998,194998,159919,283721,204995,296498,299992,188800,264990,134990,279496,146887,229988,199990,171998,294888,199900,290000,161900,288715,143400,309999,199976,143500,279900,142305,278500,173981,195997,173591,286494,286671,225900,219897,169999,180992,339998,174881,170495,219897,154992,350000,219898,199595,329898,69991,94900,69900,88900,120000,86981,169777,80990,153788,85995,124849,124226,149357,117999,165620,152900,89900,136900,159788,119900,89900,87888,127791,137000,155000,179911,103995,95900,118995,89900,127898,189000,99998,98998,181122,106900,117499,135144,94988,180999,199991,249900,89998,109995,139788,186990,188790,132900,151732,137695,174900,165990,148788,189460,191900,214900,98899,156955,139996,184998,116888,194999,120424,203995,252900,265000,150782,164900,132981,173900,102222,389900,169900,132991,136211,148888,182955,102900,140744,163312,155900,149900,179998,151900,144900,156900,130991,155783,127990,127900,118990,160900,264911,136911,279900,249991,146788,151429,157788,292998,259899,149900,140499,158489,129600,264900,257999,279000,250000,249988,229880,139788,159888,269000,285911,134999,151000,299900,242991,279981,284900,255990,139900,295568,202500,289900,279900,74900,89900,138791,127900,95991,126981,143887,164781,94911,105980,124900,105719,124981,114994,119198,103900,141685,187900,116900,141865,205911,195987,149900,207952,143620,132896,239911],\"x0\":\" \",\"xaxis\":\"x\",\"y\":[168882,135995,91991,979000,79881,179000,137900,102500,76898,119991,83900,108980,89978,79999,79991,104991,122997,139480,80995,89000,74995,128990,79900,144900,159000,149898,96998,87991,82900,89900,91900,76900,159000,88922,149900,108800,148536,127991,145000,148668,93992,139900,76900,148998,128000,119995,124900,134900,99995,125991,179898,138898,109900,151900,159000,95991,145900,157995,84888,123000,118994,117898,125998,225991,128798,134998,97495,106991,129994,159680,147000,139950,156994,105900,122898,134000,118000,499900,127995,143900,112991,115995,124490,141991,155995,138992,92900,136260,139991,176888,139991,158900,168882,169881,105995,116780,109898,112995,98995,114998,120900,113993,169458,92995,120900,145991,104998,94981,109900,168992,207900,114985,109984,102900,97500,112606,99800,116900,105035,119990,112991,171999,179888,101498,116089,118799,119000,117991,126723,144752,96000,92888,120993,109795,104998,95900,113000,119984,129997,89988,129465,100998,119898,116415,98990,149990,119985,104998,87898,176998,109900,197888,247275,199900,193482,143998,239881,212991,194888,209900,229898,199990,134998,124950,179990,174890,116997,113994,128143,129693,174900,131998,144991,135960,164991,169899,146994,219399,214900,119900,187900,149998,133500,201888,234999,128500,223995,123380,199947,139900,152900,118980,99790,188900,194445,206309,214900,138798,249000,164900,155898,98994,154700,98981,134994,130995,128776,98995,168900,122821,107995,114900,218897,165995,129900,234898,133327,199998,219000,107299,99898,215000,124993,107988,109881,241991,109881,189766,269900,189980,385000,107812,139900,264991,176879,103900,124995,147900,149900,155995,170991,189900,153274,195759,167728,129981,173998,203900,142994,138283,117900,107991,151900,194899,199399,359995,199850,139880,239900,225911,154881,143981,269900,139392,155995,134991,245991,132991,119985,144898,157981,137992,202665,172790,163990,158100,229995,138892,139995,168900,429991,148115,385888,102500,145000,139898,128900,245820,136998,209989,194998,146977,139999,189995,181900,419950,289888,179985,425000,155000,119998,191994,128792,389898,99900,132898,134881,94990,134999,204898,256550,142995,152881,149000,133992,137900,130991,137994,149000,169992,131898,148992,164900,164900,134981,154881,134998,137995,146991,121898,121998,147298,154990,129995,160034,119990,157775,157998,122981,153985,140656,164900,177000,149900,161995,165105,146650,136994,112867,158989,149985,145899,149998,159909,152999,156500,147995,143981,128990,149900,158477,145900,157220,146900,162226,139992,162900,133991,155990,129911,159995,156500,158995,139000,279000,282500,268269,263980,268998,271947,260992,289905,287900,274995,284496,219500,149992,279900,269990,158370,238597,159992,135000,146990,130400,212148,169992,144761,169988,235550,137790,279990,264900,289995,169995,141992,164999,152340,303798,222996,257500,139912,168991,163995,146988,167990,163992,291972,168992,208888,128881,239992,125999,274992,151900,259990,169995,161898,156900,143950,162912,142998,139950,153888,134911,154999,139995,147995,279888,279900,279900,205900,260000,288149,226887,266308,184898,279900,189995,184898,289888,277198,139995,158999,138995,329988,294900,329992,139988,307717,249995,299981,269901,193999,299992,289992,299999,215932,188990,219898,269900,209900,288500,179991,182995,169998,194998,159919,283721,204995,296498,299992,188800,264990,134990,279496,146887,229988,199990,171998,294888,199900,290000,161900,288715,143400,309999,199976,143500,279900,142305,278500,173981,195997,173591,286494,286671,225900,219897,169999,180992,339998,174881,170495,219897,154992,350000,219898,199595,329898,69991,94900,69900,88900,120000,86981,169777,80990,153788,85995,124849,124226,149357,117999,165620,152900,89900,136900,159788,119900,89900,87888,127791,137000,155000,179911,103995,95900,118995,89900,127898,189000,99998,98998,181122,106900,117499,135144,94988,180999,199991,249900,89998,109995,139788,186990,188790,132900,151732,137695,174900,165990,148788,189460,191900,214900,98899,156955,139996,184998,116888,194999,120424,203995,252900,265000,150782,164900,132981,173900,102222,389900,169900,132991,136211,148888,182955,102900,140744,163312,155900,149900,179998,151900,144900,156900,130991,155783,127990,127900,118990,160900,264911,136911,279900,249991,146788,151429,157788,292998,259899,149900,140499,158489,129600,264900,257999,279000,250000,249988,229880,139788,159888,269000,285911,134999,151000,299900,242991,279981,284900,255990,139900,295568,202500,289900,279900,74900,89900,138791,127900,95991,126981,143887,164781,94911,105980,124900,105719,124981,114994,119198,103900,141685,187900,116900,141865,205911,195987,149900,207952,143620,132896,239911],\"y0\":\" \",\"yaxis\":\"y\",\"type\":\"box\"}],                        {\"template\":{\"data\":{\"bar\":[{\"error_x\":{\"color\":\"#2a3f5f\"},\"error_y\":{\"color\":\"#2a3f5f\"},\"marker\":{\"line\":{\"color\":\"#E5ECF6\",\"width\":0.5},\"pattern\":{\"fillmode\":\"overlay\",\"size\":10,\"solidity\":0.2}},\"type\":\"bar\"}],\"barpolar\":[{\"marker\":{\"line\":{\"color\":\"#E5ECF6\",\"width\":0.5},\"pattern\":{\"fillmode\":\"overlay\",\"size\":10,\"solidity\":0.2}},\"type\":\"barpolar\"}],\"carpet\":[{\"aaxis\":{\"endlinecolor\":\"#2a3f5f\",\"gridcolor\":\"white\",\"linecolor\":\"white\",\"minorgridcolor\":\"white\",\"startlinecolor\":\"#2a3f5f\"},\"baxis\":{\"endlinecolor\":\"#2a3f5f\",\"gridcolor\":\"white\",\"linecolor\":\"white\",\"minorgridcolor\":\"white\",\"startlinecolor\":\"#2a3f5f\"},\"type\":\"carpet\"}],\"choropleth\":[{\"colorbar\":{\"outlinewidth\":0,\"ticks\":\"\"},\"type\":\"choropleth\"}],\"contour\":[{\"colorbar\":{\"outlinewidth\":0,\"ticks\":\"\"},\"colorscale\":[[0.0,\"#0d0887\"],[0.1111111111111111,\"#46039f\"],[0.2222222222222222,\"#7201a8\"],[0.3333333333333333,\"#9c179e\"],[0.4444444444444444,\"#bd3786\"],[0.5555555555555556,\"#d8576b\"],[0.6666666666666666,\"#ed7953\"],[0.7777777777777778,\"#fb9f3a\"],[0.8888888888888888,\"#fdca26\"],[1.0,\"#f0f921\"]],\"type\":\"contour\"}],\"contourcarpet\":[{\"colorbar\":{\"outlinewidth\":0,\"ticks\":\"\"},\"type\":\"contourcarpet\"}],\"heatmap\":[{\"colorbar\":{\"outlinewidth\":0,\"ticks\":\"\"},\"colorscale\":[[0.0,\"#0d0887\"],[0.1111111111111111,\"#46039f\"],[0.2222222222222222,\"#7201a8\"],[0.3333333333333333,\"#9c179e\"],[0.4444444444444444,\"#bd3786\"],[0.5555555555555556,\"#d8576b\"],[0.6666666666666666,\"#ed7953\"],[0.7777777777777778,\"#fb9f3a\"],[0.8888888888888888,\"#fdca26\"],[1.0,\"#f0f921\"]],\"type\":\"heatmap\"}],\"heatmapgl\":[{\"colorbar\":{\"outlinewidth\":0,\"ticks\":\"\"},\"colorscale\":[[0.0,\"#0d0887\"],[0.1111111111111111,\"#46039f\"],[0.2222222222222222,\"#7201a8\"],[0.3333333333333333,\"#9c179e\"],[0.4444444444444444,\"#bd3786\"],[0.5555555555555556,\"#d8576b\"],[0.6666666666666666,\"#ed7953\"],[0.7777777777777778,\"#fb9f3a\"],[0.8888888888888888,\"#fdca26\"],[1.0,\"#f0f921\"]],\"type\":\"heatmapgl\"}],\"histogram\":[{\"marker\":{\"pattern\":{\"fillmode\":\"overlay\",\"size\":10,\"solidity\":0.2}},\"type\":\"histogram\"}],\"histogram2d\":[{\"colorbar\":{\"outlinewidth\":0,\"ticks\":\"\"},\"colorscale\":[[0.0,\"#0d0887\"],[0.1111111111111111,\"#46039f\"],[0.2222222222222222,\"#7201a8\"],[0.3333333333333333,\"#9c179e\"],[0.4444444444444444,\"#bd3786\"],[0.5555555555555556,\"#d8576b\"],[0.6666666666666666,\"#ed7953\"],[0.7777777777777778,\"#fb9f3a\"],[0.8888888888888888,\"#fdca26\"],[1.0,\"#f0f921\"]],\"type\":\"histogram2d\"}],\"histogram2dcontour\":[{\"colorbar\":{\"outlinewidth\":0,\"ticks\":\"\"},\"colorscale\":[[0.0,\"#0d0887\"],[0.1111111111111111,\"#46039f\"],[0.2222222222222222,\"#7201a8\"],[0.3333333333333333,\"#9c179e\"],[0.4444444444444444,\"#bd3786\"],[0.5555555555555556,\"#d8576b\"],[0.6666666666666666,\"#ed7953\"],[0.7777777777777778,\"#fb9f3a\"],[0.8888888888888888,\"#fdca26\"],[1.0,\"#f0f921\"]],\"type\":\"histogram2dcontour\"}],\"mesh3d\":[{\"colorbar\":{\"outlinewidth\":0,\"ticks\":\"\"},\"type\":\"mesh3d\"}],\"parcoords\":[{\"line\":{\"colorbar\":{\"outlinewidth\":0,\"ticks\":\"\"}},\"type\":\"parcoords\"}],\"pie\":[{\"automargin\":true,\"type\":\"pie\"}],\"scatter\":[{\"marker\":{\"colorbar\":{\"outlinewidth\":0,\"ticks\":\"\"}},\"type\":\"scatter\"}],\"scatter3d\":[{\"line\":{\"colorbar\":{\"outlinewidth\":0,\"ticks\":\"\"}},\"marker\":{\"colorbar\":{\"outlinewidth\":0,\"ticks\":\"\"}},\"type\":\"scatter3d\"}],\"scattercarpet\":[{\"marker\":{\"colorbar\":{\"outlinewidth\":0,\"ticks\":\"\"}},\"type\":\"scattercarpet\"}],\"scattergeo\":[{\"marker\":{\"colorbar\":{\"outlinewidth\":0,\"ticks\":\"\"}},\"type\":\"scattergeo\"}],\"scattergl\":[{\"marker\":{\"colorbar\":{\"outlinewidth\":0,\"ticks\":\"\"}},\"type\":\"scattergl\"}],\"scattermapbox\":[{\"marker\":{\"colorbar\":{\"outlinewidth\":0,\"ticks\":\"\"}},\"type\":\"scattermapbox\"}],\"scatterpolar\":[{\"marker\":{\"colorbar\":{\"outlinewidth\":0,\"ticks\":\"\"}},\"type\":\"scatterpolar\"}],\"scatterpolargl\":[{\"marker\":{\"colorbar\":{\"outlinewidth\":0,\"ticks\":\"\"}},\"type\":\"scatterpolargl\"}],\"scatterternary\":[{\"marker\":{\"colorbar\":{\"outlinewidth\":0,\"ticks\":\"\"}},\"type\":\"scatterternary\"}],\"surface\":[{\"colorbar\":{\"outlinewidth\":0,\"ticks\":\"\"},\"colorscale\":[[0.0,\"#0d0887\"],[0.1111111111111111,\"#46039f\"],[0.2222222222222222,\"#7201a8\"],[0.3333333333333333,\"#9c179e\"],[0.4444444444444444,\"#bd3786\"],[0.5555555555555556,\"#d8576b\"],[0.6666666666666666,\"#ed7953\"],[0.7777777777777778,\"#fb9f3a\"],[0.8888888888888888,\"#fdca26\"],[1.0,\"#f0f921\"]],\"type\":\"surface\"}],\"table\":[{\"cells\":{\"fill\":{\"color\":\"#EBF0F8\"},\"line\":{\"color\":\"white\"}},\"header\":{\"fill\":{\"color\":\"#C8D4E3\"},\"line\":{\"color\":\"white\"}},\"type\":\"table\"}]},\"layout\":{\"annotationdefaults\":{\"arrowcolor\":\"#2a3f5f\",\"arrowhead\":0,\"arrowwidth\":1},\"autotypenumbers\":\"strict\",\"coloraxis\":{\"colorbar\":{\"outlinewidth\":0,\"ticks\":\"\"}},\"colorscale\":{\"diverging\":[[0,\"#8e0152\"],[0.1,\"#c51b7d\"],[0.2,\"#de77ae\"],[0.3,\"#f1b6da\"],[0.4,\"#fde0ef\"],[0.5,\"#f7f7f7\"],[0.6,\"#e6f5d0\"],[0.7,\"#b8e186\"],[0.8,\"#7fbc41\"],[0.9,\"#4d9221\"],[1,\"#276419\"]],\"sequential\":[[0.0,\"#0d0887\"],[0.1111111111111111,\"#46039f\"],[0.2222222222222222,\"#7201a8\"],[0.3333333333333333,\"#9c179e\"],[0.4444444444444444,\"#bd3786\"],[0.5555555555555556,\"#d8576b\"],[0.6666666666666666,\"#ed7953\"],[0.7777777777777778,\"#fb9f3a\"],[0.8888888888888888,\"#fdca26\"],[1.0,\"#f0f921\"]],\"sequentialminus\":[[0.0,\"#0d0887\"],[0.1111111111111111,\"#46039f\"],[0.2222222222222222,\"#7201a8\"],[0.3333333333333333,\"#9c179e\"],[0.4444444444444444,\"#bd3786\"],[0.5555555555555556,\"#d8576b\"],[0.6666666666666666,\"#ed7953\"],[0.7777777777777778,\"#fb9f3a\"],[0.8888888888888888,\"#fdca26\"],[1.0,\"#f0f921\"]]},\"colorway\":[\"#636efa\",\"#EF553B\",\"#00cc96\",\"#ab63fa\",\"#FFA15A\",\"#19d3f3\",\"#FF6692\",\"#B6E880\",\"#FF97FF\",\"#FECB52\"],\"font\":{\"color\":\"#2a3f5f\"},\"geo\":{\"bgcolor\":\"white\",\"lakecolor\":\"white\",\"landcolor\":\"#E5ECF6\",\"showlakes\":true,\"showland\":true,\"subunitcolor\":\"white\"},\"hoverlabel\":{\"align\":\"left\"},\"hovermode\":\"closest\",\"mapbox\":{\"style\":\"light\"},\"paper_bgcolor\":\"white\",\"plot_bgcolor\":\"#E5ECF6\",\"polar\":{\"angularaxis\":{\"gridcolor\":\"white\",\"linecolor\":\"white\",\"ticks\":\"\"},\"bgcolor\":\"#E5ECF6\",\"radialaxis\":{\"gridcolor\":\"white\",\"linecolor\":\"white\",\"ticks\":\"\"}},\"scene\":{\"xaxis\":{\"backgroundcolor\":\"#E5ECF6\",\"gridcolor\":\"white\",\"gridwidth\":2,\"linecolor\":\"white\",\"showbackground\":true,\"ticks\":\"\",\"zerolinecolor\":\"white\"},\"yaxis\":{\"backgroundcolor\":\"#E5ECF6\",\"gridcolor\":\"white\",\"gridwidth\":2,\"linecolor\":\"white\",\"showbackground\":true,\"ticks\":\"\",\"zerolinecolor\":\"white\"},\"zaxis\":{\"backgroundcolor\":\"#E5ECF6\",\"gridcolor\":\"white\",\"gridwidth\":2,\"linecolor\":\"white\",\"showbackground\":true,\"ticks\":\"\",\"zerolinecolor\":\"white\"}},\"shapedefaults\":{\"line\":{\"color\":\"#2a3f5f\"}},\"ternary\":{\"aaxis\":{\"gridcolor\":\"white\",\"linecolor\":\"white\",\"ticks\":\"\"},\"baxis\":{\"gridcolor\":\"white\",\"linecolor\":\"white\",\"ticks\":\"\"},\"bgcolor\":\"#E5ECF6\",\"caxis\":{\"gridcolor\":\"white\",\"linecolor\":\"white\",\"ticks\":\"\"}},\"title\":{\"x\":0.05},\"xaxis\":{\"automargin\":true,\"gridcolor\":\"white\",\"linecolor\":\"white\",\"ticks\":\"\",\"title\":{\"standoff\":15},\"zerolinecolor\":\"white\",\"zerolinewidth\":2},\"yaxis\":{\"automargin\":true,\"gridcolor\":\"white\",\"linecolor\":\"white\",\"ticks\":\"\",\"title\":{\"standoff\":15},\"zerolinecolor\":\"white\",\"zerolinewidth\":2}}},\"xaxis\":{\"anchor\":\"y\",\"domain\":[0.0,1.0],\"title\":{\"text\":\"Price\"}},\"yaxis\":{\"anchor\":\"x\",\"domain\":[0.0,1.0],\"title\":{\"text\":\"Price\"}},\"legend\":{\"tracegroupgap\":0},\"margin\":{\"t\":60},\"boxmode\":\"group\"},                        {\"responsive\": true}                    ).then(function(){\n",
       "                            \n",
       "var gd = document.getElementById('000f84d7-4416-4531-82e5-13dbe9d3d381');\n",
       "var x = new MutationObserver(function (mutations, observer) {{\n",
       "        var display = window.getComputedStyle(gd).display;\n",
       "        if (!display || display === 'none') {{\n",
       "            console.log([gd, 'removed!']);\n",
       "            Plotly.purge(gd);\n",
       "            observer.disconnect();\n",
       "        }}\n",
       "}});\n",
       "\n",
       "// Listen for the removal of the full notebook cells\n",
       "var notebookContainer = gd.closest('#notebook-container');\n",
       "if (notebookContainer) {{\n",
       "    x.observe(notebookContainer, {childList: true});\n",
       "}}\n",
       "\n",
       "// Listen for the clearing of the current output cell\n",
       "var outputEl = gd.closest('.output');\n",
       "if (outputEl) {{\n",
       "    x.observe(outputEl, {childList: true});\n",
       "}}\n",
       "\n",
       "                        })                };                });            </script>        </div>"
      ]
     },
     "metadata": {},
     "output_type": "display_data"
    },
    {
     "data": {
      "application/vnd.plotly.v1+json": {
       "config": {
        "plotlyServerURL": "https://plot.ly"
       },
       "data": [
        {
         "alignmentgroup": "True",
         "hovertemplate": "Year=%{x}<br>Price=%{y}<extra></extra>",
         "legendgroup": "",
         "marker": {
          "color": "#636efa"
         },
         "name": "",
         "notched": false,
         "offsetgroup": "",
         "orientation": "v",
         "showlegend": false,
         "type": "box",
         "x": [
          2017,
          2011,
          2011,
          2011,
          2011,
          2011,
          2011,
          2011,
          2012,
          2012,
          2012,
          2012,
          2012,
          2012,
          2012,
          2012,
          2012,
          2013,
          2013,
          2013,
          2013,
          2020,
          2013,
          2014,
          2014,
          2014,
          2014,
          2014,
          2014,
          2014,
          2014,
          2014,
          2014,
          2014,
          2014,
          2014,
          2014,
          2014,
          2014,
          2014,
          2014,
          2014,
          2014,
          2014,
          2014,
          2014,
          2015,
          2015,
          2015,
          2015,
          2015,
          2015,
          2015,
          2015,
          2015,
          2015,
          2015,
          2015,
          2015,
          2015,
          2015,
          2015,
          2015,
          2016,
          2016,
          2016,
          2016,
          2016,
          2016,
          2016,
          2016,
          2016,
          2016,
          2016,
          2016,
          2016,
          2016,
          2016,
          2016,
          2016,
          2016,
          2016,
          2016,
          2016,
          2016,
          2016,
          2016,
          2016,
          2016,
          2017,
          2017,
          2017,
          2017,
          2017,
          2017,
          2017,
          2017,
          2017,
          2017,
          2017,
          2017,
          2017,
          2017,
          2017,
          2017,
          2017,
          2017,
          2017,
          2017,
          2017,
          2017,
          2017,
          2017,
          2017,
          2017,
          2017,
          2017,
          2017,
          2017,
          2017,
          2017,
          2017,
          2017,
          2017,
          2017,
          2017,
          2017,
          2017,
          2017,
          2017,
          2017,
          2017,
          2017,
          2017,
          2017,
          2017,
          2017,
          2017,
          2017,
          2017,
          2017,
          2017,
          2017,
          2017,
          2017,
          2017,
          2017,
          2017,
          2017,
          2017,
          2017,
          2018,
          2018,
          2018,
          2018,
          2018,
          2018,
          2018,
          2018,
          2018,
          2018,
          2018,
          2018,
          2018,
          2018,
          2018,
          2018,
          2018,
          2018,
          2018,
          2018,
          2018,
          2018,
          2018,
          2018,
          2018,
          2018,
          2018,
          2018,
          2018,
          2018,
          2018,
          2018,
          2018,
          2018,
          2018,
          2018,
          2018,
          2018,
          2018,
          2018,
          2018,
          2018,
          2018,
          2018,
          2018,
          2018,
          2018,
          2018,
          2018,
          2018,
          2018,
          2018,
          2018,
          2018,
          2018,
          2018,
          2018,
          2018,
          2018,
          2018,
          2018,
          2018,
          2018,
          2018,
          2018,
          2019,
          2019,
          2019,
          2019,
          2019,
          2019,
          2019,
          2019,
          2019,
          2019,
          2019,
          2019,
          2019,
          2019,
          2019,
          2019,
          2019,
          2019,
          2019,
          2019,
          2019,
          2019,
          2019,
          2019,
          2019,
          2019,
          2019,
          2019,
          2019,
          2019,
          2019,
          2019,
          2019,
          2019,
          2019,
          2019,
          2019,
          2019,
          2019,
          2019,
          2019,
          2019,
          2019,
          2019,
          2019,
          2019,
          2019,
          2019,
          2019,
          2019,
          2019,
          2019,
          2019,
          2019,
          2019,
          2019,
          2019,
          2019,
          2019,
          2019,
          2019,
          2019,
          2019,
          2019,
          2019,
          2019,
          2019,
          2019,
          2019,
          2019,
          2019,
          2019,
          2019,
          2019,
          2019,
          2019,
          2019,
          2019,
          2019,
          2019,
          2019,
          2019,
          2019,
          2019,
          2019,
          2019,
          2019,
          2019,
          2019,
          2019,
          2019,
          2019,
          2019,
          2019,
          2019,
          2019,
          2020,
          2020,
          2020,
          2020,
          2020,
          2020,
          2020,
          2020,
          2020,
          2020,
          2020,
          2020,
          2020,
          2020,
          2020,
          2020,
          2020,
          2020,
          2020,
          2020,
          2020,
          2020,
          2020,
          2020,
          2020,
          2020,
          2020,
          2020,
          2020,
          2020,
          2020,
          2020,
          2020,
          2020,
          2020,
          2020,
          2020,
          2020,
          2020,
          2020,
          2020,
          2020,
          2020,
          2020,
          2020,
          2020,
          2020,
          2020,
          2020,
          2020,
          2020,
          2020,
          2020,
          2020,
          2020,
          2020,
          2020,
          2020,
          2020,
          2020,
          2020,
          2020,
          2021,
          2021,
          2021,
          2021,
          2021,
          2021,
          2021,
          2021,
          2021,
          2021,
          2021,
          2021,
          2021,
          2021,
          2021,
          2021,
          2021,
          2021,
          2021,
          2021,
          2021,
          2021,
          2021,
          2021,
          2021,
          2021,
          2021,
          2021,
          2021,
          2021,
          2021,
          2021,
          2021,
          2021,
          2021,
          2021,
          2021,
          2021,
          2021,
          2021,
          2021,
          2021,
          2021,
          2021,
          2021,
          2021,
          2021,
          2021,
          2021,
          2021,
          2021,
          2021,
          2021,
          2021,
          2021,
          2021,
          2021,
          2021,
          2021,
          2021,
          2021,
          2021,
          2021,
          2021,
          2021,
          2021,
          2021,
          2021,
          2021,
          2021,
          2022,
          2022,
          2022,
          2022,
          2022,
          2022,
          2022,
          2022,
          2022,
          2022,
          2022,
          2022,
          2022,
          2022,
          2022,
          2022,
          2022,
          2022,
          2022,
          2022,
          2022,
          2022,
          2022,
          2022,
          2022,
          2022,
          2022,
          2022,
          2022,
          2022,
          2022,
          2022,
          2022,
          2022,
          2022,
          2022,
          2022,
          2022,
          2022,
          2022,
          2022,
          2022,
          2022,
          2022,
          2022,
          2022,
          2022,
          2022,
          2022,
          2022,
          2022,
          2022,
          2022,
          2022,
          2022,
          2022,
          2022,
          2022,
          2022,
          2022,
          2022,
          2022,
          2022,
          2022,
          2022,
          2022,
          2022,
          2022,
          2022,
          2022,
          2022,
          2022,
          2022,
          2022,
          2022,
          2022,
          2012,
          2012,
          2013,
          2013,
          2013,
          2013,
          2014,
          2014,
          2014,
          2014,
          2014,
          2015,
          2015,
          2015,
          2015,
          2015,
          2015,
          2015,
          2015,
          2015,
          2015,
          2015,
          2016,
          2016,
          2016,
          2017,
          2017,
          2017,
          2017,
          2017,
          2017,
          2017,
          2017,
          2017,
          2017,
          2017,
          2017,
          2017,
          2017,
          2017,
          2018,
          2018,
          2018,
          2018,
          2018,
          2018,
          2018,
          2018,
          2018,
          2018,
          2018,
          2018,
          2018,
          2018,
          2018,
          2018,
          2018,
          2018,
          2019,
          2019,
          2019,
          2019,
          2019,
          2019,
          2019,
          2019,
          2019,
          2019,
          2019,
          2019,
          2019,
          2019,
          2019,
          2019,
          2019,
          2019,
          2019,
          2019,
          2019,
          2020,
          2020,
          2020,
          2020,
          2020,
          2020,
          2020,
          2020,
          2020,
          2020,
          2020,
          2020,
          2020,
          2021,
          2021,
          2021,
          2021,
          2021,
          2021,
          2021,
          2021,
          2021,
          2021,
          2021,
          2021,
          2021,
          2021,
          2021,
          2021,
          2021,
          2021,
          2021,
          2021,
          2021,
          2021,
          2022,
          2022,
          2022,
          2022,
          2022,
          2022,
          2022,
          2022,
          2022,
          2022,
          2022,
          2022,
          2022,
          2011,
          2013,
          2014,
          2014,
          2015,
          2015,
          2015,
          2016,
          2017,
          2017,
          2017,
          2017,
          2017,
          2017,
          2017,
          2017,
          2018,
          2018,
          2018,
          2018,
          2018,
          2018,
          2019,
          2019,
          2020,
          2021,
          2021
         ],
         "x0": " ",
         "xaxis": "x",
         "y": [
          168882,
          135995,
          91991,
          979000,
          79881,
          179000,
          137900,
          102500,
          76898,
          119991,
          83900,
          108980,
          89978,
          79999,
          79991,
          104991,
          122997,
          139480,
          80995,
          89000,
          74995,
          128990,
          79900,
          144900,
          159000,
          149898,
          96998,
          87991,
          82900,
          89900,
          91900,
          76900,
          159000,
          88922,
          149900,
          108800,
          148536,
          127991,
          145000,
          148668,
          93992,
          139900,
          76900,
          148998,
          128000,
          119995,
          124900,
          134900,
          99995,
          125991,
          179898,
          138898,
          109900,
          151900,
          159000,
          95991,
          145900,
          157995,
          84888,
          123000,
          118994,
          117898,
          125998,
          225991,
          128798,
          134998,
          97495,
          106991,
          129994,
          159680,
          147000,
          139950,
          156994,
          105900,
          122898,
          134000,
          118000,
          499900,
          127995,
          143900,
          112991,
          115995,
          124490,
          141991,
          155995,
          138992,
          92900,
          136260,
          139991,
          176888,
          139991,
          158900,
          168882,
          169881,
          105995,
          116780,
          109898,
          112995,
          98995,
          114998,
          120900,
          113993,
          169458,
          92995,
          120900,
          145991,
          104998,
          94981,
          109900,
          168992,
          207900,
          114985,
          109984,
          102900,
          97500,
          112606,
          99800,
          116900,
          105035,
          119990,
          112991,
          171999,
          179888,
          101498,
          116089,
          118799,
          119000,
          117991,
          126723,
          144752,
          96000,
          92888,
          120993,
          109795,
          104998,
          95900,
          113000,
          119984,
          129997,
          89988,
          129465,
          100998,
          119898,
          116415,
          98990,
          149990,
          119985,
          104998,
          87898,
          176998,
          109900,
          197888,
          247275,
          199900,
          193482,
          143998,
          239881,
          212991,
          194888,
          209900,
          229898,
          199990,
          134998,
          124950,
          179990,
          174890,
          116997,
          113994,
          128143,
          129693,
          174900,
          131998,
          144991,
          135960,
          164991,
          169899,
          146994,
          219399,
          214900,
          119900,
          187900,
          149998,
          133500,
          201888,
          234999,
          128500,
          223995,
          123380,
          199947,
          139900,
          152900,
          118980,
          99790,
          188900,
          194445,
          206309,
          214900,
          138798,
          249000,
          164900,
          155898,
          98994,
          154700,
          98981,
          134994,
          130995,
          128776,
          98995,
          168900,
          122821,
          107995,
          114900,
          218897,
          165995,
          129900,
          234898,
          133327,
          199998,
          219000,
          107299,
          99898,
          215000,
          124993,
          107988,
          109881,
          241991,
          109881,
          189766,
          269900,
          189980,
          385000,
          107812,
          139900,
          264991,
          176879,
          103900,
          124995,
          147900,
          149900,
          155995,
          170991,
          189900,
          153274,
          195759,
          167728,
          129981,
          173998,
          203900,
          142994,
          138283,
          117900,
          107991,
          151900,
          194899,
          199399,
          359995,
          199850,
          139880,
          239900,
          225911,
          154881,
          143981,
          269900,
          139392,
          155995,
          134991,
          245991,
          132991,
          119985,
          144898,
          157981,
          137992,
          202665,
          172790,
          163990,
          158100,
          229995,
          138892,
          139995,
          168900,
          429991,
          148115,
          385888,
          102500,
          145000,
          139898,
          128900,
          245820,
          136998,
          209989,
          194998,
          146977,
          139999,
          189995,
          181900,
          419950,
          289888,
          179985,
          425000,
          155000,
          119998,
          191994,
          128792,
          389898,
          99900,
          132898,
          134881,
          94990,
          134999,
          204898,
          256550,
          142995,
          152881,
          149000,
          133992,
          137900,
          130991,
          137994,
          149000,
          169992,
          131898,
          148992,
          164900,
          164900,
          134981,
          154881,
          134998,
          137995,
          146991,
          121898,
          121998,
          147298,
          154990,
          129995,
          160034,
          119990,
          157775,
          157998,
          122981,
          153985,
          140656,
          164900,
          177000,
          149900,
          161995,
          165105,
          146650,
          136994,
          112867,
          158989,
          149985,
          145899,
          149998,
          159909,
          152999,
          156500,
          147995,
          143981,
          128990,
          149900,
          158477,
          145900,
          157220,
          146900,
          162226,
          139992,
          162900,
          133991,
          155990,
          129911,
          159995,
          156500,
          158995,
          139000,
          279000,
          282500,
          268269,
          263980,
          268998,
          271947,
          260992,
          289905,
          287900,
          274995,
          284496,
          219500,
          149992,
          279900,
          269990,
          158370,
          238597,
          159992,
          135000,
          146990,
          130400,
          212148,
          169992,
          144761,
          169988,
          235550,
          137790,
          279990,
          264900,
          289995,
          169995,
          141992,
          164999,
          152340,
          303798,
          222996,
          257500,
          139912,
          168991,
          163995,
          146988,
          167990,
          163992,
          291972,
          168992,
          208888,
          128881,
          239992,
          125999,
          274992,
          151900,
          259990,
          169995,
          161898,
          156900,
          143950,
          162912,
          142998,
          139950,
          153888,
          134911,
          154999,
          139995,
          147995,
          279888,
          279900,
          279900,
          205900,
          260000,
          288149,
          226887,
          266308,
          184898,
          279900,
          189995,
          184898,
          289888,
          277198,
          139995,
          158999,
          138995,
          329988,
          294900,
          329992,
          139988,
          307717,
          249995,
          299981,
          269901,
          193999,
          299992,
          289992,
          299999,
          215932,
          188990,
          219898,
          269900,
          209900,
          288500,
          179991,
          182995,
          169998,
          194998,
          159919,
          283721,
          204995,
          296498,
          299992,
          188800,
          264990,
          134990,
          279496,
          146887,
          229988,
          199990,
          171998,
          294888,
          199900,
          290000,
          161900,
          288715,
          143400,
          309999,
          199976,
          143500,
          279900,
          142305,
          278500,
          173981,
          195997,
          173591,
          286494,
          286671,
          225900,
          219897,
          169999,
          180992,
          339998,
          174881,
          170495,
          219897,
          154992,
          350000,
          219898,
          199595,
          329898,
          69991,
          94900,
          69900,
          88900,
          120000,
          86981,
          169777,
          80990,
          153788,
          85995,
          124849,
          124226,
          149357,
          117999,
          165620,
          152900,
          89900,
          136900,
          159788,
          119900,
          89900,
          87888,
          127791,
          137000,
          155000,
          179911,
          103995,
          95900,
          118995,
          89900,
          127898,
          189000,
          99998,
          98998,
          181122,
          106900,
          117499,
          135144,
          94988,
          180999,
          199991,
          249900,
          89998,
          109995,
          139788,
          186990,
          188790,
          132900,
          151732,
          137695,
          174900,
          165990,
          148788,
          189460,
          191900,
          214900,
          98899,
          156955,
          139996,
          184998,
          116888,
          194999,
          120424,
          203995,
          252900,
          265000,
          150782,
          164900,
          132981,
          173900,
          102222,
          389900,
          169900,
          132991,
          136211,
          148888,
          182955,
          102900,
          140744,
          163312,
          155900,
          149900,
          179998,
          151900,
          144900,
          156900,
          130991,
          155783,
          127990,
          127900,
          118990,
          160900,
          264911,
          136911,
          279900,
          249991,
          146788,
          151429,
          157788,
          292998,
          259899,
          149900,
          140499,
          158489,
          129600,
          264900,
          257999,
          279000,
          250000,
          249988,
          229880,
          139788,
          159888,
          269000,
          285911,
          134999,
          151000,
          299900,
          242991,
          279981,
          284900,
          255990,
          139900,
          295568,
          202500,
          289900,
          279900,
          74900,
          89900,
          138791,
          127900,
          95991,
          126981,
          143887,
          164781,
          94911,
          105980,
          124900,
          105719,
          124981,
          114994,
          119198,
          103900,
          141685,
          187900,
          116900,
          141865,
          205911,
          195987,
          149900,
          207952,
          143620,
          132896,
          239911
         ],
         "y0": " ",
         "yaxis": "y"
        }
       ],
       "layout": {
        "boxmode": "group",
        "legend": {
         "tracegroupgap": 0
        },
        "margin": {
         "t": 60
        },
        "template": {
         "data": {
          "bar": [
           {
            "error_x": {
             "color": "#2a3f5f"
            },
            "error_y": {
             "color": "#2a3f5f"
            },
            "marker": {
             "line": {
              "color": "#E5ECF6",
              "width": 0.5
             },
             "pattern": {
              "fillmode": "overlay",
              "size": 10,
              "solidity": 0.2
             }
            },
            "type": "bar"
           }
          ],
          "barpolar": [
           {
            "marker": {
             "line": {
              "color": "#E5ECF6",
              "width": 0.5
             },
             "pattern": {
              "fillmode": "overlay",
              "size": 10,
              "solidity": 0.2
             }
            },
            "type": "barpolar"
           }
          ],
          "carpet": [
           {
            "aaxis": {
             "endlinecolor": "#2a3f5f",
             "gridcolor": "white",
             "linecolor": "white",
             "minorgridcolor": "white",
             "startlinecolor": "#2a3f5f"
            },
            "baxis": {
             "endlinecolor": "#2a3f5f",
             "gridcolor": "white",
             "linecolor": "white",
             "minorgridcolor": "white",
             "startlinecolor": "#2a3f5f"
            },
            "type": "carpet"
           }
          ],
          "choropleth": [
           {
            "colorbar": {
             "outlinewidth": 0,
             "ticks": ""
            },
            "type": "choropleth"
           }
          ],
          "contour": [
           {
            "colorbar": {
             "outlinewidth": 0,
             "ticks": ""
            },
            "colorscale": [
             [
              0,
              "#0d0887"
             ],
             [
              0.1111111111111111,
              "#46039f"
             ],
             [
              0.2222222222222222,
              "#7201a8"
             ],
             [
              0.3333333333333333,
              "#9c179e"
             ],
             [
              0.4444444444444444,
              "#bd3786"
             ],
             [
              0.5555555555555556,
              "#d8576b"
             ],
             [
              0.6666666666666666,
              "#ed7953"
             ],
             [
              0.7777777777777778,
              "#fb9f3a"
             ],
             [
              0.8888888888888888,
              "#fdca26"
             ],
             [
              1,
              "#f0f921"
             ]
            ],
            "type": "contour"
           }
          ],
          "contourcarpet": [
           {
            "colorbar": {
             "outlinewidth": 0,
             "ticks": ""
            },
            "type": "contourcarpet"
           }
          ],
          "heatmap": [
           {
            "colorbar": {
             "outlinewidth": 0,
             "ticks": ""
            },
            "colorscale": [
             [
              0,
              "#0d0887"
             ],
             [
              0.1111111111111111,
              "#46039f"
             ],
             [
              0.2222222222222222,
              "#7201a8"
             ],
             [
              0.3333333333333333,
              "#9c179e"
             ],
             [
              0.4444444444444444,
              "#bd3786"
             ],
             [
              0.5555555555555556,
              "#d8576b"
             ],
             [
              0.6666666666666666,
              "#ed7953"
             ],
             [
              0.7777777777777778,
              "#fb9f3a"
             ],
             [
              0.8888888888888888,
              "#fdca26"
             ],
             [
              1,
              "#f0f921"
             ]
            ],
            "type": "heatmap"
           }
          ],
          "heatmapgl": [
           {
            "colorbar": {
             "outlinewidth": 0,
             "ticks": ""
            },
            "colorscale": [
             [
              0,
              "#0d0887"
             ],
             [
              0.1111111111111111,
              "#46039f"
             ],
             [
              0.2222222222222222,
              "#7201a8"
             ],
             [
              0.3333333333333333,
              "#9c179e"
             ],
             [
              0.4444444444444444,
              "#bd3786"
             ],
             [
              0.5555555555555556,
              "#d8576b"
             ],
             [
              0.6666666666666666,
              "#ed7953"
             ],
             [
              0.7777777777777778,
              "#fb9f3a"
             ],
             [
              0.8888888888888888,
              "#fdca26"
             ],
             [
              1,
              "#f0f921"
             ]
            ],
            "type": "heatmapgl"
           }
          ],
          "histogram": [
           {
            "marker": {
             "pattern": {
              "fillmode": "overlay",
              "size": 10,
              "solidity": 0.2
             }
            },
            "type": "histogram"
           }
          ],
          "histogram2d": [
           {
            "colorbar": {
             "outlinewidth": 0,
             "ticks": ""
            },
            "colorscale": [
             [
              0,
              "#0d0887"
             ],
             [
              0.1111111111111111,
              "#46039f"
             ],
             [
              0.2222222222222222,
              "#7201a8"
             ],
             [
              0.3333333333333333,
              "#9c179e"
             ],
             [
              0.4444444444444444,
              "#bd3786"
             ],
             [
              0.5555555555555556,
              "#d8576b"
             ],
             [
              0.6666666666666666,
              "#ed7953"
             ],
             [
              0.7777777777777778,
              "#fb9f3a"
             ],
             [
              0.8888888888888888,
              "#fdca26"
             ],
             [
              1,
              "#f0f921"
             ]
            ],
            "type": "histogram2d"
           }
          ],
          "histogram2dcontour": [
           {
            "colorbar": {
             "outlinewidth": 0,
             "ticks": ""
            },
            "colorscale": [
             [
              0,
              "#0d0887"
             ],
             [
              0.1111111111111111,
              "#46039f"
             ],
             [
              0.2222222222222222,
              "#7201a8"
             ],
             [
              0.3333333333333333,
              "#9c179e"
             ],
             [
              0.4444444444444444,
              "#bd3786"
             ],
             [
              0.5555555555555556,
              "#d8576b"
             ],
             [
              0.6666666666666666,
              "#ed7953"
             ],
             [
              0.7777777777777778,
              "#fb9f3a"
             ],
             [
              0.8888888888888888,
              "#fdca26"
             ],
             [
              1,
              "#f0f921"
             ]
            ],
            "type": "histogram2dcontour"
           }
          ],
          "mesh3d": [
           {
            "colorbar": {
             "outlinewidth": 0,
             "ticks": ""
            },
            "type": "mesh3d"
           }
          ],
          "parcoords": [
           {
            "line": {
             "colorbar": {
              "outlinewidth": 0,
              "ticks": ""
             }
            },
            "type": "parcoords"
           }
          ],
          "pie": [
           {
            "automargin": true,
            "type": "pie"
           }
          ],
          "scatter": [
           {
            "marker": {
             "colorbar": {
              "outlinewidth": 0,
              "ticks": ""
             }
            },
            "type": "scatter"
           }
          ],
          "scatter3d": [
           {
            "line": {
             "colorbar": {
              "outlinewidth": 0,
              "ticks": ""
             }
            },
            "marker": {
             "colorbar": {
              "outlinewidth": 0,
              "ticks": ""
             }
            },
            "type": "scatter3d"
           }
          ],
          "scattercarpet": [
           {
            "marker": {
             "colorbar": {
              "outlinewidth": 0,
              "ticks": ""
             }
            },
            "type": "scattercarpet"
           }
          ],
          "scattergeo": [
           {
            "marker": {
             "colorbar": {
              "outlinewidth": 0,
              "ticks": ""
             }
            },
            "type": "scattergeo"
           }
          ],
          "scattergl": [
           {
            "marker": {
             "colorbar": {
              "outlinewidth": 0,
              "ticks": ""
             }
            },
            "type": "scattergl"
           }
          ],
          "scattermapbox": [
           {
            "marker": {
             "colorbar": {
              "outlinewidth": 0,
              "ticks": ""
             }
            },
            "type": "scattermapbox"
           }
          ],
          "scatterpolar": [
           {
            "marker": {
             "colorbar": {
              "outlinewidth": 0,
              "ticks": ""
             }
            },
            "type": "scatterpolar"
           }
          ],
          "scatterpolargl": [
           {
            "marker": {
             "colorbar": {
              "outlinewidth": 0,
              "ticks": ""
             }
            },
            "type": "scatterpolargl"
           }
          ],
          "scatterternary": [
           {
            "marker": {
             "colorbar": {
              "outlinewidth": 0,
              "ticks": ""
             }
            },
            "type": "scatterternary"
           }
          ],
          "surface": [
           {
            "colorbar": {
             "outlinewidth": 0,
             "ticks": ""
            },
            "colorscale": [
             [
              0,
              "#0d0887"
             ],
             [
              0.1111111111111111,
              "#46039f"
             ],
             [
              0.2222222222222222,
              "#7201a8"
             ],
             [
              0.3333333333333333,
              "#9c179e"
             ],
             [
              0.4444444444444444,
              "#bd3786"
             ],
             [
              0.5555555555555556,
              "#d8576b"
             ],
             [
              0.6666666666666666,
              "#ed7953"
             ],
             [
              0.7777777777777778,
              "#fb9f3a"
             ],
             [
              0.8888888888888888,
              "#fdca26"
             ],
             [
              1,
              "#f0f921"
             ]
            ],
            "type": "surface"
           }
          ],
          "table": [
           {
            "cells": {
             "fill": {
              "color": "#EBF0F8"
             },
             "line": {
              "color": "white"
             }
            },
            "header": {
             "fill": {
              "color": "#C8D4E3"
             },
             "line": {
              "color": "white"
             }
            },
            "type": "table"
           }
          ]
         },
         "layout": {
          "annotationdefaults": {
           "arrowcolor": "#2a3f5f",
           "arrowhead": 0,
           "arrowwidth": 1
          },
          "autotypenumbers": "strict",
          "coloraxis": {
           "colorbar": {
            "outlinewidth": 0,
            "ticks": ""
           }
          },
          "colorscale": {
           "diverging": [
            [
             0,
             "#8e0152"
            ],
            [
             0.1,
             "#c51b7d"
            ],
            [
             0.2,
             "#de77ae"
            ],
            [
             0.3,
             "#f1b6da"
            ],
            [
             0.4,
             "#fde0ef"
            ],
            [
             0.5,
             "#f7f7f7"
            ],
            [
             0.6,
             "#e6f5d0"
            ],
            [
             0.7,
             "#b8e186"
            ],
            [
             0.8,
             "#7fbc41"
            ],
            [
             0.9,
             "#4d9221"
            ],
            [
             1,
             "#276419"
            ]
           ],
           "sequential": [
            [
             0,
             "#0d0887"
            ],
            [
             0.1111111111111111,
             "#46039f"
            ],
            [
             0.2222222222222222,
             "#7201a8"
            ],
            [
             0.3333333333333333,
             "#9c179e"
            ],
            [
             0.4444444444444444,
             "#bd3786"
            ],
            [
             0.5555555555555556,
             "#d8576b"
            ],
            [
             0.6666666666666666,
             "#ed7953"
            ],
            [
             0.7777777777777778,
             "#fb9f3a"
            ],
            [
             0.8888888888888888,
             "#fdca26"
            ],
            [
             1,
             "#f0f921"
            ]
           ],
           "sequentialminus": [
            [
             0,
             "#0d0887"
            ],
            [
             0.1111111111111111,
             "#46039f"
            ],
            [
             0.2222222222222222,
             "#7201a8"
            ],
            [
             0.3333333333333333,
             "#9c179e"
            ],
            [
             0.4444444444444444,
             "#bd3786"
            ],
            [
             0.5555555555555556,
             "#d8576b"
            ],
            [
             0.6666666666666666,
             "#ed7953"
            ],
            [
             0.7777777777777778,
             "#fb9f3a"
            ],
            [
             0.8888888888888888,
             "#fdca26"
            ],
            [
             1,
             "#f0f921"
            ]
           ]
          },
          "colorway": [
           "#636efa",
           "#EF553B",
           "#00cc96",
           "#ab63fa",
           "#FFA15A",
           "#19d3f3",
           "#FF6692",
           "#B6E880",
           "#FF97FF",
           "#FECB52"
          ],
          "font": {
           "color": "#2a3f5f"
          },
          "geo": {
           "bgcolor": "white",
           "lakecolor": "white",
           "landcolor": "#E5ECF6",
           "showlakes": true,
           "showland": true,
           "subunitcolor": "white"
          },
          "hoverlabel": {
           "align": "left"
          },
          "hovermode": "closest",
          "mapbox": {
           "style": "light"
          },
          "paper_bgcolor": "white",
          "plot_bgcolor": "#E5ECF6",
          "polar": {
           "angularaxis": {
            "gridcolor": "white",
            "linecolor": "white",
            "ticks": ""
           },
           "bgcolor": "#E5ECF6",
           "radialaxis": {
            "gridcolor": "white",
            "linecolor": "white",
            "ticks": ""
           }
          },
          "scene": {
           "xaxis": {
            "backgroundcolor": "#E5ECF6",
            "gridcolor": "white",
            "gridwidth": 2,
            "linecolor": "white",
            "showbackground": true,
            "ticks": "",
            "zerolinecolor": "white"
           },
           "yaxis": {
            "backgroundcolor": "#E5ECF6",
            "gridcolor": "white",
            "gridwidth": 2,
            "linecolor": "white",
            "showbackground": true,
            "ticks": "",
            "zerolinecolor": "white"
           },
           "zaxis": {
            "backgroundcolor": "#E5ECF6",
            "gridcolor": "white",
            "gridwidth": 2,
            "linecolor": "white",
            "showbackground": true,
            "ticks": "",
            "zerolinecolor": "white"
           }
          },
          "shapedefaults": {
           "line": {
            "color": "#2a3f5f"
           }
          },
          "ternary": {
           "aaxis": {
            "gridcolor": "white",
            "linecolor": "white",
            "ticks": ""
           },
           "baxis": {
            "gridcolor": "white",
            "linecolor": "white",
            "ticks": ""
           },
           "bgcolor": "#E5ECF6",
           "caxis": {
            "gridcolor": "white",
            "linecolor": "white",
            "ticks": ""
           }
          },
          "title": {
           "x": 0.05
          },
          "xaxis": {
           "automargin": true,
           "gridcolor": "white",
           "linecolor": "white",
           "ticks": "",
           "title": {
            "standoff": 15
           },
           "zerolinecolor": "white",
           "zerolinewidth": 2
          },
          "yaxis": {
           "automargin": true,
           "gridcolor": "white",
           "linecolor": "white",
           "ticks": "",
           "title": {
            "standoff": 15
           },
           "zerolinecolor": "white",
           "zerolinewidth": 2
          }
         }
        },
        "xaxis": {
         "anchor": "y",
         "domain": [
          0,
          1
         ],
         "title": {
          "text": "Year"
         }
        },
        "yaxis": {
         "anchor": "x",
         "domain": [
          0,
          1
         ],
         "title": {
          "text": "Price"
         }
        }
       }
      },
      "text/html": [
       "<div>                            <div id=\"e8e57205-e4a5-4738-a1e9-8f89d9ccee0c\" class=\"plotly-graph-div\" style=\"height:525px; width:100%;\"></div>            <script type=\"text/javascript\">                require([\"plotly\"], function(Plotly) {                    window.PLOTLYENV=window.PLOTLYENV || {};                                    if (document.getElementById(\"e8e57205-e4a5-4738-a1e9-8f89d9ccee0c\")) {                    Plotly.newPlot(                        \"e8e57205-e4a5-4738-a1e9-8f89d9ccee0c\",                        [{\"alignmentgroup\":\"True\",\"hovertemplate\":\"Year=%{x}<br>Price=%{y}<extra></extra>\",\"legendgroup\":\"\",\"marker\":{\"color\":\"#636efa\"},\"name\":\"\",\"notched\":false,\"offsetgroup\":\"\",\"orientation\":\"v\",\"showlegend\":false,\"x\":[2017,2011,2011,2011,2011,2011,2011,2011,2012,2012,2012,2012,2012,2012,2012,2012,2012,2013,2013,2013,2013,2020,2013,2014,2014,2014,2014,2014,2014,2014,2014,2014,2014,2014,2014,2014,2014,2014,2014,2014,2014,2014,2014,2014,2014,2014,2015,2015,2015,2015,2015,2015,2015,2015,2015,2015,2015,2015,2015,2015,2015,2015,2015,2016,2016,2016,2016,2016,2016,2016,2016,2016,2016,2016,2016,2016,2016,2016,2016,2016,2016,2016,2016,2016,2016,2016,2016,2016,2016,2017,2017,2017,2017,2017,2017,2017,2017,2017,2017,2017,2017,2017,2017,2017,2017,2017,2017,2017,2017,2017,2017,2017,2017,2017,2017,2017,2017,2017,2017,2017,2017,2017,2017,2017,2017,2017,2017,2017,2017,2017,2017,2017,2017,2017,2017,2017,2017,2017,2017,2017,2017,2017,2017,2017,2017,2017,2017,2017,2017,2017,2017,2018,2018,2018,2018,2018,2018,2018,2018,2018,2018,2018,2018,2018,2018,2018,2018,2018,2018,2018,2018,2018,2018,2018,2018,2018,2018,2018,2018,2018,2018,2018,2018,2018,2018,2018,2018,2018,2018,2018,2018,2018,2018,2018,2018,2018,2018,2018,2018,2018,2018,2018,2018,2018,2018,2018,2018,2018,2018,2018,2018,2018,2018,2018,2018,2018,2019,2019,2019,2019,2019,2019,2019,2019,2019,2019,2019,2019,2019,2019,2019,2019,2019,2019,2019,2019,2019,2019,2019,2019,2019,2019,2019,2019,2019,2019,2019,2019,2019,2019,2019,2019,2019,2019,2019,2019,2019,2019,2019,2019,2019,2019,2019,2019,2019,2019,2019,2019,2019,2019,2019,2019,2019,2019,2019,2019,2019,2019,2019,2019,2019,2019,2019,2019,2019,2019,2019,2019,2019,2019,2019,2019,2019,2019,2019,2019,2019,2019,2019,2019,2019,2019,2019,2019,2019,2019,2019,2019,2019,2019,2019,2019,2020,2020,2020,2020,2020,2020,2020,2020,2020,2020,2020,2020,2020,2020,2020,2020,2020,2020,2020,2020,2020,2020,2020,2020,2020,2020,2020,2020,2020,2020,2020,2020,2020,2020,2020,2020,2020,2020,2020,2020,2020,2020,2020,2020,2020,2020,2020,2020,2020,2020,2020,2020,2020,2020,2020,2020,2020,2020,2020,2020,2020,2020,2021,2021,2021,2021,2021,2021,2021,2021,2021,2021,2021,2021,2021,2021,2021,2021,2021,2021,2021,2021,2021,2021,2021,2021,2021,2021,2021,2021,2021,2021,2021,2021,2021,2021,2021,2021,2021,2021,2021,2021,2021,2021,2021,2021,2021,2021,2021,2021,2021,2021,2021,2021,2021,2021,2021,2021,2021,2021,2021,2021,2021,2021,2021,2021,2021,2021,2021,2021,2021,2021,2022,2022,2022,2022,2022,2022,2022,2022,2022,2022,2022,2022,2022,2022,2022,2022,2022,2022,2022,2022,2022,2022,2022,2022,2022,2022,2022,2022,2022,2022,2022,2022,2022,2022,2022,2022,2022,2022,2022,2022,2022,2022,2022,2022,2022,2022,2022,2022,2022,2022,2022,2022,2022,2022,2022,2022,2022,2022,2022,2022,2022,2022,2022,2022,2022,2022,2022,2022,2022,2022,2022,2022,2022,2022,2022,2022,2012,2012,2013,2013,2013,2013,2014,2014,2014,2014,2014,2015,2015,2015,2015,2015,2015,2015,2015,2015,2015,2015,2016,2016,2016,2017,2017,2017,2017,2017,2017,2017,2017,2017,2017,2017,2017,2017,2017,2017,2018,2018,2018,2018,2018,2018,2018,2018,2018,2018,2018,2018,2018,2018,2018,2018,2018,2018,2019,2019,2019,2019,2019,2019,2019,2019,2019,2019,2019,2019,2019,2019,2019,2019,2019,2019,2019,2019,2019,2020,2020,2020,2020,2020,2020,2020,2020,2020,2020,2020,2020,2020,2021,2021,2021,2021,2021,2021,2021,2021,2021,2021,2021,2021,2021,2021,2021,2021,2021,2021,2021,2021,2021,2021,2022,2022,2022,2022,2022,2022,2022,2022,2022,2022,2022,2022,2022,2011,2013,2014,2014,2015,2015,2015,2016,2017,2017,2017,2017,2017,2017,2017,2017,2018,2018,2018,2018,2018,2018,2019,2019,2020,2021,2021],\"x0\":\" \",\"xaxis\":\"x\",\"y\":[168882,135995,91991,979000,79881,179000,137900,102500,76898,119991,83900,108980,89978,79999,79991,104991,122997,139480,80995,89000,74995,128990,79900,144900,159000,149898,96998,87991,82900,89900,91900,76900,159000,88922,149900,108800,148536,127991,145000,148668,93992,139900,76900,148998,128000,119995,124900,134900,99995,125991,179898,138898,109900,151900,159000,95991,145900,157995,84888,123000,118994,117898,125998,225991,128798,134998,97495,106991,129994,159680,147000,139950,156994,105900,122898,134000,118000,499900,127995,143900,112991,115995,124490,141991,155995,138992,92900,136260,139991,176888,139991,158900,168882,169881,105995,116780,109898,112995,98995,114998,120900,113993,169458,92995,120900,145991,104998,94981,109900,168992,207900,114985,109984,102900,97500,112606,99800,116900,105035,119990,112991,171999,179888,101498,116089,118799,119000,117991,126723,144752,96000,92888,120993,109795,104998,95900,113000,119984,129997,89988,129465,100998,119898,116415,98990,149990,119985,104998,87898,176998,109900,197888,247275,199900,193482,143998,239881,212991,194888,209900,229898,199990,134998,124950,179990,174890,116997,113994,128143,129693,174900,131998,144991,135960,164991,169899,146994,219399,214900,119900,187900,149998,133500,201888,234999,128500,223995,123380,199947,139900,152900,118980,99790,188900,194445,206309,214900,138798,249000,164900,155898,98994,154700,98981,134994,130995,128776,98995,168900,122821,107995,114900,218897,165995,129900,234898,133327,199998,219000,107299,99898,215000,124993,107988,109881,241991,109881,189766,269900,189980,385000,107812,139900,264991,176879,103900,124995,147900,149900,155995,170991,189900,153274,195759,167728,129981,173998,203900,142994,138283,117900,107991,151900,194899,199399,359995,199850,139880,239900,225911,154881,143981,269900,139392,155995,134991,245991,132991,119985,144898,157981,137992,202665,172790,163990,158100,229995,138892,139995,168900,429991,148115,385888,102500,145000,139898,128900,245820,136998,209989,194998,146977,139999,189995,181900,419950,289888,179985,425000,155000,119998,191994,128792,389898,99900,132898,134881,94990,134999,204898,256550,142995,152881,149000,133992,137900,130991,137994,149000,169992,131898,148992,164900,164900,134981,154881,134998,137995,146991,121898,121998,147298,154990,129995,160034,119990,157775,157998,122981,153985,140656,164900,177000,149900,161995,165105,146650,136994,112867,158989,149985,145899,149998,159909,152999,156500,147995,143981,128990,149900,158477,145900,157220,146900,162226,139992,162900,133991,155990,129911,159995,156500,158995,139000,279000,282500,268269,263980,268998,271947,260992,289905,287900,274995,284496,219500,149992,279900,269990,158370,238597,159992,135000,146990,130400,212148,169992,144761,169988,235550,137790,279990,264900,289995,169995,141992,164999,152340,303798,222996,257500,139912,168991,163995,146988,167990,163992,291972,168992,208888,128881,239992,125999,274992,151900,259990,169995,161898,156900,143950,162912,142998,139950,153888,134911,154999,139995,147995,279888,279900,279900,205900,260000,288149,226887,266308,184898,279900,189995,184898,289888,277198,139995,158999,138995,329988,294900,329992,139988,307717,249995,299981,269901,193999,299992,289992,299999,215932,188990,219898,269900,209900,288500,179991,182995,169998,194998,159919,283721,204995,296498,299992,188800,264990,134990,279496,146887,229988,199990,171998,294888,199900,290000,161900,288715,143400,309999,199976,143500,279900,142305,278500,173981,195997,173591,286494,286671,225900,219897,169999,180992,339998,174881,170495,219897,154992,350000,219898,199595,329898,69991,94900,69900,88900,120000,86981,169777,80990,153788,85995,124849,124226,149357,117999,165620,152900,89900,136900,159788,119900,89900,87888,127791,137000,155000,179911,103995,95900,118995,89900,127898,189000,99998,98998,181122,106900,117499,135144,94988,180999,199991,249900,89998,109995,139788,186990,188790,132900,151732,137695,174900,165990,148788,189460,191900,214900,98899,156955,139996,184998,116888,194999,120424,203995,252900,265000,150782,164900,132981,173900,102222,389900,169900,132991,136211,148888,182955,102900,140744,163312,155900,149900,179998,151900,144900,156900,130991,155783,127990,127900,118990,160900,264911,136911,279900,249991,146788,151429,157788,292998,259899,149900,140499,158489,129600,264900,257999,279000,250000,249988,229880,139788,159888,269000,285911,134999,151000,299900,242991,279981,284900,255990,139900,295568,202500,289900,279900,74900,89900,138791,127900,95991,126981,143887,164781,94911,105980,124900,105719,124981,114994,119198,103900,141685,187900,116900,141865,205911,195987,149900,207952,143620,132896,239911],\"y0\":\" \",\"yaxis\":\"y\",\"type\":\"box\"}],                        {\"template\":{\"data\":{\"bar\":[{\"error_x\":{\"color\":\"#2a3f5f\"},\"error_y\":{\"color\":\"#2a3f5f\"},\"marker\":{\"line\":{\"color\":\"#E5ECF6\",\"width\":0.5},\"pattern\":{\"fillmode\":\"overlay\",\"size\":10,\"solidity\":0.2}},\"type\":\"bar\"}],\"barpolar\":[{\"marker\":{\"line\":{\"color\":\"#E5ECF6\",\"width\":0.5},\"pattern\":{\"fillmode\":\"overlay\",\"size\":10,\"solidity\":0.2}},\"type\":\"barpolar\"}],\"carpet\":[{\"aaxis\":{\"endlinecolor\":\"#2a3f5f\",\"gridcolor\":\"white\",\"linecolor\":\"white\",\"minorgridcolor\":\"white\",\"startlinecolor\":\"#2a3f5f\"},\"baxis\":{\"endlinecolor\":\"#2a3f5f\",\"gridcolor\":\"white\",\"linecolor\":\"white\",\"minorgridcolor\":\"white\",\"startlinecolor\":\"#2a3f5f\"},\"type\":\"carpet\"}],\"choropleth\":[{\"colorbar\":{\"outlinewidth\":0,\"ticks\":\"\"},\"type\":\"choropleth\"}],\"contour\":[{\"colorbar\":{\"outlinewidth\":0,\"ticks\":\"\"},\"colorscale\":[[0.0,\"#0d0887\"],[0.1111111111111111,\"#46039f\"],[0.2222222222222222,\"#7201a8\"],[0.3333333333333333,\"#9c179e\"],[0.4444444444444444,\"#bd3786\"],[0.5555555555555556,\"#d8576b\"],[0.6666666666666666,\"#ed7953\"],[0.7777777777777778,\"#fb9f3a\"],[0.8888888888888888,\"#fdca26\"],[1.0,\"#f0f921\"]],\"type\":\"contour\"}],\"contourcarpet\":[{\"colorbar\":{\"outlinewidth\":0,\"ticks\":\"\"},\"type\":\"contourcarpet\"}],\"heatmap\":[{\"colorbar\":{\"outlinewidth\":0,\"ticks\":\"\"},\"colorscale\":[[0.0,\"#0d0887\"],[0.1111111111111111,\"#46039f\"],[0.2222222222222222,\"#7201a8\"],[0.3333333333333333,\"#9c179e\"],[0.4444444444444444,\"#bd3786\"],[0.5555555555555556,\"#d8576b\"],[0.6666666666666666,\"#ed7953\"],[0.7777777777777778,\"#fb9f3a\"],[0.8888888888888888,\"#fdca26\"],[1.0,\"#f0f921\"]],\"type\":\"heatmap\"}],\"heatmapgl\":[{\"colorbar\":{\"outlinewidth\":0,\"ticks\":\"\"},\"colorscale\":[[0.0,\"#0d0887\"],[0.1111111111111111,\"#46039f\"],[0.2222222222222222,\"#7201a8\"],[0.3333333333333333,\"#9c179e\"],[0.4444444444444444,\"#bd3786\"],[0.5555555555555556,\"#d8576b\"],[0.6666666666666666,\"#ed7953\"],[0.7777777777777778,\"#fb9f3a\"],[0.8888888888888888,\"#fdca26\"],[1.0,\"#f0f921\"]],\"type\":\"heatmapgl\"}],\"histogram\":[{\"marker\":{\"pattern\":{\"fillmode\":\"overlay\",\"size\":10,\"solidity\":0.2}},\"type\":\"histogram\"}],\"histogram2d\":[{\"colorbar\":{\"outlinewidth\":0,\"ticks\":\"\"},\"colorscale\":[[0.0,\"#0d0887\"],[0.1111111111111111,\"#46039f\"],[0.2222222222222222,\"#7201a8\"],[0.3333333333333333,\"#9c179e\"],[0.4444444444444444,\"#bd3786\"],[0.5555555555555556,\"#d8576b\"],[0.6666666666666666,\"#ed7953\"],[0.7777777777777778,\"#fb9f3a\"],[0.8888888888888888,\"#fdca26\"],[1.0,\"#f0f921\"]],\"type\":\"histogram2d\"}],\"histogram2dcontour\":[{\"colorbar\":{\"outlinewidth\":0,\"ticks\":\"\"},\"colorscale\":[[0.0,\"#0d0887\"],[0.1111111111111111,\"#46039f\"],[0.2222222222222222,\"#7201a8\"],[0.3333333333333333,\"#9c179e\"],[0.4444444444444444,\"#bd3786\"],[0.5555555555555556,\"#d8576b\"],[0.6666666666666666,\"#ed7953\"],[0.7777777777777778,\"#fb9f3a\"],[0.8888888888888888,\"#fdca26\"],[1.0,\"#f0f921\"]],\"type\":\"histogram2dcontour\"}],\"mesh3d\":[{\"colorbar\":{\"outlinewidth\":0,\"ticks\":\"\"},\"type\":\"mesh3d\"}],\"parcoords\":[{\"line\":{\"colorbar\":{\"outlinewidth\":0,\"ticks\":\"\"}},\"type\":\"parcoords\"}],\"pie\":[{\"automargin\":true,\"type\":\"pie\"}],\"scatter\":[{\"marker\":{\"colorbar\":{\"outlinewidth\":0,\"ticks\":\"\"}},\"type\":\"scatter\"}],\"scatter3d\":[{\"line\":{\"colorbar\":{\"outlinewidth\":0,\"ticks\":\"\"}},\"marker\":{\"colorbar\":{\"outlinewidth\":0,\"ticks\":\"\"}},\"type\":\"scatter3d\"}],\"scattercarpet\":[{\"marker\":{\"colorbar\":{\"outlinewidth\":0,\"ticks\":\"\"}},\"type\":\"scattercarpet\"}],\"scattergeo\":[{\"marker\":{\"colorbar\":{\"outlinewidth\":0,\"ticks\":\"\"}},\"type\":\"scattergeo\"}],\"scattergl\":[{\"marker\":{\"colorbar\":{\"outlinewidth\":0,\"ticks\":\"\"}},\"type\":\"scattergl\"}],\"scattermapbox\":[{\"marker\":{\"colorbar\":{\"outlinewidth\":0,\"ticks\":\"\"}},\"type\":\"scattermapbox\"}],\"scatterpolar\":[{\"marker\":{\"colorbar\":{\"outlinewidth\":0,\"ticks\":\"\"}},\"type\":\"scatterpolar\"}],\"scatterpolargl\":[{\"marker\":{\"colorbar\":{\"outlinewidth\":0,\"ticks\":\"\"}},\"type\":\"scatterpolargl\"}],\"scatterternary\":[{\"marker\":{\"colorbar\":{\"outlinewidth\":0,\"ticks\":\"\"}},\"type\":\"scatterternary\"}],\"surface\":[{\"colorbar\":{\"outlinewidth\":0,\"ticks\":\"\"},\"colorscale\":[[0.0,\"#0d0887\"],[0.1111111111111111,\"#46039f\"],[0.2222222222222222,\"#7201a8\"],[0.3333333333333333,\"#9c179e\"],[0.4444444444444444,\"#bd3786\"],[0.5555555555555556,\"#d8576b\"],[0.6666666666666666,\"#ed7953\"],[0.7777777777777778,\"#fb9f3a\"],[0.8888888888888888,\"#fdca26\"],[1.0,\"#f0f921\"]],\"type\":\"surface\"}],\"table\":[{\"cells\":{\"fill\":{\"color\":\"#EBF0F8\"},\"line\":{\"color\":\"white\"}},\"header\":{\"fill\":{\"color\":\"#C8D4E3\"},\"line\":{\"color\":\"white\"}},\"type\":\"table\"}]},\"layout\":{\"annotationdefaults\":{\"arrowcolor\":\"#2a3f5f\",\"arrowhead\":0,\"arrowwidth\":1},\"autotypenumbers\":\"strict\",\"coloraxis\":{\"colorbar\":{\"outlinewidth\":0,\"ticks\":\"\"}},\"colorscale\":{\"diverging\":[[0,\"#8e0152\"],[0.1,\"#c51b7d\"],[0.2,\"#de77ae\"],[0.3,\"#f1b6da\"],[0.4,\"#fde0ef\"],[0.5,\"#f7f7f7\"],[0.6,\"#e6f5d0\"],[0.7,\"#b8e186\"],[0.8,\"#7fbc41\"],[0.9,\"#4d9221\"],[1,\"#276419\"]],\"sequential\":[[0.0,\"#0d0887\"],[0.1111111111111111,\"#46039f\"],[0.2222222222222222,\"#7201a8\"],[0.3333333333333333,\"#9c179e\"],[0.4444444444444444,\"#bd3786\"],[0.5555555555555556,\"#d8576b\"],[0.6666666666666666,\"#ed7953\"],[0.7777777777777778,\"#fb9f3a\"],[0.8888888888888888,\"#fdca26\"],[1.0,\"#f0f921\"]],\"sequentialminus\":[[0.0,\"#0d0887\"],[0.1111111111111111,\"#46039f\"],[0.2222222222222222,\"#7201a8\"],[0.3333333333333333,\"#9c179e\"],[0.4444444444444444,\"#bd3786\"],[0.5555555555555556,\"#d8576b\"],[0.6666666666666666,\"#ed7953\"],[0.7777777777777778,\"#fb9f3a\"],[0.8888888888888888,\"#fdca26\"],[1.0,\"#f0f921\"]]},\"colorway\":[\"#636efa\",\"#EF553B\",\"#00cc96\",\"#ab63fa\",\"#FFA15A\",\"#19d3f3\",\"#FF6692\",\"#B6E880\",\"#FF97FF\",\"#FECB52\"],\"font\":{\"color\":\"#2a3f5f\"},\"geo\":{\"bgcolor\":\"white\",\"lakecolor\":\"white\",\"landcolor\":\"#E5ECF6\",\"showlakes\":true,\"showland\":true,\"subunitcolor\":\"white\"},\"hoverlabel\":{\"align\":\"left\"},\"hovermode\":\"closest\",\"mapbox\":{\"style\":\"light\"},\"paper_bgcolor\":\"white\",\"plot_bgcolor\":\"#E5ECF6\",\"polar\":{\"angularaxis\":{\"gridcolor\":\"white\",\"linecolor\":\"white\",\"ticks\":\"\"},\"bgcolor\":\"#E5ECF6\",\"radialaxis\":{\"gridcolor\":\"white\",\"linecolor\":\"white\",\"ticks\":\"\"}},\"scene\":{\"xaxis\":{\"backgroundcolor\":\"#E5ECF6\",\"gridcolor\":\"white\",\"gridwidth\":2,\"linecolor\":\"white\",\"showbackground\":true,\"ticks\":\"\",\"zerolinecolor\":\"white\"},\"yaxis\":{\"backgroundcolor\":\"#E5ECF6\",\"gridcolor\":\"white\",\"gridwidth\":2,\"linecolor\":\"white\",\"showbackground\":true,\"ticks\":\"\",\"zerolinecolor\":\"white\"},\"zaxis\":{\"backgroundcolor\":\"#E5ECF6\",\"gridcolor\":\"white\",\"gridwidth\":2,\"linecolor\":\"white\",\"showbackground\":true,\"ticks\":\"\",\"zerolinecolor\":\"white\"}},\"shapedefaults\":{\"line\":{\"color\":\"#2a3f5f\"}},\"ternary\":{\"aaxis\":{\"gridcolor\":\"white\",\"linecolor\":\"white\",\"ticks\":\"\"},\"baxis\":{\"gridcolor\":\"white\",\"linecolor\":\"white\",\"ticks\":\"\"},\"bgcolor\":\"#E5ECF6\",\"caxis\":{\"gridcolor\":\"white\",\"linecolor\":\"white\",\"ticks\":\"\"}},\"title\":{\"x\":0.05},\"xaxis\":{\"automargin\":true,\"gridcolor\":\"white\",\"linecolor\":\"white\",\"ticks\":\"\",\"title\":{\"standoff\":15},\"zerolinecolor\":\"white\",\"zerolinewidth\":2},\"yaxis\":{\"automargin\":true,\"gridcolor\":\"white\",\"linecolor\":\"white\",\"ticks\":\"\",\"title\":{\"standoff\":15},\"zerolinecolor\":\"white\",\"zerolinewidth\":2}}},\"xaxis\":{\"anchor\":\"y\",\"domain\":[0.0,1.0],\"title\":{\"text\":\"Year\"}},\"yaxis\":{\"anchor\":\"x\",\"domain\":[0.0,1.0],\"title\":{\"text\":\"Price\"}},\"legend\":{\"tracegroupgap\":0},\"margin\":{\"t\":60},\"boxmode\":\"group\"},                        {\"responsive\": true}                    ).then(function(){\n",
       "                            \n",
       "var gd = document.getElementById('e8e57205-e4a5-4738-a1e9-8f89d9ccee0c');\n",
       "var x = new MutationObserver(function (mutations, observer) {{\n",
       "        var display = window.getComputedStyle(gd).display;\n",
       "        if (!display || display === 'none') {{\n",
       "            console.log([gd, 'removed!']);\n",
       "            Plotly.purge(gd);\n",
       "            observer.disconnect();\n",
       "        }}\n",
       "}});\n",
       "\n",
       "// Listen for the removal of the full notebook cells\n",
       "var notebookContainer = gd.closest('#notebook-container');\n",
       "if (notebookContainer) {{\n",
       "    x.observe(notebookContainer, {childList: true});\n",
       "}}\n",
       "\n",
       "// Listen for the clearing of the current output cell\n",
       "var outputEl = gd.closest('.output');\n",
       "if (outputEl) {{\n",
       "    x.observe(outputEl, {childList: true});\n",
       "}}\n",
       "\n",
       "                        })                };                });            </script>        </div>"
      ]
     },
     "metadata": {},
     "output_type": "display_data"
    },
    {
     "data": {
      "application/vnd.plotly.v1+json": {
       "config": {
        "plotlyServerURL": "https://plot.ly"
       },
       "data": [
        {
         "alignmentgroup": "True",
         "hovertemplate": "Model_type=%{x}<br>Price=%{y}<extra></extra>",
         "legendgroup": "",
         "marker": {
          "color": "#636efa"
         },
         "name": "",
         "notched": false,
         "offsetgroup": "",
         "orientation": "v",
         "showlegend": false,
         "type": "box",
         "x": [
          "2016~2018",
          "2010~2011",
          "2010~2011",
          "2010~2011",
          "2010~2011",
          "2010~2011",
          "2010~2011",
          "2010~2011",
          "2012~2015",
          "2012~2015",
          "2012~2015",
          "2012~2015",
          "2012~2015",
          "2012~2015",
          "2012~2015",
          "2012~2015",
          "2012~2015",
          "2012~2015",
          "2012~2015",
          "2012~2015",
          "2012~2015",
          "2019~2022",
          "2012~2015",
          "2012~2015",
          "2012~2015",
          "2012~2015",
          "2012~2015",
          "2012~2015",
          "2012~2015",
          "2012~2015",
          "2012~2015",
          "2012~2015",
          "2012~2015",
          "2012~2015",
          "2012~2015",
          "2012~2015",
          "2012~2015",
          "2012~2015",
          "2012~2015",
          "2012~2015",
          "2012~2015",
          "2012~2015",
          "2012~2015",
          "2012~2015",
          "2012~2015",
          "2012~2015",
          "2012~2015",
          "2012~2015",
          "2012~2015",
          "2012~2015",
          "2012~2015",
          "2012~2015",
          "2012~2015",
          "2012~2015",
          "2012~2015",
          "2012~2015",
          "2012~2015",
          "2012~2015",
          "2012~2015",
          "2012~2015",
          "2012~2015",
          "2012~2015",
          "2012~2015",
          "2016~2018",
          "2016~2018",
          "2016~2018",
          "2016~2018",
          "2016~2018",
          "2016~2018",
          "2016~2018",
          "2016~2018",
          "2016~2018",
          "2016~2018",
          "2016~2018",
          "2016~2018",
          "2016~2018",
          "2016~2018",
          "2016~2018",
          "2016~2018",
          "2016~2018",
          "2016~2018",
          "2016~2018",
          "2016~2018",
          "2016~2018",
          "2016~2018",
          "2016~2018",
          "2016~2018",
          "2016~2018",
          "2016~2018",
          "2016~2018",
          "2016~2018",
          "2016~2018",
          "2016~2018",
          "2016~2018",
          "2016~2018",
          "2016~2018",
          "2016~2018",
          "2016~2018",
          "2016~2018",
          "2016~2018",
          "2016~2018",
          "2016~2018",
          "2016~2018",
          "2016~2018",
          "2016~2018",
          "2016~2018",
          "2016~2018",
          "2016~2018",
          "2016~2018",
          "2016~2018",
          "2016~2018",
          "2016~2018",
          "2016~2018",
          "2016~2018",
          "2016~2018",
          "2016~2018",
          "2016~2018",
          "2016~2018",
          "2016~2018",
          "2016~2018",
          "2016~2018",
          "2016~2018",
          "2016~2018",
          "2016~2018",
          "2016~2018",
          "2016~2018",
          "2016~2018",
          "2016~2018",
          "2016~2018",
          "2016~2018",
          "2016~2018",
          "2016~2018",
          "2016~2018",
          "2016~2018",
          "2016~2018",
          "2016~2018",
          "2016~2018",
          "2016~2018",
          "2016~2018",
          "2016~2018",
          "2016~2018",
          "2016~2018",
          "2016~2018",
          "2016~2018",
          "2016~2018",
          "2016~2018",
          "2016~2018",
          "2016~2018",
          "2016~2018",
          "2016~2018",
          "2016~2018",
          "2016~2018",
          "2016~2018",
          "2016~2018",
          "2016~2018",
          "2016~2018",
          "2016~2018",
          "2016~2018",
          "2016~2018",
          "2016~2018",
          "2016~2018",
          "2016~2018",
          "2016~2018",
          "2016~2018",
          "2016~2018",
          "2016~2018",
          "2016~2018",
          "2016~2018",
          "2016~2018",
          "2016~2018",
          "2016~2018",
          "2016~2018",
          "2016~2018",
          "2016~2018",
          "2016~2018",
          "2016~2018",
          "2016~2018",
          "2016~2018",
          "2016~2018",
          "2016~2018",
          "2016~2018",
          "2016~2018",
          "2016~2018",
          "2016~2018",
          "2016~2018",
          "2016~2018",
          "2016~2018",
          "2016~2018",
          "2016~2018",
          "2016~2018",
          "2016~2018",
          "2016~2018",
          "2016~2018",
          "2016~2018",
          "2016~2018",
          "2016~2018",
          "2016~2018",
          "2016~2018",
          "2016~2018",
          "2016~2018",
          "2016~2018",
          "2016~2018",
          "2016~2018",
          "2016~2018",
          "2016~2018",
          "2016~2018",
          "2016~2018",
          "2016~2018",
          "2016~2018",
          "2016~2018",
          "2016~2018",
          "2016~2018",
          "2016~2018",
          "2016~2018",
          "2016~2018",
          "2016~2018",
          "2019~2022",
          "2019~2022",
          "2019~2022",
          "2019~2022",
          "2019~2022",
          "2019~2022",
          "2019~2022",
          "2019~2022",
          "2019~2022",
          "2019~2022",
          "2019~2022",
          "2019~2022",
          "2019~2022",
          "2019~2022",
          "2019~2022",
          "2019~2022",
          "2019~2022",
          "2019~2022",
          "2019~2022",
          "2019~2022",
          "2019~2022",
          "2019~2022",
          "2019~2022",
          "2019~2022",
          "2019~2022",
          "2019~2022",
          "2019~2022",
          "2019~2022",
          "2019~2022",
          "2019~2022",
          "2019~2022",
          "2019~2022",
          "2019~2022",
          "2019~2022",
          "2019~2022",
          "2019~2022",
          "2019~2022",
          "2019~2022",
          "2019~2022",
          "2019~2022",
          "2019~2022",
          "2019~2022",
          "2019~2022",
          "2019~2022",
          "2019~2022",
          "2019~2022",
          "2019~2022",
          "2019~2022",
          "2019~2022",
          "2019~2022",
          "2019~2022",
          "2019~2022",
          "2019~2022",
          "2019~2022",
          "2019~2022",
          "2019~2022",
          "2019~2022",
          "2019~2022",
          "2019~2022",
          "2019~2022",
          "2019~2022",
          "2019~2022",
          "2019~2022",
          "2019~2022",
          "2019~2022",
          "2019~2022",
          "2019~2022",
          "2019~2022",
          "2019~2022",
          "2019~2022",
          "2019~2022",
          "2019~2022",
          "2019~2022",
          "2019~2022",
          "2019~2022",
          "2019~2022",
          "2019~2022",
          "2019~2022",
          "2019~2022",
          "2019~2022",
          "2019~2022",
          "2019~2022",
          "2019~2022",
          "2019~2022",
          "2019~2022",
          "2019~2022",
          "2019~2022",
          "2019~2022",
          "2019~2022",
          "2019~2022",
          "2019~2022",
          "2019~2022",
          "2019~2022",
          "2019~2022",
          "2019~2022",
          "2019~2022",
          "2019~2022",
          "2019~2022",
          "2019~2022",
          "2019~2022",
          "2019~2022",
          "2019~2022",
          "2019~2022",
          "2019~2022",
          "2019~2022",
          "2019~2022",
          "2019~2022",
          "2019~2022",
          "2019~2022",
          "2019~2022",
          "2019~2022",
          "2019~2022",
          "2019~2022",
          "2019~2022",
          "2019~2022",
          "2019~2022",
          "2019~2022",
          "2019~2022",
          "2019~2022",
          "2019~2022",
          "2019~2022",
          "2019~2022",
          "2019~2022",
          "2019~2022",
          "2019~2022",
          "2019~2022",
          "2019~2022",
          "2019~2022",
          "2019~2022",
          "2019~2022",
          "2019~2022",
          "2019~2022",
          "2019~2022",
          "2019~2022",
          "2019~2022",
          "2019~2022",
          "2019~2022",
          "2019~2022",
          "2019~2022",
          "2019~2022",
          "2019~2022",
          "2019~2022",
          "2019~2022",
          "2019~2022",
          "2019~2022",
          "2019~2022",
          "2019~2022",
          "2019~2022",
          "2019~2022",
          "2019~2022",
          "2019~2022",
          "2019~2022",
          "2019~2022",
          "2019~2022",
          "2019~2022",
          "2019~2022",
          "2019~2022",
          "2019~2022",
          "2019~2022",
          "2019~2022",
          "2019~2022",
          "2019~2022",
          "2019~2022",
          "2019~2022",
          "2019~2022",
          "2019~2022",
          "2019~2022",
          "2019~2022",
          "2019~2022",
          "2019~2022",
          "2019~2022",
          "2019~2022",
          "2019~2022",
          "2019~2022",
          "2019~2022",
          "2019~2022",
          "2019~2022",
          "2019~2022",
          "2019~2022",
          "2019~2022",
          "2019~2022",
          "2019~2022",
          "2019~2022",
          "2019~2022",
          "2019~2022",
          "2019~2022",
          "2019~2022",
          "2019~2022",
          "2019~2022",
          "2019~2022",
          "2019~2022",
          "2019~2022",
          "2019~2022",
          "2019~2022",
          "2019~2022",
          "2019~2022",
          "2019~2022",
          "2019~2022",
          "2019~2022",
          "2019~2022",
          "2019~2022",
          "2019~2022",
          "2019~2022",
          "2019~2022",
          "2019~2022",
          "2019~2022",
          "2019~2022",
          "2019~2022",
          "2019~2022",
          "2019~2022",
          "2019~2022",
          "2019~2022",
          "2019~2022",
          "2019~2022",
          "2019~2022",
          "2019~2022",
          "2019~2022",
          "2019~2022",
          "2019~2022",
          "2019~2022",
          "2019~2022",
          "2019~2022",
          "2019~2022",
          "2019~2022",
          "2019~2022",
          "2019~2022",
          "2019~2022",
          "2019~2022",
          "2019~2022",
          "2019~2022",
          "2019~2022",
          "2019~2022",
          "2019~2022",
          "2019~2022",
          "2019~2022",
          "2019~2022",
          "2019~2022",
          "2019~2022",
          "2019~2022",
          "2019~2022",
          "2019~2022",
          "2019~2022",
          "2019~2022",
          "2019~2022",
          "2019~2022",
          "2019~2022",
          "2019~2022",
          "2019~2022",
          "2019~2022",
          "2019~2022",
          "2019~2022",
          "2019~2022",
          "2019~2022",
          "2019~2022",
          "2019~2022",
          "2019~2022",
          "2019~2022",
          "2019~2022",
          "2019~2022",
          "2019~2022",
          "2019~2022",
          "2019~2022",
          "2019~2022",
          "2019~2022",
          "2019~2022",
          "2019~2022",
          "2019~2022",
          "2019~2022",
          "2019~2022",
          "2019~2022",
          "2019~2022",
          "2019~2022",
          "2019~2022",
          "2019~2022",
          "2019~2022",
          "2019~2022",
          "2019~2022",
          "2019~2022",
          "2019~2022",
          "2019~2022",
          "2019~2022",
          "2019~2022",
          "2019~2022",
          "2019~2022",
          "2019~2022",
          "2019~2022",
          "2019~2022",
          "2019~2022",
          "2019~2022",
          "2019~2022",
          "2019~2022",
          "2019~2022",
          "2019~2022",
          "2019~2022",
          "2019~2022",
          "2019~2022",
          "2019~2022",
          "2019~2022",
          "2019~2022",
          "2019~2022",
          "2019~2022",
          "2019~2022",
          "2019~2022",
          "2019~2022",
          "2012~2015",
          "2012~2015",
          "2012~2015",
          "2012~2015",
          "2012~2015",
          "2012~2015",
          "2012~2015",
          "2012~2015",
          "2012~2015",
          "2012~2015",
          "2012~2015",
          "2012~2015",
          "2012~2015",
          "2012~2015",
          "2012~2015",
          "2012~2015",
          "2012~2015",
          "2012~2015",
          "2012~2015",
          "2012~2015",
          "2012~2015",
          "2012~2015",
          "2016~2018",
          "2016~2018",
          "2016~2018",
          "2016~2018",
          "2016~2018",
          "2016~2018",
          "2016~2018",
          "2016~2018",
          "2016~2018",
          "2016~2018",
          "2016~2018",
          "2016~2018",
          "2016~2018",
          "2016~2018",
          "2016~2018",
          "2016~2018",
          "2016~2018",
          "2016~2018",
          "2016~2018",
          "2016~2018",
          "2016~2018",
          "2016~2018",
          "2016~2018",
          "2016~2018",
          "2016~2018",
          "2016~2018",
          "2016~2018",
          "2016~2018",
          "2016~2018",
          "2016~2018",
          "2016~2018",
          "2016~2018",
          "2016~2018",
          "2016~2018",
          "2016~2018",
          "2016~2018",
          "2019~2022",
          "2019~2022",
          "2019~2022",
          "2019~2022",
          "2019~2022",
          "2019~2022",
          "2019~2022",
          "2019~2022",
          "2019~2022",
          "2019~2022",
          "2019~2022",
          "2019~2022",
          "2019~2022",
          "2019~2022",
          "2019~2022",
          "2019~2022",
          "2019~2022",
          "2019~2022",
          "2019~2022",
          "2019~2022",
          "2019~2022",
          "2019~2022",
          "2019~2022",
          "2019~2022",
          "2019~2022",
          "2019~2022",
          "2019~2022",
          "2019~2022",
          "2019~2022",
          "2019~2022",
          "2019~2022",
          "2019~2022",
          "2019~2022",
          "2019~2022",
          "2019~2022",
          "2019~2022",
          "2019~2022",
          "2019~2022",
          "2019~2022",
          "2019~2022",
          "2019~2022",
          "2019~2022",
          "2019~2022",
          "2019~2022",
          "2019~2022",
          "2019~2022",
          "2019~2022",
          "2019~2022",
          "2019~2022",
          "2019~2022",
          "2019~2022",
          "2019~2022",
          "2019~2022",
          "2019~2022",
          "2019~2022",
          "2019~2022",
          "2019~2022",
          "2019~2022",
          "2019~2022",
          "2019~2022",
          "2019~2022",
          "2019~2022",
          "2019~2022",
          "2019~2022",
          "2019~2022",
          "2019~2022",
          "2019~2022",
          "2019~2022",
          "2019~2022",
          "2010~2011",
          "2012~2015",
          "2012~2015",
          "2012~2015",
          "2012~2015",
          "2012~2015",
          "2012~2015",
          "2016~2018",
          "2016~2018",
          "2016~2018",
          "2016~2018",
          "2016~2018",
          "2016~2018",
          "2016~2018",
          "2016~2018",
          "2016~2018",
          "2016~2018",
          "2016~2018",
          "2016~2018",
          "2016~2018",
          "2016~2018",
          "2016~2018",
          "2019~2022",
          "2019~2022",
          "2019~2022",
          "2019~2022",
          "2019~2022"
         ],
         "x0": " ",
         "xaxis": "x",
         "y": [
          168882,
          135995,
          91991,
          979000,
          79881,
          179000,
          137900,
          102500,
          76898,
          119991,
          83900,
          108980,
          89978,
          79999,
          79991,
          104991,
          122997,
          139480,
          80995,
          89000,
          74995,
          128990,
          79900,
          144900,
          159000,
          149898,
          96998,
          87991,
          82900,
          89900,
          91900,
          76900,
          159000,
          88922,
          149900,
          108800,
          148536,
          127991,
          145000,
          148668,
          93992,
          139900,
          76900,
          148998,
          128000,
          119995,
          124900,
          134900,
          99995,
          125991,
          179898,
          138898,
          109900,
          151900,
          159000,
          95991,
          145900,
          157995,
          84888,
          123000,
          118994,
          117898,
          125998,
          225991,
          128798,
          134998,
          97495,
          106991,
          129994,
          159680,
          147000,
          139950,
          156994,
          105900,
          122898,
          134000,
          118000,
          499900,
          127995,
          143900,
          112991,
          115995,
          124490,
          141991,
          155995,
          138992,
          92900,
          136260,
          139991,
          176888,
          139991,
          158900,
          168882,
          169881,
          105995,
          116780,
          109898,
          112995,
          98995,
          114998,
          120900,
          113993,
          169458,
          92995,
          120900,
          145991,
          104998,
          94981,
          109900,
          168992,
          207900,
          114985,
          109984,
          102900,
          97500,
          112606,
          99800,
          116900,
          105035,
          119990,
          112991,
          171999,
          179888,
          101498,
          116089,
          118799,
          119000,
          117991,
          126723,
          144752,
          96000,
          92888,
          120993,
          109795,
          104998,
          95900,
          113000,
          119984,
          129997,
          89988,
          129465,
          100998,
          119898,
          116415,
          98990,
          149990,
          119985,
          104998,
          87898,
          176998,
          109900,
          197888,
          247275,
          199900,
          193482,
          143998,
          239881,
          212991,
          194888,
          209900,
          229898,
          199990,
          134998,
          124950,
          179990,
          174890,
          116997,
          113994,
          128143,
          129693,
          174900,
          131998,
          144991,
          135960,
          164991,
          169899,
          146994,
          219399,
          214900,
          119900,
          187900,
          149998,
          133500,
          201888,
          234999,
          128500,
          223995,
          123380,
          199947,
          139900,
          152900,
          118980,
          99790,
          188900,
          194445,
          206309,
          214900,
          138798,
          249000,
          164900,
          155898,
          98994,
          154700,
          98981,
          134994,
          130995,
          128776,
          98995,
          168900,
          122821,
          107995,
          114900,
          218897,
          165995,
          129900,
          234898,
          133327,
          199998,
          219000,
          107299,
          99898,
          215000,
          124993,
          107988,
          109881,
          241991,
          109881,
          189766,
          269900,
          189980,
          385000,
          107812,
          139900,
          264991,
          176879,
          103900,
          124995,
          147900,
          149900,
          155995,
          170991,
          189900,
          153274,
          195759,
          167728,
          129981,
          173998,
          203900,
          142994,
          138283,
          117900,
          107991,
          151900,
          194899,
          199399,
          359995,
          199850,
          139880,
          239900,
          225911,
          154881,
          143981,
          269900,
          139392,
          155995,
          134991,
          245991,
          132991,
          119985,
          144898,
          157981,
          137992,
          202665,
          172790,
          163990,
          158100,
          229995,
          138892,
          139995,
          168900,
          429991,
          148115,
          385888,
          102500,
          145000,
          139898,
          128900,
          245820,
          136998,
          209989,
          194998,
          146977,
          139999,
          189995,
          181900,
          419950,
          289888,
          179985,
          425000,
          155000,
          119998,
          191994,
          128792,
          389898,
          99900,
          132898,
          134881,
          94990,
          134999,
          204898,
          256550,
          142995,
          152881,
          149000,
          133992,
          137900,
          130991,
          137994,
          149000,
          169992,
          131898,
          148992,
          164900,
          164900,
          134981,
          154881,
          134998,
          137995,
          146991,
          121898,
          121998,
          147298,
          154990,
          129995,
          160034,
          119990,
          157775,
          157998,
          122981,
          153985,
          140656,
          164900,
          177000,
          149900,
          161995,
          165105,
          146650,
          136994,
          112867,
          158989,
          149985,
          145899,
          149998,
          159909,
          152999,
          156500,
          147995,
          143981,
          128990,
          149900,
          158477,
          145900,
          157220,
          146900,
          162226,
          139992,
          162900,
          133991,
          155990,
          129911,
          159995,
          156500,
          158995,
          139000,
          279000,
          282500,
          268269,
          263980,
          268998,
          271947,
          260992,
          289905,
          287900,
          274995,
          284496,
          219500,
          149992,
          279900,
          269990,
          158370,
          238597,
          159992,
          135000,
          146990,
          130400,
          212148,
          169992,
          144761,
          169988,
          235550,
          137790,
          279990,
          264900,
          289995,
          169995,
          141992,
          164999,
          152340,
          303798,
          222996,
          257500,
          139912,
          168991,
          163995,
          146988,
          167990,
          163992,
          291972,
          168992,
          208888,
          128881,
          239992,
          125999,
          274992,
          151900,
          259990,
          169995,
          161898,
          156900,
          143950,
          162912,
          142998,
          139950,
          153888,
          134911,
          154999,
          139995,
          147995,
          279888,
          279900,
          279900,
          205900,
          260000,
          288149,
          226887,
          266308,
          184898,
          279900,
          189995,
          184898,
          289888,
          277198,
          139995,
          158999,
          138995,
          329988,
          294900,
          329992,
          139988,
          307717,
          249995,
          299981,
          269901,
          193999,
          299992,
          289992,
          299999,
          215932,
          188990,
          219898,
          269900,
          209900,
          288500,
          179991,
          182995,
          169998,
          194998,
          159919,
          283721,
          204995,
          296498,
          299992,
          188800,
          264990,
          134990,
          279496,
          146887,
          229988,
          199990,
          171998,
          294888,
          199900,
          290000,
          161900,
          288715,
          143400,
          309999,
          199976,
          143500,
          279900,
          142305,
          278500,
          173981,
          195997,
          173591,
          286494,
          286671,
          225900,
          219897,
          169999,
          180992,
          339998,
          174881,
          170495,
          219897,
          154992,
          350000,
          219898,
          199595,
          329898,
          69991,
          94900,
          69900,
          88900,
          120000,
          86981,
          169777,
          80990,
          153788,
          85995,
          124849,
          124226,
          149357,
          117999,
          165620,
          152900,
          89900,
          136900,
          159788,
          119900,
          89900,
          87888,
          127791,
          137000,
          155000,
          179911,
          103995,
          95900,
          118995,
          89900,
          127898,
          189000,
          99998,
          98998,
          181122,
          106900,
          117499,
          135144,
          94988,
          180999,
          199991,
          249900,
          89998,
          109995,
          139788,
          186990,
          188790,
          132900,
          151732,
          137695,
          174900,
          165990,
          148788,
          189460,
          191900,
          214900,
          98899,
          156955,
          139996,
          184998,
          116888,
          194999,
          120424,
          203995,
          252900,
          265000,
          150782,
          164900,
          132981,
          173900,
          102222,
          389900,
          169900,
          132991,
          136211,
          148888,
          182955,
          102900,
          140744,
          163312,
          155900,
          149900,
          179998,
          151900,
          144900,
          156900,
          130991,
          155783,
          127990,
          127900,
          118990,
          160900,
          264911,
          136911,
          279900,
          249991,
          146788,
          151429,
          157788,
          292998,
          259899,
          149900,
          140499,
          158489,
          129600,
          264900,
          257999,
          279000,
          250000,
          249988,
          229880,
          139788,
          159888,
          269000,
          285911,
          134999,
          151000,
          299900,
          242991,
          279981,
          284900,
          255990,
          139900,
          295568,
          202500,
          289900,
          279900,
          74900,
          89900,
          138791,
          127900,
          95991,
          126981,
          143887,
          164781,
          94911,
          105980,
          124900,
          105719,
          124981,
          114994,
          119198,
          103900,
          141685,
          187900,
          116900,
          141865,
          205911,
          195987,
          149900,
          207952,
          143620,
          132896,
          239911
         ],
         "y0": " ",
         "yaxis": "y"
        }
       ],
       "layout": {
        "boxmode": "group",
        "legend": {
         "tracegroupgap": 0
        },
        "margin": {
         "t": 60
        },
        "template": {
         "data": {
          "bar": [
           {
            "error_x": {
             "color": "#2a3f5f"
            },
            "error_y": {
             "color": "#2a3f5f"
            },
            "marker": {
             "line": {
              "color": "#E5ECF6",
              "width": 0.5
             },
             "pattern": {
              "fillmode": "overlay",
              "size": 10,
              "solidity": 0.2
             }
            },
            "type": "bar"
           }
          ],
          "barpolar": [
           {
            "marker": {
             "line": {
              "color": "#E5ECF6",
              "width": 0.5
             },
             "pattern": {
              "fillmode": "overlay",
              "size": 10,
              "solidity": 0.2
             }
            },
            "type": "barpolar"
           }
          ],
          "carpet": [
           {
            "aaxis": {
             "endlinecolor": "#2a3f5f",
             "gridcolor": "white",
             "linecolor": "white",
             "minorgridcolor": "white",
             "startlinecolor": "#2a3f5f"
            },
            "baxis": {
             "endlinecolor": "#2a3f5f",
             "gridcolor": "white",
             "linecolor": "white",
             "minorgridcolor": "white",
             "startlinecolor": "#2a3f5f"
            },
            "type": "carpet"
           }
          ],
          "choropleth": [
           {
            "colorbar": {
             "outlinewidth": 0,
             "ticks": ""
            },
            "type": "choropleth"
           }
          ],
          "contour": [
           {
            "colorbar": {
             "outlinewidth": 0,
             "ticks": ""
            },
            "colorscale": [
             [
              0,
              "#0d0887"
             ],
             [
              0.1111111111111111,
              "#46039f"
             ],
             [
              0.2222222222222222,
              "#7201a8"
             ],
             [
              0.3333333333333333,
              "#9c179e"
             ],
             [
              0.4444444444444444,
              "#bd3786"
             ],
             [
              0.5555555555555556,
              "#d8576b"
             ],
             [
              0.6666666666666666,
              "#ed7953"
             ],
             [
              0.7777777777777778,
              "#fb9f3a"
             ],
             [
              0.8888888888888888,
              "#fdca26"
             ],
             [
              1,
              "#f0f921"
             ]
            ],
            "type": "contour"
           }
          ],
          "contourcarpet": [
           {
            "colorbar": {
             "outlinewidth": 0,
             "ticks": ""
            },
            "type": "contourcarpet"
           }
          ],
          "heatmap": [
           {
            "colorbar": {
             "outlinewidth": 0,
             "ticks": ""
            },
            "colorscale": [
             [
              0,
              "#0d0887"
             ],
             [
              0.1111111111111111,
              "#46039f"
             ],
             [
              0.2222222222222222,
              "#7201a8"
             ],
             [
              0.3333333333333333,
              "#9c179e"
             ],
             [
              0.4444444444444444,
              "#bd3786"
             ],
             [
              0.5555555555555556,
              "#d8576b"
             ],
             [
              0.6666666666666666,
              "#ed7953"
             ],
             [
              0.7777777777777778,
              "#fb9f3a"
             ],
             [
              0.8888888888888888,
              "#fdca26"
             ],
             [
              1,
              "#f0f921"
             ]
            ],
            "type": "heatmap"
           }
          ],
          "heatmapgl": [
           {
            "colorbar": {
             "outlinewidth": 0,
             "ticks": ""
            },
            "colorscale": [
             [
              0,
              "#0d0887"
             ],
             [
              0.1111111111111111,
              "#46039f"
             ],
             [
              0.2222222222222222,
              "#7201a8"
             ],
             [
              0.3333333333333333,
              "#9c179e"
             ],
             [
              0.4444444444444444,
              "#bd3786"
             ],
             [
              0.5555555555555556,
              "#d8576b"
             ],
             [
              0.6666666666666666,
              "#ed7953"
             ],
             [
              0.7777777777777778,
              "#fb9f3a"
             ],
             [
              0.8888888888888888,
              "#fdca26"
             ],
             [
              1,
              "#f0f921"
             ]
            ],
            "type": "heatmapgl"
           }
          ],
          "histogram": [
           {
            "marker": {
             "pattern": {
              "fillmode": "overlay",
              "size": 10,
              "solidity": 0.2
             }
            },
            "type": "histogram"
           }
          ],
          "histogram2d": [
           {
            "colorbar": {
             "outlinewidth": 0,
             "ticks": ""
            },
            "colorscale": [
             [
              0,
              "#0d0887"
             ],
             [
              0.1111111111111111,
              "#46039f"
             ],
             [
              0.2222222222222222,
              "#7201a8"
             ],
             [
              0.3333333333333333,
              "#9c179e"
             ],
             [
              0.4444444444444444,
              "#bd3786"
             ],
             [
              0.5555555555555556,
              "#d8576b"
             ],
             [
              0.6666666666666666,
              "#ed7953"
             ],
             [
              0.7777777777777778,
              "#fb9f3a"
             ],
             [
              0.8888888888888888,
              "#fdca26"
             ],
             [
              1,
              "#f0f921"
             ]
            ],
            "type": "histogram2d"
           }
          ],
          "histogram2dcontour": [
           {
            "colorbar": {
             "outlinewidth": 0,
             "ticks": ""
            },
            "colorscale": [
             [
              0,
              "#0d0887"
             ],
             [
              0.1111111111111111,
              "#46039f"
             ],
             [
              0.2222222222222222,
              "#7201a8"
             ],
             [
              0.3333333333333333,
              "#9c179e"
             ],
             [
              0.4444444444444444,
              "#bd3786"
             ],
             [
              0.5555555555555556,
              "#d8576b"
             ],
             [
              0.6666666666666666,
              "#ed7953"
             ],
             [
              0.7777777777777778,
              "#fb9f3a"
             ],
             [
              0.8888888888888888,
              "#fdca26"
             ],
             [
              1,
              "#f0f921"
             ]
            ],
            "type": "histogram2dcontour"
           }
          ],
          "mesh3d": [
           {
            "colorbar": {
             "outlinewidth": 0,
             "ticks": ""
            },
            "type": "mesh3d"
           }
          ],
          "parcoords": [
           {
            "line": {
             "colorbar": {
              "outlinewidth": 0,
              "ticks": ""
             }
            },
            "type": "parcoords"
           }
          ],
          "pie": [
           {
            "automargin": true,
            "type": "pie"
           }
          ],
          "scatter": [
           {
            "marker": {
             "colorbar": {
              "outlinewidth": 0,
              "ticks": ""
             }
            },
            "type": "scatter"
           }
          ],
          "scatter3d": [
           {
            "line": {
             "colorbar": {
              "outlinewidth": 0,
              "ticks": ""
             }
            },
            "marker": {
             "colorbar": {
              "outlinewidth": 0,
              "ticks": ""
             }
            },
            "type": "scatter3d"
           }
          ],
          "scattercarpet": [
           {
            "marker": {
             "colorbar": {
              "outlinewidth": 0,
              "ticks": ""
             }
            },
            "type": "scattercarpet"
           }
          ],
          "scattergeo": [
           {
            "marker": {
             "colorbar": {
              "outlinewidth": 0,
              "ticks": ""
             }
            },
            "type": "scattergeo"
           }
          ],
          "scattergl": [
           {
            "marker": {
             "colorbar": {
              "outlinewidth": 0,
              "ticks": ""
             }
            },
            "type": "scattergl"
           }
          ],
          "scattermapbox": [
           {
            "marker": {
             "colorbar": {
              "outlinewidth": 0,
              "ticks": ""
             }
            },
            "type": "scattermapbox"
           }
          ],
          "scatterpolar": [
           {
            "marker": {
             "colorbar": {
              "outlinewidth": 0,
              "ticks": ""
             }
            },
            "type": "scatterpolar"
           }
          ],
          "scatterpolargl": [
           {
            "marker": {
             "colorbar": {
              "outlinewidth": 0,
              "ticks": ""
             }
            },
            "type": "scatterpolargl"
           }
          ],
          "scatterternary": [
           {
            "marker": {
             "colorbar": {
              "outlinewidth": 0,
              "ticks": ""
             }
            },
            "type": "scatterternary"
           }
          ],
          "surface": [
           {
            "colorbar": {
             "outlinewidth": 0,
             "ticks": ""
            },
            "colorscale": [
             [
              0,
              "#0d0887"
             ],
             [
              0.1111111111111111,
              "#46039f"
             ],
             [
              0.2222222222222222,
              "#7201a8"
             ],
             [
              0.3333333333333333,
              "#9c179e"
             ],
             [
              0.4444444444444444,
              "#bd3786"
             ],
             [
              0.5555555555555556,
              "#d8576b"
             ],
             [
              0.6666666666666666,
              "#ed7953"
             ],
             [
              0.7777777777777778,
              "#fb9f3a"
             ],
             [
              0.8888888888888888,
              "#fdca26"
             ],
             [
              1,
              "#f0f921"
             ]
            ],
            "type": "surface"
           }
          ],
          "table": [
           {
            "cells": {
             "fill": {
              "color": "#EBF0F8"
             },
             "line": {
              "color": "white"
             }
            },
            "header": {
             "fill": {
              "color": "#C8D4E3"
             },
             "line": {
              "color": "white"
             }
            },
            "type": "table"
           }
          ]
         },
         "layout": {
          "annotationdefaults": {
           "arrowcolor": "#2a3f5f",
           "arrowhead": 0,
           "arrowwidth": 1
          },
          "autotypenumbers": "strict",
          "coloraxis": {
           "colorbar": {
            "outlinewidth": 0,
            "ticks": ""
           }
          },
          "colorscale": {
           "diverging": [
            [
             0,
             "#8e0152"
            ],
            [
             0.1,
             "#c51b7d"
            ],
            [
             0.2,
             "#de77ae"
            ],
            [
             0.3,
             "#f1b6da"
            ],
            [
             0.4,
             "#fde0ef"
            ],
            [
             0.5,
             "#f7f7f7"
            ],
            [
             0.6,
             "#e6f5d0"
            ],
            [
             0.7,
             "#b8e186"
            ],
            [
             0.8,
             "#7fbc41"
            ],
            [
             0.9,
             "#4d9221"
            ],
            [
             1,
             "#276419"
            ]
           ],
           "sequential": [
            [
             0,
             "#0d0887"
            ],
            [
             0.1111111111111111,
             "#46039f"
            ],
            [
             0.2222222222222222,
             "#7201a8"
            ],
            [
             0.3333333333333333,
             "#9c179e"
            ],
            [
             0.4444444444444444,
             "#bd3786"
            ],
            [
             0.5555555555555556,
             "#d8576b"
            ],
            [
             0.6666666666666666,
             "#ed7953"
            ],
            [
             0.7777777777777778,
             "#fb9f3a"
            ],
            [
             0.8888888888888888,
             "#fdca26"
            ],
            [
             1,
             "#f0f921"
            ]
           ],
           "sequentialminus": [
            [
             0,
             "#0d0887"
            ],
            [
             0.1111111111111111,
             "#46039f"
            ],
            [
             0.2222222222222222,
             "#7201a8"
            ],
            [
             0.3333333333333333,
             "#9c179e"
            ],
            [
             0.4444444444444444,
             "#bd3786"
            ],
            [
             0.5555555555555556,
             "#d8576b"
            ],
            [
             0.6666666666666666,
             "#ed7953"
            ],
            [
             0.7777777777777778,
             "#fb9f3a"
            ],
            [
             0.8888888888888888,
             "#fdca26"
            ],
            [
             1,
             "#f0f921"
            ]
           ]
          },
          "colorway": [
           "#636efa",
           "#EF553B",
           "#00cc96",
           "#ab63fa",
           "#FFA15A",
           "#19d3f3",
           "#FF6692",
           "#B6E880",
           "#FF97FF",
           "#FECB52"
          ],
          "font": {
           "color": "#2a3f5f"
          },
          "geo": {
           "bgcolor": "white",
           "lakecolor": "white",
           "landcolor": "#E5ECF6",
           "showlakes": true,
           "showland": true,
           "subunitcolor": "white"
          },
          "hoverlabel": {
           "align": "left"
          },
          "hovermode": "closest",
          "mapbox": {
           "style": "light"
          },
          "paper_bgcolor": "white",
          "plot_bgcolor": "#E5ECF6",
          "polar": {
           "angularaxis": {
            "gridcolor": "white",
            "linecolor": "white",
            "ticks": ""
           },
           "bgcolor": "#E5ECF6",
           "radialaxis": {
            "gridcolor": "white",
            "linecolor": "white",
            "ticks": ""
           }
          },
          "scene": {
           "xaxis": {
            "backgroundcolor": "#E5ECF6",
            "gridcolor": "white",
            "gridwidth": 2,
            "linecolor": "white",
            "showbackground": true,
            "ticks": "",
            "zerolinecolor": "white"
           },
           "yaxis": {
            "backgroundcolor": "#E5ECF6",
            "gridcolor": "white",
            "gridwidth": 2,
            "linecolor": "white",
            "showbackground": true,
            "ticks": "",
            "zerolinecolor": "white"
           },
           "zaxis": {
            "backgroundcolor": "#E5ECF6",
            "gridcolor": "white",
            "gridwidth": 2,
            "linecolor": "white",
            "showbackground": true,
            "ticks": "",
            "zerolinecolor": "white"
           }
          },
          "shapedefaults": {
           "line": {
            "color": "#2a3f5f"
           }
          },
          "ternary": {
           "aaxis": {
            "gridcolor": "white",
            "linecolor": "white",
            "ticks": ""
           },
           "baxis": {
            "gridcolor": "white",
            "linecolor": "white",
            "ticks": ""
           },
           "bgcolor": "#E5ECF6",
           "caxis": {
            "gridcolor": "white",
            "linecolor": "white",
            "ticks": ""
           }
          },
          "title": {
           "x": 0.05
          },
          "xaxis": {
           "automargin": true,
           "gridcolor": "white",
           "linecolor": "white",
           "ticks": "",
           "title": {
            "standoff": 15
           },
           "zerolinecolor": "white",
           "zerolinewidth": 2
          },
          "yaxis": {
           "automargin": true,
           "gridcolor": "white",
           "linecolor": "white",
           "ticks": "",
           "title": {
            "standoff": 15
           },
           "zerolinecolor": "white",
           "zerolinewidth": 2
          }
         }
        },
        "xaxis": {
         "anchor": "y",
         "domain": [
          0,
          1
         ],
         "title": {
          "text": "Model_type"
         }
        },
        "yaxis": {
         "anchor": "x",
         "domain": [
          0,
          1
         ],
         "title": {
          "text": "Price"
         }
        }
       }
      },
      "text/html": [
       "<div>                            <div id=\"718066f8-ff19-4064-b01c-c03ec226483f\" class=\"plotly-graph-div\" style=\"height:525px; width:100%;\"></div>            <script type=\"text/javascript\">                require([\"plotly\"], function(Plotly) {                    window.PLOTLYENV=window.PLOTLYENV || {};                                    if (document.getElementById(\"718066f8-ff19-4064-b01c-c03ec226483f\")) {                    Plotly.newPlot(                        \"718066f8-ff19-4064-b01c-c03ec226483f\",                        [{\"alignmentgroup\":\"True\",\"hovertemplate\":\"Model_type=%{x}<br>Price=%{y}<extra></extra>\",\"legendgroup\":\"\",\"marker\":{\"color\":\"#636efa\"},\"name\":\"\",\"notched\":false,\"offsetgroup\":\"\",\"orientation\":\"v\",\"showlegend\":false,\"x\":[\"2016~2018\",\"2010~2011\",\"2010~2011\",\"2010~2011\",\"2010~2011\",\"2010~2011\",\"2010~2011\",\"2010~2011\",\"2012~2015\",\"2012~2015\",\"2012~2015\",\"2012~2015\",\"2012~2015\",\"2012~2015\",\"2012~2015\",\"2012~2015\",\"2012~2015\",\"2012~2015\",\"2012~2015\",\"2012~2015\",\"2012~2015\",\"2019~2022\",\"2012~2015\",\"2012~2015\",\"2012~2015\",\"2012~2015\",\"2012~2015\",\"2012~2015\",\"2012~2015\",\"2012~2015\",\"2012~2015\",\"2012~2015\",\"2012~2015\",\"2012~2015\",\"2012~2015\",\"2012~2015\",\"2012~2015\",\"2012~2015\",\"2012~2015\",\"2012~2015\",\"2012~2015\",\"2012~2015\",\"2012~2015\",\"2012~2015\",\"2012~2015\",\"2012~2015\",\"2012~2015\",\"2012~2015\",\"2012~2015\",\"2012~2015\",\"2012~2015\",\"2012~2015\",\"2012~2015\",\"2012~2015\",\"2012~2015\",\"2012~2015\",\"2012~2015\",\"2012~2015\",\"2012~2015\",\"2012~2015\",\"2012~2015\",\"2012~2015\",\"2012~2015\",\"2016~2018\",\"2016~2018\",\"2016~2018\",\"2016~2018\",\"2016~2018\",\"2016~2018\",\"2016~2018\",\"2016~2018\",\"2016~2018\",\"2016~2018\",\"2016~2018\",\"2016~2018\",\"2016~2018\",\"2016~2018\",\"2016~2018\",\"2016~2018\",\"2016~2018\",\"2016~2018\",\"2016~2018\",\"2016~2018\",\"2016~2018\",\"2016~2018\",\"2016~2018\",\"2016~2018\",\"2016~2018\",\"2016~2018\",\"2016~2018\",\"2016~2018\",\"2016~2018\",\"2016~2018\",\"2016~2018\",\"2016~2018\",\"2016~2018\",\"2016~2018\",\"2016~2018\",\"2016~2018\",\"2016~2018\",\"2016~2018\",\"2016~2018\",\"2016~2018\",\"2016~2018\",\"2016~2018\",\"2016~2018\",\"2016~2018\",\"2016~2018\",\"2016~2018\",\"2016~2018\",\"2016~2018\",\"2016~2018\",\"2016~2018\",\"2016~2018\",\"2016~2018\",\"2016~2018\",\"2016~2018\",\"2016~2018\",\"2016~2018\",\"2016~2018\",\"2016~2018\",\"2016~2018\",\"2016~2018\",\"2016~2018\",\"2016~2018\",\"2016~2018\",\"2016~2018\",\"2016~2018\",\"2016~2018\",\"2016~2018\",\"2016~2018\",\"2016~2018\",\"2016~2018\",\"2016~2018\",\"2016~2018\",\"2016~2018\",\"2016~2018\",\"2016~2018\",\"2016~2018\",\"2016~2018\",\"2016~2018\",\"2016~2018\",\"2016~2018\",\"2016~2018\",\"2016~2018\",\"2016~2018\",\"2016~2018\",\"2016~2018\",\"2016~2018\",\"2016~2018\",\"2016~2018\",\"2016~2018\",\"2016~2018\",\"2016~2018\",\"2016~2018\",\"2016~2018\",\"2016~2018\",\"2016~2018\",\"2016~2018\",\"2016~2018\",\"2016~2018\",\"2016~2018\",\"2016~2018\",\"2016~2018\",\"2016~2018\",\"2016~2018\",\"2016~2018\",\"2016~2018\",\"2016~2018\",\"2016~2018\",\"2016~2018\",\"2016~2018\",\"2016~2018\",\"2016~2018\",\"2016~2018\",\"2016~2018\",\"2016~2018\",\"2016~2018\",\"2016~2018\",\"2016~2018\",\"2016~2018\",\"2016~2018\",\"2016~2018\",\"2016~2018\",\"2016~2018\",\"2016~2018\",\"2016~2018\",\"2016~2018\",\"2016~2018\",\"2016~2018\",\"2016~2018\",\"2016~2018\",\"2016~2018\",\"2016~2018\",\"2016~2018\",\"2016~2018\",\"2016~2018\",\"2016~2018\",\"2016~2018\",\"2016~2018\",\"2016~2018\",\"2016~2018\",\"2016~2018\",\"2016~2018\",\"2016~2018\",\"2016~2018\",\"2016~2018\",\"2016~2018\",\"2016~2018\",\"2016~2018\",\"2016~2018\",\"2016~2018\",\"2016~2018\",\"2016~2018\",\"2016~2018\",\"2016~2018\",\"2019~2022\",\"2019~2022\",\"2019~2022\",\"2019~2022\",\"2019~2022\",\"2019~2022\",\"2019~2022\",\"2019~2022\",\"2019~2022\",\"2019~2022\",\"2019~2022\",\"2019~2022\",\"2019~2022\",\"2019~2022\",\"2019~2022\",\"2019~2022\",\"2019~2022\",\"2019~2022\",\"2019~2022\",\"2019~2022\",\"2019~2022\",\"2019~2022\",\"2019~2022\",\"2019~2022\",\"2019~2022\",\"2019~2022\",\"2019~2022\",\"2019~2022\",\"2019~2022\",\"2019~2022\",\"2019~2022\",\"2019~2022\",\"2019~2022\",\"2019~2022\",\"2019~2022\",\"2019~2022\",\"2019~2022\",\"2019~2022\",\"2019~2022\",\"2019~2022\",\"2019~2022\",\"2019~2022\",\"2019~2022\",\"2019~2022\",\"2019~2022\",\"2019~2022\",\"2019~2022\",\"2019~2022\",\"2019~2022\",\"2019~2022\",\"2019~2022\",\"2019~2022\",\"2019~2022\",\"2019~2022\",\"2019~2022\",\"2019~2022\",\"2019~2022\",\"2019~2022\",\"2019~2022\",\"2019~2022\",\"2019~2022\",\"2019~2022\",\"2019~2022\",\"2019~2022\",\"2019~2022\",\"2019~2022\",\"2019~2022\",\"2019~2022\",\"2019~2022\",\"2019~2022\",\"2019~2022\",\"2019~2022\",\"2019~2022\",\"2019~2022\",\"2019~2022\",\"2019~2022\",\"2019~2022\",\"2019~2022\",\"2019~2022\",\"2019~2022\",\"2019~2022\",\"2019~2022\",\"2019~2022\",\"2019~2022\",\"2019~2022\",\"2019~2022\",\"2019~2022\",\"2019~2022\",\"2019~2022\",\"2019~2022\",\"2019~2022\",\"2019~2022\",\"2019~2022\",\"2019~2022\",\"2019~2022\",\"2019~2022\",\"2019~2022\",\"2019~2022\",\"2019~2022\",\"2019~2022\",\"2019~2022\",\"2019~2022\",\"2019~2022\",\"2019~2022\",\"2019~2022\",\"2019~2022\",\"2019~2022\",\"2019~2022\",\"2019~2022\",\"2019~2022\",\"2019~2022\",\"2019~2022\",\"2019~2022\",\"2019~2022\",\"2019~2022\",\"2019~2022\",\"2019~2022\",\"2019~2022\",\"2019~2022\",\"2019~2022\",\"2019~2022\",\"2019~2022\",\"2019~2022\",\"2019~2022\",\"2019~2022\",\"2019~2022\",\"2019~2022\",\"2019~2022\",\"2019~2022\",\"2019~2022\",\"2019~2022\",\"2019~2022\",\"2019~2022\",\"2019~2022\",\"2019~2022\",\"2019~2022\",\"2019~2022\",\"2019~2022\",\"2019~2022\",\"2019~2022\",\"2019~2022\",\"2019~2022\",\"2019~2022\",\"2019~2022\",\"2019~2022\",\"2019~2022\",\"2019~2022\",\"2019~2022\",\"2019~2022\",\"2019~2022\",\"2019~2022\",\"2019~2022\",\"2019~2022\",\"2019~2022\",\"2019~2022\",\"2019~2022\",\"2019~2022\",\"2019~2022\",\"2019~2022\",\"2019~2022\",\"2019~2022\",\"2019~2022\",\"2019~2022\",\"2019~2022\",\"2019~2022\",\"2019~2022\",\"2019~2022\",\"2019~2022\",\"2019~2022\",\"2019~2022\",\"2019~2022\",\"2019~2022\",\"2019~2022\",\"2019~2022\",\"2019~2022\",\"2019~2022\",\"2019~2022\",\"2019~2022\",\"2019~2022\",\"2019~2022\",\"2019~2022\",\"2019~2022\",\"2019~2022\",\"2019~2022\",\"2019~2022\",\"2019~2022\",\"2019~2022\",\"2019~2022\",\"2019~2022\",\"2019~2022\",\"2019~2022\",\"2019~2022\",\"2019~2022\",\"2019~2022\",\"2019~2022\",\"2019~2022\",\"2019~2022\",\"2019~2022\",\"2019~2022\",\"2019~2022\",\"2019~2022\",\"2019~2022\",\"2019~2022\",\"2019~2022\",\"2019~2022\",\"2019~2022\",\"2019~2022\",\"2019~2022\",\"2019~2022\",\"2019~2022\",\"2019~2022\",\"2019~2022\",\"2019~2022\",\"2019~2022\",\"2019~2022\",\"2019~2022\",\"2019~2022\",\"2019~2022\",\"2019~2022\",\"2019~2022\",\"2019~2022\",\"2019~2022\",\"2019~2022\",\"2019~2022\",\"2019~2022\",\"2019~2022\",\"2019~2022\",\"2019~2022\",\"2019~2022\",\"2019~2022\",\"2019~2022\",\"2019~2022\",\"2019~2022\",\"2019~2022\",\"2019~2022\",\"2019~2022\",\"2019~2022\",\"2019~2022\",\"2019~2022\",\"2019~2022\",\"2019~2022\",\"2019~2022\",\"2019~2022\",\"2019~2022\",\"2019~2022\",\"2019~2022\",\"2019~2022\",\"2019~2022\",\"2019~2022\",\"2019~2022\",\"2019~2022\",\"2019~2022\",\"2019~2022\",\"2019~2022\",\"2019~2022\",\"2019~2022\",\"2019~2022\",\"2019~2022\",\"2019~2022\",\"2019~2022\",\"2019~2022\",\"2019~2022\",\"2019~2022\",\"2019~2022\",\"2019~2022\",\"2019~2022\",\"2019~2022\",\"2019~2022\",\"2019~2022\",\"2019~2022\",\"2019~2022\",\"2019~2022\",\"2019~2022\",\"2019~2022\",\"2019~2022\",\"2019~2022\",\"2019~2022\",\"2019~2022\",\"2019~2022\",\"2019~2022\",\"2019~2022\",\"2019~2022\",\"2019~2022\",\"2019~2022\",\"2019~2022\",\"2019~2022\",\"2019~2022\",\"2019~2022\",\"2019~2022\",\"2019~2022\",\"2019~2022\",\"2019~2022\",\"2019~2022\",\"2019~2022\",\"2019~2022\",\"2019~2022\",\"2019~2022\",\"2019~2022\",\"2019~2022\",\"2019~2022\",\"2019~2022\",\"2019~2022\",\"2019~2022\",\"2019~2022\",\"2012~2015\",\"2012~2015\",\"2012~2015\",\"2012~2015\",\"2012~2015\",\"2012~2015\",\"2012~2015\",\"2012~2015\",\"2012~2015\",\"2012~2015\",\"2012~2015\",\"2012~2015\",\"2012~2015\",\"2012~2015\",\"2012~2015\",\"2012~2015\",\"2012~2015\",\"2012~2015\",\"2012~2015\",\"2012~2015\",\"2012~2015\",\"2012~2015\",\"2016~2018\",\"2016~2018\",\"2016~2018\",\"2016~2018\",\"2016~2018\",\"2016~2018\",\"2016~2018\",\"2016~2018\",\"2016~2018\",\"2016~2018\",\"2016~2018\",\"2016~2018\",\"2016~2018\",\"2016~2018\",\"2016~2018\",\"2016~2018\",\"2016~2018\",\"2016~2018\",\"2016~2018\",\"2016~2018\",\"2016~2018\",\"2016~2018\",\"2016~2018\",\"2016~2018\",\"2016~2018\",\"2016~2018\",\"2016~2018\",\"2016~2018\",\"2016~2018\",\"2016~2018\",\"2016~2018\",\"2016~2018\",\"2016~2018\",\"2016~2018\",\"2016~2018\",\"2016~2018\",\"2019~2022\",\"2019~2022\",\"2019~2022\",\"2019~2022\",\"2019~2022\",\"2019~2022\",\"2019~2022\",\"2019~2022\",\"2019~2022\",\"2019~2022\",\"2019~2022\",\"2019~2022\",\"2019~2022\",\"2019~2022\",\"2019~2022\",\"2019~2022\",\"2019~2022\",\"2019~2022\",\"2019~2022\",\"2019~2022\",\"2019~2022\",\"2019~2022\",\"2019~2022\",\"2019~2022\",\"2019~2022\",\"2019~2022\",\"2019~2022\",\"2019~2022\",\"2019~2022\",\"2019~2022\",\"2019~2022\",\"2019~2022\",\"2019~2022\",\"2019~2022\",\"2019~2022\",\"2019~2022\",\"2019~2022\",\"2019~2022\",\"2019~2022\",\"2019~2022\",\"2019~2022\",\"2019~2022\",\"2019~2022\",\"2019~2022\",\"2019~2022\",\"2019~2022\",\"2019~2022\",\"2019~2022\",\"2019~2022\",\"2019~2022\",\"2019~2022\",\"2019~2022\",\"2019~2022\",\"2019~2022\",\"2019~2022\",\"2019~2022\",\"2019~2022\",\"2019~2022\",\"2019~2022\",\"2019~2022\",\"2019~2022\",\"2019~2022\",\"2019~2022\",\"2019~2022\",\"2019~2022\",\"2019~2022\",\"2019~2022\",\"2019~2022\",\"2019~2022\",\"2010~2011\",\"2012~2015\",\"2012~2015\",\"2012~2015\",\"2012~2015\",\"2012~2015\",\"2012~2015\",\"2016~2018\",\"2016~2018\",\"2016~2018\",\"2016~2018\",\"2016~2018\",\"2016~2018\",\"2016~2018\",\"2016~2018\",\"2016~2018\",\"2016~2018\",\"2016~2018\",\"2016~2018\",\"2016~2018\",\"2016~2018\",\"2016~2018\",\"2019~2022\",\"2019~2022\",\"2019~2022\",\"2019~2022\",\"2019~2022\"],\"x0\":\" \",\"xaxis\":\"x\",\"y\":[168882,135995,91991,979000,79881,179000,137900,102500,76898,119991,83900,108980,89978,79999,79991,104991,122997,139480,80995,89000,74995,128990,79900,144900,159000,149898,96998,87991,82900,89900,91900,76900,159000,88922,149900,108800,148536,127991,145000,148668,93992,139900,76900,148998,128000,119995,124900,134900,99995,125991,179898,138898,109900,151900,159000,95991,145900,157995,84888,123000,118994,117898,125998,225991,128798,134998,97495,106991,129994,159680,147000,139950,156994,105900,122898,134000,118000,499900,127995,143900,112991,115995,124490,141991,155995,138992,92900,136260,139991,176888,139991,158900,168882,169881,105995,116780,109898,112995,98995,114998,120900,113993,169458,92995,120900,145991,104998,94981,109900,168992,207900,114985,109984,102900,97500,112606,99800,116900,105035,119990,112991,171999,179888,101498,116089,118799,119000,117991,126723,144752,96000,92888,120993,109795,104998,95900,113000,119984,129997,89988,129465,100998,119898,116415,98990,149990,119985,104998,87898,176998,109900,197888,247275,199900,193482,143998,239881,212991,194888,209900,229898,199990,134998,124950,179990,174890,116997,113994,128143,129693,174900,131998,144991,135960,164991,169899,146994,219399,214900,119900,187900,149998,133500,201888,234999,128500,223995,123380,199947,139900,152900,118980,99790,188900,194445,206309,214900,138798,249000,164900,155898,98994,154700,98981,134994,130995,128776,98995,168900,122821,107995,114900,218897,165995,129900,234898,133327,199998,219000,107299,99898,215000,124993,107988,109881,241991,109881,189766,269900,189980,385000,107812,139900,264991,176879,103900,124995,147900,149900,155995,170991,189900,153274,195759,167728,129981,173998,203900,142994,138283,117900,107991,151900,194899,199399,359995,199850,139880,239900,225911,154881,143981,269900,139392,155995,134991,245991,132991,119985,144898,157981,137992,202665,172790,163990,158100,229995,138892,139995,168900,429991,148115,385888,102500,145000,139898,128900,245820,136998,209989,194998,146977,139999,189995,181900,419950,289888,179985,425000,155000,119998,191994,128792,389898,99900,132898,134881,94990,134999,204898,256550,142995,152881,149000,133992,137900,130991,137994,149000,169992,131898,148992,164900,164900,134981,154881,134998,137995,146991,121898,121998,147298,154990,129995,160034,119990,157775,157998,122981,153985,140656,164900,177000,149900,161995,165105,146650,136994,112867,158989,149985,145899,149998,159909,152999,156500,147995,143981,128990,149900,158477,145900,157220,146900,162226,139992,162900,133991,155990,129911,159995,156500,158995,139000,279000,282500,268269,263980,268998,271947,260992,289905,287900,274995,284496,219500,149992,279900,269990,158370,238597,159992,135000,146990,130400,212148,169992,144761,169988,235550,137790,279990,264900,289995,169995,141992,164999,152340,303798,222996,257500,139912,168991,163995,146988,167990,163992,291972,168992,208888,128881,239992,125999,274992,151900,259990,169995,161898,156900,143950,162912,142998,139950,153888,134911,154999,139995,147995,279888,279900,279900,205900,260000,288149,226887,266308,184898,279900,189995,184898,289888,277198,139995,158999,138995,329988,294900,329992,139988,307717,249995,299981,269901,193999,299992,289992,299999,215932,188990,219898,269900,209900,288500,179991,182995,169998,194998,159919,283721,204995,296498,299992,188800,264990,134990,279496,146887,229988,199990,171998,294888,199900,290000,161900,288715,143400,309999,199976,143500,279900,142305,278500,173981,195997,173591,286494,286671,225900,219897,169999,180992,339998,174881,170495,219897,154992,350000,219898,199595,329898,69991,94900,69900,88900,120000,86981,169777,80990,153788,85995,124849,124226,149357,117999,165620,152900,89900,136900,159788,119900,89900,87888,127791,137000,155000,179911,103995,95900,118995,89900,127898,189000,99998,98998,181122,106900,117499,135144,94988,180999,199991,249900,89998,109995,139788,186990,188790,132900,151732,137695,174900,165990,148788,189460,191900,214900,98899,156955,139996,184998,116888,194999,120424,203995,252900,265000,150782,164900,132981,173900,102222,389900,169900,132991,136211,148888,182955,102900,140744,163312,155900,149900,179998,151900,144900,156900,130991,155783,127990,127900,118990,160900,264911,136911,279900,249991,146788,151429,157788,292998,259899,149900,140499,158489,129600,264900,257999,279000,250000,249988,229880,139788,159888,269000,285911,134999,151000,299900,242991,279981,284900,255990,139900,295568,202500,289900,279900,74900,89900,138791,127900,95991,126981,143887,164781,94911,105980,124900,105719,124981,114994,119198,103900,141685,187900,116900,141865,205911,195987,149900,207952,143620,132896,239911],\"y0\":\" \",\"yaxis\":\"y\",\"type\":\"box\"}],                        {\"template\":{\"data\":{\"bar\":[{\"error_x\":{\"color\":\"#2a3f5f\"},\"error_y\":{\"color\":\"#2a3f5f\"},\"marker\":{\"line\":{\"color\":\"#E5ECF6\",\"width\":0.5},\"pattern\":{\"fillmode\":\"overlay\",\"size\":10,\"solidity\":0.2}},\"type\":\"bar\"}],\"barpolar\":[{\"marker\":{\"line\":{\"color\":\"#E5ECF6\",\"width\":0.5},\"pattern\":{\"fillmode\":\"overlay\",\"size\":10,\"solidity\":0.2}},\"type\":\"barpolar\"}],\"carpet\":[{\"aaxis\":{\"endlinecolor\":\"#2a3f5f\",\"gridcolor\":\"white\",\"linecolor\":\"white\",\"minorgridcolor\":\"white\",\"startlinecolor\":\"#2a3f5f\"},\"baxis\":{\"endlinecolor\":\"#2a3f5f\",\"gridcolor\":\"white\",\"linecolor\":\"white\",\"minorgridcolor\":\"white\",\"startlinecolor\":\"#2a3f5f\"},\"type\":\"carpet\"}],\"choropleth\":[{\"colorbar\":{\"outlinewidth\":0,\"ticks\":\"\"},\"type\":\"choropleth\"}],\"contour\":[{\"colorbar\":{\"outlinewidth\":0,\"ticks\":\"\"},\"colorscale\":[[0.0,\"#0d0887\"],[0.1111111111111111,\"#46039f\"],[0.2222222222222222,\"#7201a8\"],[0.3333333333333333,\"#9c179e\"],[0.4444444444444444,\"#bd3786\"],[0.5555555555555556,\"#d8576b\"],[0.6666666666666666,\"#ed7953\"],[0.7777777777777778,\"#fb9f3a\"],[0.8888888888888888,\"#fdca26\"],[1.0,\"#f0f921\"]],\"type\":\"contour\"}],\"contourcarpet\":[{\"colorbar\":{\"outlinewidth\":0,\"ticks\":\"\"},\"type\":\"contourcarpet\"}],\"heatmap\":[{\"colorbar\":{\"outlinewidth\":0,\"ticks\":\"\"},\"colorscale\":[[0.0,\"#0d0887\"],[0.1111111111111111,\"#46039f\"],[0.2222222222222222,\"#7201a8\"],[0.3333333333333333,\"#9c179e\"],[0.4444444444444444,\"#bd3786\"],[0.5555555555555556,\"#d8576b\"],[0.6666666666666666,\"#ed7953\"],[0.7777777777777778,\"#fb9f3a\"],[0.8888888888888888,\"#fdca26\"],[1.0,\"#f0f921\"]],\"type\":\"heatmap\"}],\"heatmapgl\":[{\"colorbar\":{\"outlinewidth\":0,\"ticks\":\"\"},\"colorscale\":[[0.0,\"#0d0887\"],[0.1111111111111111,\"#46039f\"],[0.2222222222222222,\"#7201a8\"],[0.3333333333333333,\"#9c179e\"],[0.4444444444444444,\"#bd3786\"],[0.5555555555555556,\"#d8576b\"],[0.6666666666666666,\"#ed7953\"],[0.7777777777777778,\"#fb9f3a\"],[0.8888888888888888,\"#fdca26\"],[1.0,\"#f0f921\"]],\"type\":\"heatmapgl\"}],\"histogram\":[{\"marker\":{\"pattern\":{\"fillmode\":\"overlay\",\"size\":10,\"solidity\":0.2}},\"type\":\"histogram\"}],\"histogram2d\":[{\"colorbar\":{\"outlinewidth\":0,\"ticks\":\"\"},\"colorscale\":[[0.0,\"#0d0887\"],[0.1111111111111111,\"#46039f\"],[0.2222222222222222,\"#7201a8\"],[0.3333333333333333,\"#9c179e\"],[0.4444444444444444,\"#bd3786\"],[0.5555555555555556,\"#d8576b\"],[0.6666666666666666,\"#ed7953\"],[0.7777777777777778,\"#fb9f3a\"],[0.8888888888888888,\"#fdca26\"],[1.0,\"#f0f921\"]],\"type\":\"histogram2d\"}],\"histogram2dcontour\":[{\"colorbar\":{\"outlinewidth\":0,\"ticks\":\"\"},\"colorscale\":[[0.0,\"#0d0887\"],[0.1111111111111111,\"#46039f\"],[0.2222222222222222,\"#7201a8\"],[0.3333333333333333,\"#9c179e\"],[0.4444444444444444,\"#bd3786\"],[0.5555555555555556,\"#d8576b\"],[0.6666666666666666,\"#ed7953\"],[0.7777777777777778,\"#fb9f3a\"],[0.8888888888888888,\"#fdca26\"],[1.0,\"#f0f921\"]],\"type\":\"histogram2dcontour\"}],\"mesh3d\":[{\"colorbar\":{\"outlinewidth\":0,\"ticks\":\"\"},\"type\":\"mesh3d\"}],\"parcoords\":[{\"line\":{\"colorbar\":{\"outlinewidth\":0,\"ticks\":\"\"}},\"type\":\"parcoords\"}],\"pie\":[{\"automargin\":true,\"type\":\"pie\"}],\"scatter\":[{\"marker\":{\"colorbar\":{\"outlinewidth\":0,\"ticks\":\"\"}},\"type\":\"scatter\"}],\"scatter3d\":[{\"line\":{\"colorbar\":{\"outlinewidth\":0,\"ticks\":\"\"}},\"marker\":{\"colorbar\":{\"outlinewidth\":0,\"ticks\":\"\"}},\"type\":\"scatter3d\"}],\"scattercarpet\":[{\"marker\":{\"colorbar\":{\"outlinewidth\":0,\"ticks\":\"\"}},\"type\":\"scattercarpet\"}],\"scattergeo\":[{\"marker\":{\"colorbar\":{\"outlinewidth\":0,\"ticks\":\"\"}},\"type\":\"scattergeo\"}],\"scattergl\":[{\"marker\":{\"colorbar\":{\"outlinewidth\":0,\"ticks\":\"\"}},\"type\":\"scattergl\"}],\"scattermapbox\":[{\"marker\":{\"colorbar\":{\"outlinewidth\":0,\"ticks\":\"\"}},\"type\":\"scattermapbox\"}],\"scatterpolar\":[{\"marker\":{\"colorbar\":{\"outlinewidth\":0,\"ticks\":\"\"}},\"type\":\"scatterpolar\"}],\"scatterpolargl\":[{\"marker\":{\"colorbar\":{\"outlinewidth\":0,\"ticks\":\"\"}},\"type\":\"scatterpolargl\"}],\"scatterternary\":[{\"marker\":{\"colorbar\":{\"outlinewidth\":0,\"ticks\":\"\"}},\"type\":\"scatterternary\"}],\"surface\":[{\"colorbar\":{\"outlinewidth\":0,\"ticks\":\"\"},\"colorscale\":[[0.0,\"#0d0887\"],[0.1111111111111111,\"#46039f\"],[0.2222222222222222,\"#7201a8\"],[0.3333333333333333,\"#9c179e\"],[0.4444444444444444,\"#bd3786\"],[0.5555555555555556,\"#d8576b\"],[0.6666666666666666,\"#ed7953\"],[0.7777777777777778,\"#fb9f3a\"],[0.8888888888888888,\"#fdca26\"],[1.0,\"#f0f921\"]],\"type\":\"surface\"}],\"table\":[{\"cells\":{\"fill\":{\"color\":\"#EBF0F8\"},\"line\":{\"color\":\"white\"}},\"header\":{\"fill\":{\"color\":\"#C8D4E3\"},\"line\":{\"color\":\"white\"}},\"type\":\"table\"}]},\"layout\":{\"annotationdefaults\":{\"arrowcolor\":\"#2a3f5f\",\"arrowhead\":0,\"arrowwidth\":1},\"autotypenumbers\":\"strict\",\"coloraxis\":{\"colorbar\":{\"outlinewidth\":0,\"ticks\":\"\"}},\"colorscale\":{\"diverging\":[[0,\"#8e0152\"],[0.1,\"#c51b7d\"],[0.2,\"#de77ae\"],[0.3,\"#f1b6da\"],[0.4,\"#fde0ef\"],[0.5,\"#f7f7f7\"],[0.6,\"#e6f5d0\"],[0.7,\"#b8e186\"],[0.8,\"#7fbc41\"],[0.9,\"#4d9221\"],[1,\"#276419\"]],\"sequential\":[[0.0,\"#0d0887\"],[0.1111111111111111,\"#46039f\"],[0.2222222222222222,\"#7201a8\"],[0.3333333333333333,\"#9c179e\"],[0.4444444444444444,\"#bd3786\"],[0.5555555555555556,\"#d8576b\"],[0.6666666666666666,\"#ed7953\"],[0.7777777777777778,\"#fb9f3a\"],[0.8888888888888888,\"#fdca26\"],[1.0,\"#f0f921\"]],\"sequentialminus\":[[0.0,\"#0d0887\"],[0.1111111111111111,\"#46039f\"],[0.2222222222222222,\"#7201a8\"],[0.3333333333333333,\"#9c179e\"],[0.4444444444444444,\"#bd3786\"],[0.5555555555555556,\"#d8576b\"],[0.6666666666666666,\"#ed7953\"],[0.7777777777777778,\"#fb9f3a\"],[0.8888888888888888,\"#fdca26\"],[1.0,\"#f0f921\"]]},\"colorway\":[\"#636efa\",\"#EF553B\",\"#00cc96\",\"#ab63fa\",\"#FFA15A\",\"#19d3f3\",\"#FF6692\",\"#B6E880\",\"#FF97FF\",\"#FECB52\"],\"font\":{\"color\":\"#2a3f5f\"},\"geo\":{\"bgcolor\":\"white\",\"lakecolor\":\"white\",\"landcolor\":\"#E5ECF6\",\"showlakes\":true,\"showland\":true,\"subunitcolor\":\"white\"},\"hoverlabel\":{\"align\":\"left\"},\"hovermode\":\"closest\",\"mapbox\":{\"style\":\"light\"},\"paper_bgcolor\":\"white\",\"plot_bgcolor\":\"#E5ECF6\",\"polar\":{\"angularaxis\":{\"gridcolor\":\"white\",\"linecolor\":\"white\",\"ticks\":\"\"},\"bgcolor\":\"#E5ECF6\",\"radialaxis\":{\"gridcolor\":\"white\",\"linecolor\":\"white\",\"ticks\":\"\"}},\"scene\":{\"xaxis\":{\"backgroundcolor\":\"#E5ECF6\",\"gridcolor\":\"white\",\"gridwidth\":2,\"linecolor\":\"white\",\"showbackground\":true,\"ticks\":\"\",\"zerolinecolor\":\"white\"},\"yaxis\":{\"backgroundcolor\":\"#E5ECF6\",\"gridcolor\":\"white\",\"gridwidth\":2,\"linecolor\":\"white\",\"showbackground\":true,\"ticks\":\"\",\"zerolinecolor\":\"white\"},\"zaxis\":{\"backgroundcolor\":\"#E5ECF6\",\"gridcolor\":\"white\",\"gridwidth\":2,\"linecolor\":\"white\",\"showbackground\":true,\"ticks\":\"\",\"zerolinecolor\":\"white\"}},\"shapedefaults\":{\"line\":{\"color\":\"#2a3f5f\"}},\"ternary\":{\"aaxis\":{\"gridcolor\":\"white\",\"linecolor\":\"white\",\"ticks\":\"\"},\"baxis\":{\"gridcolor\":\"white\",\"linecolor\":\"white\",\"ticks\":\"\"},\"bgcolor\":\"#E5ECF6\",\"caxis\":{\"gridcolor\":\"white\",\"linecolor\":\"white\",\"ticks\":\"\"}},\"title\":{\"x\":0.05},\"xaxis\":{\"automargin\":true,\"gridcolor\":\"white\",\"linecolor\":\"white\",\"ticks\":\"\",\"title\":{\"standoff\":15},\"zerolinecolor\":\"white\",\"zerolinewidth\":2},\"yaxis\":{\"automargin\":true,\"gridcolor\":\"white\",\"linecolor\":\"white\",\"ticks\":\"\",\"title\":{\"standoff\":15},\"zerolinecolor\":\"white\",\"zerolinewidth\":2}}},\"xaxis\":{\"anchor\":\"y\",\"domain\":[0.0,1.0],\"title\":{\"text\":\"Model_type\"}},\"yaxis\":{\"anchor\":\"x\",\"domain\":[0.0,1.0],\"title\":{\"text\":\"Price\"}},\"legend\":{\"tracegroupgap\":0},\"margin\":{\"t\":60},\"boxmode\":\"group\"},                        {\"responsive\": true}                    ).then(function(){\n",
       "                            \n",
       "var gd = document.getElementById('718066f8-ff19-4064-b01c-c03ec226483f');\n",
       "var x = new MutationObserver(function (mutations, observer) {{\n",
       "        var display = window.getComputedStyle(gd).display;\n",
       "        if (!display || display === 'none') {{\n",
       "            console.log([gd, 'removed!']);\n",
       "            Plotly.purge(gd);\n",
       "            observer.disconnect();\n",
       "        }}\n",
       "}});\n",
       "\n",
       "// Listen for the removal of the full notebook cells\n",
       "var notebookContainer = gd.closest('#notebook-container');\n",
       "if (notebookContainer) {{\n",
       "    x.observe(notebookContainer, {childList: true});\n",
       "}}\n",
       "\n",
       "// Listen for the clearing of the current output cell\n",
       "var outputEl = gd.closest('.output');\n",
       "if (outputEl) {{\n",
       "    x.observe(outputEl, {childList: true});\n",
       "}}\n",
       "\n",
       "                        })                };                });            </script>        </div>"
      ]
     },
     "metadata": {},
     "output_type": "display_data"
    },
    {
     "data": {
      "application/vnd.plotly.v1+json": {
       "config": {
        "plotlyServerURL": "https://plot.ly"
       },
       "data": [
        {
         "alignmentgroup": "True",
         "hovertemplate": "Sport=%{x}<br>Price=%{y}<extra></extra>",
         "legendgroup": "",
         "marker": {
          "color": "#636efa"
         },
         "name": "",
         "notched": false,
         "offsetgroup": "",
         "orientation": "v",
         "showlegend": false,
         "type": "box",
         "x": [
          "Sport",
          "Sport",
          "Super Sport",
          "Super Sport",
          "Classic",
          "Sport",
          "Sport",
          "Super Sport",
          "Classic",
          "Sport",
          "Classic",
          "Classic",
          "Super Sport",
          "Classic",
          "Classic",
          "Classic",
          "Sport",
          "Sport",
          "Classic",
          "Classic",
          "Classic",
          "Classic",
          "Classic",
          "Sport",
          "Sport",
          "Sport",
          "Classic",
          "Classic",
          "Classic",
          "Classic",
          "Classic",
          "Classic",
          "Classic",
          "Classic",
          "Sport",
          "Classic",
          "Super Sport",
          "Classic",
          "Sport",
          "Sport",
          "Classic",
          "Sport",
          "Classic",
          "Super Sport",
          "Sport",
          "Sport",
          "Super Sport",
          "Sport",
          "Classic",
          "Super Sport",
          "Sport",
          "Sport",
          "Super Sport",
          "Sport",
          "Super Sport",
          "Classic",
          "Sport",
          "Super Sport",
          "Classic",
          "Super Sport",
          "Classic",
          "Classic",
          "Classic",
          "Super Sport",
          "Classic",
          "Classic",
          "Classic",
          "Super Sport",
          "Classic",
          "Sport",
          "Sport",
          "Classic",
          "Classic",
          "Classic",
          "Classic",
          "Classic",
          "Classic",
          "Classic",
          "Sport",
          "Sport",
          "Classic",
          "Super Sport",
          "Super Sport",
          "Sport",
          "Classic",
          "Sport",
          "Classic",
          "Classic",
          "Sport",
          "Sport",
          "Classic",
          "Sport",
          "Sport",
          "Sport",
          "Classic",
          "Classic",
          "Classic",
          "Classic",
          "Classic",
          "Classic",
          "Classic",
          "Classic",
          "Sport",
          "Classic",
          "Classic",
          "Sport",
          "Classic",
          "Classic",
          "Classic",
          "Sport",
          "Sport",
          "Classic",
          "Classic",
          "Classic",
          "Classic",
          "Classic",
          "Classic",
          "Classic",
          "Classic",
          "Classic",
          "Classic",
          "Sport",
          "Sport",
          "Classic",
          "Classic",
          "Classic",
          "Classic",
          "Super Sport",
          "Classic",
          "Classic",
          "Classic",
          "Classic",
          "Classic",
          "Classic",
          "Classic",
          "Classic",
          "Classic",
          "Classic",
          "Classic",
          "Classic",
          "Classic",
          "Classic",
          "Classic",
          "Classic",
          "Classic",
          "Sport",
          "Super Sport",
          "Classic",
          "Classic",
          "Classic",
          "Classic",
          "Super Sport",
          "Super Sport",
          "Super Sport",
          "Super Sport",
          "Super Sport",
          "Super Sport",
          "Super Sport",
          "Super Sport",
          "Super Sport",
          "Super Sport",
          "Super Sport",
          "Classic",
          "Classic",
          "Super Sport",
          "Sport",
          "Classic",
          "Classic",
          "Classic",
          "Classic",
          "Sport",
          "Classic",
          "Classic",
          "Classic",
          "Sport",
          "Sport",
          "Classic",
          "Super Sport",
          "Super Sport",
          "Classic",
          "Sport",
          "Classic",
          "Super Sport",
          "Sport",
          "Super Sport",
          "Classic",
          "Classic",
          "Classic",
          "Super Sport",
          "Super Sport",
          "Classic",
          "Classic",
          "Classic",
          "Super Sport",
          "Super Sport",
          "Super Sport",
          "Sport",
          "Classic",
          "Super Sport",
          "Super Sport",
          "Classic",
          "Classic",
          "Classic",
          "Classic",
          "Classic",
          "Classic",
          "Classic",
          "Classic",
          "Sport",
          "Super Sport",
          "Classic",
          "Classic",
          "Super Sport",
          "Classic",
          "Classic",
          "Super Sport",
          "Classic",
          "Sport",
          "Sport",
          "Classic",
          "Classic",
          "Sport",
          "Classic",
          "Classic",
          "Classic",
          "Super Sport",
          "Classic",
          "Sport",
          "Super Sport",
          "Sport",
          "Classic",
          "Classic",
          "Classic",
          "Super Sport",
          "Classic",
          "Classic",
          "Classic",
          "Classic",
          "Super Sport",
          "Super Sport",
          "Classic",
          "Sport",
          "Super Sport",
          "Sport",
          "Classic",
          "Classic",
          "Sport",
          "Sport",
          "Super Sport",
          "Classic",
          "Classic",
          "Classic",
          "Classic",
          "Sport",
          "Sport",
          "Classic",
          "Sport",
          "Classic",
          "Super Sport",
          "Super Sport",
          "Classic",
          "Classic",
          "Super Sport",
          "Classic",
          "Super Sport",
          "Classic",
          "Super Sport",
          "Classic",
          "Classic",
          "Classic",
          "Classic",
          "Super Sport",
          "Sport",
          "Classic",
          "Classic",
          "Super Sport",
          "Super Sport",
          "Classic",
          "Classic",
          "Classic",
          "Super Sport",
          "Classic",
          "Classic",
          "Classic",
          "Classic",
          "Super Sport",
          "Classic",
          "Super Sport",
          "Super Sport",
          "Super Sport",
          "Sport",
          "Classic",
          "Classic",
          "Sport",
          "Classic",
          "Classic",
          "Super Sport",
          "Sport",
          "Classic",
          "Super Sport",
          "Classic",
          "Sport",
          "Classic",
          "Classic",
          "Classic",
          "Classic",
          "Classic",
          "Classic",
          "Super Sport",
          "Sport",
          "Super Sport",
          "Classic",
          "Classic",
          "Classic",
          "Classic",
          "Classic",
          "Classic",
          "Classic",
          "Classic",
          "Classic",
          "Classic",
          "Classic",
          "Classic",
          "Classic",
          "Classic",
          "Classic",
          "Classic",
          "Classic",
          "Classic",
          "Classic",
          "Classic",
          "Classic",
          "Classic",
          "Classic",
          "Classic",
          "Classic",
          "Classic",
          "Classic",
          "Classic",
          "Classic",
          "Classic",
          "Classic",
          "Classic",
          "Classic",
          "Classic",
          "Classic",
          "Classic",
          "Classic",
          "Classic",
          "Classic",
          "Classic",
          "Classic",
          "Classic",
          "Classic",
          "Classic",
          "Classic",
          "Classic",
          "Classic",
          "Classic",
          "Classic",
          "Classic",
          "Classic",
          "Classic",
          "Classic",
          "Classic",
          "Classic",
          "Classic",
          "Classic",
          "Classic",
          "Classic",
          "Classic",
          "Classic",
          "Classic",
          "Classic",
          "Sport",
          "Sport",
          "Sport",
          "Sport",
          "Sport",
          "Sport",
          "Sport",
          "Sport",
          "Sport",
          "Sport",
          "Sport",
          "Classic",
          "Classic",
          "Sport",
          "Sport",
          "Classic",
          "Sport",
          "Classic",
          "Classic",
          "Classic",
          "Classic",
          "Classic",
          "Classic",
          "Classic",
          "Classic",
          "Classic",
          "Classic",
          "Sport",
          "Sport",
          "Sport",
          "Classic",
          "Classic",
          "Classic",
          "Classic",
          "Sport",
          "Sport",
          "Sport",
          "Classic",
          "Classic",
          "Classic",
          "Classic",
          "Classic",
          "Classic",
          "Sport",
          "Classic",
          "Classic",
          "Classic",
          "Classic",
          "Classic",
          "Sport",
          "Classic",
          "Sport",
          "Classic",
          "Classic",
          "Classic",
          "Classic",
          "Classic",
          "Classic",
          "Classic",
          "Classic",
          "Classic",
          "Classic",
          "Classic",
          "Classic",
          "Sport",
          "Sport",
          "Sport",
          "Classic",
          "Sport",
          "Sport",
          "Classic",
          "Sport",
          "Classic",
          "Sport",
          "Super Sport",
          "Classic",
          "Sport",
          "Sport",
          "Classic",
          "Classic",
          "Classic",
          "Sport",
          "Super Sport",
          "Super Sport",
          "Classic",
          "Super Sport",
          "Classic",
          "Sport",
          "Sport",
          "Super Sport",
          "Sport",
          "Super Sport",
          "Super Sport",
          "Super Sport",
          "Super Sport",
          "Classic",
          "Super Sport",
          "Super Sport",
          "Sport",
          "Classic",
          "Classic",
          "Classic",
          "Super Sport",
          "Classic",
          "Sport",
          "Classic",
          "Sport",
          "Sport",
          "Super Sport",
          "Sport",
          "Classic",
          "Super Sport",
          "Classic",
          "Classic",
          "Super Sport",
          "Classic",
          "Super Sport",
          "Classic",
          "Super Sport",
          "Classic",
          "Sport",
          "Classic",
          "Super Sport",
          "Classic",
          "Classic",
          "Sport",
          "Classic",
          "Sport",
          "Classic",
          "Super Sport",
          "Classic",
          "Sport",
          "Super Sport",
          "Classic",
          "Classic",
          "Classic",
          "Classic",
          "Super Sport",
          "Super Sport",
          "Classic",
          "Classic",
          "Classic",
          "Super Sport",
          "Classic",
          "Classic",
          "Super Sport",
          "Classic",
          "Classic",
          "Classic",
          "Classic",
          "Classic",
          "Classic",
          "Classic",
          "Classic",
          "Classic",
          "Classic",
          "Classic",
          "Classic",
          "Classic",
          "Classic",
          "Classic",
          "Classic",
          "Classic",
          "Classic",
          "Classic",
          "Classic",
          "Classic",
          "Classic",
          "Classic",
          "Classic",
          "Sport",
          "Classic",
          "Classic",
          "Classic",
          "Classic",
          "Classic",
          "Super Sport",
          "Sport",
          "Classic",
          "Classic",
          "Classic",
          "Classic",
          "Classic",
          "Classic",
          "Classic",
          "Classic",
          "Classic",
          "Classic",
          "Classic",
          "Classic",
          "Classic",
          "Classic",
          "Classic",
          "Classic",
          "Classic",
          "Classic",
          "Sport",
          "Classic",
          "Classic",
          "Classic",
          "Classic",
          "Classic",
          "Classic",
          "Classic",
          "Classic",
          "Classic",
          "Classic",
          "Classic",
          "Classic",
          "Classic",
          "Classic",
          "Super Sport",
          "Classic",
          "Classic",
          "Classic",
          "Classic",
          "Classic",
          "Classic",
          "Classic",
          "Classic",
          "Classic",
          "Classic",
          "Classic",
          "Classic",
          "Classic",
          "Classic",
          "Classic",
          "Classic",
          "Classic",
          "Classic",
          "Classic",
          "Classic",
          "Classic",
          "Classic",
          "Classic",
          "Classic",
          "Classic",
          "Classic",
          "Classic",
          "Classic",
          "Classic",
          "Classic",
          "Classic",
          "Classic",
          "Classic",
          "Classic",
          "Classic",
          "Classic",
          "Classic",
          "Classic",
          "Classic",
          "Classic",
          "Classic",
          "Classic",
          "Classic",
          "Classic",
          "Classic",
          "Classic",
          "Classic",
          "Classic",
          "Classic",
          "Classic",
          "Classic",
          "Classic",
          "Classic",
          "Classic",
          "Classic",
          "Classic",
          "Classic",
          "Classic",
          "Classic",
          "Classic",
          "Classic",
          "Classic",
          "Classic",
          "Classic",
          "Classic",
          "Classic",
          "Classic",
          "Classic",
          "Classic",
          "Classic",
          "Classic",
          "Classic",
          "Classic",
          "Classic",
          "Classic",
          "Classic",
          "Classic",
          "Classic",
          "Classic",
          "Classic",
          "Classic",
          "Classic",
          "Classic",
          "Classic",
          "Classic",
          "Classic",
          "Classic",
          "Classic"
         ],
         "x0": " ",
         "xaxis": "x",
         "y": [
          168882,
          135995,
          91991,
          979000,
          79881,
          179000,
          137900,
          102500,
          76898,
          119991,
          83900,
          108980,
          89978,
          79999,
          79991,
          104991,
          122997,
          139480,
          80995,
          89000,
          74995,
          128990,
          79900,
          144900,
          159000,
          149898,
          96998,
          87991,
          82900,
          89900,
          91900,
          76900,
          159000,
          88922,
          149900,
          108800,
          148536,
          127991,
          145000,
          148668,
          93992,
          139900,
          76900,
          148998,
          128000,
          119995,
          124900,
          134900,
          99995,
          125991,
          179898,
          138898,
          109900,
          151900,
          159000,
          95991,
          145900,
          157995,
          84888,
          123000,
          118994,
          117898,
          125998,
          225991,
          128798,
          134998,
          97495,
          106991,
          129994,
          159680,
          147000,
          139950,
          156994,
          105900,
          122898,
          134000,
          118000,
          499900,
          127995,
          143900,
          112991,
          115995,
          124490,
          141991,
          155995,
          138992,
          92900,
          136260,
          139991,
          176888,
          139991,
          158900,
          168882,
          169881,
          105995,
          116780,
          109898,
          112995,
          98995,
          114998,
          120900,
          113993,
          169458,
          92995,
          120900,
          145991,
          104998,
          94981,
          109900,
          168992,
          207900,
          114985,
          109984,
          102900,
          97500,
          112606,
          99800,
          116900,
          105035,
          119990,
          112991,
          171999,
          179888,
          101498,
          116089,
          118799,
          119000,
          117991,
          126723,
          144752,
          96000,
          92888,
          120993,
          109795,
          104998,
          95900,
          113000,
          119984,
          129997,
          89988,
          129465,
          100998,
          119898,
          116415,
          98990,
          149990,
          119985,
          104998,
          87898,
          176998,
          109900,
          197888,
          247275,
          199900,
          193482,
          143998,
          239881,
          212991,
          194888,
          209900,
          229898,
          199990,
          134998,
          124950,
          179990,
          174890,
          116997,
          113994,
          128143,
          129693,
          174900,
          131998,
          144991,
          135960,
          164991,
          169899,
          146994,
          219399,
          214900,
          119900,
          187900,
          149998,
          133500,
          201888,
          234999,
          128500,
          223995,
          123380,
          199947,
          139900,
          152900,
          118980,
          99790,
          188900,
          194445,
          206309,
          214900,
          138798,
          249000,
          164900,
          155898,
          98994,
          154700,
          98981,
          134994,
          130995,
          128776,
          98995,
          168900,
          122821,
          107995,
          114900,
          218897,
          165995,
          129900,
          234898,
          133327,
          199998,
          219000,
          107299,
          99898,
          215000,
          124993,
          107988,
          109881,
          241991,
          109881,
          189766,
          269900,
          189980,
          385000,
          107812,
          139900,
          264991,
          176879,
          103900,
          124995,
          147900,
          149900,
          155995,
          170991,
          189900,
          153274,
          195759,
          167728,
          129981,
          173998,
          203900,
          142994,
          138283,
          117900,
          107991,
          151900,
          194899,
          199399,
          359995,
          199850,
          139880,
          239900,
          225911,
          154881,
          143981,
          269900,
          139392,
          155995,
          134991,
          245991,
          132991,
          119985,
          144898,
          157981,
          137992,
          202665,
          172790,
          163990,
          158100,
          229995,
          138892,
          139995,
          168900,
          429991,
          148115,
          385888,
          102500,
          145000,
          139898,
          128900,
          245820,
          136998,
          209989,
          194998,
          146977,
          139999,
          189995,
          181900,
          419950,
          289888,
          179985,
          425000,
          155000,
          119998,
          191994,
          128792,
          389898,
          99900,
          132898,
          134881,
          94990,
          134999,
          204898,
          256550,
          142995,
          152881,
          149000,
          133992,
          137900,
          130991,
          137994,
          149000,
          169992,
          131898,
          148992,
          164900,
          164900,
          134981,
          154881,
          134998,
          137995,
          146991,
          121898,
          121998,
          147298,
          154990,
          129995,
          160034,
          119990,
          157775,
          157998,
          122981,
          153985,
          140656,
          164900,
          177000,
          149900,
          161995,
          165105,
          146650,
          136994,
          112867,
          158989,
          149985,
          145899,
          149998,
          159909,
          152999,
          156500,
          147995,
          143981,
          128990,
          149900,
          158477,
          145900,
          157220,
          146900,
          162226,
          139992,
          162900,
          133991,
          155990,
          129911,
          159995,
          156500,
          158995,
          139000,
          279000,
          282500,
          268269,
          263980,
          268998,
          271947,
          260992,
          289905,
          287900,
          274995,
          284496,
          219500,
          149992,
          279900,
          269990,
          158370,
          238597,
          159992,
          135000,
          146990,
          130400,
          212148,
          169992,
          144761,
          169988,
          235550,
          137790,
          279990,
          264900,
          289995,
          169995,
          141992,
          164999,
          152340,
          303798,
          222996,
          257500,
          139912,
          168991,
          163995,
          146988,
          167990,
          163992,
          291972,
          168992,
          208888,
          128881,
          239992,
          125999,
          274992,
          151900,
          259990,
          169995,
          161898,
          156900,
          143950,
          162912,
          142998,
          139950,
          153888,
          134911,
          154999,
          139995,
          147995,
          279888,
          279900,
          279900,
          205900,
          260000,
          288149,
          226887,
          266308,
          184898,
          279900,
          189995,
          184898,
          289888,
          277198,
          139995,
          158999,
          138995,
          329988,
          294900,
          329992,
          139988,
          307717,
          249995,
          299981,
          269901,
          193999,
          299992,
          289992,
          299999,
          215932,
          188990,
          219898,
          269900,
          209900,
          288500,
          179991,
          182995,
          169998,
          194998,
          159919,
          283721,
          204995,
          296498,
          299992,
          188800,
          264990,
          134990,
          279496,
          146887,
          229988,
          199990,
          171998,
          294888,
          199900,
          290000,
          161900,
          288715,
          143400,
          309999,
          199976,
          143500,
          279900,
          142305,
          278500,
          173981,
          195997,
          173591,
          286494,
          286671,
          225900,
          219897,
          169999,
          180992,
          339998,
          174881,
          170495,
          219897,
          154992,
          350000,
          219898,
          199595,
          329898,
          69991,
          94900,
          69900,
          88900,
          120000,
          86981,
          169777,
          80990,
          153788,
          85995,
          124849,
          124226,
          149357,
          117999,
          165620,
          152900,
          89900,
          136900,
          159788,
          119900,
          89900,
          87888,
          127791,
          137000,
          155000,
          179911,
          103995,
          95900,
          118995,
          89900,
          127898,
          189000,
          99998,
          98998,
          181122,
          106900,
          117499,
          135144,
          94988,
          180999,
          199991,
          249900,
          89998,
          109995,
          139788,
          186990,
          188790,
          132900,
          151732,
          137695,
          174900,
          165990,
          148788,
          189460,
          191900,
          214900,
          98899,
          156955,
          139996,
          184998,
          116888,
          194999,
          120424,
          203995,
          252900,
          265000,
          150782,
          164900,
          132981,
          173900,
          102222,
          389900,
          169900,
          132991,
          136211,
          148888,
          182955,
          102900,
          140744,
          163312,
          155900,
          149900,
          179998,
          151900,
          144900,
          156900,
          130991,
          155783,
          127990,
          127900,
          118990,
          160900,
          264911,
          136911,
          279900,
          249991,
          146788,
          151429,
          157788,
          292998,
          259899,
          149900,
          140499,
          158489,
          129600,
          264900,
          257999,
          279000,
          250000,
          249988,
          229880,
          139788,
          159888,
          269000,
          285911,
          134999,
          151000,
          299900,
          242991,
          279981,
          284900,
          255990,
          139900,
          295568,
          202500,
          289900,
          279900,
          74900,
          89900,
          138791,
          127900,
          95991,
          126981,
          143887,
          164781,
          94911,
          105980,
          124900,
          105719,
          124981,
          114994,
          119198,
          103900,
          141685,
          187900,
          116900,
          141865,
          205911,
          195987,
          149900,
          207952,
          143620,
          132896,
          239911
         ],
         "y0": " ",
         "yaxis": "y"
        }
       ],
       "layout": {
        "boxmode": "group",
        "legend": {
         "tracegroupgap": 0
        },
        "margin": {
         "t": 60
        },
        "template": {
         "data": {
          "bar": [
           {
            "error_x": {
             "color": "#2a3f5f"
            },
            "error_y": {
             "color": "#2a3f5f"
            },
            "marker": {
             "line": {
              "color": "#E5ECF6",
              "width": 0.5
             },
             "pattern": {
              "fillmode": "overlay",
              "size": 10,
              "solidity": 0.2
             }
            },
            "type": "bar"
           }
          ],
          "barpolar": [
           {
            "marker": {
             "line": {
              "color": "#E5ECF6",
              "width": 0.5
             },
             "pattern": {
              "fillmode": "overlay",
              "size": 10,
              "solidity": 0.2
             }
            },
            "type": "barpolar"
           }
          ],
          "carpet": [
           {
            "aaxis": {
             "endlinecolor": "#2a3f5f",
             "gridcolor": "white",
             "linecolor": "white",
             "minorgridcolor": "white",
             "startlinecolor": "#2a3f5f"
            },
            "baxis": {
             "endlinecolor": "#2a3f5f",
             "gridcolor": "white",
             "linecolor": "white",
             "minorgridcolor": "white",
             "startlinecolor": "#2a3f5f"
            },
            "type": "carpet"
           }
          ],
          "choropleth": [
           {
            "colorbar": {
             "outlinewidth": 0,
             "ticks": ""
            },
            "type": "choropleth"
           }
          ],
          "contour": [
           {
            "colorbar": {
             "outlinewidth": 0,
             "ticks": ""
            },
            "colorscale": [
             [
              0,
              "#0d0887"
             ],
             [
              0.1111111111111111,
              "#46039f"
             ],
             [
              0.2222222222222222,
              "#7201a8"
             ],
             [
              0.3333333333333333,
              "#9c179e"
             ],
             [
              0.4444444444444444,
              "#bd3786"
             ],
             [
              0.5555555555555556,
              "#d8576b"
             ],
             [
              0.6666666666666666,
              "#ed7953"
             ],
             [
              0.7777777777777778,
              "#fb9f3a"
             ],
             [
              0.8888888888888888,
              "#fdca26"
             ],
             [
              1,
              "#f0f921"
             ]
            ],
            "type": "contour"
           }
          ],
          "contourcarpet": [
           {
            "colorbar": {
             "outlinewidth": 0,
             "ticks": ""
            },
            "type": "contourcarpet"
           }
          ],
          "heatmap": [
           {
            "colorbar": {
             "outlinewidth": 0,
             "ticks": ""
            },
            "colorscale": [
             [
              0,
              "#0d0887"
             ],
             [
              0.1111111111111111,
              "#46039f"
             ],
             [
              0.2222222222222222,
              "#7201a8"
             ],
             [
              0.3333333333333333,
              "#9c179e"
             ],
             [
              0.4444444444444444,
              "#bd3786"
             ],
             [
              0.5555555555555556,
              "#d8576b"
             ],
             [
              0.6666666666666666,
              "#ed7953"
             ],
             [
              0.7777777777777778,
              "#fb9f3a"
             ],
             [
              0.8888888888888888,
              "#fdca26"
             ],
             [
              1,
              "#f0f921"
             ]
            ],
            "type": "heatmap"
           }
          ],
          "heatmapgl": [
           {
            "colorbar": {
             "outlinewidth": 0,
             "ticks": ""
            },
            "colorscale": [
             [
              0,
              "#0d0887"
             ],
             [
              0.1111111111111111,
              "#46039f"
             ],
             [
              0.2222222222222222,
              "#7201a8"
             ],
             [
              0.3333333333333333,
              "#9c179e"
             ],
             [
              0.4444444444444444,
              "#bd3786"
             ],
             [
              0.5555555555555556,
              "#d8576b"
             ],
             [
              0.6666666666666666,
              "#ed7953"
             ],
             [
              0.7777777777777778,
              "#fb9f3a"
             ],
             [
              0.8888888888888888,
              "#fdca26"
             ],
             [
              1,
              "#f0f921"
             ]
            ],
            "type": "heatmapgl"
           }
          ],
          "histogram": [
           {
            "marker": {
             "pattern": {
              "fillmode": "overlay",
              "size": 10,
              "solidity": 0.2
             }
            },
            "type": "histogram"
           }
          ],
          "histogram2d": [
           {
            "colorbar": {
             "outlinewidth": 0,
             "ticks": ""
            },
            "colorscale": [
             [
              0,
              "#0d0887"
             ],
             [
              0.1111111111111111,
              "#46039f"
             ],
             [
              0.2222222222222222,
              "#7201a8"
             ],
             [
              0.3333333333333333,
              "#9c179e"
             ],
             [
              0.4444444444444444,
              "#bd3786"
             ],
             [
              0.5555555555555556,
              "#d8576b"
             ],
             [
              0.6666666666666666,
              "#ed7953"
             ],
             [
              0.7777777777777778,
              "#fb9f3a"
             ],
             [
              0.8888888888888888,
              "#fdca26"
             ],
             [
              1,
              "#f0f921"
             ]
            ],
            "type": "histogram2d"
           }
          ],
          "histogram2dcontour": [
           {
            "colorbar": {
             "outlinewidth": 0,
             "ticks": ""
            },
            "colorscale": [
             [
              0,
              "#0d0887"
             ],
             [
              0.1111111111111111,
              "#46039f"
             ],
             [
              0.2222222222222222,
              "#7201a8"
             ],
             [
              0.3333333333333333,
              "#9c179e"
             ],
             [
              0.4444444444444444,
              "#bd3786"
             ],
             [
              0.5555555555555556,
              "#d8576b"
             ],
             [
              0.6666666666666666,
              "#ed7953"
             ],
             [
              0.7777777777777778,
              "#fb9f3a"
             ],
             [
              0.8888888888888888,
              "#fdca26"
             ],
             [
              1,
              "#f0f921"
             ]
            ],
            "type": "histogram2dcontour"
           }
          ],
          "mesh3d": [
           {
            "colorbar": {
             "outlinewidth": 0,
             "ticks": ""
            },
            "type": "mesh3d"
           }
          ],
          "parcoords": [
           {
            "line": {
             "colorbar": {
              "outlinewidth": 0,
              "ticks": ""
             }
            },
            "type": "parcoords"
           }
          ],
          "pie": [
           {
            "automargin": true,
            "type": "pie"
           }
          ],
          "scatter": [
           {
            "marker": {
             "colorbar": {
              "outlinewidth": 0,
              "ticks": ""
             }
            },
            "type": "scatter"
           }
          ],
          "scatter3d": [
           {
            "line": {
             "colorbar": {
              "outlinewidth": 0,
              "ticks": ""
             }
            },
            "marker": {
             "colorbar": {
              "outlinewidth": 0,
              "ticks": ""
             }
            },
            "type": "scatter3d"
           }
          ],
          "scattercarpet": [
           {
            "marker": {
             "colorbar": {
              "outlinewidth": 0,
              "ticks": ""
             }
            },
            "type": "scattercarpet"
           }
          ],
          "scattergeo": [
           {
            "marker": {
             "colorbar": {
              "outlinewidth": 0,
              "ticks": ""
             }
            },
            "type": "scattergeo"
           }
          ],
          "scattergl": [
           {
            "marker": {
             "colorbar": {
              "outlinewidth": 0,
              "ticks": ""
             }
            },
            "type": "scattergl"
           }
          ],
          "scattermapbox": [
           {
            "marker": {
             "colorbar": {
              "outlinewidth": 0,
              "ticks": ""
             }
            },
            "type": "scattermapbox"
           }
          ],
          "scatterpolar": [
           {
            "marker": {
             "colorbar": {
              "outlinewidth": 0,
              "ticks": ""
             }
            },
            "type": "scatterpolar"
           }
          ],
          "scatterpolargl": [
           {
            "marker": {
             "colorbar": {
              "outlinewidth": 0,
              "ticks": ""
             }
            },
            "type": "scatterpolargl"
           }
          ],
          "scatterternary": [
           {
            "marker": {
             "colorbar": {
              "outlinewidth": 0,
              "ticks": ""
             }
            },
            "type": "scatterternary"
           }
          ],
          "surface": [
           {
            "colorbar": {
             "outlinewidth": 0,
             "ticks": ""
            },
            "colorscale": [
             [
              0,
              "#0d0887"
             ],
             [
              0.1111111111111111,
              "#46039f"
             ],
             [
              0.2222222222222222,
              "#7201a8"
             ],
             [
              0.3333333333333333,
              "#9c179e"
             ],
             [
              0.4444444444444444,
              "#bd3786"
             ],
             [
              0.5555555555555556,
              "#d8576b"
             ],
             [
              0.6666666666666666,
              "#ed7953"
             ],
             [
              0.7777777777777778,
              "#fb9f3a"
             ],
             [
              0.8888888888888888,
              "#fdca26"
             ],
             [
              1,
              "#f0f921"
             ]
            ],
            "type": "surface"
           }
          ],
          "table": [
           {
            "cells": {
             "fill": {
              "color": "#EBF0F8"
             },
             "line": {
              "color": "white"
             }
            },
            "header": {
             "fill": {
              "color": "#C8D4E3"
             },
             "line": {
              "color": "white"
             }
            },
            "type": "table"
           }
          ]
         },
         "layout": {
          "annotationdefaults": {
           "arrowcolor": "#2a3f5f",
           "arrowhead": 0,
           "arrowwidth": 1
          },
          "autotypenumbers": "strict",
          "coloraxis": {
           "colorbar": {
            "outlinewidth": 0,
            "ticks": ""
           }
          },
          "colorscale": {
           "diverging": [
            [
             0,
             "#8e0152"
            ],
            [
             0.1,
             "#c51b7d"
            ],
            [
             0.2,
             "#de77ae"
            ],
            [
             0.3,
             "#f1b6da"
            ],
            [
             0.4,
             "#fde0ef"
            ],
            [
             0.5,
             "#f7f7f7"
            ],
            [
             0.6,
             "#e6f5d0"
            ],
            [
             0.7,
             "#b8e186"
            ],
            [
             0.8,
             "#7fbc41"
            ],
            [
             0.9,
             "#4d9221"
            ],
            [
             1,
             "#276419"
            ]
           ],
           "sequential": [
            [
             0,
             "#0d0887"
            ],
            [
             0.1111111111111111,
             "#46039f"
            ],
            [
             0.2222222222222222,
             "#7201a8"
            ],
            [
             0.3333333333333333,
             "#9c179e"
            ],
            [
             0.4444444444444444,
             "#bd3786"
            ],
            [
             0.5555555555555556,
             "#d8576b"
            ],
            [
             0.6666666666666666,
             "#ed7953"
            ],
            [
             0.7777777777777778,
             "#fb9f3a"
            ],
            [
             0.8888888888888888,
             "#fdca26"
            ],
            [
             1,
             "#f0f921"
            ]
           ],
           "sequentialminus": [
            [
             0,
             "#0d0887"
            ],
            [
             0.1111111111111111,
             "#46039f"
            ],
            [
             0.2222222222222222,
             "#7201a8"
            ],
            [
             0.3333333333333333,
             "#9c179e"
            ],
            [
             0.4444444444444444,
             "#bd3786"
            ],
            [
             0.5555555555555556,
             "#d8576b"
            ],
            [
             0.6666666666666666,
             "#ed7953"
            ],
            [
             0.7777777777777778,
             "#fb9f3a"
            ],
            [
             0.8888888888888888,
             "#fdca26"
            ],
            [
             1,
             "#f0f921"
            ]
           ]
          },
          "colorway": [
           "#636efa",
           "#EF553B",
           "#00cc96",
           "#ab63fa",
           "#FFA15A",
           "#19d3f3",
           "#FF6692",
           "#B6E880",
           "#FF97FF",
           "#FECB52"
          ],
          "font": {
           "color": "#2a3f5f"
          },
          "geo": {
           "bgcolor": "white",
           "lakecolor": "white",
           "landcolor": "#E5ECF6",
           "showlakes": true,
           "showland": true,
           "subunitcolor": "white"
          },
          "hoverlabel": {
           "align": "left"
          },
          "hovermode": "closest",
          "mapbox": {
           "style": "light"
          },
          "paper_bgcolor": "white",
          "plot_bgcolor": "#E5ECF6",
          "polar": {
           "angularaxis": {
            "gridcolor": "white",
            "linecolor": "white",
            "ticks": ""
           },
           "bgcolor": "#E5ECF6",
           "radialaxis": {
            "gridcolor": "white",
            "linecolor": "white",
            "ticks": ""
           }
          },
          "scene": {
           "xaxis": {
            "backgroundcolor": "#E5ECF6",
            "gridcolor": "white",
            "gridwidth": 2,
            "linecolor": "white",
            "showbackground": true,
            "ticks": "",
            "zerolinecolor": "white"
           },
           "yaxis": {
            "backgroundcolor": "#E5ECF6",
            "gridcolor": "white",
            "gridwidth": 2,
            "linecolor": "white",
            "showbackground": true,
            "ticks": "",
            "zerolinecolor": "white"
           },
           "zaxis": {
            "backgroundcolor": "#E5ECF6",
            "gridcolor": "white",
            "gridwidth": 2,
            "linecolor": "white",
            "showbackground": true,
            "ticks": "",
            "zerolinecolor": "white"
           }
          },
          "shapedefaults": {
           "line": {
            "color": "#2a3f5f"
           }
          },
          "ternary": {
           "aaxis": {
            "gridcolor": "white",
            "linecolor": "white",
            "ticks": ""
           },
           "baxis": {
            "gridcolor": "white",
            "linecolor": "white",
            "ticks": ""
           },
           "bgcolor": "#E5ECF6",
           "caxis": {
            "gridcolor": "white",
            "linecolor": "white",
            "ticks": ""
           }
          },
          "title": {
           "x": 0.05
          },
          "xaxis": {
           "automargin": true,
           "gridcolor": "white",
           "linecolor": "white",
           "ticks": "",
           "title": {
            "standoff": 15
           },
           "zerolinecolor": "white",
           "zerolinewidth": 2
          },
          "yaxis": {
           "automargin": true,
           "gridcolor": "white",
           "linecolor": "white",
           "ticks": "",
           "title": {
            "standoff": 15
           },
           "zerolinecolor": "white",
           "zerolinewidth": 2
          }
         }
        },
        "xaxis": {
         "anchor": "y",
         "domain": [
          0,
          1
         ],
         "title": {
          "text": "Sport"
         }
        },
        "yaxis": {
         "anchor": "x",
         "domain": [
          0,
          1
         ],
         "title": {
          "text": "Price"
         }
        }
       }
      },
      "text/html": [
       "<div>                            <div id=\"522a9273-9f3e-4adb-b51d-bec1cf81bfd0\" class=\"plotly-graph-div\" style=\"height:525px; width:100%;\"></div>            <script type=\"text/javascript\">                require([\"plotly\"], function(Plotly) {                    window.PLOTLYENV=window.PLOTLYENV || {};                                    if (document.getElementById(\"522a9273-9f3e-4adb-b51d-bec1cf81bfd0\")) {                    Plotly.newPlot(                        \"522a9273-9f3e-4adb-b51d-bec1cf81bfd0\",                        [{\"alignmentgroup\":\"True\",\"hovertemplate\":\"Sport=%{x}<br>Price=%{y}<extra></extra>\",\"legendgroup\":\"\",\"marker\":{\"color\":\"#636efa\"},\"name\":\"\",\"notched\":false,\"offsetgroup\":\"\",\"orientation\":\"v\",\"showlegend\":false,\"x\":[\"Sport\",\"Sport\",\"Super Sport\",\"Super Sport\",\"Classic\",\"Sport\",\"Sport\",\"Super Sport\",\"Classic\",\"Sport\",\"Classic\",\"Classic\",\"Super Sport\",\"Classic\",\"Classic\",\"Classic\",\"Sport\",\"Sport\",\"Classic\",\"Classic\",\"Classic\",\"Classic\",\"Classic\",\"Sport\",\"Sport\",\"Sport\",\"Classic\",\"Classic\",\"Classic\",\"Classic\",\"Classic\",\"Classic\",\"Classic\",\"Classic\",\"Sport\",\"Classic\",\"Super Sport\",\"Classic\",\"Sport\",\"Sport\",\"Classic\",\"Sport\",\"Classic\",\"Super Sport\",\"Sport\",\"Sport\",\"Super Sport\",\"Sport\",\"Classic\",\"Super Sport\",\"Sport\",\"Sport\",\"Super Sport\",\"Sport\",\"Super Sport\",\"Classic\",\"Sport\",\"Super Sport\",\"Classic\",\"Super Sport\",\"Classic\",\"Classic\",\"Classic\",\"Super Sport\",\"Classic\",\"Classic\",\"Classic\",\"Super Sport\",\"Classic\",\"Sport\",\"Sport\",\"Classic\",\"Classic\",\"Classic\",\"Classic\",\"Classic\",\"Classic\",\"Classic\",\"Sport\",\"Sport\",\"Classic\",\"Super Sport\",\"Super Sport\",\"Sport\",\"Classic\",\"Sport\",\"Classic\",\"Classic\",\"Sport\",\"Sport\",\"Classic\",\"Sport\",\"Sport\",\"Sport\",\"Classic\",\"Classic\",\"Classic\",\"Classic\",\"Classic\",\"Classic\",\"Classic\",\"Classic\",\"Sport\",\"Classic\",\"Classic\",\"Sport\",\"Classic\",\"Classic\",\"Classic\",\"Sport\",\"Sport\",\"Classic\",\"Classic\",\"Classic\",\"Classic\",\"Classic\",\"Classic\",\"Classic\",\"Classic\",\"Classic\",\"Classic\",\"Sport\",\"Sport\",\"Classic\",\"Classic\",\"Classic\",\"Classic\",\"Super Sport\",\"Classic\",\"Classic\",\"Classic\",\"Classic\",\"Classic\",\"Classic\",\"Classic\",\"Classic\",\"Classic\",\"Classic\",\"Classic\",\"Classic\",\"Classic\",\"Classic\",\"Classic\",\"Classic\",\"Classic\",\"Sport\",\"Super Sport\",\"Classic\",\"Classic\",\"Classic\",\"Classic\",\"Super Sport\",\"Super Sport\",\"Super Sport\",\"Super Sport\",\"Super Sport\",\"Super Sport\",\"Super Sport\",\"Super Sport\",\"Super Sport\",\"Super Sport\",\"Super Sport\",\"Classic\",\"Classic\",\"Super Sport\",\"Sport\",\"Classic\",\"Classic\",\"Classic\",\"Classic\",\"Sport\",\"Classic\",\"Classic\",\"Classic\",\"Sport\",\"Sport\",\"Classic\",\"Super Sport\",\"Super Sport\",\"Classic\",\"Sport\",\"Classic\",\"Super Sport\",\"Sport\",\"Super Sport\",\"Classic\",\"Classic\",\"Classic\",\"Super Sport\",\"Super Sport\",\"Classic\",\"Classic\",\"Classic\",\"Super Sport\",\"Super Sport\",\"Super Sport\",\"Sport\",\"Classic\",\"Super Sport\",\"Super Sport\",\"Classic\",\"Classic\",\"Classic\",\"Classic\",\"Classic\",\"Classic\",\"Classic\",\"Classic\",\"Sport\",\"Super Sport\",\"Classic\",\"Classic\",\"Super Sport\",\"Classic\",\"Classic\",\"Super Sport\",\"Classic\",\"Sport\",\"Sport\",\"Classic\",\"Classic\",\"Sport\",\"Classic\",\"Classic\",\"Classic\",\"Super Sport\",\"Classic\",\"Sport\",\"Super Sport\",\"Sport\",\"Classic\",\"Classic\",\"Classic\",\"Super Sport\",\"Classic\",\"Classic\",\"Classic\",\"Classic\",\"Super Sport\",\"Super Sport\",\"Classic\",\"Sport\",\"Super Sport\",\"Sport\",\"Classic\",\"Classic\",\"Sport\",\"Sport\",\"Super Sport\",\"Classic\",\"Classic\",\"Classic\",\"Classic\",\"Sport\",\"Sport\",\"Classic\",\"Sport\",\"Classic\",\"Super Sport\",\"Super Sport\",\"Classic\",\"Classic\",\"Super Sport\",\"Classic\",\"Super Sport\",\"Classic\",\"Super Sport\",\"Classic\",\"Classic\",\"Classic\",\"Classic\",\"Super Sport\",\"Sport\",\"Classic\",\"Classic\",\"Super Sport\",\"Super Sport\",\"Classic\",\"Classic\",\"Classic\",\"Super Sport\",\"Classic\",\"Classic\",\"Classic\",\"Classic\",\"Super Sport\",\"Classic\",\"Super Sport\",\"Super Sport\",\"Super Sport\",\"Sport\",\"Classic\",\"Classic\",\"Sport\",\"Classic\",\"Classic\",\"Super Sport\",\"Sport\",\"Classic\",\"Super Sport\",\"Classic\",\"Sport\",\"Classic\",\"Classic\",\"Classic\",\"Classic\",\"Classic\",\"Classic\",\"Super Sport\",\"Sport\",\"Super Sport\",\"Classic\",\"Classic\",\"Classic\",\"Classic\",\"Classic\",\"Classic\",\"Classic\",\"Classic\",\"Classic\",\"Classic\",\"Classic\",\"Classic\",\"Classic\",\"Classic\",\"Classic\",\"Classic\",\"Classic\",\"Classic\",\"Classic\",\"Classic\",\"Classic\",\"Classic\",\"Classic\",\"Classic\",\"Classic\",\"Classic\",\"Classic\",\"Classic\",\"Classic\",\"Classic\",\"Classic\",\"Classic\",\"Classic\",\"Classic\",\"Classic\",\"Classic\",\"Classic\",\"Classic\",\"Classic\",\"Classic\",\"Classic\",\"Classic\",\"Classic\",\"Classic\",\"Classic\",\"Classic\",\"Classic\",\"Classic\",\"Classic\",\"Classic\",\"Classic\",\"Classic\",\"Classic\",\"Classic\",\"Classic\",\"Classic\",\"Classic\",\"Classic\",\"Classic\",\"Classic\",\"Classic\",\"Classic\",\"Classic\",\"Sport\",\"Sport\",\"Sport\",\"Sport\",\"Sport\",\"Sport\",\"Sport\",\"Sport\",\"Sport\",\"Sport\",\"Sport\",\"Classic\",\"Classic\",\"Sport\",\"Sport\",\"Classic\",\"Sport\",\"Classic\",\"Classic\",\"Classic\",\"Classic\",\"Classic\",\"Classic\",\"Classic\",\"Classic\",\"Classic\",\"Classic\",\"Sport\",\"Sport\",\"Sport\",\"Classic\",\"Classic\",\"Classic\",\"Classic\",\"Sport\",\"Sport\",\"Sport\",\"Classic\",\"Classic\",\"Classic\",\"Classic\",\"Classic\",\"Classic\",\"Sport\",\"Classic\",\"Classic\",\"Classic\",\"Classic\",\"Classic\",\"Sport\",\"Classic\",\"Sport\",\"Classic\",\"Classic\",\"Classic\",\"Classic\",\"Classic\",\"Classic\",\"Classic\",\"Classic\",\"Classic\",\"Classic\",\"Classic\",\"Classic\",\"Sport\",\"Sport\",\"Sport\",\"Classic\",\"Sport\",\"Sport\",\"Classic\",\"Sport\",\"Classic\",\"Sport\",\"Super Sport\",\"Classic\",\"Sport\",\"Sport\",\"Classic\",\"Classic\",\"Classic\",\"Sport\",\"Super Sport\",\"Super Sport\",\"Classic\",\"Super Sport\",\"Classic\",\"Sport\",\"Sport\",\"Super Sport\",\"Sport\",\"Super Sport\",\"Super Sport\",\"Super Sport\",\"Super Sport\",\"Classic\",\"Super Sport\",\"Super Sport\",\"Sport\",\"Classic\",\"Classic\",\"Classic\",\"Super Sport\",\"Classic\",\"Sport\",\"Classic\",\"Sport\",\"Sport\",\"Super Sport\",\"Sport\",\"Classic\",\"Super Sport\",\"Classic\",\"Classic\",\"Super Sport\",\"Classic\",\"Super Sport\",\"Classic\",\"Super Sport\",\"Classic\",\"Sport\",\"Classic\",\"Super Sport\",\"Classic\",\"Classic\",\"Sport\",\"Classic\",\"Sport\",\"Classic\",\"Super Sport\",\"Classic\",\"Sport\",\"Super Sport\",\"Classic\",\"Classic\",\"Classic\",\"Classic\",\"Super Sport\",\"Super Sport\",\"Classic\",\"Classic\",\"Classic\",\"Super Sport\",\"Classic\",\"Classic\",\"Super Sport\",\"Classic\",\"Classic\",\"Classic\",\"Classic\",\"Classic\",\"Classic\",\"Classic\",\"Classic\",\"Classic\",\"Classic\",\"Classic\",\"Classic\",\"Classic\",\"Classic\",\"Classic\",\"Classic\",\"Classic\",\"Classic\",\"Classic\",\"Classic\",\"Classic\",\"Classic\",\"Classic\",\"Classic\",\"Sport\",\"Classic\",\"Classic\",\"Classic\",\"Classic\",\"Classic\",\"Super Sport\",\"Sport\",\"Classic\",\"Classic\",\"Classic\",\"Classic\",\"Classic\",\"Classic\",\"Classic\",\"Classic\",\"Classic\",\"Classic\",\"Classic\",\"Classic\",\"Classic\",\"Classic\",\"Classic\",\"Classic\",\"Classic\",\"Classic\",\"Sport\",\"Classic\",\"Classic\",\"Classic\",\"Classic\",\"Classic\",\"Classic\",\"Classic\",\"Classic\",\"Classic\",\"Classic\",\"Classic\",\"Classic\",\"Classic\",\"Classic\",\"Super Sport\",\"Classic\",\"Classic\",\"Classic\",\"Classic\",\"Classic\",\"Classic\",\"Classic\",\"Classic\",\"Classic\",\"Classic\",\"Classic\",\"Classic\",\"Classic\",\"Classic\",\"Classic\",\"Classic\",\"Classic\",\"Classic\",\"Classic\",\"Classic\",\"Classic\",\"Classic\",\"Classic\",\"Classic\",\"Classic\",\"Classic\",\"Classic\",\"Classic\",\"Classic\",\"Classic\",\"Classic\",\"Classic\",\"Classic\",\"Classic\",\"Classic\",\"Classic\",\"Classic\",\"Classic\",\"Classic\",\"Classic\",\"Classic\",\"Classic\",\"Classic\",\"Classic\",\"Classic\",\"Classic\",\"Classic\",\"Classic\",\"Classic\",\"Classic\",\"Classic\",\"Classic\",\"Classic\",\"Classic\",\"Classic\",\"Classic\",\"Classic\",\"Classic\",\"Classic\",\"Classic\",\"Classic\",\"Classic\",\"Classic\",\"Classic\",\"Classic\",\"Classic\",\"Classic\",\"Classic\",\"Classic\",\"Classic\",\"Classic\",\"Classic\",\"Classic\",\"Classic\",\"Classic\",\"Classic\",\"Classic\",\"Classic\",\"Classic\",\"Classic\",\"Classic\",\"Classic\",\"Classic\",\"Classic\",\"Classic\",\"Classic\",\"Classic\",\"Classic\"],\"x0\":\" \",\"xaxis\":\"x\",\"y\":[168882,135995,91991,979000,79881,179000,137900,102500,76898,119991,83900,108980,89978,79999,79991,104991,122997,139480,80995,89000,74995,128990,79900,144900,159000,149898,96998,87991,82900,89900,91900,76900,159000,88922,149900,108800,148536,127991,145000,148668,93992,139900,76900,148998,128000,119995,124900,134900,99995,125991,179898,138898,109900,151900,159000,95991,145900,157995,84888,123000,118994,117898,125998,225991,128798,134998,97495,106991,129994,159680,147000,139950,156994,105900,122898,134000,118000,499900,127995,143900,112991,115995,124490,141991,155995,138992,92900,136260,139991,176888,139991,158900,168882,169881,105995,116780,109898,112995,98995,114998,120900,113993,169458,92995,120900,145991,104998,94981,109900,168992,207900,114985,109984,102900,97500,112606,99800,116900,105035,119990,112991,171999,179888,101498,116089,118799,119000,117991,126723,144752,96000,92888,120993,109795,104998,95900,113000,119984,129997,89988,129465,100998,119898,116415,98990,149990,119985,104998,87898,176998,109900,197888,247275,199900,193482,143998,239881,212991,194888,209900,229898,199990,134998,124950,179990,174890,116997,113994,128143,129693,174900,131998,144991,135960,164991,169899,146994,219399,214900,119900,187900,149998,133500,201888,234999,128500,223995,123380,199947,139900,152900,118980,99790,188900,194445,206309,214900,138798,249000,164900,155898,98994,154700,98981,134994,130995,128776,98995,168900,122821,107995,114900,218897,165995,129900,234898,133327,199998,219000,107299,99898,215000,124993,107988,109881,241991,109881,189766,269900,189980,385000,107812,139900,264991,176879,103900,124995,147900,149900,155995,170991,189900,153274,195759,167728,129981,173998,203900,142994,138283,117900,107991,151900,194899,199399,359995,199850,139880,239900,225911,154881,143981,269900,139392,155995,134991,245991,132991,119985,144898,157981,137992,202665,172790,163990,158100,229995,138892,139995,168900,429991,148115,385888,102500,145000,139898,128900,245820,136998,209989,194998,146977,139999,189995,181900,419950,289888,179985,425000,155000,119998,191994,128792,389898,99900,132898,134881,94990,134999,204898,256550,142995,152881,149000,133992,137900,130991,137994,149000,169992,131898,148992,164900,164900,134981,154881,134998,137995,146991,121898,121998,147298,154990,129995,160034,119990,157775,157998,122981,153985,140656,164900,177000,149900,161995,165105,146650,136994,112867,158989,149985,145899,149998,159909,152999,156500,147995,143981,128990,149900,158477,145900,157220,146900,162226,139992,162900,133991,155990,129911,159995,156500,158995,139000,279000,282500,268269,263980,268998,271947,260992,289905,287900,274995,284496,219500,149992,279900,269990,158370,238597,159992,135000,146990,130400,212148,169992,144761,169988,235550,137790,279990,264900,289995,169995,141992,164999,152340,303798,222996,257500,139912,168991,163995,146988,167990,163992,291972,168992,208888,128881,239992,125999,274992,151900,259990,169995,161898,156900,143950,162912,142998,139950,153888,134911,154999,139995,147995,279888,279900,279900,205900,260000,288149,226887,266308,184898,279900,189995,184898,289888,277198,139995,158999,138995,329988,294900,329992,139988,307717,249995,299981,269901,193999,299992,289992,299999,215932,188990,219898,269900,209900,288500,179991,182995,169998,194998,159919,283721,204995,296498,299992,188800,264990,134990,279496,146887,229988,199990,171998,294888,199900,290000,161900,288715,143400,309999,199976,143500,279900,142305,278500,173981,195997,173591,286494,286671,225900,219897,169999,180992,339998,174881,170495,219897,154992,350000,219898,199595,329898,69991,94900,69900,88900,120000,86981,169777,80990,153788,85995,124849,124226,149357,117999,165620,152900,89900,136900,159788,119900,89900,87888,127791,137000,155000,179911,103995,95900,118995,89900,127898,189000,99998,98998,181122,106900,117499,135144,94988,180999,199991,249900,89998,109995,139788,186990,188790,132900,151732,137695,174900,165990,148788,189460,191900,214900,98899,156955,139996,184998,116888,194999,120424,203995,252900,265000,150782,164900,132981,173900,102222,389900,169900,132991,136211,148888,182955,102900,140744,163312,155900,149900,179998,151900,144900,156900,130991,155783,127990,127900,118990,160900,264911,136911,279900,249991,146788,151429,157788,292998,259899,149900,140499,158489,129600,264900,257999,279000,250000,249988,229880,139788,159888,269000,285911,134999,151000,299900,242991,279981,284900,255990,139900,295568,202500,289900,279900,74900,89900,138791,127900,95991,126981,143887,164781,94911,105980,124900,105719,124981,114994,119198,103900,141685,187900,116900,141865,205911,195987,149900,207952,143620,132896,239911],\"y0\":\" \",\"yaxis\":\"y\",\"type\":\"box\"}],                        {\"template\":{\"data\":{\"bar\":[{\"error_x\":{\"color\":\"#2a3f5f\"},\"error_y\":{\"color\":\"#2a3f5f\"},\"marker\":{\"line\":{\"color\":\"#E5ECF6\",\"width\":0.5},\"pattern\":{\"fillmode\":\"overlay\",\"size\":10,\"solidity\":0.2}},\"type\":\"bar\"}],\"barpolar\":[{\"marker\":{\"line\":{\"color\":\"#E5ECF6\",\"width\":0.5},\"pattern\":{\"fillmode\":\"overlay\",\"size\":10,\"solidity\":0.2}},\"type\":\"barpolar\"}],\"carpet\":[{\"aaxis\":{\"endlinecolor\":\"#2a3f5f\",\"gridcolor\":\"white\",\"linecolor\":\"white\",\"minorgridcolor\":\"white\",\"startlinecolor\":\"#2a3f5f\"},\"baxis\":{\"endlinecolor\":\"#2a3f5f\",\"gridcolor\":\"white\",\"linecolor\":\"white\",\"minorgridcolor\":\"white\",\"startlinecolor\":\"#2a3f5f\"},\"type\":\"carpet\"}],\"choropleth\":[{\"colorbar\":{\"outlinewidth\":0,\"ticks\":\"\"},\"type\":\"choropleth\"}],\"contour\":[{\"colorbar\":{\"outlinewidth\":0,\"ticks\":\"\"},\"colorscale\":[[0.0,\"#0d0887\"],[0.1111111111111111,\"#46039f\"],[0.2222222222222222,\"#7201a8\"],[0.3333333333333333,\"#9c179e\"],[0.4444444444444444,\"#bd3786\"],[0.5555555555555556,\"#d8576b\"],[0.6666666666666666,\"#ed7953\"],[0.7777777777777778,\"#fb9f3a\"],[0.8888888888888888,\"#fdca26\"],[1.0,\"#f0f921\"]],\"type\":\"contour\"}],\"contourcarpet\":[{\"colorbar\":{\"outlinewidth\":0,\"ticks\":\"\"},\"type\":\"contourcarpet\"}],\"heatmap\":[{\"colorbar\":{\"outlinewidth\":0,\"ticks\":\"\"},\"colorscale\":[[0.0,\"#0d0887\"],[0.1111111111111111,\"#46039f\"],[0.2222222222222222,\"#7201a8\"],[0.3333333333333333,\"#9c179e\"],[0.4444444444444444,\"#bd3786\"],[0.5555555555555556,\"#d8576b\"],[0.6666666666666666,\"#ed7953\"],[0.7777777777777778,\"#fb9f3a\"],[0.8888888888888888,\"#fdca26\"],[1.0,\"#f0f921\"]],\"type\":\"heatmap\"}],\"heatmapgl\":[{\"colorbar\":{\"outlinewidth\":0,\"ticks\":\"\"},\"colorscale\":[[0.0,\"#0d0887\"],[0.1111111111111111,\"#46039f\"],[0.2222222222222222,\"#7201a8\"],[0.3333333333333333,\"#9c179e\"],[0.4444444444444444,\"#bd3786\"],[0.5555555555555556,\"#d8576b\"],[0.6666666666666666,\"#ed7953\"],[0.7777777777777778,\"#fb9f3a\"],[0.8888888888888888,\"#fdca26\"],[1.0,\"#f0f921\"]],\"type\":\"heatmapgl\"}],\"histogram\":[{\"marker\":{\"pattern\":{\"fillmode\":\"overlay\",\"size\":10,\"solidity\":0.2}},\"type\":\"histogram\"}],\"histogram2d\":[{\"colorbar\":{\"outlinewidth\":0,\"ticks\":\"\"},\"colorscale\":[[0.0,\"#0d0887\"],[0.1111111111111111,\"#46039f\"],[0.2222222222222222,\"#7201a8\"],[0.3333333333333333,\"#9c179e\"],[0.4444444444444444,\"#bd3786\"],[0.5555555555555556,\"#d8576b\"],[0.6666666666666666,\"#ed7953\"],[0.7777777777777778,\"#fb9f3a\"],[0.8888888888888888,\"#fdca26\"],[1.0,\"#f0f921\"]],\"type\":\"histogram2d\"}],\"histogram2dcontour\":[{\"colorbar\":{\"outlinewidth\":0,\"ticks\":\"\"},\"colorscale\":[[0.0,\"#0d0887\"],[0.1111111111111111,\"#46039f\"],[0.2222222222222222,\"#7201a8\"],[0.3333333333333333,\"#9c179e\"],[0.4444444444444444,\"#bd3786\"],[0.5555555555555556,\"#d8576b\"],[0.6666666666666666,\"#ed7953\"],[0.7777777777777778,\"#fb9f3a\"],[0.8888888888888888,\"#fdca26\"],[1.0,\"#f0f921\"]],\"type\":\"histogram2dcontour\"}],\"mesh3d\":[{\"colorbar\":{\"outlinewidth\":0,\"ticks\":\"\"},\"type\":\"mesh3d\"}],\"parcoords\":[{\"line\":{\"colorbar\":{\"outlinewidth\":0,\"ticks\":\"\"}},\"type\":\"parcoords\"}],\"pie\":[{\"automargin\":true,\"type\":\"pie\"}],\"scatter\":[{\"marker\":{\"colorbar\":{\"outlinewidth\":0,\"ticks\":\"\"}},\"type\":\"scatter\"}],\"scatter3d\":[{\"line\":{\"colorbar\":{\"outlinewidth\":0,\"ticks\":\"\"}},\"marker\":{\"colorbar\":{\"outlinewidth\":0,\"ticks\":\"\"}},\"type\":\"scatter3d\"}],\"scattercarpet\":[{\"marker\":{\"colorbar\":{\"outlinewidth\":0,\"ticks\":\"\"}},\"type\":\"scattercarpet\"}],\"scattergeo\":[{\"marker\":{\"colorbar\":{\"outlinewidth\":0,\"ticks\":\"\"}},\"type\":\"scattergeo\"}],\"scattergl\":[{\"marker\":{\"colorbar\":{\"outlinewidth\":0,\"ticks\":\"\"}},\"type\":\"scattergl\"}],\"scattermapbox\":[{\"marker\":{\"colorbar\":{\"outlinewidth\":0,\"ticks\":\"\"}},\"type\":\"scattermapbox\"}],\"scatterpolar\":[{\"marker\":{\"colorbar\":{\"outlinewidth\":0,\"ticks\":\"\"}},\"type\":\"scatterpolar\"}],\"scatterpolargl\":[{\"marker\":{\"colorbar\":{\"outlinewidth\":0,\"ticks\":\"\"}},\"type\":\"scatterpolargl\"}],\"scatterternary\":[{\"marker\":{\"colorbar\":{\"outlinewidth\":0,\"ticks\":\"\"}},\"type\":\"scatterternary\"}],\"surface\":[{\"colorbar\":{\"outlinewidth\":0,\"ticks\":\"\"},\"colorscale\":[[0.0,\"#0d0887\"],[0.1111111111111111,\"#46039f\"],[0.2222222222222222,\"#7201a8\"],[0.3333333333333333,\"#9c179e\"],[0.4444444444444444,\"#bd3786\"],[0.5555555555555556,\"#d8576b\"],[0.6666666666666666,\"#ed7953\"],[0.7777777777777778,\"#fb9f3a\"],[0.8888888888888888,\"#fdca26\"],[1.0,\"#f0f921\"]],\"type\":\"surface\"}],\"table\":[{\"cells\":{\"fill\":{\"color\":\"#EBF0F8\"},\"line\":{\"color\":\"white\"}},\"header\":{\"fill\":{\"color\":\"#C8D4E3\"},\"line\":{\"color\":\"white\"}},\"type\":\"table\"}]},\"layout\":{\"annotationdefaults\":{\"arrowcolor\":\"#2a3f5f\",\"arrowhead\":0,\"arrowwidth\":1},\"autotypenumbers\":\"strict\",\"coloraxis\":{\"colorbar\":{\"outlinewidth\":0,\"ticks\":\"\"}},\"colorscale\":{\"diverging\":[[0,\"#8e0152\"],[0.1,\"#c51b7d\"],[0.2,\"#de77ae\"],[0.3,\"#f1b6da\"],[0.4,\"#fde0ef\"],[0.5,\"#f7f7f7\"],[0.6,\"#e6f5d0\"],[0.7,\"#b8e186\"],[0.8,\"#7fbc41\"],[0.9,\"#4d9221\"],[1,\"#276419\"]],\"sequential\":[[0.0,\"#0d0887\"],[0.1111111111111111,\"#46039f\"],[0.2222222222222222,\"#7201a8\"],[0.3333333333333333,\"#9c179e\"],[0.4444444444444444,\"#bd3786\"],[0.5555555555555556,\"#d8576b\"],[0.6666666666666666,\"#ed7953\"],[0.7777777777777778,\"#fb9f3a\"],[0.8888888888888888,\"#fdca26\"],[1.0,\"#f0f921\"]],\"sequentialminus\":[[0.0,\"#0d0887\"],[0.1111111111111111,\"#46039f\"],[0.2222222222222222,\"#7201a8\"],[0.3333333333333333,\"#9c179e\"],[0.4444444444444444,\"#bd3786\"],[0.5555555555555556,\"#d8576b\"],[0.6666666666666666,\"#ed7953\"],[0.7777777777777778,\"#fb9f3a\"],[0.8888888888888888,\"#fdca26\"],[1.0,\"#f0f921\"]]},\"colorway\":[\"#636efa\",\"#EF553B\",\"#00cc96\",\"#ab63fa\",\"#FFA15A\",\"#19d3f3\",\"#FF6692\",\"#B6E880\",\"#FF97FF\",\"#FECB52\"],\"font\":{\"color\":\"#2a3f5f\"},\"geo\":{\"bgcolor\":\"white\",\"lakecolor\":\"white\",\"landcolor\":\"#E5ECF6\",\"showlakes\":true,\"showland\":true,\"subunitcolor\":\"white\"},\"hoverlabel\":{\"align\":\"left\"},\"hovermode\":\"closest\",\"mapbox\":{\"style\":\"light\"},\"paper_bgcolor\":\"white\",\"plot_bgcolor\":\"#E5ECF6\",\"polar\":{\"angularaxis\":{\"gridcolor\":\"white\",\"linecolor\":\"white\",\"ticks\":\"\"},\"bgcolor\":\"#E5ECF6\",\"radialaxis\":{\"gridcolor\":\"white\",\"linecolor\":\"white\",\"ticks\":\"\"}},\"scene\":{\"xaxis\":{\"backgroundcolor\":\"#E5ECF6\",\"gridcolor\":\"white\",\"gridwidth\":2,\"linecolor\":\"white\",\"showbackground\":true,\"ticks\":\"\",\"zerolinecolor\":\"white\"},\"yaxis\":{\"backgroundcolor\":\"#E5ECF6\",\"gridcolor\":\"white\",\"gridwidth\":2,\"linecolor\":\"white\",\"showbackground\":true,\"ticks\":\"\",\"zerolinecolor\":\"white\"},\"zaxis\":{\"backgroundcolor\":\"#E5ECF6\",\"gridcolor\":\"white\",\"gridwidth\":2,\"linecolor\":\"white\",\"showbackground\":true,\"ticks\":\"\",\"zerolinecolor\":\"white\"}},\"shapedefaults\":{\"line\":{\"color\":\"#2a3f5f\"}},\"ternary\":{\"aaxis\":{\"gridcolor\":\"white\",\"linecolor\":\"white\",\"ticks\":\"\"},\"baxis\":{\"gridcolor\":\"white\",\"linecolor\":\"white\",\"ticks\":\"\"},\"bgcolor\":\"#E5ECF6\",\"caxis\":{\"gridcolor\":\"white\",\"linecolor\":\"white\",\"ticks\":\"\"}},\"title\":{\"x\":0.05},\"xaxis\":{\"automargin\":true,\"gridcolor\":\"white\",\"linecolor\":\"white\",\"ticks\":\"\",\"title\":{\"standoff\":15},\"zerolinecolor\":\"white\",\"zerolinewidth\":2},\"yaxis\":{\"automargin\":true,\"gridcolor\":\"white\",\"linecolor\":\"white\",\"ticks\":\"\",\"title\":{\"standoff\":15},\"zerolinecolor\":\"white\",\"zerolinewidth\":2}}},\"xaxis\":{\"anchor\":\"y\",\"domain\":[0.0,1.0],\"title\":{\"text\":\"Sport\"}},\"yaxis\":{\"anchor\":\"x\",\"domain\":[0.0,1.0],\"title\":{\"text\":\"Price\"}},\"legend\":{\"tracegroupgap\":0},\"margin\":{\"t\":60},\"boxmode\":\"group\"},                        {\"responsive\": true}                    ).then(function(){\n",
       "                            \n",
       "var gd = document.getElementById('522a9273-9f3e-4adb-b51d-bec1cf81bfd0');\n",
       "var x = new MutationObserver(function (mutations, observer) {{\n",
       "        var display = window.getComputedStyle(gd).display;\n",
       "        if (!display || display === 'none') {{\n",
       "            console.log([gd, 'removed!']);\n",
       "            Plotly.purge(gd);\n",
       "            observer.disconnect();\n",
       "        }}\n",
       "}});\n",
       "\n",
       "// Listen for the removal of the full notebook cells\n",
       "var notebookContainer = gd.closest('#notebook-container');\n",
       "if (notebookContainer) {{\n",
       "    x.observe(notebookContainer, {childList: true});\n",
       "}}\n",
       "\n",
       "// Listen for the clearing of the current output cell\n",
       "var outputEl = gd.closest('.output');\n",
       "if (outputEl) {{\n",
       "    x.observe(outputEl, {childList: true});\n",
       "}}\n",
       "\n",
       "                        })                };                });            </script>        </div>"
      ]
     },
     "metadata": {},
     "output_type": "display_data"
    }
   ],
   "source": [
    "for i in df:\n",
    "    boxp = px.box(data_frame=df, x=i, y= \"Price\")\n",
    "    boxp.show()"
   ]
  },
  {
   "cell_type": "code",
   "execution_count": 63,
   "id": "964f87b9",
   "metadata": {
    "scrolled": true
   },
   "outputs": [
    {
     "data": {
      "text/plain": [
       "<Figure size 720x720 with 0 Axes>"
      ]
     },
     "metadata": {},
     "output_type": "display_data"
    },
    {
     "data": {
      "image/png": "[encoded data removed]",
      "text/plain": [
       "<Figure size 432x288 with 1 Axes>"
      ]
     },
     "metadata": {},
     "output_type": "display_data"
    }
   ],
   "source": [
    "labels = df['Sport'].unique()\n",
    "sizes =  df['Sport'].value_counts()\n",
    "\n",
    "colors = ['#66b3ff','#205bc0','#94b5ef']\n",
    "fig = plt.gcf()\n",
    "fig.set_size_inches(10,10)\n",
    "\n",
    "fig1, ax1 = plt.subplots()\n",
    "ax1.pie(sizes, colors = colors, labels=labels, autopct='%1.1f%%', startangle=90)\n",
    "plt.title(\"Percentage of the  911 Sport types \",fontsize=12)\n",
    "centre_circle = plt.Circle((0,0),0.70,fc='white')\n",
    "fig = plt.gcf()\n",
    "fig.gca().add_artist(centre_circle)\n",
    "ax1.axis('equal')  \n",
    "plt.tight_layout()\n",
    "plt.show()"
   ]
  },
  {
   "cell_type": "code",
   "execution_count": 111,
   "id": "90802dd5",
   "metadata": {},
   "outputs": [
    {
     "data": {
      "text/plain": [
       "<Figure size 720x720 with 0 Axes>"
      ]
     },
     "metadata": {},
     "output_type": "display_data"
    },
    {
     "data": {
      "image/png": "[encoded data removed]",
      "text/plain": [
       "<Figure size 432x288 with 1 Axes>"
      ]
     },
     "metadata": {},
     "output_type": "display_data"
    }
   ],
   "source": [
    "labels = df['Model_type'].unique()\n",
    "sizes =  df['Model_type'].value_counts()\n",
    "\n",
    "colors = ['#66b3ff','#205bc0','#94b5ef']\n",
    "fig = plt.gcf()\n",
    "fig.set_size_inches(10,10)\n",
    "\n",
    "fig1, ax1 = plt.subplots()\n",
    "ax1.pie(sizes, colors = colors, labels=labels, autopct='%1.1f%%', startangle=90)\n",
    "plt.title(\"Percentage of the  911 generation \",fontsize=12)\n",
    "centre_circle = plt.Circle((0,0),0.70,fc='white')\n",
    "fig = plt.gcf()\n",
    "fig.gca().add_artist(centre_circle)\n",
    "ax1.axis('equal')  \n",
    "plt.tight_layout()\n",
    "plt.show()"
   ]
  },
  {
   "cell_type": "code",
   "execution_count": 110,
   "id": "d9b4bc46",
   "metadata": {},
   "outputs": [],
   "source": [
    "usa = []\n",
    "for i in df.Name:\n",
    "    if i in [\"911\",\"911  S\",\"911 Targa 4S\",\"911 4S\"]:\n",
    "        usa.append(\"USA\")\n",
    "    elif i in [\"911 Turbo S\",\"911 Turbo\"]:\n",
    "        usa.append(\"USA\")\n",
    "    elif i in ['911 GT3 RS', '911  GTS', '911 GT3','911 4 GTS','911 GT2 RS']:\n",
    "        usa.append(\"USA\")\n",
    "    else:\n",
    "        usa.append(\"Problem\")\n",
    "#usa"
   ]
  },
  {
   "cell_type": "code",
   "execution_count": 91,
   "id": "ff65a1ff",
   "metadata": {
    "scrolled": true
   },
   "outputs": [],
   "source": [
    "df[\"Made\"] = usa"
   ]
  },
  {
   "cell_type": "code",
   "execution_count": 121,
   "id": "6ab27b56",
   "metadata": {},
   "outputs": [],
   "source": [
    "#df.loc[df.Model_type == \"991.2\"]"
   ]
  },
  {
   "cell_type": "code",
   "execution_count": 124,
   "id": "50d6dfb1",
   "metadata": {},
   "outputs": [
    {
     "data": {
      "image/png": "[encoded data removed]",
      "text/plain": [
       "<Figure size 720x432 with 1 Axes>"
      ]
     },
     "metadata": {
      "needs_background": "light"
     },
     "output_type": "display_data"
    }
   ],
   "source": [
    "#Since this group takes up more than 50% of the data as a percentage.\n",
    "#I wanted to look at the price for each model\n",
    "\n",
    "plt.figure(figsize=(10,6))\n",
    "sns.barplot(data = df.loc[df.Model_type == \"991.2\"], x = \"Name\", y = \"Price\", ci = None)\n",
    "plt.xticks(rotation = 45)\n",
    "plt.title(\"Avarage price by each model\")\n",
    "plt.show()"
   ]
  },
  {
   "cell_type": "code",
   "execution_count": 113,
   "id": "0346c3af",
   "metadata": {},
   "outputs": [
    {
     "data": {
      "text/html": [
       "<div>\n",
       "<style scoped>\n",
       "    .dataframe tbody tr th:only-of-type {\n",
       "        vertical-align: middle;\n",
       "    }\n",
       "\n",
       "    .dataframe tbody tr th {\n",
       "        vertical-align: top;\n",
       "    }\n",
       "\n",
       "    .dataframe thead th {\n",
       "        text-align: right;\n",
       "    }\n",
       "</style>\n",
       "<table border=\"1\" class=\"dataframe\">\n",
       "  <thead>\n",
       "    <tr style=\"text-align: right;\">\n",
       "      <th></th>\n",
       "      <th>Name</th>\n",
       "      <th>Mileage</th>\n",
       "      <th>Price</th>\n",
       "      <th>Year</th>\n",
       "      <th>Model_type</th>\n",
       "      <th>Sport</th>\n",
       "      <th>Made</th>\n",
       "    </tr>\n",
       "  </thead>\n",
       "  <tbody>\n",
       "    <tr>\n",
       "      <th>0</th>\n",
       "      <td>911 Turbo S</td>\n",
       "      <td>26.709</td>\n",
       "      <td>168882</td>\n",
       "      <td>2017</td>\n",
       "      <td>991.2</td>\n",
       "      <td>Sport</td>\n",
       "      <td>USA</td>\n",
       "    </tr>\n",
       "    <tr>\n",
       "      <th>1</th>\n",
       "      <td>911 Turbo S</td>\n",
       "      <td>8.603</td>\n",
       "      <td>135995</td>\n",
       "      <td>2011</td>\n",
       "      <td>997.2</td>\n",
       "      <td>Sport</td>\n",
       "      <td>USA</td>\n",
       "    </tr>\n",
       "    <tr>\n",
       "      <th>5</th>\n",
       "      <td>911 Turbo S</td>\n",
       "      <td>2.930</td>\n",
       "      <td>179000</td>\n",
       "      <td>2011</td>\n",
       "      <td>997.2</td>\n",
       "      <td>Sport</td>\n",
       "      <td>USA</td>\n",
       "    </tr>\n",
       "    <tr>\n",
       "      <th>6</th>\n",
       "      <td>911 Turbo</td>\n",
       "      <td>3.576</td>\n",
       "      <td>137900</td>\n",
       "      <td>2011</td>\n",
       "      <td>997.2</td>\n",
       "      <td>Sport</td>\n",
       "      <td>USA</td>\n",
       "    </tr>\n",
       "    <tr>\n",
       "      <th>9</th>\n",
       "      <td>911 Turbo</td>\n",
       "      <td>24.971</td>\n",
       "      <td>119991</td>\n",
       "      <td>2012</td>\n",
       "      <td>991</td>\n",
       "      <td>Sport</td>\n",
       "      <td>USA</td>\n",
       "    </tr>\n",
       "    <tr>\n",
       "      <th>16</th>\n",
       "      <td>911 Turbo S</td>\n",
       "      <td>24.137</td>\n",
       "      <td>122997</td>\n",
       "      <td>2012</td>\n",
       "      <td>991</td>\n",
       "      <td>Sport</td>\n",
       "      <td>USA</td>\n",
       "    </tr>\n",
       "    <tr>\n",
       "      <th>17</th>\n",
       "      <td>911 Turbo S</td>\n",
       "      <td>24.321</td>\n",
       "      <td>139480</td>\n",
       "      <td>2013</td>\n",
       "      <td>991</td>\n",
       "      <td>Sport</td>\n",
       "      <td>USA</td>\n",
       "    </tr>\n",
       "    <tr>\n",
       "      <th>23</th>\n",
       "      <td>911 Turbo S</td>\n",
       "      <td>28.868</td>\n",
       "      <td>144900</td>\n",
       "      <td>2014</td>\n",
       "      <td>991</td>\n",
       "      <td>Sport</td>\n",
       "      <td>USA</td>\n",
       "    </tr>\n",
       "    <tr>\n",
       "      <th>24</th>\n",
       "      <td>911 Turbo S</td>\n",
       "      <td>25.395</td>\n",
       "      <td>159000</td>\n",
       "      <td>2014</td>\n",
       "      <td>991</td>\n",
       "      <td>Sport</td>\n",
       "      <td>USA</td>\n",
       "    </tr>\n",
       "    <tr>\n",
       "      <th>25</th>\n",
       "      <td>911 Turbo S</td>\n",
       "      <td>29.794</td>\n",
       "      <td>149898</td>\n",
       "      <td>2014</td>\n",
       "      <td>991</td>\n",
       "      <td>Sport</td>\n",
       "      <td>USA</td>\n",
       "    </tr>\n",
       "    <tr>\n",
       "      <th>34</th>\n",
       "      <td>911 Turbo S</td>\n",
       "      <td>22.447</td>\n",
       "      <td>149900</td>\n",
       "      <td>2014</td>\n",
       "      <td>991</td>\n",
       "      <td>Sport</td>\n",
       "      <td>USA</td>\n",
       "    </tr>\n",
       "    <tr>\n",
       "      <th>38</th>\n",
       "      <td>911 Turbo S</td>\n",
       "      <td>30.494</td>\n",
       "      <td>145000</td>\n",
       "      <td>2014</td>\n",
       "      <td>991</td>\n",
       "      <td>Sport</td>\n",
       "      <td>USA</td>\n",
       "    </tr>\n",
       "    <tr>\n",
       "      <th>39</th>\n",
       "      <td>911 Turbo S</td>\n",
       "      <td>18.237</td>\n",
       "      <td>148668</td>\n",
       "      <td>2014</td>\n",
       "      <td>991</td>\n",
       "      <td>Sport</td>\n",
       "      <td>USA</td>\n",
       "    </tr>\n",
       "    <tr>\n",
       "      <th>41</th>\n",
       "      <td>911 Turbo</td>\n",
       "      <td>34.395</td>\n",
       "      <td>139900</td>\n",
       "      <td>2014</td>\n",
       "      <td>991</td>\n",
       "      <td>Sport</td>\n",
       "      <td>USA</td>\n",
       "    </tr>\n",
       "    <tr>\n",
       "      <th>44</th>\n",
       "      <td>911 Turbo S</td>\n",
       "      <td>49.238</td>\n",
       "      <td>128000</td>\n",
       "      <td>2014</td>\n",
       "      <td>991</td>\n",
       "      <td>Sport</td>\n",
       "      <td>USA</td>\n",
       "    </tr>\n",
       "    <tr>\n",
       "      <th>45</th>\n",
       "      <td>911 Turbo S</td>\n",
       "      <td>53.042</td>\n",
       "      <td>119995</td>\n",
       "      <td>2014</td>\n",
       "      <td>991</td>\n",
       "      <td>Sport</td>\n",
       "      <td>USA</td>\n",
       "    </tr>\n",
       "    <tr>\n",
       "      <th>47</th>\n",
       "      <td>911 Turbo</td>\n",
       "      <td>36.668</td>\n",
       "      <td>134900</td>\n",
       "      <td>2015</td>\n",
       "      <td>991</td>\n",
       "      <td>Sport</td>\n",
       "      <td>USA</td>\n",
       "    </tr>\n",
       "    <tr>\n",
       "      <th>50</th>\n",
       "      <td>911 Turbo S</td>\n",
       "      <td>3.171</td>\n",
       "      <td>179898</td>\n",
       "      <td>2015</td>\n",
       "      <td>991</td>\n",
       "      <td>Sport</td>\n",
       "      <td>USA</td>\n",
       "    </tr>\n",
       "    <tr>\n",
       "      <th>51</th>\n",
       "      <td>911 Turbo S</td>\n",
       "      <td>39.664</td>\n",
       "      <td>138898</td>\n",
       "      <td>2015</td>\n",
       "      <td>991</td>\n",
       "      <td>Sport</td>\n",
       "      <td>USA</td>\n",
       "    </tr>\n",
       "    <tr>\n",
       "      <th>53</th>\n",
       "      <td>911 Turbo</td>\n",
       "      <td>17.504</td>\n",
       "      <td>151900</td>\n",
       "      <td>2015</td>\n",
       "      <td>991</td>\n",
       "      <td>Sport</td>\n",
       "      <td>USA</td>\n",
       "    </tr>\n",
       "    <tr>\n",
       "      <th>56</th>\n",
       "      <td>911 Turbo S</td>\n",
       "      <td>19.531</td>\n",
       "      <td>145900</td>\n",
       "      <td>2015</td>\n",
       "      <td>991</td>\n",
       "      <td>Sport</td>\n",
       "      <td>USA</td>\n",
       "    </tr>\n",
       "    <tr>\n",
       "      <th>69</th>\n",
       "      <td>911 Turbo S</td>\n",
       "      <td>14.739</td>\n",
       "      <td>159680</td>\n",
       "      <td>2016</td>\n",
       "      <td>991.2</td>\n",
       "      <td>Sport</td>\n",
       "      <td>USA</td>\n",
       "    </tr>\n",
       "    <tr>\n",
       "      <th>70</th>\n",
       "      <td>911 Turbo</td>\n",
       "      <td>29.078</td>\n",
       "      <td>147000</td>\n",
       "      <td>2016</td>\n",
       "      <td>991.2</td>\n",
       "      <td>Sport</td>\n",
       "      <td>USA</td>\n",
       "    </tr>\n",
       "    <tr>\n",
       "      <th>78</th>\n",
       "      <td>911 Turbo</td>\n",
       "      <td>30.050</td>\n",
       "      <td>127995</td>\n",
       "      <td>2016</td>\n",
       "      <td>991.2</td>\n",
       "      <td>Sport</td>\n",
       "      <td>USA</td>\n",
       "    </tr>\n",
       "    <tr>\n",
       "      <th>79</th>\n",
       "      <td>911 Turbo</td>\n",
       "      <td>18.707</td>\n",
       "      <td>143900</td>\n",
       "      <td>2016</td>\n",
       "      <td>991.2</td>\n",
       "      <td>Sport</td>\n",
       "      <td>USA</td>\n",
       "    </tr>\n",
       "    <tr>\n",
       "      <th>83</th>\n",
       "      <td>911 Turbo</td>\n",
       "      <td>19.791</td>\n",
       "      <td>141991</td>\n",
       "      <td>2016</td>\n",
       "      <td>991.2</td>\n",
       "      <td>Sport</td>\n",
       "      <td>USA</td>\n",
       "    </tr>\n",
       "    <tr>\n",
       "      <th>85</th>\n",
       "      <td>911 Turbo</td>\n",
       "      <td>11.855</td>\n",
       "      <td>138992</td>\n",
       "      <td>2016</td>\n",
       "      <td>991.2</td>\n",
       "      <td>Sport</td>\n",
       "      <td>USA</td>\n",
       "    </tr>\n",
       "    <tr>\n",
       "      <th>88</th>\n",
       "      <td>911 Turbo</td>\n",
       "      <td>15.739</td>\n",
       "      <td>139991</td>\n",
       "      <td>2016</td>\n",
       "      <td>991.2</td>\n",
       "      <td>Sport</td>\n",
       "      <td>USA</td>\n",
       "    </tr>\n",
       "    <tr>\n",
       "      <th>89</th>\n",
       "      <td>911 Turbo S</td>\n",
       "      <td>20.100</td>\n",
       "      <td>176888</td>\n",
       "      <td>2017</td>\n",
       "      <td>991.2</td>\n",
       "      <td>Sport</td>\n",
       "      <td>USA</td>\n",
       "    </tr>\n",
       "    <tr>\n",
       "      <th>91</th>\n",
       "      <td>911 Turbo</td>\n",
       "      <td>24.575</td>\n",
       "      <td>158900</td>\n",
       "      <td>2017</td>\n",
       "      <td>991.2</td>\n",
       "      <td>Sport</td>\n",
       "      <td>USA</td>\n",
       "    </tr>\n",
       "    <tr>\n",
       "      <th>92</th>\n",
       "      <td>911 Turbo S</td>\n",
       "      <td>26.709</td>\n",
       "      <td>168882</td>\n",
       "      <td>2017</td>\n",
       "      <td>991.2</td>\n",
       "      <td>Sport</td>\n",
       "      <td>USA</td>\n",
       "    </tr>\n",
       "    <tr>\n",
       "      <th>93</th>\n",
       "      <td>911 Turbo S</td>\n",
       "      <td>27.470</td>\n",
       "      <td>169881</td>\n",
       "      <td>2017</td>\n",
       "      <td>991.2</td>\n",
       "      <td>Sport</td>\n",
       "      <td>USA</td>\n",
       "    </tr>\n",
       "    <tr>\n",
       "      <th>102</th>\n",
       "      <td>911 Turbo S</td>\n",
       "      <td>24.348</td>\n",
       "      <td>169458</td>\n",
       "      <td>2017</td>\n",
       "      <td>991.2</td>\n",
       "      <td>Sport</td>\n",
       "      <td>USA</td>\n",
       "    </tr>\n",
       "    <tr>\n",
       "      <th>105</th>\n",
       "      <td>911 Turbo</td>\n",
       "      <td>28.885</td>\n",
       "      <td>145991</td>\n",
       "      <td>2017</td>\n",
       "      <td>991.2</td>\n",
       "      <td>Sport</td>\n",
       "      <td>USA</td>\n",
       "    </tr>\n",
       "    <tr>\n",
       "      <th>109</th>\n",
       "      <td>911 Turbo S</td>\n",
       "      <td>25.787</td>\n",
       "      <td>168992</td>\n",
       "      <td>2017</td>\n",
       "      <td>991.2</td>\n",
       "      <td>Sport</td>\n",
       "      <td>USA</td>\n",
       "    </tr>\n",
       "    <tr>\n",
       "      <th>110</th>\n",
       "      <td>911 Turbo S</td>\n",
       "      <td>1.034</td>\n",
       "      <td>207900</td>\n",
       "      <td>2017</td>\n",
       "      <td>991.2</td>\n",
       "      <td>Sport</td>\n",
       "      <td>USA</td>\n",
       "    </tr>\n",
       "    <tr>\n",
       "      <th>121</th>\n",
       "      <td>911 Turbo S</td>\n",
       "      <td>29.783</td>\n",
       "      <td>171999</td>\n",
       "      <td>2017</td>\n",
       "      <td>991.2</td>\n",
       "      <td>Sport</td>\n",
       "      <td>USA</td>\n",
       "    </tr>\n",
       "    <tr>\n",
       "      <th>122</th>\n",
       "      <td>911 Turbo S</td>\n",
       "      <td>24.337</td>\n",
       "      <td>179888</td>\n",
       "      <td>2017</td>\n",
       "      <td>991.2</td>\n",
       "      <td>Sport</td>\n",
       "      <td>USA</td>\n",
       "    </tr>\n",
       "    <tr>\n",
       "      <th>145</th>\n",
       "      <td>911 Turbo</td>\n",
       "      <td>36.135</td>\n",
       "      <td>149990</td>\n",
       "      <td>2017</td>\n",
       "      <td>991.2</td>\n",
       "      <td>Sport</td>\n",
       "      <td>USA</td>\n",
       "    </tr>\n",
       "    <tr>\n",
       "      <th>165</th>\n",
       "      <td>911 Turbo S</td>\n",
       "      <td>30.807</td>\n",
       "      <td>174890</td>\n",
       "      <td>2018</td>\n",
       "      <td>991.2</td>\n",
       "      <td>Sport</td>\n",
       "      <td>USA</td>\n",
       "    </tr>\n",
       "    <tr>\n",
       "      <th>170</th>\n",
       "      <td>911 Turbo S</td>\n",
       "      <td>37.546</td>\n",
       "      <td>174900</td>\n",
       "      <td>2018</td>\n",
       "      <td>991.2</td>\n",
       "      <td>Sport</td>\n",
       "      <td>USA</td>\n",
       "    </tr>\n",
       "    <tr>\n",
       "      <th>174</th>\n",
       "      <td>911 Turbo</td>\n",
       "      <td>9.470</td>\n",
       "      <td>164991</td>\n",
       "      <td>2018</td>\n",
       "      <td>991.2</td>\n",
       "      <td>Sport</td>\n",
       "      <td>USA</td>\n",
       "    </tr>\n",
       "    <tr>\n",
       "      <th>175</th>\n",
       "      <td>911 Turbo S</td>\n",
       "      <td>25.404</td>\n",
       "      <td>169899</td>\n",
       "      <td>2018</td>\n",
       "      <td>991.2</td>\n",
       "      <td>Sport</td>\n",
       "      <td>USA</td>\n",
       "    </tr>\n",
       "    <tr>\n",
       "      <th>180</th>\n",
       "      <td>911 Turbo S</td>\n",
       "      <td>6.061</td>\n",
       "      <td>187900</td>\n",
       "      <td>2018</td>\n",
       "      <td>991.2</td>\n",
       "      <td>Sport</td>\n",
       "      <td>USA</td>\n",
       "    </tr>\n",
       "    <tr>\n",
       "      <th>183</th>\n",
       "      <td>911 Turbo S</td>\n",
       "      <td>9.816</td>\n",
       "      <td>201888</td>\n",
       "      <td>2018</td>\n",
       "      <td>991.2</td>\n",
       "      <td>Sport</td>\n",
       "      <td>USA</td>\n",
       "    </tr>\n",
       "    <tr>\n",
       "      <th>196</th>\n",
       "      <td>911 Turbo S</td>\n",
       "      <td>5.903</td>\n",
       "      <td>214900</td>\n",
       "      <td>2018</td>\n",
       "      <td>991.2</td>\n",
       "      <td>Sport</td>\n",
       "      <td>USA</td>\n",
       "    </tr>\n",
       "    <tr>\n",
       "      <th>208</th>\n",
       "      <td>911 Turbo S</td>\n",
       "      <td>33.237</td>\n",
       "      <td>168900</td>\n",
       "      <td>2018</td>\n",
       "      <td>991.2</td>\n",
       "      <td>Sport</td>\n",
       "      <td>USA</td>\n",
       "    </tr>\n",
       "    <tr>\n",
       "      <th>217</th>\n",
       "      <td>911 Turbo</td>\n",
       "      <td>2.979</td>\n",
       "      <td>199998</td>\n",
       "      <td>2019</td>\n",
       "      <td>992</td>\n",
       "      <td>Sport</td>\n",
       "      <td>USA</td>\n",
       "    </tr>\n",
       "    <tr>\n",
       "      <th>218</th>\n",
       "      <td>911 Turbo S</td>\n",
       "      <td>5.485</td>\n",
       "      <td>219000</td>\n",
       "      <td>2019</td>\n",
       "      <td>992</td>\n",
       "      <td>Sport</td>\n",
       "      <td>USA</td>\n",
       "    </tr>\n",
       "    <tr>\n",
       "      <th>221</th>\n",
       "      <td>911 Turbo S</td>\n",
       "      <td>9.013</td>\n",
       "      <td>215000</td>\n",
       "      <td>2019</td>\n",
       "      <td>992</td>\n",
       "      <td>Sport</td>\n",
       "      <td>USA</td>\n",
       "    </tr>\n",
       "    <tr>\n",
       "      <th>227</th>\n",
       "      <td>911 Turbo</td>\n",
       "      <td>6.773</td>\n",
       "      <td>189766</td>\n",
       "      <td>2019</td>\n",
       "      <td>992</td>\n",
       "      <td>Sport</td>\n",
       "      <td>USA</td>\n",
       "    </tr>\n",
       "    <tr>\n",
       "      <th>229</th>\n",
       "      <td>911 Turbo</td>\n",
       "      <td>5.803</td>\n",
       "      <td>189980</td>\n",
       "      <td>2019</td>\n",
       "      <td>992</td>\n",
       "      <td>Sport</td>\n",
       "      <td>USA</td>\n",
       "    </tr>\n",
       "    <tr>\n",
       "      <th>241</th>\n",
       "      <td>911 Turbo</td>\n",
       "      <td>7.017</td>\n",
       "      <td>189900</td>\n",
       "      <td>2019</td>\n",
       "      <td>992</td>\n",
       "      <td>Sport</td>\n",
       "      <td>USA</td>\n",
       "    </tr>\n",
       "    <tr>\n",
       "      <th>243</th>\n",
       "      <td>911 Turbo S</td>\n",
       "      <td>11.864</td>\n",
       "      <td>195759</td>\n",
       "      <td>2019</td>\n",
       "      <td>992</td>\n",
       "      <td>Sport</td>\n",
       "      <td>USA</td>\n",
       "    </tr>\n",
       "    <tr>\n",
       "      <th>246</th>\n",
       "      <td>911 Turbo</td>\n",
       "      <td>9.604</td>\n",
       "      <td>173998</td>\n",
       "      <td>2019</td>\n",
       "      <td>992</td>\n",
       "      <td>Sport</td>\n",
       "      <td>USA</td>\n",
       "    </tr>\n",
       "    <tr>\n",
       "      <th>247</th>\n",
       "      <td>911 Turbo S</td>\n",
       "      <td>5.188</td>\n",
       "      <td>203900</td>\n",
       "      <td>2019</td>\n",
       "      <td>992</td>\n",
       "      <td>Sport</td>\n",
       "      <td>USA</td>\n",
       "    </tr>\n",
       "    <tr>\n",
       "      <th>253</th>\n",
       "      <td>911 Turbo S</td>\n",
       "      <td>7.271</td>\n",
       "      <td>194899</td>\n",
       "      <td>2019</td>\n",
       "      <td>992</td>\n",
       "      <td>Sport</td>\n",
       "      <td>USA</td>\n",
       "    </tr>\n",
       "    <tr>\n",
       "      <th>254</th>\n",
       "      <td>911 Turbo</td>\n",
       "      <td>8.168</td>\n",
       "      <td>199399</td>\n",
       "      <td>2019</td>\n",
       "      <td>992</td>\n",
       "      <td>Sport</td>\n",
       "      <td>USA</td>\n",
       "    </tr>\n",
       "    <tr>\n",
       "      <th>256</th>\n",
       "      <td>911 Turbo S</td>\n",
       "      <td>8.529</td>\n",
       "      <td>199850</td>\n",
       "      <td>2019</td>\n",
       "      <td>992</td>\n",
       "      <td>Sport</td>\n",
       "      <td>USA</td>\n",
       "    </tr>\n",
       "    <tr>\n",
       "      <th>272</th>\n",
       "      <td>911 Turbo S</td>\n",
       "      <td>2.761</td>\n",
       "      <td>202665</td>\n",
       "      <td>2019</td>\n",
       "      <td>992</td>\n",
       "      <td>Sport</td>\n",
       "      <td>USA</td>\n",
       "    </tr>\n",
       "    <tr>\n",
       "      <th>290</th>\n",
       "      <td>911 Turbo S</td>\n",
       "      <td>15.865</td>\n",
       "      <td>194998</td>\n",
       "      <td>2019</td>\n",
       "      <td>992</td>\n",
       "      <td>Sport</td>\n",
       "      <td>USA</td>\n",
       "    </tr>\n",
       "    <tr>\n",
       "      <th>293</th>\n",
       "      <td>911 Turbo</td>\n",
       "      <td>4.355</td>\n",
       "      <td>189995</td>\n",
       "      <td>2019</td>\n",
       "      <td>992</td>\n",
       "      <td>Sport</td>\n",
       "      <td>USA</td>\n",
       "    </tr>\n",
       "    <tr>\n",
       "      <th>297</th>\n",
       "      <td>911 Turbo S</td>\n",
       "      <td>31.806</td>\n",
       "      <td>179985</td>\n",
       "      <td>2019</td>\n",
       "      <td>992</td>\n",
       "      <td>Sport</td>\n",
       "      <td>USA</td>\n",
       "    </tr>\n",
       "    <tr>\n",
       "      <th>301</th>\n",
       "      <td>911 Turbo</td>\n",
       "      <td>2.336</td>\n",
       "      <td>191994</td>\n",
       "      <td>2019</td>\n",
       "      <td>992</td>\n",
       "      <td>Sport</td>\n",
       "      <td>USA</td>\n",
       "    </tr>\n",
       "    <tr>\n",
       "      <th>309</th>\n",
       "      <td>911 Turbo S</td>\n",
       "      <td>7.002</td>\n",
       "      <td>204898</td>\n",
       "      <td>2019</td>\n",
       "      <td>992</td>\n",
       "      <td>Sport</td>\n",
       "      <td>USA</td>\n",
       "    </tr>\n",
       "    <tr>\n",
       "      <th>374</th>\n",
       "      <td>911 Turbo S</td>\n",
       "      <td>5.845</td>\n",
       "      <td>279000</td>\n",
       "      <td>2021</td>\n",
       "      <td>992</td>\n",
       "      <td>Sport</td>\n",
       "      <td>USA</td>\n",
       "    </tr>\n",
       "    <tr>\n",
       "      <th>375</th>\n",
       "      <td>911 Turbo S</td>\n",
       "      <td>327.000</td>\n",
       "      <td>282500</td>\n",
       "      <td>2021</td>\n",
       "      <td>992</td>\n",
       "      <td>Sport</td>\n",
       "      <td>USA</td>\n",
       "    </tr>\n",
       "    <tr>\n",
       "      <th>376</th>\n",
       "      <td>911 Turbo S</td>\n",
       "      <td>2.517</td>\n",
       "      <td>268269</td>\n",
       "      <td>2021</td>\n",
       "      <td>992</td>\n",
       "      <td>Sport</td>\n",
       "      <td>USA</td>\n",
       "    </tr>\n",
       "    <tr>\n",
       "      <th>377</th>\n",
       "      <td>911 Turbo S</td>\n",
       "      <td>5.282</td>\n",
       "      <td>263980</td>\n",
       "      <td>2021</td>\n",
       "      <td>992</td>\n",
       "      <td>Sport</td>\n",
       "      <td>USA</td>\n",
       "    </tr>\n",
       "    <tr>\n",
       "      <th>378</th>\n",
       "      <td>911 Turbo S</td>\n",
       "      <td>3.155</td>\n",
       "      <td>268998</td>\n",
       "      <td>2021</td>\n",
       "      <td>992</td>\n",
       "      <td>Sport</td>\n",
       "      <td>USA</td>\n",
       "    </tr>\n",
       "    <tr>\n",
       "      <th>379</th>\n",
       "      <td>911 Turbo S</td>\n",
       "      <td>16.893</td>\n",
       "      <td>271947</td>\n",
       "      <td>2021</td>\n",
       "      <td>992</td>\n",
       "      <td>Sport</td>\n",
       "      <td>USA</td>\n",
       "    </tr>\n",
       "    <tr>\n",
       "      <th>380</th>\n",
       "      <td>911 Turbo S</td>\n",
       "      <td>12.229</td>\n",
       "      <td>260992</td>\n",
       "      <td>2021</td>\n",
       "      <td>992</td>\n",
       "      <td>Sport</td>\n",
       "      <td>USA</td>\n",
       "    </tr>\n",
       "    <tr>\n",
       "      <th>381</th>\n",
       "      <td>911 Turbo S</td>\n",
       "      <td>3.437</td>\n",
       "      <td>289905</td>\n",
       "      <td>2021</td>\n",
       "      <td>992</td>\n",
       "      <td>Sport</td>\n",
       "      <td>USA</td>\n",
       "    </tr>\n",
       "    <tr>\n",
       "      <th>382</th>\n",
       "      <td>911 Turbo S</td>\n",
       "      <td>12.203</td>\n",
       "      <td>287900</td>\n",
       "      <td>2021</td>\n",
       "      <td>992</td>\n",
       "      <td>Sport</td>\n",
       "      <td>USA</td>\n",
       "    </tr>\n",
       "    <tr>\n",
       "      <th>383</th>\n",
       "      <td>911 Turbo S</td>\n",
       "      <td>2.417</td>\n",
       "      <td>274995</td>\n",
       "      <td>2021</td>\n",
       "      <td>992</td>\n",
       "      <td>Sport</td>\n",
       "      <td>USA</td>\n",
       "    </tr>\n",
       "    <tr>\n",
       "      <th>384</th>\n",
       "      <td>911 Turbo S</td>\n",
       "      <td>3.292</td>\n",
       "      <td>284496</td>\n",
       "      <td>2021</td>\n",
       "      <td>992</td>\n",
       "      <td>Sport</td>\n",
       "      <td>USA</td>\n",
       "    </tr>\n",
       "    <tr>\n",
       "      <th>387</th>\n",
       "      <td>911 Turbo S</td>\n",
       "      <td>5.616</td>\n",
       "      <td>279900</td>\n",
       "      <td>2021</td>\n",
       "      <td>992</td>\n",
       "      <td>Sport</td>\n",
       "      <td>USA</td>\n",
       "    </tr>\n",
       "    <tr>\n",
       "      <th>388</th>\n",
       "      <td>911 Turbo S</td>\n",
       "      <td>2.927</td>\n",
       "      <td>269990</td>\n",
       "      <td>2021</td>\n",
       "      <td>992</td>\n",
       "      <td>Sport</td>\n",
       "      <td>USA</td>\n",
       "    </tr>\n",
       "    <tr>\n",
       "      <th>390</th>\n",
       "      <td>911 Turbo</td>\n",
       "      <td>14.448</td>\n",
       "      <td>238597</td>\n",
       "      <td>2021</td>\n",
       "      <td>992</td>\n",
       "      <td>Sport</td>\n",
       "      <td>USA</td>\n",
       "    </tr>\n",
       "    <tr>\n",
       "      <th>401</th>\n",
       "      <td>911 Turbo S</td>\n",
       "      <td>6.599</td>\n",
       "      <td>279990</td>\n",
       "      <td>2021</td>\n",
       "      <td>992</td>\n",
       "      <td>Sport</td>\n",
       "      <td>USA</td>\n",
       "    </tr>\n",
       "    <tr>\n",
       "      <th>402</th>\n",
       "      <td>911 Turbo</td>\n",
       "      <td>11.728</td>\n",
       "      <td>264900</td>\n",
       "      <td>2021</td>\n",
       "      <td>992</td>\n",
       "      <td>Sport</td>\n",
       "      <td>USA</td>\n",
       "    </tr>\n",
       "    <tr>\n",
       "      <th>403</th>\n",
       "      <td>911 Turbo S</td>\n",
       "      <td>2.203</td>\n",
       "      <td>289995</td>\n",
       "      <td>2021</td>\n",
       "      <td>992</td>\n",
       "      <td>Sport</td>\n",
       "      <td>USA</td>\n",
       "    </tr>\n",
       "    <tr>\n",
       "      <th>408</th>\n",
       "      <td>911 Turbo</td>\n",
       "      <td>1.329</td>\n",
       "      <td>303798</td>\n",
       "      <td>2021</td>\n",
       "      <td>992</td>\n",
       "      <td>Sport</td>\n",
       "      <td>USA</td>\n",
       "    </tr>\n",
       "    <tr>\n",
       "      <th>409</th>\n",
       "      <td>911 Turbo</td>\n",
       "      <td>4.947</td>\n",
       "      <td>222996</td>\n",
       "      <td>2021</td>\n",
       "      <td>992</td>\n",
       "      <td>Sport</td>\n",
       "      <td>USA</td>\n",
       "    </tr>\n",
       "    <tr>\n",
       "      <th>410</th>\n",
       "      <td>911 Turbo</td>\n",
       "      <td>4.341</td>\n",
       "      <td>257500</td>\n",
       "      <td>2021</td>\n",
       "      <td>992</td>\n",
       "      <td>Sport</td>\n",
       "      <td>USA</td>\n",
       "    </tr>\n",
       "    <tr>\n",
       "      <th>417</th>\n",
       "      <td>911 Turbo S</td>\n",
       "      <td>2.363</td>\n",
       "      <td>291972</td>\n",
       "      <td>2021</td>\n",
       "      <td>992</td>\n",
       "      <td>Sport</td>\n",
       "      <td>USA</td>\n",
       "    </tr>\n",
       "    <tr>\n",
       "      <th>423</th>\n",
       "      <td>911 Turbo S</td>\n",
       "      <td>3.782</td>\n",
       "      <td>274992</td>\n",
       "      <td>2021</td>\n",
       "      <td>992</td>\n",
       "      <td>Sport</td>\n",
       "      <td>USA</td>\n",
       "    </tr>\n",
       "    <tr>\n",
       "      <th>425</th>\n",
       "      <td>911 Turbo S</td>\n",
       "      <td>516.000</td>\n",
       "      <td>259990</td>\n",
       "      <td>2021</td>\n",
       "      <td>992</td>\n",
       "      <td>Sport</td>\n",
       "      <td>USA</td>\n",
       "    </tr>\n",
       "    <tr>\n",
       "      <th>438</th>\n",
       "      <td>911 Turbo S</td>\n",
       "      <td>8.251</td>\n",
       "      <td>279888</td>\n",
       "      <td>2021</td>\n",
       "      <td>992</td>\n",
       "      <td>Sport</td>\n",
       "      <td>USA</td>\n",
       "    </tr>\n",
       "    <tr>\n",
       "      <th>439</th>\n",
       "      <td>911 Turbo S</td>\n",
       "      <td>3.213</td>\n",
       "      <td>279900</td>\n",
       "      <td>2021</td>\n",
       "      <td>992</td>\n",
       "      <td>Sport</td>\n",
       "      <td>USA</td>\n",
       "    </tr>\n",
       "    <tr>\n",
       "      <th>440</th>\n",
       "      <td>911 Turbo S</td>\n",
       "      <td>3.213</td>\n",
       "      <td>279900</td>\n",
       "      <td>2021</td>\n",
       "      <td>992</td>\n",
       "      <td>Sport</td>\n",
       "      <td>USA</td>\n",
       "    </tr>\n",
       "    <tr>\n",
       "      <th>442</th>\n",
       "      <td>911 Turbo S</td>\n",
       "      <td>3.628</td>\n",
       "      <td>260000</td>\n",
       "      <td>2021</td>\n",
       "      <td>992</td>\n",
       "      <td>Sport</td>\n",
       "      <td>USA</td>\n",
       "    </tr>\n",
       "    <tr>\n",
       "      <th>443</th>\n",
       "      <td>911 Turbo S</td>\n",
       "      <td>2.239</td>\n",
       "      <td>288149</td>\n",
       "      <td>2021</td>\n",
       "      <td>992</td>\n",
       "      <td>Sport</td>\n",
       "      <td>USA</td>\n",
       "    </tr>\n",
       "    <tr>\n",
       "      <th>445</th>\n",
       "      <td>911 Turbo S</td>\n",
       "      <td>10.989</td>\n",
       "      <td>266308</td>\n",
       "      <td>2022</td>\n",
       "      <td>992</td>\n",
       "      <td>Sport</td>\n",
       "      <td>USA</td>\n",
       "    </tr>\n",
       "    <tr>\n",
       "      <th>447</th>\n",
       "      <td>911 Turbo S</td>\n",
       "      <td>1.459</td>\n",
       "      <td>279900</td>\n",
       "      <td>2022</td>\n",
       "      <td>992</td>\n",
       "      <td>Sport</td>\n",
       "      <td>USA</td>\n",
       "    </tr>\n",
       "    <tr>\n",
       "      <th>450</th>\n",
       "      <td>911 Turbo S</td>\n",
       "      <td>2.044</td>\n",
       "      <td>289888</td>\n",
       "      <td>2022</td>\n",
       "      <td>992</td>\n",
       "      <td>Sport</td>\n",
       "      <td>USA</td>\n",
       "    </tr>\n",
       "    <tr>\n",
       "      <th>451</th>\n",
       "      <td>911 Turbo S</td>\n",
       "      <td>159.000</td>\n",
       "      <td>277198</td>\n",
       "      <td>2022</td>\n",
       "      <td>992</td>\n",
       "      <td>Sport</td>\n",
       "      <td>USA</td>\n",
       "    </tr>\n",
       "    <tr>\n",
       "      <th>455</th>\n",
       "      <td>911 Turbo S</td>\n",
       "      <td>486.000</td>\n",
       "      <td>329988</td>\n",
       "      <td>2022</td>\n",
       "      <td>992</td>\n",
       "      <td>Sport</td>\n",
       "      <td>USA</td>\n",
       "    </tr>\n",
       "    <tr>\n",
       "      <th>461</th>\n",
       "      <td>911 Turbo S</td>\n",
       "      <td>1.232</td>\n",
       "      <td>299981</td>\n",
       "      <td>2022</td>\n",
       "      <td>992</td>\n",
       "      <td>Sport</td>\n",
       "      <td>USA</td>\n",
       "    </tr>\n",
       "    <tr>\n",
       "      <th>462</th>\n",
       "      <td>911 Turbo S</td>\n",
       "      <td>1.452</td>\n",
       "      <td>269901</td>\n",
       "      <td>2022</td>\n",
       "      <td>992</td>\n",
       "      <td>Sport</td>\n",
       "      <td>USA</td>\n",
       "    </tr>\n",
       "    <tr>\n",
       "      <th>464</th>\n",
       "      <td>911 Turbo S</td>\n",
       "      <td>3.000</td>\n",
       "      <td>299992</td>\n",
       "      <td>2022</td>\n",
       "      <td>992</td>\n",
       "      <td>Sport</td>\n",
       "      <td>USA</td>\n",
       "    </tr>\n",
       "    <tr>\n",
       "      <th>472</th>\n",
       "      <td>911 Turbo S</td>\n",
       "      <td>5.636</td>\n",
       "      <td>288500</td>\n",
       "      <td>2022</td>\n",
       "      <td>992</td>\n",
       "      <td>Sport</td>\n",
       "      <td>USA</td>\n",
       "    </tr>\n",
       "    <tr>\n",
       "      <th>478</th>\n",
       "      <td>911 Turbo</td>\n",
       "      <td>1.987</td>\n",
       "      <td>283721</td>\n",
       "      <td>2022</td>\n",
       "      <td>992</td>\n",
       "      <td>Sport</td>\n",
       "      <td>USA</td>\n",
       "    </tr>\n",
       "    <tr>\n",
       "      <th>480</th>\n",
       "      <td>911 Turbo S</td>\n",
       "      <td>1.309</td>\n",
       "      <td>296498</td>\n",
       "      <td>2022</td>\n",
       "      <td>992</td>\n",
       "      <td>Sport</td>\n",
       "      <td>USA</td>\n",
       "    </tr>\n",
       "    <tr>\n",
       "      <th>481</th>\n",
       "      <td>911 Turbo S</td>\n",
       "      <td>443.000</td>\n",
       "      <td>299992</td>\n",
       "      <td>2022</td>\n",
       "      <td>992</td>\n",
       "      <td>Sport</td>\n",
       "      <td>USA</td>\n",
       "    </tr>\n",
       "    <tr>\n",
       "      <th>483</th>\n",
       "      <td>911 Turbo</td>\n",
       "      <td>120.000</td>\n",
       "      <td>264990</td>\n",
       "      <td>2022</td>\n",
       "      <td>992</td>\n",
       "      <td>Sport</td>\n",
       "      <td>USA</td>\n",
       "    </tr>\n",
       "    <tr>\n",
       "      <th>494</th>\n",
       "      <td>911 Turbo S</td>\n",
       "      <td>1.388</td>\n",
       "      <td>288715</td>\n",
       "      <td>2022</td>\n",
       "      <td>992</td>\n",
       "      <td>Sport</td>\n",
       "      <td>USA</td>\n",
       "    </tr>\n",
       "    <tr>\n",
       "      <th>499</th>\n",
       "      <td>911 Turbo</td>\n",
       "      <td>758.000</td>\n",
       "      <td>279900</td>\n",
       "      <td>2022</td>\n",
       "      <td>992</td>\n",
       "      <td>Sport</td>\n",
       "      <td>USA</td>\n",
       "    </tr>\n",
       "    <tr>\n",
       "      <th>501</th>\n",
       "      <td>911 Turbo</td>\n",
       "      <td>905.000</td>\n",
       "      <td>278500</td>\n",
       "      <td>2022</td>\n",
       "      <td>992</td>\n",
       "      <td>Sport</td>\n",
       "      <td>USA</td>\n",
       "    </tr>\n",
       "    <tr>\n",
       "      <th>505</th>\n",
       "      <td>911 Turbo S</td>\n",
       "      <td>1.653</td>\n",
       "      <td>286494</td>\n",
       "      <td>2022</td>\n",
       "      <td>992</td>\n",
       "      <td>Sport</td>\n",
       "      <td>USA</td>\n",
       "    </tr>\n",
       "    <tr>\n",
       "      <th>544</th>\n",
       "      <td>911 Turbo</td>\n",
       "      <td>9.090</td>\n",
       "      <td>155000</td>\n",
       "      <td>2016</td>\n",
       "      <td>991.2</td>\n",
       "      <td>Sport</td>\n",
       "      <td>USA</td>\n",
       "    </tr>\n",
       "    <tr>\n",
       "      <th>551</th>\n",
       "      <td>911 Turbo S</td>\n",
       "      <td>10.439</td>\n",
       "      <td>189000</td>\n",
       "      <td>2017</td>\n",
       "      <td>991.2</td>\n",
       "      <td>Sport</td>\n",
       "      <td>USA</td>\n",
       "    </tr>\n",
       "    <tr>\n",
       "      <th>570</th>\n",
       "      <td>911 Turbo</td>\n",
       "      <td>11.353</td>\n",
       "      <td>174900</td>\n",
       "      <td>2018</td>\n",
       "      <td>991.2</td>\n",
       "      <td>Sport</td>\n",
       "      <td>USA</td>\n",
       "    </tr>\n",
       "  </tbody>\n",
       "</table>\n",
       "</div>"
      ],
      "text/plain": [
       "            Name  Mileage   Price  Year Model_type  Sport Made\n",
       "0    911 Turbo S   26.709  168882  2017      991.2  Sport  USA\n",
       "1    911 Turbo S    8.603  135995  2011      997.2  Sport  USA\n",
       "5    911 Turbo S    2.930  179000  2011      997.2  Sport  USA\n",
       "6      911 Turbo    3.576  137900  2011      997.2  Sport  USA\n",
       "9      911 Turbo   24.971  119991  2012        991  Sport  USA\n",
       "16   911 Turbo S   24.137  122997  2012        991  Sport  USA\n",
       "17   911 Turbo S   24.321  139480  2013        991  Sport  USA\n",
       "23   911 Turbo S   28.868  144900  2014        991  Sport  USA\n",
       "24   911 Turbo S   25.395  159000  2014        991  Sport  USA\n",
       "25   911 Turbo S   29.794  149898  2014        991  Sport  USA\n",
       "34   911 Turbo S   22.447  149900  2014        991  Sport  USA\n",
       "38   911 Turbo S   30.494  145000  2014        991  Sport  USA\n",
       "39   911 Turbo S   18.237  148668  2014        991  Sport  USA\n",
       "41     911 Turbo   34.395  139900  2014        991  Sport  USA\n",
       "44   911 Turbo S   49.238  128000  2014        991  Sport  USA\n",
       "45   911 Turbo S   53.042  119995  2014        991  Sport  USA\n",
       "47     911 Turbo   36.668  134900  2015        991  Sport  USA\n",
       "50   911 Turbo S    3.171  179898  2015        991  Sport  USA\n",
       "51   911 Turbo S   39.664  138898  2015        991  Sport  USA\n",
       "53     911 Turbo   17.504  151900  2015        991  Sport  USA\n",
       "56   911 Turbo S   19.531  145900  2015        991  Sport  USA\n",
       "69   911 Turbo S   14.739  159680  2016      991.2  Sport  USA\n",
       "70     911 Turbo   29.078  147000  2016      991.2  Sport  USA\n",
       "78     911 Turbo   30.050  127995  2016      991.2  Sport  USA\n",
       "79     911 Turbo   18.707  143900  2016      991.2  Sport  USA\n",
       "83     911 Turbo   19.791  141991  2016      991.2  Sport  USA\n",
       "85     911 Turbo   11.855  138992  2016      991.2  Sport  USA\n",
       "88     911 Turbo   15.739  139991  2016      991.2  Sport  USA\n",
       "89   911 Turbo S   20.100  176888  2017      991.2  Sport  USA\n",
       "91     911 Turbo   24.575  158900  2017      991.2  Sport  USA\n",
       "92   911 Turbo S   26.709  168882  2017      991.2  Sport  USA\n",
       "93   911 Turbo S   27.470  169881  2017      991.2  Sport  USA\n",
       "102  911 Turbo S   24.348  169458  2017      991.2  Sport  USA\n",
       "105    911 Turbo   28.885  145991  2017      991.2  Sport  USA\n",
       "109  911 Turbo S   25.787  168992  2017      991.2  Sport  USA\n",
       "110  911 Turbo S    1.034  207900  2017      991.2  Sport  USA\n",
       "121  911 Turbo S   29.783  171999  2017      991.2  Sport  USA\n",
       "122  911 Turbo S   24.337  179888  2017      991.2  Sport  USA\n",
       "145    911 Turbo   36.135  149990  2017      991.2  Sport  USA\n",
       "165  911 Turbo S   30.807  174890  2018      991.2  Sport  USA\n",
       "170  911 Turbo S   37.546  174900  2018      991.2  Sport  USA\n",
       "174    911 Turbo    9.470  164991  2018      991.2  Sport  USA\n",
       "175  911 Turbo S   25.404  169899  2018      991.2  Sport  USA\n",
       "180  911 Turbo S    6.061  187900  2018      991.2  Sport  USA\n",
       "183  911 Turbo S    9.816  201888  2018      991.2  Sport  USA\n",
       "196  911 Turbo S    5.903  214900  2018      991.2  Sport  USA\n",
       "208  911 Turbo S   33.237  168900  2018      991.2  Sport  USA\n",
       "217    911 Turbo    2.979  199998  2019        992  Sport  USA\n",
       "218  911 Turbo S    5.485  219000  2019        992  Sport  USA\n",
       "221  911 Turbo S    9.013  215000  2019        992  Sport  USA\n",
       "227    911 Turbo    6.773  189766  2019        992  Sport  USA\n",
       "229    911 Turbo    5.803  189980  2019        992  Sport  USA\n",
       "241    911 Turbo    7.017  189900  2019        992  Sport  USA\n",
       "243  911 Turbo S   11.864  195759  2019        992  Sport  USA\n",
       "246    911 Turbo    9.604  173998  2019        992  Sport  USA\n",
       "247  911 Turbo S    5.188  203900  2019        992  Sport  USA\n",
       "253  911 Turbo S    7.271  194899  2019        992  Sport  USA\n",
       "254    911 Turbo    8.168  199399  2019        992  Sport  USA\n",
       "256  911 Turbo S    8.529  199850  2019        992  Sport  USA\n",
       "272  911 Turbo S    2.761  202665  2019        992  Sport  USA\n",
       "290  911 Turbo S   15.865  194998  2019        992  Sport  USA\n",
       "293    911 Turbo    4.355  189995  2019        992  Sport  USA\n",
       "297  911 Turbo S   31.806  179985  2019        992  Sport  USA\n",
       "301    911 Turbo    2.336  191994  2019        992  Sport  USA\n",
       "309  911 Turbo S    7.002  204898  2019        992  Sport  USA\n",
       "374  911 Turbo S    5.845  279000  2021        992  Sport  USA\n",
       "375  911 Turbo S  327.000  282500  2021        992  Sport  USA\n",
       "376  911 Turbo S    2.517  268269  2021        992  Sport  USA\n",
       "377  911 Turbo S    5.282  263980  2021        992  Sport  USA\n",
       "378  911 Turbo S    3.155  268998  2021        992  Sport  USA\n",
       "379  911 Turbo S   16.893  271947  2021        992  Sport  USA\n",
       "380  911 Turbo S   12.229  260992  2021        992  Sport  USA\n",
       "381  911 Turbo S    3.437  289905  2021        992  Sport  USA\n",
       "382  911 Turbo S   12.203  287900  2021        992  Sport  USA\n",
       "383  911 Turbo S    2.417  274995  2021        992  Sport  USA\n",
       "384  911 Turbo S    3.292  284496  2021        992  Sport  USA\n",
       "387  911 Turbo S    5.616  279900  2021        992  Sport  USA\n",
       "388  911 Turbo S    2.927  269990  2021        992  Sport  USA\n",
       "390    911 Turbo   14.448  238597  2021        992  Sport  USA\n",
       "401  911 Turbo S    6.599  279990  2021        992  Sport  USA\n",
       "402    911 Turbo   11.728  264900  2021        992  Sport  USA\n",
       "403  911 Turbo S    2.203  289995  2021        992  Sport  USA\n",
       "408    911 Turbo    1.329  303798  2021        992  Sport  USA\n",
       "409    911 Turbo    4.947  222996  2021        992  Sport  USA\n",
       "410    911 Turbo    4.341  257500  2021        992  Sport  USA\n",
       "417  911 Turbo S    2.363  291972  2021        992  Sport  USA\n",
       "423  911 Turbo S    3.782  274992  2021        992  Sport  USA\n",
       "425  911 Turbo S  516.000  259990  2021        992  Sport  USA\n",
       "438  911 Turbo S    8.251  279888  2021        992  Sport  USA\n",
       "439  911 Turbo S    3.213  279900  2021        992  Sport  USA\n",
       "440  911 Turbo S    3.213  279900  2021        992  Sport  USA\n",
       "442  911 Turbo S    3.628  260000  2021        992  Sport  USA\n",
       "443  911 Turbo S    2.239  288149  2021        992  Sport  USA\n",
       "445  911 Turbo S   10.989  266308  2022        992  Sport  USA\n",
       "447  911 Turbo S    1.459  279900  2022        992  Sport  USA\n",
       "450  911 Turbo S    2.044  289888  2022        992  Sport  USA\n",
       "451  911 Turbo S  159.000  277198  2022        992  Sport  USA\n",
       "455  911 Turbo S  486.000  329988  2022        992  Sport  USA\n",
       "461  911 Turbo S    1.232  299981  2022        992  Sport  USA\n",
       "462  911 Turbo S    1.452  269901  2022        992  Sport  USA\n",
       "464  911 Turbo S    3.000  299992  2022        992  Sport  USA\n",
       "472  911 Turbo S    5.636  288500  2022        992  Sport  USA\n",
       "478    911 Turbo    1.987  283721  2022        992  Sport  USA\n",
       "480  911 Turbo S    1.309  296498  2022        992  Sport  USA\n",
       "481  911 Turbo S  443.000  299992  2022        992  Sport  USA\n",
       "483    911 Turbo  120.000  264990  2022        992  Sport  USA\n",
       "494  911 Turbo S    1.388  288715  2022        992  Sport  USA\n",
       "499    911 Turbo  758.000  279900  2022        992  Sport  USA\n",
       "501    911 Turbo  905.000  278500  2022        992  Sport  USA\n",
       "505  911 Turbo S    1.653  286494  2022        992  Sport  USA\n",
       "544    911 Turbo    9.090  155000  2016      991.2  Sport  USA\n",
       "551  911 Turbo S   10.439  189000  2017      991.2  Sport  USA\n",
       "570    911 Turbo   11.353  174900  2018      991.2  Sport  USA"
      ]
     },
     "execution_count": 113,
     "metadata": {},
     "output_type": "execute_result"
    }
   ],
   "source": [
    "df.loc[df.Sport == \"Sport\"]"
   ]
  },
  {
   "cell_type": "code",
   "execution_count": 123,
   "id": "fa83c598",
   "metadata": {},
   "outputs": [
    {
     "data": {
      "image/png": "[encoded data removed]",
      "text/plain": [
       "<Figure size 720x432 with 1 Axes>"
      ]
     },
     "metadata": {
      "needs_background": "light"
     },
     "output_type": "display_data"
    }
   ],
   "source": [
    "\n",
    "\n",
    "plt.figure(figsize=(10,6))\n",
    "sns.barplot(data = df.loc[df.Sport == \"Sport\"], x = \"Year\", y = \"Price\", ci = None)\n",
    "plt.xticks(rotation = 45)\n",
    "plt.title(\"Avarage price by Year\")\n",
    "plt.show()"
   ]
  },
  {
   "cell_type": "code",
   "execution_count": 90,
   "id": "42e7e32c",
   "metadata": {},
   "outputs": [],
   "source": [
    "df.to_csv(\"porsche.csv\")"
   ]
  }
 ],
 "metadata": {
  "hide_input": false,
  "kernelspec": {
   "display_name": "Python 3 (ipykernel)",
   "language": "python",
   "name": "python3"
  },
  "language_info": {
   "codemirror_mode": {
    "name": "ipython",
    "version": 3
   },
   "file_extension": ".py",
   "mimetype": "text/x-python",
   "name": "python",
   "nbconvert_exporter": "python",
   "pygments_lexer": "ipython3",
   "version": "3.9.12"
  },
  "toc": {
   "base_numbering": 1,
   "nav_menu": {},
   "number_sections": true,
   "sideBar": true,
   "skip_h1_title": false,
   "title_cell": "Table of Contents",
   "title_sidebar": "Contents",
   "toc_cell": false,
   "toc_position": {},
   "toc_section_display": true,
   "toc_window_display": false
  },
  "varInspector": {
   "cols": {
    "lenName": 16,
    "lenType": 16,
    "lenVar": 40
   },
   "kernels_config": {
    "python": {
     "delete_cmd_postfix": "",
     "delete_cmd_prefix": "del ",
     "library": "var_list.py",
     "varRefreshCmd": "print(var_dic_list())"
    },
    "r": {
     "delete_cmd_postfix": ") ",
     "delete_cmd_prefix": "rm(",
     "library": "var_list.r",
     "varRefreshCmd": "cat(var_dic_list()) "
    }
   },
   "types_to_exclude": [
    "module",
    "function",
    "builtin_function_or_method",
    "instance",
    "_Feature"
   ],
   "window_display": false
  }
 },
 "nbformat": 4,
 "nbformat_minor": 5
}
